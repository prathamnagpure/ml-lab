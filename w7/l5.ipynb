{
  "nbformat": 4,
  "nbformat_minor": 0,
  "metadata": {
    "colab": {
      "provenance": [],
      "collapsed_sections": []
    },
    "kernelspec": {
      "name": "python3",
      "display_name": "Python 3"
    },
    "language_info": {
      "name": "python"
    }
  },
  "cells": [
    {
      "cell_type": "markdown",
      "source": [
        "## Decision tree and Random forest"
      ],
      "metadata": {
        "id": "ZB_rmjWC3Ura"
      }
    },
    {
      "cell_type": "code",
      "execution_count": null,
      "metadata": {
        "id": "ie_C0nsT273Q"
      },
      "outputs": [],
      "source": [
        "#import libraries\n",
        "import pandas as pd\n",
        "from sklearn import datasets\n",
        "from sklearn.model_selection import train_test_split\n",
        "from sklearn.tree import DecisionTreeClassifier\n",
        "from sklearn.metrics import accuracy_score\n",
        "from sklearn.metrics import confusion_matrix\n",
        "from sklearn.metrics import precision_score\n",
        "from sklearn.metrics import recall_score\n",
        "from sklearn.metrics import f1_score\n",
        "from sklearn.ensemble import RandomForestClassifier\n",
        "from sklearn.model_selection import GridSearchCV\n",
        "from sklearn.model_selection import RandomizedSearchCV\n",
        "import numpy as np"
      ]
    },
    {
      "cell_type": "code",
      "source": [
        "# mount drive\n",
        "from google.colab import drive\n",
        "drive.mount('/content/drive')"
      ],
      "metadata": {
        "id": "HWAHf5nh3pCA"
      },
      "execution_count": null,
      "outputs": []
    },
    {
      "cell_type": "markdown",
      "source": [
        "### Data Generation"
      ],
      "metadata": {
        "id": "ku3a6hzX3uC-"
      }
    },
    {
      "cell_type": "code",
      "source": [
        "#use make_classification to generate random 3-class classification data\n",
        "\n"
      ],
      "metadata": {
        "id": "myghaShy3x-t"
      },
      "execution_count": null,
      "outputs": []
    },
    {
      "cell_type": "code",
      "source": [
        "#create features_df dataframe containing feature columns\n",
        "\n"
      ],
      "metadata": {
        "id": "pozuO22R38gj"
      },
      "execution_count": null,
      "outputs": []
    },
    {
      "cell_type": "code",
      "source": [
        "#create labels_df dataframe containing labels column\n",
        "\n"
      ],
      "metadata": {
        "id": "WuW6WKpZ4Bxd"
      },
      "execution_count": null,
      "outputs": []
    },
    {
      "cell_type": "code",
      "source": [
        "#split the data into train and test using train_test_split\n"
      ],
      "metadata": {
        "id": "trM31DcS4HVJ"
      },
      "execution_count": null,
      "outputs": []
    },
    {
      "cell_type": "markdown",
      "source": [
        "#### Decision tree classifier"
      ],
      "metadata": {
        "id": "hd0O0x6Q4OV6"
      }
    },
    {
      "cell_type": "code",
      "source": [
        "#Create an instance of decision tree classifier\n",
        "\n",
        "\n",
        "#fit the model"
      ],
      "metadata": {
        "id": "n3kwvwMF4Rls"
      },
      "execution_count": null,
      "outputs": []
    },
    {
      "cell_type": "code",
      "source": [
        "#Predict the labels for train data\n",
        "\n",
        "\n",
        "#Predict the labels for test data"
      ],
      "metadata": {
        "id": "kzJ2joHM4cb2"
      },
      "execution_count": null,
      "outputs": []
    },
    {
      "cell_type": "code",
      "source": [
        "#create a new dataframe to store the test predictions columns to finally write into csv file\n",
        "\n"
      ],
      "metadata": {
        "id": "h4LemOaU4jkw"
      },
      "execution_count": null,
      "outputs": []
    },
    {
      "cell_type": "code",
      "source": [
        "#print accuracy and confusion matrix for train data\n"
      ],
      "metadata": {
        "id": "TGD6aze94oUP"
      },
      "execution_count": null,
      "outputs": []
    },
    {
      "cell_type": "code",
      "source": [
        "#Print precision, recall, f1-score for each class using 'average' parameter for train data\n"
      ],
      "metadata": {
        "id": "wZxfSqHe4rcp"
      },
      "execution_count": null,
      "outputs": []
    },
    {
      "cell_type": "code",
      "source": [
        "#print accuracy and confusion matrix for test data\n"
      ],
      "metadata": {
        "id": "ccsAIquC4uyV"
      },
      "execution_count": null,
      "outputs": []
    },
    {
      "cell_type": "code",
      "source": [
        "#Print precision, recall, f1-score for each class using 'average' parameter for test data\n"
      ],
      "metadata": {
        "id": "CM7AUWtC4xpm"
      },
      "execution_count": null,
      "outputs": []
    },
    {
      "cell_type": "markdown",
      "source": [
        "#### Random forest classifier"
      ],
      "metadata": {
        "id": "wxHpo_Pm46sv"
      }
    },
    {
      "cell_type": "code",
      "source": [
        "#Create an instance of random forest classifier\n",
        "\n",
        "\n",
        "#fit the model "
      ],
      "metadata": {
        "id": "10LDw7kP49jz"
      },
      "execution_count": null,
      "outputs": []
    },
    {
      "cell_type": "code",
      "source": [
        "#Predict the labels for train data\n",
        "\n",
        "#Predict the labels for test data"
      ],
      "metadata": {
        "id": "bBUBGWF95GHL"
      },
      "execution_count": null,
      "outputs": []
    },
    {
      "cell_type": "code",
      "source": [
        "#Add the new predicted column into above created predictions dataframe \n",
        "\n"
      ],
      "metadata": {
        "id": "fjJreBH05Mbn"
      },
      "execution_count": null,
      "outputs": []
    },
    {
      "cell_type": "code",
      "source": [
        "#print accuracy and confusion matrix for train data\n",
        "\n"
      ],
      "metadata": {
        "id": "ocXi912_5Rte"
      },
      "execution_count": null,
      "outputs": []
    },
    {
      "cell_type": "code",
      "source": [
        "#Print precision, recall, f1-score for each class  using 'average' parameter for train data\n",
        "\n"
      ],
      "metadata": {
        "id": "GTopG8Oc5UxS"
      },
      "execution_count": null,
      "outputs": []
    },
    {
      "cell_type": "code",
      "source": [
        "#print accuracy and confusion matrix for test data\n"
      ],
      "metadata": {
        "id": "p7e1fS2b5alP"
      },
      "execution_count": null,
      "outputs": []
    },
    {
      "cell_type": "code",
      "source": [
        "#Print precision, recall, f1-score for each class using 'average' parameter for test data\n"
      ],
      "metadata": {
        "id": "MEOqfKp75djj"
      },
      "execution_count": null,
      "outputs": []
    },
    {
      "cell_type": "markdown",
      "source": [
        "### Observations"
      ],
      "metadata": {
        "id": "H6pfDLbl5g_W"
      }
    },
    {
      "cell_type": "code",
      "source": [
        "#call the appropriate method on above learned decision tree classifier to get the depth of the tree\n",
        "\n"
      ],
      "metadata": {
        "id": "pBbRt6qb5jKM"
      },
      "execution_count": null,
      "outputs": []
    },
    {
      "cell_type": "code",
      "source": [
        "#call the appropriate method on above learned decision tree classifier to get the number of leaves\n",
        "\n"
      ],
      "metadata": {
        "id": "IyVBglQN5pEY"
      },
      "execution_count": null,
      "outputs": []
    },
    {
      "cell_type": "markdown",
      "source": [
        "#### Write your observations on the predictions of the above models "
      ],
      "metadata": {
        "id": "iVmAm0Aw5xh1"
      }
    },
    {
      "cell_type": "markdown",
      "source": [
        "### Hyper parameter tuning"
      ],
      "metadata": {
        "id": "gn19OPm0568d"
      }
    },
    {
      "cell_type": "markdown",
      "source": [
        "#### Decision tree classifier"
      ],
      "metadata": {
        "id": "QeV1p6Ib6Aog"
      }
    },
    {
      "cell_type": "code",
      "source": [
        "#Define a param_grid dictionary for the given hyper parameters\n",
        "\n",
        "\n",
        "#call decision tree classifier\n",
        "\n",
        "#apply gridsearchcv for hyper parameter tuning\n",
        "\n",
        "#fit the model"
      ],
      "metadata": {
        "id": "R2yqN7Fj5zSB"
      },
      "execution_count": null,
      "outputs": []
    },
    {
      "cell_type": "code",
      "source": [
        "#print the best parameters\n"
      ],
      "metadata": {
        "id": "74L9TYev6QH9"
      },
      "execution_count": null,
      "outputs": []
    },
    {
      "cell_type": "code",
      "source": [
        "#train the classifier with best parameters\n"
      ],
      "metadata": {
        "id": "XvGPsZXH6Snu"
      },
      "execution_count": null,
      "outputs": []
    },
    {
      "cell_type": "code",
      "source": [
        "#Predict the labels for train data\n",
        "\n",
        "#Predict the labels for test data\n"
      ],
      "metadata": {
        "id": "4U_P-xlB6VSy"
      },
      "execution_count": null,
      "outputs": []
    },
    {
      "cell_type": "code",
      "source": [
        "#Add the new predicted column for test data to the above created predictions dataframe \n"
      ],
      "metadata": {
        "id": "K08fMIAN6csz"
      },
      "execution_count": null,
      "outputs": []
    },
    {
      "cell_type": "code",
      "source": [
        "#print accuracy and confusion matrix for train data\n"
      ],
      "metadata": {
        "id": "uSexVtwd6fpS"
      },
      "execution_count": null,
      "outputs": []
    },
    {
      "cell_type": "code",
      "source": [
        "#Print precision, recall, f1-score for each class using 'average' parameter for train data\n"
      ],
      "metadata": {
        "id": "trG7Bf5E6ioj"
      },
      "execution_count": null,
      "outputs": []
    },
    {
      "cell_type": "code",
      "source": [
        "#print accuracy and confusion matrix for test data\n"
      ],
      "metadata": {
        "id": "ugZXYTuY6mK2"
      },
      "execution_count": null,
      "outputs": []
    },
    {
      "cell_type": "code",
      "source": [
        "#Print precision, recall, f1-score for each class using 'average' parameter for test data\n"
      ],
      "metadata": {
        "id": "5bTEMvrJ6otB"
      },
      "execution_count": null,
      "outputs": []
    },
    {
      "cell_type": "markdown",
      "source": [
        "#### Random forest claassifier"
      ],
      "metadata": {
        "id": "PGgJIgcy61TE"
      }
    },
    {
      "cell_type": "code",
      "source": [
        "# Create the random grid dictionary for the given hyper parameters\n",
        "\n",
        "#call random forest classifier\n",
        "\n",
        "#Apply randomised search cv for hyper parameter tuning\n",
        "\n",
        "#fit the model\n",
        "\n"
      ],
      "metadata": {
        "id": "HpteoRb864Cg"
      },
      "execution_count": null,
      "outputs": []
    },
    {
      "cell_type": "code",
      "source": [
        "#print the best parameters\n",
        "\n"
      ],
      "metadata": {
        "id": "_gmU2oIS7OHh"
      },
      "execution_count": null,
      "outputs": []
    },
    {
      "cell_type": "code",
      "source": [
        "#train the classifier with best parameters\n"
      ],
      "metadata": {
        "id": "EZIL4wEW7RBv"
      },
      "execution_count": null,
      "outputs": []
    },
    {
      "cell_type": "code",
      "source": [
        "#Predict the labels for train data\n",
        "\n",
        "#Predict the labels for test data\n"
      ],
      "metadata": {
        "id": "jlUSJDuN7Tnd"
      },
      "execution_count": null,
      "outputs": []
    },
    {
      "cell_type": "code",
      "source": [
        "#Add the new predicted column for test data to the above created predictions dataframe \n"
      ],
      "metadata": {
        "id": "vQxPLTuV7Yq_"
      },
      "execution_count": null,
      "outputs": []
    },
    {
      "cell_type": "code",
      "source": [
        "#print accuracy and confusion matrix for train data\n",
        "\n",
        "#Print precision, recall, f1-score for each class using 'average' parameter for train data\n",
        "\n"
      ],
      "metadata": {
        "id": "idQiBxv07b5h"
      },
      "execution_count": null,
      "outputs": []
    },
    {
      "cell_type": "code",
      "source": [
        "#print accuracy and confusion matrix for test data\n",
        "\n",
        "#Print precision, recall, f1-score for each class using 'average' parameter for test data\n"
      ],
      "metadata": {
        "id": "FJKk1i2c7k_M"
      },
      "execution_count": null,
      "outputs": []
    },
    {
      "cell_type": "code",
      "source": [
        "#write all the test predictions to the csv file\n"
      ],
      "metadata": {
        "id": "eEIJ8YH572Ko"
      },
      "execution_count": null,
      "outputs": []
    }
  ]
}