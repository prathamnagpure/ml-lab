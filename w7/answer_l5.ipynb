{
  "nbformat": 4,
  "nbformat_minor": 0,
  "metadata": {
    "colab": {
      "provenance": [],
      "collapsed_sections": []
    },
    "kernelspec": {
      "name": "python3",
      "display_name": "Python 3"
    },
    "language_info": {
      "name": "python"
    }
  },
  "cells": [
    {
      "cell_type": "markdown",
      "source": [
        "## Decision tree and Random forest"
      ],
      "metadata": {
        "id": "ZB_rmjWC3Ura"
      }
    },
    {
      "cell_type": "code",
      "execution_count": null,
      "metadata": {
        "id": "ie_C0nsT273Q"
      },
      "outputs": [],
      "source": [
        "#import libraries\n",
        "import pandas as pd\n",
        "from sklearn import datasets\n",
        "from sklearn.model_selection import train_test_split\n",
        "from sklearn.tree import DecisionTreeClassifier\n",
        "from sklearn.metrics import accuracy_score\n",
        "from sklearn.metrics import confusion_matrix\n",
        "from sklearn.metrics import precision_score\n",
        "from sklearn.metrics import recall_score\n",
        "from sklearn.metrics import f1_score\n",
        "from sklearn.metrics import classification_report\n",
        "from sklearn.ensemble import RandomForestClassifier\n",
        "from sklearn.model_selection import GridSearchCV\n",
        "from sklearn.model_selection import RandomizedSearchCV\n",
        "import numpy as np"
      ]
    },
    {
      "cell_type": "code",
      "source": [
        "# mount drive\n",
        "from google.colab import drive\n",
        "drive.mount('/content/drive', force_remount=True)"
      ],
      "metadata": {
        "id": "HWAHf5nh3pCA",
        "colab": {
          "base_uri": "https://localhost:8080/"
        },
        "outputId": "0f7d167e-ec2a-4e5d-9b6f-16f514368791"
      },
      "execution_count": null,
      "outputs": [
        {
          "output_type": "stream",
          "name": "stdout",
          "text": [
            "Mounted at /content/drive\n"
          ]
        }
      ]
    },
    {
      "cell_type": "markdown",
      "source": [
        "### Data Generation"
      ],
      "metadata": {
        "id": "ku3a6hzX3uC-"
      }
    },
    {
      "cell_type": "code",
      "source": [
        "#use make_classification to generate random 3-class classification data\n",
        "X, y = datasets.make_classification(n_samples = 1000, n_features = 5, n_classes = 3, n_informative = 3)"
      ],
      "metadata": {
        "id": "myghaShy3x-t"
      },
      "execution_count": null,
      "outputs": []
    },
    {
      "cell_type": "code",
      "source": [
        "#create features_df dataframe containing feature columns\n",
        "features_df = pd.DataFrame(X)"
      ],
      "metadata": {
        "id": "pozuO22R38gj"
      },
      "execution_count": null,
      "outputs": []
    },
    {
      "cell_type": "code",
      "source": [
        "#create labels_df dataframe containing labels column\n",
        "labels_df = pd.DataFrame(y)"
      ],
      "metadata": {
        "id": "WuW6WKpZ4Bxd"
      },
      "execution_count": null,
      "outputs": []
    },
    {
      "cell_type": "code",
      "source": [
        "#split the data into train and test using train_test_split\n",
        "X_train, X_test, y_train, y_test = train_test_split(X, y, test_size=0.30)\n"
      ],
      "metadata": {
        "id": "trM31DcS4HVJ"
      },
      "execution_count": null,
      "outputs": []
    },
    {
      "cell_type": "markdown",
      "source": [
        "#### Decision tree classifier"
      ],
      "metadata": {
        "id": "hd0O0x6Q4OV6"
      }
    },
    {
      "cell_type": "code",
      "source": [
        "#Create an instance of decision tree classifier\n",
        "model_decision_tree = DecisionTreeClassifier()\n",
        "#fit the model\n",
        "model_decision_tree.fit(X_train,y_train)"
      ],
      "metadata": {
        "id": "n3kwvwMF4Rls",
        "colab": {
          "base_uri": "https://localhost:8080/"
        },
        "outputId": "42dc437b-87f3-46f2-8e09-15bac2254379"
      },
      "execution_count": null,
      "outputs": [
        {
          "output_type": "execute_result",
          "data": {
            "text/plain": [
              "DecisionTreeClassifier()"
            ]
          },
          "metadata": {},
          "execution_count": 182
        }
      ]
    },
    {
      "cell_type": "code",
      "source": [
        "#Predict the labels for train data\n",
        "y_train_pred_decision_tree = model_decision_tree.predict(X_train)\n",
        "\n",
        "#Predict the labels for test data\n",
        "y_test_pred_decision_tree = model_decision_tree.predict(X_test)"
      ],
      "metadata": {
        "id": "kzJ2joHM4cb2"
      },
      "execution_count": null,
      "outputs": []
    },
    {
      "cell_type": "code",
      "source": [
        "#create a new dataframe to store the test predictions columns to finally write into csv file\n",
        "test_predictions_df = pd.DataFrame({ 'DT_test_predicted' : y_test_pred_decision_tree})"
      ],
      "metadata": {
        "id": "h4LemOaU4jkw"
      },
      "execution_count": null,
      "outputs": []
    },
    {
      "cell_type": "code",
      "source": [
        "#print accuracy and confusion matrix for train data\n",
        "print('confusion matrix')\n",
        "print(confusion_matrix(y_true = y_train, y_pred = y_train_pred_decision_tree))\n",
        "print('accuracy', accuracy_score(y_true = y_train, y_pred = y_train_pred_decision_tree))"
      ],
      "metadata": {
        "id": "TGD6aze94oUP",
        "colab": {
          "base_uri": "https://localhost:8080/"
        },
        "outputId": "7b6af756-7002-44f9-992c-e865be96947c"
      },
      "execution_count": null,
      "outputs": [
        {
          "output_type": "stream",
          "name": "stdout",
          "text": [
            "confusion matrix\n",
            "[[235   0   0]\n",
            " [  0 243   0]\n",
            " [  0   0 222]]\n",
            "accuracy 1.0\n"
          ]
        }
      ]
    },
    {
      "cell_type": "code",
      "source": [
        "#Print precision, recall, f1-score for each class using 'average' parameter for train data\n",
        "print('precision', precision_score(y_true = y_train, y_pred = y_train_pred_decision_tree, average = 'macro'))\n",
        "print('recall', recall_score(y_true = y_train, y_pred = y_train_pred_decision_tree, average = 'macro'))\n",
        "print('f1-score', f1_score(y_true = y_train, y_pred = y_train_pred_decision_tree, average = 'macro'))\n",
        "print(classification_report(y_true = y_train, y_pred = y_train_pred_decision_tree))"
      ],
      "metadata": {
        "id": "wZxfSqHe4rcp",
        "colab": {
          "base_uri": "https://localhost:8080/"
        },
        "outputId": "64bc7ea2-fdac-4af3-d808-0b4cbc3d5e3a"
      },
      "execution_count": null,
      "outputs": [
        {
          "output_type": "stream",
          "name": "stdout",
          "text": [
            "precision 1.0\n",
            "recall 1.0\n",
            "f1-score 1.0\n",
            "              precision    recall  f1-score   support\n",
            "\n",
            "           0       1.00      1.00      1.00       235\n",
            "           1       1.00      1.00      1.00       243\n",
            "           2       1.00      1.00      1.00       222\n",
            "\n",
            "    accuracy                           1.00       700\n",
            "   macro avg       1.00      1.00      1.00       700\n",
            "weighted avg       1.00      1.00      1.00       700\n",
            "\n"
          ]
        }
      ]
    },
    {
      "cell_type": "code",
      "source": [
        "#print accuracy and confusion matrix for test data\n",
        "print('confusion matrix')\n",
        "print(confusion_matrix(y_true = y_test, y_pred = y_test_pred_decision_tree))\n",
        "print('accuracy', accuracy_score(y_true = y_test, y_pred = y_test_pred_decision_tree))"
      ],
      "metadata": {
        "id": "ccsAIquC4uyV",
        "colab": {
          "base_uri": "https://localhost:8080/"
        },
        "outputId": "56ec85b1-192f-4fcc-c7b6-a04d49f831f8"
      },
      "execution_count": null,
      "outputs": [
        {
          "output_type": "stream",
          "name": "stdout",
          "text": [
            "confusion matrix\n",
            "[[80  7 12]\n",
            " [ 9 69 14]\n",
            " [21 10 78]]\n",
            "accuracy 0.7566666666666667\n"
          ]
        }
      ]
    },
    {
      "cell_type": "code",
      "source": [
        "#Print precision, recall, f1-score for each class using 'average' parameter for test data\n",
        "print('precision', precision_score(y_true = y_test, y_pred = y_test_pred_decision_tree, average = 'macro'))\n",
        "print('recall', recall_score(y_true = y_test, y_pred = y_test_pred_decision_tree, average = 'macro'))\n",
        "print('f1-score', f1_score(y_true = y_test, y_pred = y_test_pred_decision_tree, average = 'macro'))\n",
        "print(classification_report(y_true = y_test, y_pred = y_test_pred_decision_tree))"
      ],
      "metadata": {
        "id": "CM7AUWtC4xpm",
        "colab": {
          "base_uri": "https://localhost:8080/"
        },
        "outputId": "8f449bf2-526d-4e98-c8a8-d935e097cf34"
      },
      "execution_count": null,
      "outputs": [
        {
          "output_type": "stream",
          "name": "stdout",
          "text": [
            "precision 0.7598661028893586\n",
            "recall 0.7578923794520125\n",
            "f1-score 0.7577418347693458\n",
            "              precision    recall  f1-score   support\n",
            "\n",
            "           0       0.73      0.81      0.77        99\n",
            "           1       0.80      0.75      0.78        92\n",
            "           2       0.75      0.72      0.73       109\n",
            "\n",
            "    accuracy                           0.76       300\n",
            "   macro avg       0.76      0.76      0.76       300\n",
            "weighted avg       0.76      0.76      0.76       300\n",
            "\n"
          ]
        }
      ]
    },
    {
      "cell_type": "markdown",
      "source": [
        "#### Random forest classifier"
      ],
      "metadata": {
        "id": "wxHpo_Pm46sv"
      }
    },
    {
      "cell_type": "code",
      "source": [
        "#Create an instance of random forest classifier\n",
        "model_random_forest = RandomForestClassifier()\n",
        "#fit the model \n",
        "model_random_forest.fit(X_train,y_train)"
      ],
      "metadata": {
        "id": "10LDw7kP49jz",
        "colab": {
          "base_uri": "https://localhost:8080/"
        },
        "outputId": "d81531fb-065a-46c2-a867-b0bbbbd80fdf"
      },
      "execution_count": null,
      "outputs": [
        {
          "output_type": "execute_result",
          "data": {
            "text/plain": [
              "RandomForestClassifier()"
            ]
          },
          "metadata": {},
          "execution_count": 189
        }
      ]
    },
    {
      "cell_type": "code",
      "source": [
        "#Predict the labels for train data\n",
        "y_train_pred_random_forest = model_random_forest.predict(X_train)\n",
        "#Predict the labels for test data\n",
        "y_test_pred_random_forest = model_random_forest.predict(X_test)"
      ],
      "metadata": {
        "id": "bBUBGWF95GHL"
      },
      "execution_count": null,
      "outputs": []
    },
    {
      "cell_type": "code",
      "source": [
        "#Add the new predicted column into above created predictions dataframe \n",
        "test_predictions_df['RF_test_predicted'] = y_test_pred_random_forest"
      ],
      "metadata": {
        "id": "fjJreBH05Mbn"
      },
      "execution_count": null,
      "outputs": []
    },
    {
      "cell_type": "code",
      "source": [
        "#print accuracy and confusion matrix for train data\n",
        "print('confusion matrix')\n",
        "print(confusion_matrix(y_true = y_train, y_pred = y_train_pred_random_forest))\n",
        "print('accuracy', accuracy_score(y_true = y_train, y_pred = y_train_pred_random_forest))"
      ],
      "metadata": {
        "id": "ocXi912_5Rte",
        "colab": {
          "base_uri": "https://localhost:8080/"
        },
        "outputId": "fa04673a-934b-41e5-9e2f-c8805b8907bd"
      },
      "execution_count": null,
      "outputs": [
        {
          "output_type": "stream",
          "name": "stdout",
          "text": [
            "confusion matrix\n",
            "[[235   0   0]\n",
            " [  0 243   0]\n",
            " [  0   0 222]]\n",
            "accuracy 1.0\n"
          ]
        }
      ]
    },
    {
      "cell_type": "code",
      "source": [
        "#Print precision, recall, f1-score for each class  using 'average' parameter for train data\n",
        "print('precision', precision_score(y_true = y_train, y_pred = y_train_pred_random_forest, average = 'macro'))\n",
        "print('recall', recall_score(y_true = y_train, y_pred = y_train_pred_random_forest, average = 'macro'))\n",
        "print('f1-score', f1_score(y_true = y_train, y_pred = y_train_pred_random_forest, average = 'macro'))\n",
        "print(classification_report(y_true = y_train, y_pred = y_train_pred_random_forest))"
      ],
      "metadata": {
        "id": "GTopG8Oc5UxS",
        "colab": {
          "base_uri": "https://localhost:8080/"
        },
        "outputId": "11c46a9a-d048-4e99-b5cb-a2f887645c30"
      },
      "execution_count": null,
      "outputs": [
        {
          "output_type": "stream",
          "name": "stdout",
          "text": [
            "precision 1.0\n",
            "recall 1.0\n",
            "f1-score 1.0\n",
            "              precision    recall  f1-score   support\n",
            "\n",
            "           0       1.00      1.00      1.00       235\n",
            "           1       1.00      1.00      1.00       243\n",
            "           2       1.00      1.00      1.00       222\n",
            "\n",
            "    accuracy                           1.00       700\n",
            "   macro avg       1.00      1.00      1.00       700\n",
            "weighted avg       1.00      1.00      1.00       700\n",
            "\n"
          ]
        }
      ]
    },
    {
      "cell_type": "code",
      "source": [
        "#print accuracy and confusion matrix for test data\n",
        "print('confusion matrix')\n",
        "print(confusion_matrix(y_true = y_test, y_pred = y_test_pred_random_forest))\n",
        "print('accuracy', accuracy_score(y_true = y_test, y_pred = y_test_pred_random_forest))"
      ],
      "metadata": {
        "id": "p7e1fS2b5alP",
        "colab": {
          "base_uri": "https://localhost:8080/"
        },
        "outputId": "48fdc643-98cc-411c-d9f6-fa8216d7baed"
      },
      "execution_count": null,
      "outputs": [
        {
          "output_type": "stream",
          "name": "stdout",
          "text": [
            "confusion matrix\n",
            "[[85  4 10]\n",
            " [ 5 79  8]\n",
            " [15  9 85]]\n",
            "accuracy 0.83\n"
          ]
        }
      ]
    },
    {
      "cell_type": "code",
      "source": [
        "#Print precision, recall, f1-score for each class using 'average' parameter for test data\n",
        "print('precision', precision_score(y_true = y_test, y_pred = y_test_pred_random_forest, average = 'macro'))\n",
        "print('recall', recall_score(y_true = y_test, y_pred = y_test_pred_random_forest, average = 'macro'))\n",
        "print('f1-score', f1_score(y_true = y_test, y_pred = y_test_pred_random_forest, average = 'macro'))\n",
        "print(classification_report(y_true = y_test, y_pred = y_test_pred_random_forest))"
      ],
      "metadata": {
        "id": "MEOqfKp75djj",
        "colab": {
          "base_uri": "https://localhost:8080/"
        },
        "outputId": "3265f4ad-d7e1-4dda-bb5f-668de77a771c"
      },
      "execution_count": null,
      "outputs": [
        {
          "output_type": "stream",
          "name": "stdout",
          "text": [
            "precision 0.8311540600481081\n",
            "recall 0.8323660081737465\n",
            "f1-score 0.8313052593200255\n",
            "              precision    recall  f1-score   support\n",
            "\n",
            "           0       0.81      0.86      0.83        99\n",
            "           1       0.86      0.86      0.86        92\n",
            "           2       0.83      0.78      0.80       109\n",
            "\n",
            "    accuracy                           0.83       300\n",
            "   macro avg       0.83      0.83      0.83       300\n",
            "weighted avg       0.83      0.83      0.83       300\n",
            "\n"
          ]
        }
      ]
    },
    {
      "cell_type": "markdown",
      "source": [
        "### Observations"
      ],
      "metadata": {
        "id": "H6pfDLbl5g_W"
      }
    },
    {
      "cell_type": "code",
      "source": [
        "#call the appropriate method on above learned decision tree classifier to get the depth of the tree\n",
        "print('Depth of tree', model_decision_tree.tree_.max_depth)"
      ],
      "metadata": {
        "id": "pBbRt6qb5jKM",
        "colab": {
          "base_uri": "https://localhost:8080/"
        },
        "outputId": "4c8a9a9a-324c-4cac-f8e0-fad8ab320eeb"
      },
      "execution_count": null,
      "outputs": [
        {
          "output_type": "stream",
          "name": "stdout",
          "text": [
            "Depth of tree 13\n"
          ]
        }
      ]
    },
    {
      "cell_type": "code",
      "source": [
        "#call the appropriate method on above learned decision tree classifier to get the number of leaves\n",
        "print('Number of leaves', model_decision_tree.tree_.n_leaves)"
      ],
      "metadata": {
        "id": "IyVBglQN5pEY",
        "colab": {
          "base_uri": "https://localhost:8080/"
        },
        "outputId": "eddb6346-1458-400a-f4de-a2eae84c478a"
      },
      "execution_count": null,
      "outputs": [
        {
          "output_type": "stream",
          "name": "stdout",
          "text": [
            "Number of leaves 114\n"
          ]
        }
      ]
    },
    {
      "cell_type": "markdown",
      "source": [
        "#### Write your observations on the predictions of the above models "
      ],
      "metadata": {
        "id": "iVmAm0Aw5xh1"
      }
    },
    {
      "cell_type": "markdown",
      "source": [
        "###Observation\n",
        "#####Random forest has more accuracy , precision , recall and f1-score than Decision tree\n",
        "#####For test data\n",
        "model | accuracy | precision | recall | f1-score\n",
        "--- | --- | --- | --- | ---\n",
        "decision tree | 0.756 | 0.759 | 0.757 | 0.757\n",
        "random forest | 0.83 | 0.831 | 0.832 | 0.831\n"
      ],
      "metadata": {
        "id": "HugpOQVIpyZO"
      }
    },
    {
      "cell_type": "markdown",
      "source": [
        "### Hyper parameter tuning"
      ],
      "metadata": {
        "id": "gn19OPm0568d"
      }
    },
    {
      "cell_type": "markdown",
      "source": [
        "#### Decision tree classifier"
      ],
      "metadata": {
        "id": "QeV1p6Ib6Aog"
      }
    },
    {
      "cell_type": "code",
      "source": [
        "#Define a param_grid dictionary for the given hyper parameters\n",
        "param_grid = {'criterion' : ['gini', 'entropy'], 'max_depth' : [5,10,15], 'min_samples_split' : [10,20,30], 'min_samples_leaf' : [1,1,1], 'max_leaf_nodes' : [100,200,300],'splitter' : ['best','random'], 'max_features' : ['auto','sqrt','log2']}\n",
        "\n",
        "#call decision tree classifier\n",
        "dtc = DecisionTreeClassifier()\n",
        "#apply gridsearchcv for hyper parameter tuning\n",
        "gcv = GridSearchCV(dtc,param_grid=param_grid)\n",
        "#fit the model\n",
        "gcv.fit(X_train,y_train)"
      ],
      "metadata": {
        "id": "R2yqN7Fj5zSB",
        "colab": {
          "base_uri": "https://localhost:8080/"
        },
        "outputId": "bea6ae3c-3e18-429c-9193-31dc026f5db3"
      },
      "execution_count": null,
      "outputs": [
        {
          "output_type": "execute_result",
          "data": {
            "text/plain": [
              "GridSearchCV(estimator=DecisionTreeClassifier(),\n",
              "             param_grid={'criterion': ['gini', 'entropy'],\n",
              "                         'max_depth': [5, 10, 15],\n",
              "                         'max_features': ['auto', 'sqrt', 'log2'],\n",
              "                         'max_leaf_nodes': [100, 200, 300],\n",
              "                         'min_samples_leaf': [1, 1, 1],\n",
              "                         'min_samples_split': [10, 20, 30],\n",
              "                         'splitter': ['best', 'random']})"
            ]
          },
          "metadata": {},
          "execution_count": 198
        }
      ]
    },
    {
      "cell_type": "code",
      "source": [
        "#print the best parameters\n",
        "decision_tree_best_params = gcv.best_params_\n",
        "print(decision_tree_best_params)"
      ],
      "metadata": {
        "id": "74L9TYev6QH9",
        "colab": {
          "base_uri": "https://localhost:8080/"
        },
        "outputId": "0ace9350-0e3e-4236-e3e4-c0eb275e153f"
      },
      "execution_count": null,
      "outputs": [
        {
          "output_type": "stream",
          "name": "stdout",
          "text": [
            "{'criterion': 'entropy', 'max_depth': 5, 'max_features': 'log2', 'max_leaf_nodes': 200, 'min_samples_leaf': 1, 'min_samples_split': 20, 'splitter': 'best'}\n"
          ]
        }
      ]
    },
    {
      "cell_type": "code",
      "source": [
        "#train the classifier with best parameters\n",
        "model_tuned_decision_tree = DecisionTreeClassifier(criterion = decision_tree_best_params['criterion'], max_depth = decision_tree_best_params['max_depth'], max_features = decision_tree_best_params['max_features'], max_leaf_nodes = decision_tree_best_params['max_leaf_nodes'], min_samples_leaf = decision_tree_best_params['min_samples_leaf'], min_samples_split = decision_tree_best_params['min_samples_split'], splitter = decision_tree_best_params['splitter'])\n",
        "model_tuned_decision_tree.fit(X_train,y_train)"
      ],
      "metadata": {
        "id": "XvGPsZXH6Snu",
        "colab": {
          "base_uri": "https://localhost:8080/"
        },
        "outputId": "9bcbab88-6054-480c-9e4e-3bf2c4c60f3c"
      },
      "execution_count": null,
      "outputs": [
        {
          "output_type": "execute_result",
          "data": {
            "text/plain": [
              "DecisionTreeClassifier(criterion='entropy', max_depth=5, max_features='log2',\n",
              "                       max_leaf_nodes=200, min_samples_split=20)"
            ]
          },
          "metadata": {},
          "execution_count": 200
        }
      ]
    },
    {
      "cell_type": "code",
      "source": [
        "#Predict the labels for train data\n",
        "y_train_pred_tuned_decision_tree = model_tuned_decision_tree.predict(X_train)\n",
        "#Predict the labels for test data\n",
        "y_test_pred_tuned_decision_tree = model_tuned_decision_tree.predict(X_test)"
      ],
      "metadata": {
        "id": "4U_P-xlB6VSy"
      },
      "execution_count": null,
      "outputs": []
    },
    {
      "cell_type": "code",
      "source": [
        "#Add the new predicted column for test data to the above created predictions dataframe \n",
        "test_predictions_df['Tuned_DF_test_predicted'] = y_test_pred_tuned_decision_tree\n",
        "test_predictions_df.to_csv(path)"
      ],
      "metadata": {
        "id": "K08fMIAN6csz"
      },
      "execution_count": null,
      "outputs": []
    },
    {
      "cell_type": "code",
      "source": [
        "#print accuracy and confusion matrix for train data\n",
        "print('confusion matrix')\n",
        "print(confusion_matrix(y_true = y_train, y_pred = y_train_pred_tuned_decision_tree))\n",
        "print('accuracy', accuracy_score(y_true = y_train, y_pred = y_train_pred_tuned_decision_tree))"
      ],
      "metadata": {
        "id": "uSexVtwd6fpS",
        "colab": {
          "base_uri": "https://localhost:8080/"
        },
        "outputId": "6876d164-395a-49cf-f591-71be223b6480"
      },
      "execution_count": null,
      "outputs": [
        {
          "output_type": "stream",
          "name": "stdout",
          "text": [
            "confusion matrix\n",
            "[[194  20  21]\n",
            " [  2 232   9]\n",
            " [ 35  19 168]]\n",
            "accuracy 0.8485714285714285\n"
          ]
        }
      ]
    },
    {
      "cell_type": "code",
      "source": [
        "#Print precision, recall, f1-score for each class using 'average' parameter for train data\n",
        "print('precision', precision_score(y_true = y_train, y_pred = y_train_pred_tuned_decision_tree, average = 'macro'))\n",
        "print('recall', recall_score(y_true = y_train, y_pred = y_train_pred_tuned_decision_tree, average = 'macro'))\n",
        "print('f1-score', f1_score(y_true = y_train, y_pred = y_train_pred_tuned_decision_tree, average = 'macro'))\n",
        "print(classification_report(y_true = y_train, y_pred = y_train_pred_tuned_decision_tree))"
      ],
      "metadata": {
        "id": "trG7Bf5E6ioj",
        "colab": {
          "base_uri": "https://localhost:8080/"
        },
        "outputId": "22f34fc3-9f83-48a4-c29a-1edb352ab8e2"
      },
      "execution_count": null,
      "outputs": [
        {
          "output_type": "stream",
          "name": "stdout",
          "text": [
            "precision 0.848133416399099\n",
            "recall 0.8456737273128132\n",
            "f1-score 0.8451139203865444\n",
            "              precision    recall  f1-score   support\n",
            "\n",
            "           0       0.84      0.83      0.83       235\n",
            "           1       0.86      0.95      0.90       243\n",
            "           2       0.85      0.76      0.80       222\n",
            "\n",
            "    accuracy                           0.85       700\n",
            "   macro avg       0.85      0.85      0.85       700\n",
            "weighted avg       0.85      0.85      0.85       700\n",
            "\n"
          ]
        }
      ]
    },
    {
      "cell_type": "code",
      "source": [
        "#print accuracy and confusion matrix for test data\n",
        "print('confusion matrix')\n",
        "print(confusion_matrix(y_true = y_test, y_pred = y_test_pred_tuned_decision_tree))\n",
        "print('accuracy', accuracy_score(y_true = y_test, y_pred = y_test_pred_tuned_decision_tree))"
      ],
      "metadata": {
        "id": "ugZXYTuY6mK2",
        "colab": {
          "base_uri": "https://localhost:8080/"
        },
        "outputId": "0b85c4a3-9d74-489a-e015-37e269419073"
      },
      "execution_count": null,
      "outputs": [
        {
          "output_type": "stream",
          "name": "stdout",
          "text": [
            "confusion matrix\n",
            "[[77  8 14]\n",
            " [ 2 82  8]\n",
            " [27 14 68]]\n",
            "accuracy 0.7566666666666667\n"
          ]
        }
      ]
    },
    {
      "cell_type": "code",
      "source": [
        "#Print precision, recall, f1-score for each class using 'average' parameter for test data\n",
        "print('precision', precision_score(y_true = y_test, y_pred = y_test_pred_tuned_decision_tree, average = 'macro'))\n",
        "print('recall', recall_score(y_true = y_test, y_pred = y_test_pred_tuned_decision_tree, average = 'macro'))\n",
        "print('f1-score', f1_score(y_true = y_test, y_pred = y_test_pred_tuned_decision_tree, average = 'macro'))\n",
        "print(classification_report(y_true = y_test, y_pred = y_test_pred_tuned_decision_tree))"
      ],
      "metadata": {
        "id": "5bTEMvrJ6otB",
        "colab": {
          "base_uri": "https://localhost:8080/"
        },
        "outputId": "d287b367-a8a5-4651-8783-7e5114e7078a"
      },
      "execution_count": null,
      "outputs": [
        {
          "output_type": "stream",
          "name": "stdout",
          "text": [
            "precision 0.7568107294522388\n",
            "recall 0.7643117788710129\n",
            "f1-score 0.7571237638332695\n",
            "              precision    recall  f1-score   support\n",
            "\n",
            "           0       0.73      0.78      0.75        99\n",
            "           1       0.79      0.89      0.84        92\n",
            "           2       0.76      0.62      0.68       109\n",
            "\n",
            "    accuracy                           0.76       300\n",
            "   macro avg       0.76      0.76      0.76       300\n",
            "weighted avg       0.76      0.76      0.75       300\n",
            "\n"
          ]
        }
      ]
    },
    {
      "cell_type": "markdown",
      "source": [
        "#### Random forest claassifier"
      ],
      "metadata": {
        "id": "PGgJIgcy61TE"
      }
    },
    {
      "cell_type": "code",
      "source": [
        "# Create the random grid dictionary for the given hyper parameters\n",
        "random_grid = { 'n_estimators' : [100,150,200], 'max_features' : ['sqrt','log2',None], 'max_depth' : [10,15,20],'min_samples_split' : [2,3,5] ,'min_samples_leaf' : [1,5,10], 'bootstrap' : [True,False]}\n",
        "#call random forest classifier\n",
        "rfc = RandomForestClassifier()\n",
        "#Apply randomised search cv for hyper parameter tuning\n",
        "rcv = RandomizedSearchCV(rfc, param_distributions = random_grid)\n",
        "#fit the model\n",
        "rcv.fit(X_train,y_train)\n"
      ],
      "metadata": {
        "id": "HpteoRb864Cg",
        "colab": {
          "base_uri": "https://localhost:8080/"
        },
        "outputId": "8ddd2c41-a5c4-42ee-b727-8773122e9b7f"
      },
      "execution_count": null,
      "outputs": [
        {
          "output_type": "execute_result",
          "data": {
            "text/plain": [
              "RandomizedSearchCV(estimator=RandomForestClassifier(),\n",
              "                   param_distributions={'bootstrap': [True, False],\n",
              "                                        'max_depth': [10, 15, 20],\n",
              "                                        'max_features': ['sqrt', 'log2', None],\n",
              "                                        'min_samples_leaf': [1, 5, 10],\n",
              "                                        'min_samples_split': [2, 3, 5],\n",
              "                                        'n_estimators': [100, 150, 200]})"
            ]
          },
          "metadata": {},
          "execution_count": 207
        }
      ]
    },
    {
      "cell_type": "code",
      "source": [
        "#print the best parameters\n",
        "randomized_forest_best_params = rcv.best_params_\n",
        "print(randomized_forest_best_params)\n"
      ],
      "metadata": {
        "id": "_gmU2oIS7OHh",
        "colab": {
          "base_uri": "https://localhost:8080/"
        },
        "outputId": "25986ceb-6624-4805-e95b-2b009430b35b"
      },
      "execution_count": null,
      "outputs": [
        {
          "output_type": "stream",
          "name": "stdout",
          "text": [
            "{'n_estimators': 150, 'min_samples_split': 3, 'min_samples_leaf': 1, 'max_features': 'log2', 'max_depth': 15, 'bootstrap': True}\n"
          ]
        }
      ]
    },
    {
      "cell_type": "code",
      "source": [
        "#train the classifier with best parameters\n",
        "model_tuned_random_forest = RandomForestClassifier(n_estimators=randomized_forest_best_params['n_estimators'],min_samples_split = randomized_forest_best_params['min_samples_split'],min_samples_leaf=randomized_forest_best_params['min_samples_leaf'],max_features=randomized_forest_best_params['max_features'],max_depth=randomized_forest_best_params['max_depth'],bootstrap=randomized_forest_best_params['bootstrap'])\n",
        "model_tuned_random_forest.fit(X_train,y_train)"
      ],
      "metadata": {
        "id": "EZIL4wEW7RBv",
        "colab": {
          "base_uri": "https://localhost:8080/"
        },
        "outputId": "f77baa92-375c-4f32-ae48-b6dc71c3fe47"
      },
      "execution_count": null,
      "outputs": [
        {
          "output_type": "execute_result",
          "data": {
            "text/plain": [
              "RandomForestClassifier(max_depth=15, max_features='log2', min_samples_split=3,\n",
              "                       n_estimators=150)"
            ]
          },
          "metadata": {},
          "execution_count": 209
        }
      ]
    },
    {
      "cell_type": "code",
      "source": [
        "#Predict the labels for train data\n",
        "y_train_pred_tuned_random_forest = model_tuned_random_forest.predict(X_train)\n",
        "#Predict the labels for test data\n",
        "y_test_pred_tuned_random_forest = model_tuned_random_forest.predict(X_test)"
      ],
      "metadata": {
        "id": "jlUSJDuN7Tnd"
      },
      "execution_count": null,
      "outputs": []
    },
    {
      "cell_type": "code",
      "source": [
        "#Add the new predicted column for test data to the above created predictions dataframe \n",
        "test_predictions_df['Tuned_RF_test_predicted'] = y_test_pred_tuned_random_forest"
      ],
      "metadata": {
        "id": "vQxPLTuV7Yq_"
      },
      "execution_count": null,
      "outputs": []
    },
    {
      "cell_type": "code",
      "source": [
        "#print accuracy and confusion matrix for train data\n",
        "print('confusion matrix')\n",
        "print(confusion_matrix(y_true = y_train, y_pred = y_train_pred_tuned_random_forest))\n",
        "print('accuracy', accuracy_score(y_true = y_train, y_pred = y_train_pred_tuned_random_forest))\n",
        "#Print precision, recall, f1-score for each class using 'average' parameter for train data\n",
        "print('precision', precision_score(y_true = y_train, y_pred = y_train_pred_tuned_random_forest, average = 'macro'))\n",
        "print('recall', recall_score(y_true = y_train, y_pred = y_train_pred_tuned_random_forest, average = 'macro'))\n",
        "print('f1-score', f1_score(y_true = y_train, y_pred = y_train_pred_tuned_random_forest, average = 'macro'))\n",
        "print(classification_report(y_true = y_train, y_pred = y_train_pred_tuned_random_forest))\n"
      ],
      "metadata": {
        "id": "idQiBxv07b5h",
        "colab": {
          "base_uri": "https://localhost:8080/"
        },
        "outputId": "e295df99-34d0-4f25-c727-b94180695d20"
      },
      "execution_count": null,
      "outputs": [
        {
          "output_type": "stream",
          "name": "stdout",
          "text": [
            "confusion matrix\n",
            "[[234   0   1]\n",
            " [  0 243   0]\n",
            " [  0   0 222]]\n",
            "accuracy 0.9985714285714286\n",
            "precision 0.9985052316890881\n",
            "recall 0.9985815602836879\n",
            "f1-score 0.9985402042755723\n",
            "              precision    recall  f1-score   support\n",
            "\n",
            "           0       1.00      1.00      1.00       235\n",
            "           1       1.00      1.00      1.00       243\n",
            "           2       1.00      1.00      1.00       222\n",
            "\n",
            "    accuracy                           1.00       700\n",
            "   macro avg       1.00      1.00      1.00       700\n",
            "weighted avg       1.00      1.00      1.00       700\n",
            "\n"
          ]
        }
      ]
    },
    {
      "cell_type": "code",
      "source": [
        "#print accuracy and confusion matrix for test data\n",
        "print('confusion matrix')\n",
        "print(confusion_matrix(y_true = y_test, y_pred = y_test_pred_tuned_random_forest))\n",
        "print('accuracy', accuracy_score(y_true = y_test, y_pred = y_test_pred_tuned_random_forest))\n",
        "#Print precision, recall, f1-score for each class using 'average' parameter for test data\n",
        "print('precision', precision_score(y_true = y_test, y_pred = y_test_pred_tuned_random_forest, average = 'macro'))\n",
        "print('recall', recall_score(y_true = y_test, y_pred = y_test_pred_tuned_random_forest, average = 'macro'))\n",
        "print('f1-score', f1_score(y_true = y_test, y_pred = y_test_pred_tuned_random_forest, average = 'macro'))\n",
        "print(classification_report(y_true = y_test, y_pred = y_test_pred_tuned_random_forest))"
      ],
      "metadata": {
        "id": "FJKk1i2c7k_M",
        "colab": {
          "base_uri": "https://localhost:8080/"
        },
        "outputId": "de20ec14-764f-4da8-c780-e098f04cc7ba"
      },
      "execution_count": null,
      "outputs": [
        {
          "output_type": "stream",
          "name": "stdout",
          "text": [
            "confusion matrix\n",
            "[[84  4 11]\n",
            " [ 3 79 10]\n",
            " [16  9 84]]\n",
            "accuracy 0.8233333333333334\n",
            "precision 0.8247432109188125\n",
            "recall 0.825940900831208\n",
            "f1-score 0.8251418498209024\n",
            "              precision    recall  f1-score   support\n",
            "\n",
            "           0       0.82      0.85      0.83        99\n",
            "           1       0.86      0.86      0.86        92\n",
            "           2       0.80      0.77      0.79       109\n",
            "\n",
            "    accuracy                           0.82       300\n",
            "   macro avg       0.82      0.83      0.83       300\n",
            "weighted avg       0.82      0.82      0.82       300\n",
            "\n"
          ]
        }
      ]
    },
    {
      "cell_type": "code",
      "source": [
        "#write all the test predictions to the csv file\n",
        "path = '/content/drive/MyDrive/test_predictions.csv'\n",
        "test_predictions_df.to_csv(path)"
      ],
      "metadata": {
        "id": "eEIJ8YH572Ko"
      },
      "execution_count": null,
      "outputs": []
    }
  ]
}