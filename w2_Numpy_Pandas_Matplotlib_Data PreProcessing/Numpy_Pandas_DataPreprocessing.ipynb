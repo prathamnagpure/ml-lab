{
  "cells": [
    {
      "cell_type": "markdown",
      "metadata": {
        "id": "07GBYOqn8yQb"
      },
      "source": [
        "# Numpy\n",
        "\n",
        "NumPy is a library for the Python programming language, adding support for large, multi-dimensional arrays and matrices, along with a large collection of high-level mathematical functions to operate on these arrays.\n",
        "\n",
        "### Resources\n",
        " * https://numpy.org/learn/ Tutorial\n",
        " * https://numpy.org/doc/stable/reference/generated/numpy.set_printoptions.html print options\n"
      ]
    },
    {
      "cell_type": "markdown",
      "metadata": {
        "id": "XLUaNQZ7AFBH"
      },
      "source": [
        "## Basics"
      ]
    },
    {
      "cell_type": "code",
      "execution_count": 1,
      "metadata": {
        "id": "mBQB7NoV8x4P"
      },
      "outputs": [],
      "source": [
        "import numpy as np "
      ]
    },
    {
      "cell_type": "code",
      "execution_count": 2,
      "metadata": {
        "colab": {
          "base_uri": "https://localhost:8080/"
        },
        "id": "F75DDUtS95yJ",
        "outputId": "23fb0c14-e0be-4207-ff3a-fd3672612eba"
      },
      "outputs": [
        {
          "output_type": "stream",
          "name": "stdout",
          "text": [
            "<class 'list'>\n",
            "<class 'numpy.ndarray'>\n",
            "4\n"
          ]
        }
      ],
      "source": [
        "## Converting list to numpy array\n",
        "lis = [1, 2, 3, 4]\n",
        "lis2 = np.array(lis)\n",
        "\n",
        "print(type(lis))\n",
        "print(type(lis2))\n",
        "print(lis[3])"
      ]
    },
    {
      "cell_type": "code",
      "execution_count": 3,
      "metadata": {
        "colab": {
          "base_uri": "https://localhost:8080/"
        },
        "id": "cgaVKghO8x0X",
        "outputId": "7819a270-2778-40ab-d1da-3c24eec8c5b0"
      },
      "outputs": [
        {
          "output_type": "execute_result",
          "data": {
            "text/plain": [
              "array([0. , 0.4, 0.8, 1.2, 1.6, 2. , 2.4, 2.8])"
            ]
          },
          "metadata": {},
          "execution_count": 3
        }
      ],
      "source": [
        "## The arange function\n",
        "np.arange(0, 3, 0.4)      ## np.arange(start, stop, step)"
      ]
    },
    {
      "cell_type": "code",
      "execution_count": 4,
      "metadata": {
        "colab": {
          "base_uri": "https://localhost:8080/",
          "height": 40
        },
        "id": "-9ytx0958xxX",
        "outputId": "bcb7db5a-9646-4cdf-c13d-c21dacc81b99"
      },
      "outputs": [
        {
          "output_type": "execute_result",
          "data": {
            "text/plain": [
              "'float64'"
            ],
            "application/vnd.google.colaboratory.intrinsic+json": {
              "type": "string"
            }
          },
          "metadata": {},
          "execution_count": 4
        }
      ],
      "source": [
        "## Example of homogenity\n",
        "\n",
        "a = np.array([0, 4, 1.5])\n",
        "a.dtype.name"
      ]
    },
    {
      "cell_type": "code",
      "execution_count": 5,
      "metadata": {
        "colab": {
          "base_uri": "https://localhost:8080/"
        },
        "id": "ZyA1UUAA8xts",
        "outputId": "0ac179a7-b8c5-4492-d5ea-62f633e75e3d"
      },
      "outputs": [
        {
          "output_type": "execute_result",
          "data": {
            "text/plain": [
              "[[1, 2, 3], [4, 5, 6], [7, 8, 9]]"
            ]
          },
          "metadata": {},
          "execution_count": 5
        }
      ],
      "source": [
        "my_matrix = [[1,2,3],[4,5,6],[7,8,9]]\n",
        "my_matrix"
      ]
    },
    {
      "cell_type": "code",
      "execution_count": 6,
      "metadata": {
        "colab": {
          "base_uri": "https://localhost:8080/"
        },
        "id": "uaaN7tQL8xqQ",
        "outputId": "5d70d423-0cee-4244-9882-c807faacead9"
      },
      "outputs": [
        {
          "output_type": "execute_result",
          "data": {
            "text/plain": [
              "array([[1, 2, 3],\n",
              "       [4, 5, 6],\n",
              "       [7, 8, 9]])"
            ]
          },
          "metadata": {},
          "execution_count": 6
        }
      ],
      "source": [
        "np.array(my_matrix)"
      ]
    },
    {
      "cell_type": "markdown",
      "metadata": {
        "id": "q2JR_Uu-ABKz"
      },
      "source": [
        "### Zeros and Ones"
      ]
    },
    {
      "cell_type": "code",
      "execution_count": 7,
      "metadata": {
        "colab": {
          "base_uri": "https://localhost:8080/"
        },
        "id": "6LVk5G6i8xmw",
        "outputId": "bf5e6d75-d43c-4831-eb31-5edd7dbc3948",
        "scrolled": true
      },
      "outputs": [
        {
          "output_type": "execute_result",
          "data": {
            "text/plain": [
              "array([0., 0., 0.])"
            ]
          },
          "metadata": {},
          "execution_count": 7
        }
      ],
      "source": [
        "np.zeros(3)"
      ]
    },
    {
      "cell_type": "code",
      "execution_count": 8,
      "metadata": {
        "colab": {
          "base_uri": "https://localhost:8080/"
        },
        "id": "Xpbvst398xeq",
        "outputId": "11b7af93-4cc8-41af-e12b-c689a40671f1"
      },
      "outputs": [
        {
          "output_type": "execute_result",
          "data": {
            "text/plain": [
              "array([[0., 0., 0.],\n",
              "       [0., 0., 0.],\n",
              "       [0., 0., 0.]])"
            ]
          },
          "metadata": {},
          "execution_count": 8
        }
      ],
      "source": [
        "np.zeros((3,3))"
      ]
    },
    {
      "cell_type": "code",
      "execution_count": 9,
      "metadata": {
        "colab": {
          "base_uri": "https://localhost:8080/"
        },
        "id": "V-h7p7VyAVBF",
        "outputId": "8ad24453-8c95-4aa8-93af-9e6a95a944f3"
      },
      "outputs": [
        {
          "output_type": "stream",
          "name": "stdout",
          "text": [
            "[1. 1. 1.]\n",
            "\n",
            " [[1. 1. 1.]\n",
            " [1. 1. 1.]\n",
            " [1. 1. 1.]]\n"
          ]
        }
      ],
      "source": [
        "print(np.ones(3))\n",
        "print('\\n',np.ones((3,3)))"
      ]
    },
    {
      "cell_type": "code",
      "execution_count": 10,
      "metadata": {
        "colab": {
          "base_uri": "https://localhost:8080/"
        },
        "id": "w9M3YVhBBK8j",
        "outputId": "cb3e70ad-2b0f-4190-e4b1-4218d21cd4fc"
      },
      "outputs": [
        {
          "output_type": "execute_result",
          "data": {
            "text/plain": [
              "array([[1., 0., 0., 0.],\n",
              "       [0., 1., 0., 0.],\n",
              "       [0., 0., 1., 0.],\n",
              "       [0., 0., 0., 1.]])"
            ]
          },
          "metadata": {},
          "execution_count": 10
        }
      ],
      "source": [
        "## Identity matrix\n",
        "\n",
        "np.eye(4)"
      ]
    },
    {
      "cell_type": "markdown",
      "metadata": {
        "id": "yMMVus8aAopL"
      },
      "source": [
        "### Linspace"
      ]
    },
    {
      "cell_type": "code",
      "execution_count": 11,
      "metadata": {
        "colab": {
          "base_uri": "https://localhost:8080/"
        },
        "id": "MbejCiqDAU8c",
        "outputId": "d977f721-a4bc-4c51-854c-ca8a7e0f7fdd"
      },
      "outputs": [
        {
          "output_type": "execute_result",
          "data": {
            "text/plain": [
              "array([ 0. ,  2.5,  5. ,  7.5, 10. ])"
            ]
          },
          "metadata": {},
          "execution_count": 11
        }
      ],
      "source": [
        "np.linspace(0, 10, 5)   ### np.linspace(start, stop, number of data points)"
      ]
    },
    {
      "cell_type": "code",
      "execution_count": 12,
      "metadata": {
        "colab": {
          "base_uri": "https://localhost:8080/"
        },
        "id": "IVqfQpjcAU5H",
        "outputId": "92a797f5-bc03-49aa-9af5-f60be51f962b"
      },
      "outputs": [
        {
          "output_type": "execute_result",
          "data": {
            "text/plain": [
              "array([-1.        , -0.89473684, -0.78947368, -0.68421053, -0.57894737,\n",
              "       -0.47368421, -0.36842105, -0.26315789, -0.15789474, -0.05263158,\n",
              "        0.05263158,  0.15789474,  0.26315789,  0.36842105,  0.47368421,\n",
              "        0.57894737,  0.68421053,  0.78947368,  0.89473684,  1.        ])"
            ]
          },
          "metadata": {},
          "execution_count": 12
        }
      ],
      "source": [
        "np.linspace(-1,1,20)"
      ]
    },
    {
      "cell_type": "markdown",
      "metadata": {
        "id": "ksDNZInmBTPD"
      },
      "source": [
        "### Random"
      ]
    },
    {
      "cell_type": "markdown",
      "metadata": {
        "id": "EGD3e0fWE2Qc"
      },
      "source": [
        "#### rand\n",
        "\n",
        "Creates an array of the given shape and populates it with random samples from a uniform distribution over [0, 1)"
      ]
    },
    {
      "cell_type": "code",
      "execution_count": 13,
      "metadata": {
        "colab": {
          "base_uri": "https://localhost:8080/"
        },
        "id": "Zr49wWqZAU1C",
        "outputId": "c8371050-1160-48fb-b45a-ae248b6c7f90"
      },
      "outputs": [
        {
          "output_type": "stream",
          "name": "stdout",
          "text": [
            "[0.54397729 0.70993227]\n",
            "\n",
            " [[0.33112014 0.05827118]\n",
            " [0.01052658 0.1226252 ]]\n"
          ]
        }
      ],
      "source": [
        "print(np.random.rand(2))\n",
        "print('\\n',np.random.rand(2,2))"
      ]
    },
    {
      "cell_type": "markdown",
      "metadata": {
        "id": "6fErEVB3H9DI"
      },
      "source": [
        "### randint\n",
        "Returns random integers from `low` (inclusive) to `high` (exclusive).  [[reference](https://docs.scipy.org/doc/numpy-1.15.0/reference/generated/numpy.random.randint.html)]"
      ]
    },
    {
      "cell_type": "code",
      "execution_count": 14,
      "metadata": {
        "colab": {
          "base_uri": "https://localhost:8080/"
        },
        "id": "U1Be_hSdAUxE",
        "outputId": "173b675a-76e2-472c-aae1-bd44cc959ba4"
      },
      "outputs": [
        {
          "output_type": "stream",
          "name": "stdout",
          "text": [
            "5\n"
          ]
        },
        {
          "output_type": "execute_result",
          "data": {
            "text/plain": [
              "array([15, 85, 65, 11, 17, 81])"
            ]
          },
          "metadata": {},
          "execution_count": 14
        }
      ],
      "source": [
        "print(np.random.randint(1,25))\n",
        "\n",
        "np.random.randint(1,100,6)"
      ]
    },
    {
      "cell_type": "markdown",
      "metadata": {
        "id": "sFAsVVy0MjKj"
      },
      "source": [
        "### seed\n",
        "We use the\n",
        "np.random.seed\n",
        "function to set the\n",
        "random seed\n",
        ", which allows us to control the outputs of the pseudo-random functions. The function takes in a single integer as an argument, representing the random seed. [[reference](https://docs.scipy.org/doc/numpy-1.15.0/reference/generated/numpy.random.seed.html)]"
      ]
    },
    {
      "cell_type": "code",
      "execution_count": 15,
      "metadata": {
        "colab": {
          "base_uri": "https://localhost:8080/"
        },
        "id": "-EWVFC_-AUsv",
        "outputId": "a5502335-270b-491b-eeb0-42e27ba651af"
      },
      "outputs": [
        {
          "output_type": "stream",
          "name": "stdout",
          "text": [
            "5\n",
            "array([[15, 75],\n",
            "       [12, 78]])\n",
            "8\n",
            "array([[18, 75],\n",
            "       [25, 46]])\n",
            "5\n",
            "array([[15, 75],\n",
            "       [12, 78]])\n"
          ]
        }
      ],
      "source": [
        "np.random.seed(1)\n",
        "print(np.random.randint(10))\n",
        "random_arr = np.random.randint(3, high=100,\n",
        "                               size=(2, 2))\n",
        "print(repr(random_arr))\n",
        "\n",
        "# New seed\n",
        "np.random.seed(2)\n",
        "print(np.random.randint(10))\n",
        "random_arr = np.random.randint(3, high=100,\n",
        "                               size=(2, 2))\n",
        "print(repr(random_arr))\n",
        "\n",
        "# Original seed\n",
        "np.random.seed(1)\n",
        "print(np.random.randint(10))\n",
        "random_arr = np.random.randint(3, high=100,\n",
        "                               size=(2, 2))\n",
        "print(repr(random_arr))"
      ]
    },
    {
      "cell_type": "markdown",
      "source": [
        "## Distributions"
      ],
      "metadata": {
        "id": "83t2X4repFpY"
      }
    },
    {
      "cell_type": "code",
      "source": [
        "print(np.random.uniform())\n",
        "print(np.random.uniform(low=-1.5, high=2.2))\n",
        "print(repr(np.random.uniform(size=3)))\n",
        "print(repr(np.random.uniform(low=-3.4, high=5.9,\n",
        "                             size=(2, 2))))"
      ],
      "metadata": {
        "colab": {
          "base_uri": "https://localhost:8080/"
        },
        "id": "qImiljhCpECJ",
        "outputId": "e30161a8-fe3c-4449-f718-8e96932675ee"
      },
      "execution_count": 16,
      "outputs": [
        {
          "output_type": "stream",
          "name": "stdout",
          "text": [
            "0.9990405153241447\n",
            "-0.6264707852776885\n",
            "array([0.39658073, 0.38791074, 0.66974604])\n",
            "array([[ 5.30051336,  4.47069153],\n",
            "       [-0.48655629,  1.47829788]])\n"
          ]
        }
      ]
    },
    {
      "cell_type": "code",
      "source": [
        "print(np.random.normal())\n",
        "print(np.random.normal(loc=1.5, scale=3.5))\n",
        "print(repr(np.random.normal(loc=-2.4, scale=4.0,\n",
        "                            size=(2, 2))))"
      ],
      "metadata": {
        "colab": {
          "base_uri": "https://localhost:8080/"
        },
        "id": "2ee5QS5XpYJU",
        "outputId": "ee0cfb32-81f8-4755-83c8-66ce26deec84"
      },
      "execution_count": 17,
      "outputs": [
        {
          "output_type": "stream",
          "name": "stdout",
          "text": [
            "-1.5078076574393642\n",
            "0.396477758793107\n",
            "array([[  1.03271544,  -2.11462803],\n",
            "       [-11.56923711,  -8.06220995]])\n"
          ]
        }
      ]
    },
    {
      "cell_type": "markdown",
      "metadata": {
        "id": "D-XCEe74NamM"
      },
      "source": [
        "### Reshape"
      ]
    },
    {
      "cell_type": "code",
      "execution_count": 18,
      "metadata": {
        "colab": {
          "base_uri": "https://localhost:8080/"
        },
        "id": "WaCKIhlYNaZe",
        "outputId": "361cc137-3d8c-4ad4-b9f7-d0ba2e8b2a04"
      },
      "outputs": [
        {
          "output_type": "stream",
          "name": "stdout",
          "text": [
            "[ 0  1  2  3  4  5  6  7  8  9 10 11 12 13 14 15] \n",
            "\n",
            "[[ 0  1  2  3]\n",
            " [ 4  5  6  7]\n",
            " [ 8  9 10 11]\n",
            " [12 13 14 15]] \n",
            "\n",
            "[[ 0  1  2  3  4  5  6  7]\n",
            " [ 8  9 10 11 12 13 14 15]]\n"
          ]
        }
      ],
      "source": [
        "a = np.arange(16)\n",
        "print(a,'\\n')\n",
        "print(a.reshape(4,4),'\\n')\n",
        "print(a.reshape(2,8))"
      ]
    },
    {
      "cell_type": "markdown",
      "metadata": {
        "id": "xtlYBoEhNzbd"
      },
      "source": [
        "### max, min, argmax, argmin\n",
        "\n",
        "These are useful methods for finding max or min values. Or to find their index locations using argmin or argmax"
      ]
    },
    {
      "cell_type": "code",
      "execution_count": 19,
      "metadata": {
        "colab": {
          "base_uri": "https://localhost:8080/"
        },
        "id": "B_8UYzjKNaVf",
        "outputId": "e4099d61-163b-471d-8fea-6aa1f27964c9"
      },
      "outputs": [
        {
          "output_type": "stream",
          "name": "stdout",
          "text": [
            "[30 32 22 13 41  9  7 22  1  0] \n",
            "\n",
            "max:  41 \n",
            "\n",
            "min:  0 \n",
            "\n",
            "argmax:  4 \n",
            "\n",
            "argmin:  9 \n",
            "\n"
          ]
        }
      ],
      "source": [
        "arr = np.random.randint(0,50,10)\n",
        "\n",
        "print(arr,'\\n')\n",
        "print('max: ', arr.max(),'\\n')\n",
        "print('min: ', arr.min(),'\\n')\n",
        "print('argmax: ', arr.argmax(),'\\n')\n",
        "print('argmin: ', arr.argmin(),'\\n')"
      ]
    },
    {
      "cell_type": "code",
      "source": [
        "arr = np.array([[-2, -1, -3],\n",
        "                [4, 5, -6],\n",
        "                [-3, 9, 1]])\n",
        "print(np.argmin(arr[0]))\n",
        "print(np.argmax(arr[2]))\n",
        "print(np.argmin(arr))"
      ],
      "metadata": {
        "colab": {
          "base_uri": "https://localhost:8080/"
        },
        "id": "SBH1DEX-sHyg",
        "outputId": "6f2ad796-da61-47ae-f72c-5cc920dca3d0"
      },
      "execution_count": 20,
      "outputs": [
        {
          "output_type": "stream",
          "name": "stdout",
          "text": [
            "2\n",
            "1\n",
            "5\n"
          ]
        }
      ]
    },
    {
      "cell_type": "code",
      "source": [
        "arr = np.array([[-2, -1, -3],\n",
        "                [4, 5, -6],\n",
        "                [-3, 9, 1]])\n",
        "print(repr(np.argmin(arr, axis=0)))\n",
        "print(repr(np.argmin(arr, axis=1)))\n",
        "print(repr(np.argmax(arr, axis=-1)))"
      ],
      "metadata": {
        "colab": {
          "base_uri": "https://localhost:8080/"
        },
        "id": "rcxrquopsJLx",
        "outputId": "59b2acaa-dab9-4ebe-b3b0-7e54b57dbe3d"
      },
      "execution_count": 21,
      "outputs": [
        {
          "output_type": "stream",
          "name": "stdout",
          "text": [
            "array([2, 0, 1])\n",
            "array([2, 2, 0])\n",
            "array([1, 1, 1])\n"
          ]
        }
      ]
    },
    {
      "cell_type": "markdown",
      "metadata": {
        "id": "ndB3LQ0HPV1B"
      },
      "source": [
        "### Indexing"
      ]
    },
    {
      "cell_type": "code",
      "execution_count": 22,
      "metadata": {
        "colab": {
          "base_uri": "https://localhost:8080/"
        },
        "id": "mBp2tTNFPY5M",
        "outputId": "5b5f0720-aedb-4bd0-c75c-546a288db65b"
      },
      "outputs": [
        {
          "output_type": "stream",
          "name": "stdout",
          "text": [
            "[38 27 18 34 23 29 25 20 35 18]\n",
            "29\n",
            "[27 18 34 23]\n"
          ]
        }
      ],
      "source": [
        "a = np.random.randint(10,39,10)\n",
        "\n",
        "print(a)\n",
        "print(a[5])\n",
        "print(a[1:5])"
      ]
    },
    {
      "cell_type": "code",
      "execution_count": 23,
      "metadata": {
        "colab": {
          "base_uri": "https://localhost:8080/"
        },
        "id": "DJuqiEanPY1d",
        "outputId": "41c5ac90-7864-4616-b135-2cb5b9caf044"
      },
      "outputs": [
        {
          "output_type": "execute_result",
          "data": {
            "text/plain": [
              "array([38, 27, 18, 34, 23,  9, 25, 20, 35, 18])"
            ]
          },
          "metadata": {},
          "execution_count": 23
        }
      ],
      "source": [
        "#Setting a value\n",
        "a[5] = 9\n",
        "a"
      ]
    },
    {
      "cell_type": "code",
      "execution_count": 24,
      "metadata": {
        "colab": {
          "base_uri": "https://localhost:8080/"
        },
        "id": "639viocbPYxy",
        "outputId": "8190facf-c136-480b-b81b-fa74eb82b0a1"
      },
      "outputs": [
        {
          "output_type": "execute_result",
          "data": {
            "text/plain": [
              "8"
            ]
          },
          "metadata": {},
          "execution_count": 24
        }
      ],
      "source": [
        "a = np.array(([1, 2, 3],[4, 5, 6],[7, 8, 9]))\n",
        "\n",
        "a[2, 1]"
      ]
    },
    {
      "cell_type": "code",
      "execution_count": 25,
      "metadata": {
        "colab": {
          "base_uri": "https://localhost:8080/"
        },
        "id": "PogBdfjMSF5t",
        "outputId": "4ab4fc56-2408-4117-d2b7-f988e4e79eac"
      },
      "outputs": [
        {
          "output_type": "execute_result",
          "data": {
            "text/plain": [
              "array([[1, 2],\n",
              "       [4, 5]])"
            ]
          },
          "metadata": {},
          "execution_count": 25
        }
      ],
      "source": [
        "#Shape (2,2)\n",
        "a[:2,:2]"
      ]
    },
    {
      "cell_type": "markdown",
      "metadata": {
        "id": "qwME_bJXPJZC"
      },
      "source": [
        "## Operations"
      ]
    },
    {
      "cell_type": "code",
      "execution_count": 26,
      "metadata": {
        "colab": {
          "base_uri": "https://localhost:8080/"
        },
        "id": "LC5wRptrPaVQ",
        "outputId": "ae64d96f-8dc7-401d-a488-1a18c95fa7fb"
      },
      "outputs": [
        {
          "output_type": "stream",
          "name": "stdout",
          "text": [
            "add \t \t:  [ 0  2  4  6  8 10 12 14 16 18]\n",
            "add integer \t:  [ 8  9 10 11 12 13 14 15 16 17]\n",
            "Substract \t:  [-2 -1  0  1  2  3  4  5  6  7]\n",
            "multiply \t:  [ 0  1  4  9 16 25 36 49 64 81]\n",
            "power \t\t:  [ 0  1  4  9 16 25 36 49 64 81]\n"
          ]
        }
      ],
      "source": [
        "a = np.arange(10)\n",
        "\n",
        "print('add \\t \\t: ',a + a)\n",
        "print('add integer \\t: ',a + 8)\n",
        "print('Substract \\t: ',a - 2)\n",
        "print('multiply \\t: ',a * a)\n",
        "print('power \\t\\t: ',a ** 2)"
      ]
    },
    {
      "cell_type": "code",
      "execution_count": 27,
      "metadata": {
        "colab": {
          "base_uri": "https://localhost:8080/"
        },
        "id": "abKIJhwuPHbg",
        "outputId": "6b424109-4d22-419f-95db-06af7a87034e"
      },
      "outputs": [
        {
          "output_type": "stream",
          "name": "stdout",
          "text": [
            "square root: \n",
            " [1.         1.41421356 1.73205081 2.         2.23606798 2.44948974\n",
            " 2.64575131 2.82842712 3.         3.16227766]\n",
            "\n",
            "\n",
            "Exponential: \n",
            " [2.71828183e+00 7.38905610e+00 2.00855369e+01 5.45981500e+01\n",
            " 1.48413159e+02 4.03428793e+02 1.09663316e+03 2.98095799e+03\n",
            " 8.10308393e+03 2.20264658e+04]\n",
            "\n",
            "\n",
            "Trigonometric function: \n",
            " [ 0.84147098  0.90929743  0.14112001 -0.7568025  -0.95892427 -0.2794155\n",
            "  0.6569866   0.98935825  0.41211849 -0.54402111]\n",
            "\n",
            "\n",
            "Natural Log: \n",
            " [0.         0.69314718 1.09861229 1.38629436 1.60943791 1.79175947\n",
            " 1.94591015 2.07944154 2.19722458 2.30258509]\n"
          ]
        }
      ],
      "source": [
        "a = np.arange(1, 11)\n",
        "\n",
        "# Taking Square Roots\n",
        "print('square root: \\n',np.sqrt(a))\n",
        "\n",
        "# Calculating exponential (e^)\n",
        "print(\"\\n\\nExponential: \\n\",np.exp(a))\n",
        "\n",
        "# Trigonometric Functions like sine\n",
        "print('\\n\\nTrigonometric function: \\n',np.sin(a))\n",
        "\n",
        "# Taking the Natural Logarithm\n",
        "print(\"\\n\\nNatural Log: \\n\",np.log(a))"
      ]
    },
    {
      "cell_type": "code",
      "execution_count": 28,
      "metadata": {
        "colab": {
          "base_uri": "https://localhost:8080/"
        },
        "id": "CGs3b3V-XVWh",
        "outputId": "651e41a3-618f-4cbf-95f7-71720779d80e"
      },
      "outputs": [
        {
          "output_type": "stream",
          "name": "stdout",
          "text": [
            "square root: \n",
            " [1.    1.414 1.732 2.    2.236 2.449 2.646 2.828 3.    3.162]\n",
            "\n",
            "\n",
            "Exponential: \n",
            " [2.7180000e+00 7.3890000e+00 2.0086000e+01 5.4598000e+01 1.4841300e+02\n",
            " 4.0342900e+02 1.0966330e+03 2.9809580e+03 8.1030840e+03 2.2026466e+04]\n",
            "\n",
            "\n",
            "Trigonometric function: \n",
            " [ 0.841  0.909  0.141 -0.757 -0.959 -0.279  0.657  0.989  0.412 -0.544]\n",
            "\n",
            "\n",
            "Natural Log: \n",
            " [0.    0.693 1.099 1.386 1.609 1.792 1.946 2.079 2.197 2.303]\n"
          ]
        }
      ],
      "source": [
        "a = np.arange(1, 11)\n",
        "\n",
        "# Taking Square Roots\n",
        "print('square root: \\n',np.around(np.sqrt(a),3))\n",
        "\n",
        "# Calculating exponential (e^)\n",
        "print(\"\\n\\nExponential: \\n\",np.around(np.exp(a),3))\n",
        "\n",
        "# Trigonometric Functions like sine\n",
        "print('\\n\\nTrigonometric function: \\n',np.around(np.sin(a),3))\n",
        "\n",
        "# Taking the Natural Logarithm\n",
        "print(\"\\n\\nNatural Log: \\n\",np.around(np.log(a),3))"
      ]
    },
    {
      "cell_type": "markdown",
      "source": [
        "## Aggregation"
      ],
      "metadata": {
        "id": "sIFct0_1xEEZ"
      }
    },
    {
      "cell_type": "code",
      "source": [
        "arr1 = np.array([[0, 72, 3],\n",
        "                 [1, 3, -60],\n",
        "                 [-3, -2, 4]])\n",
        "arr2 = np.array([[-15, 6, 1],\n",
        "                 [8, 9, -4],\n",
        "                 [5, -21, 18]])\n",
        "print(repr(np.concatenate([arr1, arr2])))\n",
        "print(repr(np.concatenate([arr1, arr2], axis=1)))\n",
        "print(repr(np.concatenate([arr2, arr1], axis=1)))"
      ],
      "metadata": {
        "colab": {
          "base_uri": "https://localhost:8080/"
        },
        "id": "8hq8pcAzxDDD",
        "outputId": "d5f6cf18-17c9-4b39-c2d1-e611a6e9dba4"
      },
      "execution_count": 29,
      "outputs": [
        {
          "output_type": "stream",
          "name": "stdout",
          "text": [
            "array([[  0,  72,   3],\n",
            "       [  1,   3, -60],\n",
            "       [ -3,  -2,   4],\n",
            "       [-15,   6,   1],\n",
            "       [  8,   9,  -4],\n",
            "       [  5, -21,  18]])\n",
            "array([[  0,  72,   3, -15,   6,   1],\n",
            "       [  1,   3, -60,   8,   9,  -4],\n",
            "       [ -3,  -2,   4,   5, -21,  18]])\n",
            "array([[-15,   6,   1,   0,  72,   3],\n",
            "       [  8,   9,  -4,   1,   3, -60],\n",
            "       [  5, -21,  18,  -3,  -2,   4]])\n"
          ]
        }
      ]
    },
    {
      "cell_type": "markdown",
      "metadata": {
        "id": "6xedLIE9ucQf"
      },
      "source": [
        "# Basic plotting\n",
        "\n",
        "### Reference: https://matplotlib.org/stable/api/_as_gen/matplotlib.pyplot.html"
      ]
    },
    {
      "cell_type": "code",
      "execution_count": 30,
      "metadata": {
        "colab": {
          "base_uri": "https://localhost:8080/",
          "height": 265
        },
        "id": "Q7HiNQSCubnt",
        "outputId": "7b5af994-4844-43b3-dc45-5ee3ed6cf2dd"
      },
      "outputs": [
        {
          "output_type": "display_data",
          "data": {
            "text/plain": [
              "<Figure size 432x288 with 1 Axes>"
            ],
            "image/png": "[encoded data removed]"
          },
          "metadata": {
            "needs_background": "light"
          }
        }
      ],
      "source": [
        "import matplotlib.pyplot as plt\n",
        "import numpy as np\n",
        "x = np.random.randint(0,10,10)\n",
        "y = np.arange(10)\n",
        "plt.plot(x,y)\n",
        "plt.show()"
      ]
    },
    {
      "cell_type": "code",
      "execution_count": 31,
      "metadata": {
        "colab": {
          "base_uri": "https://localhost:8080/",
          "height": 265
        },
        "id": "jOLZaCrdwIb3",
        "outputId": "98485547-3bc6-4f70-8b21-686d2e329904"
      },
      "outputs": [
        {
          "output_type": "display_data",
          "data": {
            "text/plain": [
              "<Figure size 432x288 with 1 Axes>"
            ],
            "image/png": "[encoded data removed]"
          },
          "metadata": {
            "needs_background": "light"
          }
        }
      ],
      "source": [
        "plt.scatter(x,y)\n",
        "plt.show()"
      ]
    },
    {
      "cell_type": "code",
      "execution_count": 32,
      "metadata": {
        "colab": {
          "base_uri": "https://localhost:8080/",
          "height": 265
        },
        "id": "2eofIFTQu8DC",
        "outputId": "25d2c9b5-e697-4215-907b-e4d4bc11a6a4"
      },
      "outputs": [
        {
          "output_type": "display_data",
          "data": {
            "text/plain": [
              "<Figure size 432x288 with 1 Axes>"
            ],
            "image/png": "[encoded data removed]"
          },
          "metadata": {
            "needs_background": "light"
          }
        }
      ],
      "source": [
        "plt.scatter(x,y, c = np.array([1,0,0,0,1,1,0,1,1,0]))\n",
        "plt.show()"
      ]
    },
    {
      "cell_type": "code",
      "execution_count": 33,
      "metadata": {
        "colab": {
          "base_uri": "https://localhost:8080/",
          "height": 288
        },
        "id": "-ZixVD4M8ntm",
        "outputId": "a88e8dd1-fc2f-4f43-a069-b8fd77e4162f"
      },
      "outputs": [
        {
          "output_type": "execute_result",
          "data": {
            "text/plain": [
              "<BarContainer object of 10 artists>"
            ]
          },
          "metadata": {},
          "execution_count": 33
        },
        {
          "output_type": "display_data",
          "data": {
            "text/plain": [
              "<Figure size 432x288 with 1 Axes>"
            ],
            "image/png": "[encoded data removed]"
          },
          "metadata": {
            "needs_background": "light"
          }
        }
      ],
      "source": [
        "plt.bar(x,y)"
      ]
    },
    {
      "cell_type": "code",
      "execution_count": 34,
      "metadata": {
        "colab": {
          "base_uri": "https://localhost:8080/",
          "height": 265
        },
        "id": "FbvlyhlovOmZ",
        "outputId": "ce692a1f-6cb2-4280-e8a1-921faab2b830"
      },
      "outputs": [
        {
          "output_type": "display_data",
          "data": {
            "text/plain": [
              "<Figure size 432x288 with 1 Axes>"
            ],
            "image/png": "[encoded data removed]"
          },
          "metadata": {
            "needs_background": "light"
          }
        }
      ],
      "source": [
        "x = np.arange(50)\n",
        "y = np.sin(x)\n",
        "plt.plot(x,y)\n",
        "plt.show()"
      ]
    },
    {
      "cell_type": "markdown",
      "metadata": {
        "id": "OWr4pOniM4n_"
      },
      "source": [
        "# Scipy\n"
      ]
    },
    {
      "cell_type": "markdown",
      "metadata": {
        "id": "2xpMzb8ce8Ak"
      },
      "source": [
        "### Resources\n",
        "https://www.tutorialspoint.com/scipy/index.htm<br>\n",
        "https://docs.scipy.org/doc/scipy/reference/tutorial/general.html<br>\n",
        "SciPy is a collection of mathematical algorithms and convenience functions built on the NumPy extension of Python. \n",
        "\n",
        "\n",
        "* NumPy stands for Numerical Python while SciPy stands for Scientific Python. \n",
        "* SciPy is actually a collection of tools like integration, differentiation, gradient optimization, and much more. \n",
        "* Subpackages\n",
        "\n",
        "    * cluster: Clustering algorithms\n",
        "\n",
        "    * constants: Physical and mathematical constants\n",
        "\n",
        "    * fftpack: Fast Fourier Transform routines\n",
        "\n",
        "    * integrate: Integration and ordinary differential equation solvers\n",
        "\n",
        "    * interpolate: Interpolation and smoothing splines\n",
        "\n",
        "    * io: Input and Output\n",
        "\n",
        "    * linalg: Linear algebra\n",
        "\n",
        "    * ndimage: N-dimensional image processing\n",
        "\n",
        "    * odr: Orthogonal distance regression\n",
        "\n",
        "    * optimize: Optimization and root-finding routines\n",
        "\n",
        "    * signal: Signal processing\n",
        "\n",
        "    * sparse: Sparse matrices and associated routines\n",
        "\n",
        "    * spatial: Spatial data structures and algorithms\n",
        "\n",
        "    * special: Special functions\n",
        "\n",
        "    * stats: Statistical distributions and functions"
      ]
    },
    {
      "cell_type": "code",
      "execution_count": 35,
      "metadata": {
        "id": "r2DE7K5mAUct",
        "colab": {
          "base_uri": "https://localhost:8080/"
        },
        "outputId": "2edfcd7c-7495-4aa2-8ba6-778b6cf33991"
      },
      "outputs": [
        {
          "output_type": "stream",
          "name": "stdout",
          "text": [
            "sciPy - pi = 3.14\n",
            "\n",
            "Speed of light is:  299792458.0 m/s\n",
            "\n",
            "One milli-gram is 0.001 grams\n",
            "\n",
            "1 Degree is 0.01745 radians\n"
          ]
        }
      ],
      "source": [
        "#constants\n",
        "import scipy\n",
        "from scipy.constants import *\\\n",
        "\n",
        "print(\"sciPy - pi = %.2f\"%pi)\n",
        "print(\"\\nSpeed of light is: \",c,\"m/s\")\n",
        "print(\"\\nOne milli-gram is\",milli,\"grams\")\n",
        "print(\"\\n1 Degree is {:.5f} radians\".format(degree))"
      ]
    },
    {
      "cell_type": "markdown",
      "metadata": {
        "id": "dwUNRzsTaYoo"
      },
      "source": [
        "### linalg"
      ]
    },
    {
      "cell_type": "code",
      "execution_count": 36,
      "metadata": {
        "id": "1ehAkwlIAUY9",
        "colab": {
          "base_uri": "https://localhost:8080/"
        },
        "outputId": "37f90c13-013a-441d-ccdb-ed1cee3725fc"
      },
      "outputs": [
        {
          "output_type": "stream",
          "name": "stdout",
          "text": [
            "[[-2.   1. ]\n",
            " [ 1.5 -0.5]]\n",
            "[[1.0000000e+00 0.0000000e+00]\n",
            " [8.8817842e-16 1.0000000e+00]]\n"
          ]
        }
      ],
      "source": [
        "import numpy as np\n",
        "from scipy import linalg\n",
        "\n",
        "A = np.mat('[1 2;3 4]') #A = np.array([[1,2],[3,4]])\n",
        "\n",
        "print(linalg.inv(A))\n",
        "\n",
        "print(A.dot(linalg.inv(A)) )"
      ]
    },
    {
      "cell_type": "code",
      "execution_count": 37,
      "metadata": {
        "id": "yAdV3drEAUNW",
        "colab": {
          "base_uri": "https://localhost:8080/"
        },
        "outputId": "2bd1e209-6c5b-4f2f-f876-dd3367c9b3ca"
      },
      "outputs": [
        {
          "output_type": "stream",
          "name": "stdout",
          "text": [
            "[[1 2]\n",
            " [3 4]]\n",
            "[[ 5]\n",
            " [11]]\n",
            "[[1.]\n",
            " [2.]]\n"
          ]
        }
      ],
      "source": [
        "## Solving equations\n",
        "A = np.array([[1, 2], [3, 4]])\n",
        "print(A)\n",
        "b = np.array([[5], [11]])\n",
        "print(b)\n",
        "\n",
        "ans = linalg.inv(A).dot(b)  \n",
        "print(ans)"
      ]
    },
    {
      "cell_type": "markdown",
      "metadata": {
        "id": "e2yU7bL4ezhl"
      },
      "source": [
        "# Pandas\n",
        "\n",
        "Pandas is one of the tools in Machine Learning which is used for data cleaning and analysis. It has features which are used for exploring, cleaning, transforming and visualizing from data.\n",
        "\n",
        "You can think of pandas as an extremely powerful version of Excel, with a lot more features."
      ]
    },
    {
      "cell_type": "code",
      "execution_count": 38,
      "metadata": {
        "id": "zLYQ59uJjHkO"
      },
      "outputs": [],
      "source": [
        "import pandas as pd\n",
        "import numpy as np\n",
        "from numpy.random import randn\n",
        "np.random.seed(100)"
      ]
    },
    {
      "cell_type": "markdown",
      "metadata": {
        "id": "7XspKOGVgAyT"
      },
      "source": [
        "### DataFrames\n",
        "\n",
        "We can think of a DataFrame as a bunch of Series objects put together to share the same index."
      ]
    },
    {
      "cell_type": "code",
      "execution_count": 39,
      "metadata": {
        "id": "YGl1yg9HfBOg",
        "colab": {
          "base_uri": "https://localhost:8080/",
          "height": 268
        },
        "outputId": "05766e3d-56e1-45d9-b1a2-437be3eb7d2e"
      },
      "outputs": [
        {
          "output_type": "execute_result",
          "data": {
            "text/plain": [
              "          W         X         Y         Z\n",
              "A -1.749765  0.342680  1.153036 -0.252436\n",
              "B  0.981321  0.514219  0.221180 -1.070043\n",
              "C -0.189496  0.255001 -0.458027  0.435163\n",
              "D -0.583595  0.816847  0.672721 -0.104411\n",
              "E -0.531280  1.029733 -0.438136 -1.118318"
            ],
            "text/html": [
              "\n",
              "  <div id=\"df-04083024-62eb-4aa1-b367-97ad3a7c76d3\">\n",
              "    <div class=\"colab-df-container\">\n",
              "      <div>\n",
              "<style scoped>\n",
              "    .dataframe tbody tr th:only-of-type {\n",
              "        vertical-align: middle;\n",
              "    }\n",
              "\n",
              "    .dataframe tbody tr th {\n",
              "        vertical-align: top;\n",
              "    }\n",
              "\n",
              "    .dataframe thead th {\n",
              "        text-align: right;\n",
              "    }\n",
              "</style>\n",
              "<table border=\"1\" class=\"dataframe\">\n",
              "  <thead>\n",
              "    <tr style=\"text-align: right;\">\n",
              "      <th></th>\n",
              "      <th>W</th>\n",
              "      <th>X</th>\n",
              "      <th>Y</th>\n",
              "      <th>Z</th>\n",
              "    </tr>\n",
              "  </thead>\n",
              "  <tbody>\n",
              "    <tr>\n",
              "      <th>A</th>\n",
              "      <td>-1.749765</td>\n",
              "      <td>0.342680</td>\n",
              "      <td>1.153036</td>\n",
              "      <td>-0.252436</td>\n",
              "    </tr>\n",
              "    <tr>\n",
              "      <th>B</th>\n",
              "      <td>0.981321</td>\n",
              "      <td>0.514219</td>\n",
              "      <td>0.221180</td>\n",
              "      <td>-1.070043</td>\n",
              "    </tr>\n",
              "    <tr>\n",
              "      <th>C</th>\n",
              "      <td>-0.189496</td>\n",
              "      <td>0.255001</td>\n",
              "      <td>-0.458027</td>\n",
              "      <td>0.435163</td>\n",
              "    </tr>\n",
              "    <tr>\n",
              "      <th>D</th>\n",
              "      <td>-0.583595</td>\n",
              "      <td>0.816847</td>\n",
              "      <td>0.672721</td>\n",
              "      <td>-0.104411</td>\n",
              "    </tr>\n",
              "    <tr>\n",
              "      <th>E</th>\n",
              "      <td>-0.531280</td>\n",
              "      <td>1.029733</td>\n",
              "      <td>-0.438136</td>\n",
              "      <td>-1.118318</td>\n",
              "    </tr>\n",
              "  </tbody>\n",
              "</table>\n",
              "</div>\n",
              "      <button class=\"colab-df-convert\" onclick=\"convertToInteractive('df-04083024-62eb-4aa1-b367-97ad3a7c76d3')\"\n",
              "              title=\"Convert this dataframe to an interactive table.\"\n",
              "              style=\"display:none;\">\n",
              "        \n",
              "  <svg xmlns=\"http://www.w3.org/2000/svg\" height=\"24px\"viewBox=\"0 0 24 24\"\n",
              "       width=\"24px\">\n",
              "    <path d=\"M0 0h24v24H0V0z\" fill=\"none\"/>\n",
              "    <path d=\"M18.56 5.44l.94 2.06.94-2.06 2.06-.94-2.06-.94-.94-2.06-.94 2.06-2.06.94zm-11 1L8.5 8.5l.94-2.06 2.06-.94-2.06-.94L8.5 2.5l-.94 2.06-2.06.94zm10 10l.94 2.06.94-2.06 2.06-.94-2.06-.94-.94-2.06-.94 2.06-2.06.94z\"/><path d=\"M17.41 7.96l-1.37-1.37c-.4-.4-.92-.59-1.43-.59-.52 0-1.04.2-1.43.59L10.3 9.45l-7.72 7.72c-.78.78-.78 2.05 0 2.83L4 21.41c.39.39.9.59 1.41.59.51 0 1.02-.2 1.41-.59l7.78-7.78 2.81-2.81c.8-.78.8-2.07 0-2.86zM5.41 20L4 18.59l7.72-7.72 1.47 1.35L5.41 20z\"/>\n",
              "  </svg>\n",
              "      </button>\n",
              "      \n",
              "  <style>\n",
              "    .colab-df-container {\n",
              "      display:flex;\n",
              "      flex-wrap:wrap;\n",
              "      gap: 12px;\n",
              "    }\n",
              "\n",
              "    .colab-df-convert {\n",
              "      background-color: #E8F0FE;\n",
              "      border: none;\n",
              "      border-radius: 50%;\n",
              "      cursor: pointer;\n",
              "      display: none;\n",
              "      fill: #1967D2;\n",
              "      height: 32px;\n",
              "      padding: 0 0 0 0;\n",
              "      width: 32px;\n",
              "    }\n",
              "\n",
              "    .colab-df-convert:hover {\n",
              "      background-color: #E2EBFA;\n",
              "      box-shadow: 0px 1px 2px rgba(60, 64, 67, 0.3), 0px 1px 3px 1px rgba(60, 64, 67, 0.15);\n",
              "      fill: #174EA6;\n",
              "    }\n",
              "\n",
              "    [theme=dark] .colab-df-convert {\n",
              "      background-color: #3B4455;\n",
              "      fill: #D2E3FC;\n",
              "    }\n",
              "\n",
              "    [theme=dark] .colab-df-convert:hover {\n",
              "      background-color: #434B5C;\n",
              "      box-shadow: 0px 1px 3px 1px rgba(0, 0, 0, 0.15);\n",
              "      filter: drop-shadow(0px 1px 2px rgba(0, 0, 0, 0.3));\n",
              "      fill: #FFFFFF;\n",
              "    }\n",
              "  </style>\n",
              "\n",
              "      <script>\n",
              "        const buttonEl =\n",
              "          document.querySelector('#df-04083024-62eb-4aa1-b367-97ad3a7c76d3 button.colab-df-convert');\n",
              "        buttonEl.style.display =\n",
              "          google.colab.kernel.accessAllowed ? 'block' : 'none';\n",
              "\n",
              "        async function convertToInteractive(key) {\n",
              "          const element = document.querySelector('#df-04083024-62eb-4aa1-b367-97ad3a7c76d3');\n",
              "          const dataTable =\n",
              "            await google.colab.kernel.invokeFunction('convertToInteractive',\n",
              "                                                     [key], {});\n",
              "          if (!dataTable) return;\n",
              "\n",
              "          const docLinkHtml = 'Like what you see? Visit the ' +\n",
              "            '<a target=\"_blank\" href=https://colab.research.google.com/notebooks/data_table.ipynb>data table notebook</a>'\n",
              "            + ' to learn more about interactive tables.';\n",
              "          element.innerHTML = '';\n",
              "          dataTable['output_type'] = 'display_data';\n",
              "          await google.colab.output.renderOutput(dataTable, element);\n",
              "          const docLink = document.createElement('div');\n",
              "          docLink.innerHTML = docLinkHtml;\n",
              "          element.appendChild(docLink);\n",
              "        }\n",
              "      </script>\n",
              "    </div>\n",
              "  </div>\n",
              "  "
            ]
          },
          "metadata": {},
          "execution_count": 39
        }
      ],
      "source": [
        "df = pd.DataFrame(randn(5,4),index='A B C D E'.split(),columns='W X Y Z'.split())\n",
        "df"
      ]
    },
    {
      "cell_type": "markdown",
      "metadata": {
        "id": "Y6PaujVLj_fC"
      },
      "source": [
        "### Indexing"
      ]
    },
    {
      "cell_type": "code",
      "execution_count": 40,
      "metadata": {
        "id": "vxi7r3YIj-3S",
        "colab": {
          "base_uri": "https://localhost:8080/"
        },
        "outputId": "f55e15f2-ce48-4bef-b1e7-fbdb411809f3"
      },
      "outputs": [
        {
          "output_type": "execute_result",
          "data": {
            "text/plain": [
              "A    0.342680\n",
              "B    0.514219\n",
              "C    0.255001\n",
              "D    0.816847\n",
              "E    1.029733\n",
              "Name: X, dtype: float64"
            ]
          },
          "metadata": {},
          "execution_count": 40
        }
      ],
      "source": [
        "df['X']"
      ]
    },
    {
      "cell_type": "code",
      "execution_count": 41,
      "metadata": {
        "id": "uF7EIsCGfBLN",
        "colab": {
          "base_uri": "https://localhost:8080/",
          "height": 268
        },
        "outputId": "8b381b89-b935-40ef-9bb6-31fb2a9d7c18"
      },
      "outputs": [
        {
          "output_type": "execute_result",
          "data": {
            "text/plain": [
              "          W         Y\n",
              "A -1.749765  1.153036\n",
              "B  0.981321  0.221180\n",
              "C -0.189496 -0.458027\n",
              "D -0.583595  0.672721\n",
              "E -0.531280 -0.438136"
            ],
            "text/html": [
              "\n",
              "  <div id=\"df-ee11a7bc-8026-43a4-bec8-5aca23a53337\">\n",
              "    <div class=\"colab-df-container\">\n",
              "      <div>\n",
              "<style scoped>\n",
              "    .dataframe tbody tr th:only-of-type {\n",
              "        vertical-align: middle;\n",
              "    }\n",
              "\n",
              "    .dataframe tbody tr th {\n",
              "        vertical-align: top;\n",
              "    }\n",
              "\n",
              "    .dataframe thead th {\n",
              "        text-align: right;\n",
              "    }\n",
              "</style>\n",
              "<table border=\"1\" class=\"dataframe\">\n",
              "  <thead>\n",
              "    <tr style=\"text-align: right;\">\n",
              "      <th></th>\n",
              "      <th>W</th>\n",
              "      <th>Y</th>\n",
              "    </tr>\n",
              "  </thead>\n",
              "  <tbody>\n",
              "    <tr>\n",
              "      <th>A</th>\n",
              "      <td>-1.749765</td>\n",
              "      <td>1.153036</td>\n",
              "    </tr>\n",
              "    <tr>\n",
              "      <th>B</th>\n",
              "      <td>0.981321</td>\n",
              "      <td>0.221180</td>\n",
              "    </tr>\n",
              "    <tr>\n",
              "      <th>C</th>\n",
              "      <td>-0.189496</td>\n",
              "      <td>-0.458027</td>\n",
              "    </tr>\n",
              "    <tr>\n",
              "      <th>D</th>\n",
              "      <td>-0.583595</td>\n",
              "      <td>0.672721</td>\n",
              "    </tr>\n",
              "    <tr>\n",
              "      <th>E</th>\n",
              "      <td>-0.531280</td>\n",
              "      <td>-0.438136</td>\n",
              "    </tr>\n",
              "  </tbody>\n",
              "</table>\n",
              "</div>\n",
              "      <button class=\"colab-df-convert\" onclick=\"convertToInteractive('df-ee11a7bc-8026-43a4-bec8-5aca23a53337')\"\n",
              "              title=\"Convert this dataframe to an interactive table.\"\n",
              "              style=\"display:none;\">\n",
              "        \n",
              "  <svg xmlns=\"http://www.w3.org/2000/svg\" height=\"24px\"viewBox=\"0 0 24 24\"\n",
              "       width=\"24px\">\n",
              "    <path d=\"M0 0h24v24H0V0z\" fill=\"none\"/>\n",
              "    <path d=\"M18.56 5.44l.94 2.06.94-2.06 2.06-.94-2.06-.94-.94-2.06-.94 2.06-2.06.94zm-11 1L8.5 8.5l.94-2.06 2.06-.94-2.06-.94L8.5 2.5l-.94 2.06-2.06.94zm10 10l.94 2.06.94-2.06 2.06-.94-2.06-.94-.94-2.06-.94 2.06-2.06.94z\"/><path d=\"M17.41 7.96l-1.37-1.37c-.4-.4-.92-.59-1.43-.59-.52 0-1.04.2-1.43.59L10.3 9.45l-7.72 7.72c-.78.78-.78 2.05 0 2.83L4 21.41c.39.39.9.59 1.41.59.51 0 1.02-.2 1.41-.59l7.78-7.78 2.81-2.81c.8-.78.8-2.07 0-2.86zM5.41 20L4 18.59l7.72-7.72 1.47 1.35L5.41 20z\"/>\n",
              "  </svg>\n",
              "      </button>\n",
              "      \n",
              "  <style>\n",
              "    .colab-df-container {\n",
              "      display:flex;\n",
              "      flex-wrap:wrap;\n",
              "      gap: 12px;\n",
              "    }\n",
              "\n",
              "    .colab-df-convert {\n",
              "      background-color: #E8F0FE;\n",
              "      border: none;\n",
              "      border-radius: 50%;\n",
              "      cursor: pointer;\n",
              "      display: none;\n",
              "      fill: #1967D2;\n",
              "      height: 32px;\n",
              "      padding: 0 0 0 0;\n",
              "      width: 32px;\n",
              "    }\n",
              "\n",
              "    .colab-df-convert:hover {\n",
              "      background-color: #E2EBFA;\n",
              "      box-shadow: 0px 1px 2px rgba(60, 64, 67, 0.3), 0px 1px 3px 1px rgba(60, 64, 67, 0.15);\n",
              "      fill: #174EA6;\n",
              "    }\n",
              "\n",
              "    [theme=dark] .colab-df-convert {\n",
              "      background-color: #3B4455;\n",
              "      fill: #D2E3FC;\n",
              "    }\n",
              "\n",
              "    [theme=dark] .colab-df-convert:hover {\n",
              "      background-color: #434B5C;\n",
              "      box-shadow: 0px 1px 3px 1px rgba(0, 0, 0, 0.15);\n",
              "      filter: drop-shadow(0px 1px 2px rgba(0, 0, 0, 0.3));\n",
              "      fill: #FFFFFF;\n",
              "    }\n",
              "  </style>\n",
              "\n",
              "      <script>\n",
              "        const buttonEl =\n",
              "          document.querySelector('#df-ee11a7bc-8026-43a4-bec8-5aca23a53337 button.colab-df-convert');\n",
              "        buttonEl.style.display =\n",
              "          google.colab.kernel.accessAllowed ? 'block' : 'none';\n",
              "\n",
              "        async function convertToInteractive(key) {\n",
              "          const element = document.querySelector('#df-ee11a7bc-8026-43a4-bec8-5aca23a53337');\n",
              "          const dataTable =\n",
              "            await google.colab.kernel.invokeFunction('convertToInteractive',\n",
              "                                                     [key], {});\n",
              "          if (!dataTable) return;\n",
              "\n",
              "          const docLinkHtml = 'Like what you see? Visit the ' +\n",
              "            '<a target=\"_blank\" href=https://colab.research.google.com/notebooks/data_table.ipynb>data table notebook</a>'\n",
              "            + ' to learn more about interactive tables.';\n",
              "          element.innerHTML = '';\n",
              "          dataTable['output_type'] = 'display_data';\n",
              "          await google.colab.output.renderOutput(dataTable, element);\n",
              "          const docLink = document.createElement('div');\n",
              "          docLink.innerHTML = docLinkHtml;\n",
              "          element.appendChild(docLink);\n",
              "        }\n",
              "      </script>\n",
              "    </div>\n",
              "  </div>\n",
              "  "
            ]
          },
          "metadata": {},
          "execution_count": 41
        }
      ],
      "source": [
        "df[['W','Y']]"
      ]
    },
    {
      "cell_type": "code",
      "execution_count": 42,
      "metadata": {
        "id": "5dAGpSM3fBII",
        "colab": {
          "base_uri": "https://localhost:8080/"
        },
        "outputId": "d2a15436-5e09-4e9e-d79e-4805708e028d"
      },
      "outputs": [
        {
          "output_type": "execute_result",
          "data": {
            "text/plain": [
              "A    1.153036\n",
              "B    0.221180\n",
              "C   -0.458027\n",
              "D    0.672721\n",
              "E   -0.438136\n",
              "Name: Y, dtype: float64"
            ]
          },
          "metadata": {},
          "execution_count": 42
        }
      ],
      "source": [
        "df.Y"
      ]
    },
    {
      "cell_type": "markdown",
      "metadata": {
        "id": "mei2nV_FlPR4"
      },
      "source": [
        "### Creating a new column:"
      ]
    },
    {
      "cell_type": "code",
      "execution_count": 43,
      "metadata": {
        "id": "rnY3_1dllPR4"
      },
      "outputs": [],
      "source": [
        "df['new'] = df['W'] + df['Y']"
      ]
    },
    {
      "cell_type": "code",
      "execution_count": 44,
      "metadata": {
        "id": "Qq2dmlMwlPR5",
        "colab": {
          "base_uri": "https://localhost:8080/",
          "height": 268
        },
        "outputId": "91b55032-dfba-4bc4-ab41-b2b1d6c08d07"
      },
      "outputs": [
        {
          "output_type": "execute_result",
          "data": {
            "text/plain": [
              "          W         X         Y         Z       new\n",
              "A -1.749765  0.342680  1.153036 -0.252436 -0.596730\n",
              "B  0.981321  0.514219  0.221180 -1.070043  1.202500\n",
              "C -0.189496  0.255001 -0.458027  0.435163 -0.647523\n",
              "D -0.583595  0.816847  0.672721 -0.104411  0.089126\n",
              "E -0.531280  1.029733 -0.438136 -1.118318 -0.969416"
            ],
            "text/html": [
              "\n",
              "  <div id=\"df-7437f3d1-4d2e-4cfe-8f57-81c1539be5d8\">\n",
              "    <div class=\"colab-df-container\">\n",
              "      <div>\n",
              "<style scoped>\n",
              "    .dataframe tbody tr th:only-of-type {\n",
              "        vertical-align: middle;\n",
              "    }\n",
              "\n",
              "    .dataframe tbody tr th {\n",
              "        vertical-align: top;\n",
              "    }\n",
              "\n",
              "    .dataframe thead th {\n",
              "        text-align: right;\n",
              "    }\n",
              "</style>\n",
              "<table border=\"1\" class=\"dataframe\">\n",
              "  <thead>\n",
              "    <tr style=\"text-align: right;\">\n",
              "      <th></th>\n",
              "      <th>W</th>\n",
              "      <th>X</th>\n",
              "      <th>Y</th>\n",
              "      <th>Z</th>\n",
              "      <th>new</th>\n",
              "    </tr>\n",
              "  </thead>\n",
              "  <tbody>\n",
              "    <tr>\n",
              "      <th>A</th>\n",
              "      <td>-1.749765</td>\n",
              "      <td>0.342680</td>\n",
              "      <td>1.153036</td>\n",
              "      <td>-0.252436</td>\n",
              "      <td>-0.596730</td>\n",
              "    </tr>\n",
              "    <tr>\n",
              "      <th>B</th>\n",
              "      <td>0.981321</td>\n",
              "      <td>0.514219</td>\n",
              "      <td>0.221180</td>\n",
              "      <td>-1.070043</td>\n",
              "      <td>1.202500</td>\n",
              "    </tr>\n",
              "    <tr>\n",
              "      <th>C</th>\n",
              "      <td>-0.189496</td>\n",
              "      <td>0.255001</td>\n",
              "      <td>-0.458027</td>\n",
              "      <td>0.435163</td>\n",
              "      <td>-0.647523</td>\n",
              "    </tr>\n",
              "    <tr>\n",
              "      <th>D</th>\n",
              "      <td>-0.583595</td>\n",
              "      <td>0.816847</td>\n",
              "      <td>0.672721</td>\n",
              "      <td>-0.104411</td>\n",
              "      <td>0.089126</td>\n",
              "    </tr>\n",
              "    <tr>\n",
              "      <th>E</th>\n",
              "      <td>-0.531280</td>\n",
              "      <td>1.029733</td>\n",
              "      <td>-0.438136</td>\n",
              "      <td>-1.118318</td>\n",
              "      <td>-0.969416</td>\n",
              "    </tr>\n",
              "  </tbody>\n",
              "</table>\n",
              "</div>\n",
              "      <button class=\"colab-df-convert\" onclick=\"convertToInteractive('df-7437f3d1-4d2e-4cfe-8f57-81c1539be5d8')\"\n",
              "              title=\"Convert this dataframe to an interactive table.\"\n",
              "              style=\"display:none;\">\n",
              "        \n",
              "  <svg xmlns=\"http://www.w3.org/2000/svg\" height=\"24px\"viewBox=\"0 0 24 24\"\n",
              "       width=\"24px\">\n",
              "    <path d=\"M0 0h24v24H0V0z\" fill=\"none\"/>\n",
              "    <path d=\"M18.56 5.44l.94 2.06.94-2.06 2.06-.94-2.06-.94-.94-2.06-.94 2.06-2.06.94zm-11 1L8.5 8.5l.94-2.06 2.06-.94-2.06-.94L8.5 2.5l-.94 2.06-2.06.94zm10 10l.94 2.06.94-2.06 2.06-.94-2.06-.94-.94-2.06-.94 2.06-2.06.94z\"/><path d=\"M17.41 7.96l-1.37-1.37c-.4-.4-.92-.59-1.43-.59-.52 0-1.04.2-1.43.59L10.3 9.45l-7.72 7.72c-.78.78-.78 2.05 0 2.83L4 21.41c.39.39.9.59 1.41.59.51 0 1.02-.2 1.41-.59l7.78-7.78 2.81-2.81c.8-.78.8-2.07 0-2.86zM5.41 20L4 18.59l7.72-7.72 1.47 1.35L5.41 20z\"/>\n",
              "  </svg>\n",
              "      </button>\n",
              "      \n",
              "  <style>\n",
              "    .colab-df-container {\n",
              "      display:flex;\n",
              "      flex-wrap:wrap;\n",
              "      gap: 12px;\n",
              "    }\n",
              "\n",
              "    .colab-df-convert {\n",
              "      background-color: #E8F0FE;\n",
              "      border: none;\n",
              "      border-radius: 50%;\n",
              "      cursor: pointer;\n",
              "      display: none;\n",
              "      fill: #1967D2;\n",
              "      height: 32px;\n",
              "      padding: 0 0 0 0;\n",
              "      width: 32px;\n",
              "    }\n",
              "\n",
              "    .colab-df-convert:hover {\n",
              "      background-color: #E2EBFA;\n",
              "      box-shadow: 0px 1px 2px rgba(60, 64, 67, 0.3), 0px 1px 3px 1px rgba(60, 64, 67, 0.15);\n",
              "      fill: #174EA6;\n",
              "    }\n",
              "\n",
              "    [theme=dark] .colab-df-convert {\n",
              "      background-color: #3B4455;\n",
              "      fill: #D2E3FC;\n",
              "    }\n",
              "\n",
              "    [theme=dark] .colab-df-convert:hover {\n",
              "      background-color: #434B5C;\n",
              "      box-shadow: 0px 1px 3px 1px rgba(0, 0, 0, 0.15);\n",
              "      filter: drop-shadow(0px 1px 2px rgba(0, 0, 0, 0.3));\n",
              "      fill: #FFFFFF;\n",
              "    }\n",
              "  </style>\n",
              "\n",
              "      <script>\n",
              "        const buttonEl =\n",
              "          document.querySelector('#df-7437f3d1-4d2e-4cfe-8f57-81c1539be5d8 button.colab-df-convert');\n",
              "        buttonEl.style.display =\n",
              "          google.colab.kernel.accessAllowed ? 'block' : 'none';\n",
              "\n",
              "        async function convertToInteractive(key) {\n",
              "          const element = document.querySelector('#df-7437f3d1-4d2e-4cfe-8f57-81c1539be5d8');\n",
              "          const dataTable =\n",
              "            await google.colab.kernel.invokeFunction('convertToInteractive',\n",
              "                                                     [key], {});\n",
              "          if (!dataTable) return;\n",
              "\n",
              "          const docLinkHtml = 'Like what you see? Visit the ' +\n",
              "            '<a target=\"_blank\" href=https://colab.research.google.com/notebooks/data_table.ipynb>data table notebook</a>'\n",
              "            + ' to learn more about interactive tables.';\n",
              "          element.innerHTML = '';\n",
              "          dataTable['output_type'] = 'display_data';\n",
              "          await google.colab.output.renderOutput(dataTable, element);\n",
              "          const docLink = document.createElement('div');\n",
              "          docLink.innerHTML = docLinkHtml;\n",
              "          element.appendChild(docLink);\n",
              "        }\n",
              "      </script>\n",
              "    </div>\n",
              "  </div>\n",
              "  "
            ]
          },
          "metadata": {},
          "execution_count": 44
        }
      ],
      "source": [
        "df"
      ]
    },
    {
      "cell_type": "markdown",
      "metadata": {
        "id": "7_iuiwgQlPR5"
      },
      "source": [
        "### Removing Columns"
      ]
    },
    {
      "cell_type": "code",
      "execution_count": 45,
      "metadata": {
        "id": "b9VfAFFllPR5",
        "colab": {
          "base_uri": "https://localhost:8080/",
          "height": 268
        },
        "outputId": "49d76f29-d5a8-419f-ae59-e775c9c38433"
      },
      "outputs": [
        {
          "output_type": "execute_result",
          "data": {
            "text/plain": [
              "          W         X         Y         Z\n",
              "A -1.749765  0.342680  1.153036 -0.252436\n",
              "B  0.981321  0.514219  0.221180 -1.070043\n",
              "C -0.189496  0.255001 -0.458027  0.435163\n",
              "D -0.583595  0.816847  0.672721 -0.104411\n",
              "E -0.531280  1.029733 -0.438136 -1.118318"
            ],
            "text/html": [
              "\n",
              "  <div id=\"df-c74c351c-7de2-43b7-919a-f2d85713a6f4\">\n",
              "    <div class=\"colab-df-container\">\n",
              "      <div>\n",
              "<style scoped>\n",
              "    .dataframe tbody tr th:only-of-type {\n",
              "        vertical-align: middle;\n",
              "    }\n",
              "\n",
              "    .dataframe tbody tr th {\n",
              "        vertical-align: top;\n",
              "    }\n",
              "\n",
              "    .dataframe thead th {\n",
              "        text-align: right;\n",
              "    }\n",
              "</style>\n",
              "<table border=\"1\" class=\"dataframe\">\n",
              "  <thead>\n",
              "    <tr style=\"text-align: right;\">\n",
              "      <th></th>\n",
              "      <th>W</th>\n",
              "      <th>X</th>\n",
              "      <th>Y</th>\n",
              "      <th>Z</th>\n",
              "    </tr>\n",
              "  </thead>\n",
              "  <tbody>\n",
              "    <tr>\n",
              "      <th>A</th>\n",
              "      <td>-1.749765</td>\n",
              "      <td>0.342680</td>\n",
              "      <td>1.153036</td>\n",
              "      <td>-0.252436</td>\n",
              "    </tr>\n",
              "    <tr>\n",
              "      <th>B</th>\n",
              "      <td>0.981321</td>\n",
              "      <td>0.514219</td>\n",
              "      <td>0.221180</td>\n",
              "      <td>-1.070043</td>\n",
              "    </tr>\n",
              "    <tr>\n",
              "      <th>C</th>\n",
              "      <td>-0.189496</td>\n",
              "      <td>0.255001</td>\n",
              "      <td>-0.458027</td>\n",
              "      <td>0.435163</td>\n",
              "    </tr>\n",
              "    <tr>\n",
              "      <th>D</th>\n",
              "      <td>-0.583595</td>\n",
              "      <td>0.816847</td>\n",
              "      <td>0.672721</td>\n",
              "      <td>-0.104411</td>\n",
              "    </tr>\n",
              "    <tr>\n",
              "      <th>E</th>\n",
              "      <td>-0.531280</td>\n",
              "      <td>1.029733</td>\n",
              "      <td>-0.438136</td>\n",
              "      <td>-1.118318</td>\n",
              "    </tr>\n",
              "  </tbody>\n",
              "</table>\n",
              "</div>\n",
              "      <button class=\"colab-df-convert\" onclick=\"convertToInteractive('df-c74c351c-7de2-43b7-919a-f2d85713a6f4')\"\n",
              "              title=\"Convert this dataframe to an interactive table.\"\n",
              "              style=\"display:none;\">\n",
              "        \n",
              "  <svg xmlns=\"http://www.w3.org/2000/svg\" height=\"24px\"viewBox=\"0 0 24 24\"\n",
              "       width=\"24px\">\n",
              "    <path d=\"M0 0h24v24H0V0z\" fill=\"none\"/>\n",
              "    <path d=\"M18.56 5.44l.94 2.06.94-2.06 2.06-.94-2.06-.94-.94-2.06-.94 2.06-2.06.94zm-11 1L8.5 8.5l.94-2.06 2.06-.94-2.06-.94L8.5 2.5l-.94 2.06-2.06.94zm10 10l.94 2.06.94-2.06 2.06-.94-2.06-.94-.94-2.06-.94 2.06-2.06.94z\"/><path d=\"M17.41 7.96l-1.37-1.37c-.4-.4-.92-.59-1.43-.59-.52 0-1.04.2-1.43.59L10.3 9.45l-7.72 7.72c-.78.78-.78 2.05 0 2.83L4 21.41c.39.39.9.59 1.41.59.51 0 1.02-.2 1.41-.59l7.78-7.78 2.81-2.81c.8-.78.8-2.07 0-2.86zM5.41 20L4 18.59l7.72-7.72 1.47 1.35L5.41 20z\"/>\n",
              "  </svg>\n",
              "      </button>\n",
              "      \n",
              "  <style>\n",
              "    .colab-df-container {\n",
              "      display:flex;\n",
              "      flex-wrap:wrap;\n",
              "      gap: 12px;\n",
              "    }\n",
              "\n",
              "    .colab-df-convert {\n",
              "      background-color: #E8F0FE;\n",
              "      border: none;\n",
              "      border-radius: 50%;\n",
              "      cursor: pointer;\n",
              "      display: none;\n",
              "      fill: #1967D2;\n",
              "      height: 32px;\n",
              "      padding: 0 0 0 0;\n",
              "      width: 32px;\n",
              "    }\n",
              "\n",
              "    .colab-df-convert:hover {\n",
              "      background-color: #E2EBFA;\n",
              "      box-shadow: 0px 1px 2px rgba(60, 64, 67, 0.3), 0px 1px 3px 1px rgba(60, 64, 67, 0.15);\n",
              "      fill: #174EA6;\n",
              "    }\n",
              "\n",
              "    [theme=dark] .colab-df-convert {\n",
              "      background-color: #3B4455;\n",
              "      fill: #D2E3FC;\n",
              "    }\n",
              "\n",
              "    [theme=dark] .colab-df-convert:hover {\n",
              "      background-color: #434B5C;\n",
              "      box-shadow: 0px 1px 3px 1px rgba(0, 0, 0, 0.15);\n",
              "      filter: drop-shadow(0px 1px 2px rgba(0, 0, 0, 0.3));\n",
              "      fill: #FFFFFF;\n",
              "    }\n",
              "  </style>\n",
              "\n",
              "      <script>\n",
              "        const buttonEl =\n",
              "          document.querySelector('#df-c74c351c-7de2-43b7-919a-f2d85713a6f4 button.colab-df-convert');\n",
              "        buttonEl.style.display =\n",
              "          google.colab.kernel.accessAllowed ? 'block' : 'none';\n",
              "\n",
              "        async function convertToInteractive(key) {\n",
              "          const element = document.querySelector('#df-c74c351c-7de2-43b7-919a-f2d85713a6f4');\n",
              "          const dataTable =\n",
              "            await google.colab.kernel.invokeFunction('convertToInteractive',\n",
              "                                                     [key], {});\n",
              "          if (!dataTable) return;\n",
              "\n",
              "          const docLinkHtml = 'Like what you see? Visit the ' +\n",
              "            '<a target=\"_blank\" href=https://colab.research.google.com/notebooks/data_table.ipynb>data table notebook</a>'\n",
              "            + ' to learn more about interactive tables.';\n",
              "          element.innerHTML = '';\n",
              "          dataTable['output_type'] = 'display_data';\n",
              "          await google.colab.output.renderOutput(dataTable, element);\n",
              "          const docLink = document.createElement('div');\n",
              "          docLink.innerHTML = docLinkHtml;\n",
              "          element.appendChild(docLink);\n",
              "        }\n",
              "      </script>\n",
              "    </div>\n",
              "  </div>\n",
              "  "
            ]
          },
          "metadata": {},
          "execution_count": 45
        }
      ],
      "source": [
        "df.drop('new',axis=1)"
      ]
    },
    {
      "cell_type": "code",
      "execution_count": 46,
      "metadata": {
        "id": "9Qzefdd8lPR5",
        "colab": {
          "base_uri": "https://localhost:8080/",
          "height": 268
        },
        "outputId": "26086578-75b3-409e-e99b-12467bba5dab"
      },
      "outputs": [
        {
          "output_type": "execute_result",
          "data": {
            "text/plain": [
              "          W         X         Y         Z       new\n",
              "A -1.749765  0.342680  1.153036 -0.252436 -0.596730\n",
              "B  0.981321  0.514219  0.221180 -1.070043  1.202500\n",
              "C -0.189496  0.255001 -0.458027  0.435163 -0.647523\n",
              "D -0.583595  0.816847  0.672721 -0.104411  0.089126\n",
              "E -0.531280  1.029733 -0.438136 -1.118318 -0.969416"
            ],
            "text/html": [
              "\n",
              "  <div id=\"df-a057a7ff-e516-44b3-b6fe-62eff860b6d2\">\n",
              "    <div class=\"colab-df-container\">\n",
              "      <div>\n",
              "<style scoped>\n",
              "    .dataframe tbody tr th:only-of-type {\n",
              "        vertical-align: middle;\n",
              "    }\n",
              "\n",
              "    .dataframe tbody tr th {\n",
              "        vertical-align: top;\n",
              "    }\n",
              "\n",
              "    .dataframe thead th {\n",
              "        text-align: right;\n",
              "    }\n",
              "</style>\n",
              "<table border=\"1\" class=\"dataframe\">\n",
              "  <thead>\n",
              "    <tr style=\"text-align: right;\">\n",
              "      <th></th>\n",
              "      <th>W</th>\n",
              "      <th>X</th>\n",
              "      <th>Y</th>\n",
              "      <th>Z</th>\n",
              "      <th>new</th>\n",
              "    </tr>\n",
              "  </thead>\n",
              "  <tbody>\n",
              "    <tr>\n",
              "      <th>A</th>\n",
              "      <td>-1.749765</td>\n",
              "      <td>0.342680</td>\n",
              "      <td>1.153036</td>\n",
              "      <td>-0.252436</td>\n",
              "      <td>-0.596730</td>\n",
              "    </tr>\n",
              "    <tr>\n",
              "      <th>B</th>\n",
              "      <td>0.981321</td>\n",
              "      <td>0.514219</td>\n",
              "      <td>0.221180</td>\n",
              "      <td>-1.070043</td>\n",
              "      <td>1.202500</td>\n",
              "    </tr>\n",
              "    <tr>\n",
              "      <th>C</th>\n",
              "      <td>-0.189496</td>\n",
              "      <td>0.255001</td>\n",
              "      <td>-0.458027</td>\n",
              "      <td>0.435163</td>\n",
              "      <td>-0.647523</td>\n",
              "    </tr>\n",
              "    <tr>\n",
              "      <th>D</th>\n",
              "      <td>-0.583595</td>\n",
              "      <td>0.816847</td>\n",
              "      <td>0.672721</td>\n",
              "      <td>-0.104411</td>\n",
              "      <td>0.089126</td>\n",
              "    </tr>\n",
              "    <tr>\n",
              "      <th>E</th>\n",
              "      <td>-0.531280</td>\n",
              "      <td>1.029733</td>\n",
              "      <td>-0.438136</td>\n",
              "      <td>-1.118318</td>\n",
              "      <td>-0.969416</td>\n",
              "    </tr>\n",
              "  </tbody>\n",
              "</table>\n",
              "</div>\n",
              "      <button class=\"colab-df-convert\" onclick=\"convertToInteractive('df-a057a7ff-e516-44b3-b6fe-62eff860b6d2')\"\n",
              "              title=\"Convert this dataframe to an interactive table.\"\n",
              "              style=\"display:none;\">\n",
              "        \n",
              "  <svg xmlns=\"http://www.w3.org/2000/svg\" height=\"24px\"viewBox=\"0 0 24 24\"\n",
              "       width=\"24px\">\n",
              "    <path d=\"M0 0h24v24H0V0z\" fill=\"none\"/>\n",
              "    <path d=\"M18.56 5.44l.94 2.06.94-2.06 2.06-.94-2.06-.94-.94-2.06-.94 2.06-2.06.94zm-11 1L8.5 8.5l.94-2.06 2.06-.94-2.06-.94L8.5 2.5l-.94 2.06-2.06.94zm10 10l.94 2.06.94-2.06 2.06-.94-2.06-.94-.94-2.06-.94 2.06-2.06.94z\"/><path d=\"M17.41 7.96l-1.37-1.37c-.4-.4-.92-.59-1.43-.59-.52 0-1.04.2-1.43.59L10.3 9.45l-7.72 7.72c-.78.78-.78 2.05 0 2.83L4 21.41c.39.39.9.59 1.41.59.51 0 1.02-.2 1.41-.59l7.78-7.78 2.81-2.81c.8-.78.8-2.07 0-2.86zM5.41 20L4 18.59l7.72-7.72 1.47 1.35L5.41 20z\"/>\n",
              "  </svg>\n",
              "      </button>\n",
              "      \n",
              "  <style>\n",
              "    .colab-df-container {\n",
              "      display:flex;\n",
              "      flex-wrap:wrap;\n",
              "      gap: 12px;\n",
              "    }\n",
              "\n",
              "    .colab-df-convert {\n",
              "      background-color: #E8F0FE;\n",
              "      border: none;\n",
              "      border-radius: 50%;\n",
              "      cursor: pointer;\n",
              "      display: none;\n",
              "      fill: #1967D2;\n",
              "      height: 32px;\n",
              "      padding: 0 0 0 0;\n",
              "      width: 32px;\n",
              "    }\n",
              "\n",
              "    .colab-df-convert:hover {\n",
              "      background-color: #E2EBFA;\n",
              "      box-shadow: 0px 1px 2px rgba(60, 64, 67, 0.3), 0px 1px 3px 1px rgba(60, 64, 67, 0.15);\n",
              "      fill: #174EA6;\n",
              "    }\n",
              "\n",
              "    [theme=dark] .colab-df-convert {\n",
              "      background-color: #3B4455;\n",
              "      fill: #D2E3FC;\n",
              "    }\n",
              "\n",
              "    [theme=dark] .colab-df-convert:hover {\n",
              "      background-color: #434B5C;\n",
              "      box-shadow: 0px 1px 3px 1px rgba(0, 0, 0, 0.15);\n",
              "      filter: drop-shadow(0px 1px 2px rgba(0, 0, 0, 0.3));\n",
              "      fill: #FFFFFF;\n",
              "    }\n",
              "  </style>\n",
              "\n",
              "      <script>\n",
              "        const buttonEl =\n",
              "          document.querySelector('#df-a057a7ff-e516-44b3-b6fe-62eff860b6d2 button.colab-df-convert');\n",
              "        buttonEl.style.display =\n",
              "          google.colab.kernel.accessAllowed ? 'block' : 'none';\n",
              "\n",
              "        async function convertToInteractive(key) {\n",
              "          const element = document.querySelector('#df-a057a7ff-e516-44b3-b6fe-62eff860b6d2');\n",
              "          const dataTable =\n",
              "            await google.colab.kernel.invokeFunction('convertToInteractive',\n",
              "                                                     [key], {});\n",
              "          if (!dataTable) return;\n",
              "\n",
              "          const docLinkHtml = 'Like what you see? Visit the ' +\n",
              "            '<a target=\"_blank\" href=https://colab.research.google.com/notebooks/data_table.ipynb>data table notebook</a>'\n",
              "            + ' to learn more about interactive tables.';\n",
              "          element.innerHTML = '';\n",
              "          dataTable['output_type'] = 'display_data';\n",
              "          await google.colab.output.renderOutput(dataTable, element);\n",
              "          const docLink = document.createElement('div');\n",
              "          docLink.innerHTML = docLinkHtml;\n",
              "          element.appendChild(docLink);\n",
              "        }\n",
              "      </script>\n",
              "    </div>\n",
              "  </div>\n",
              "  "
            ]
          },
          "metadata": {},
          "execution_count": 46
        }
      ],
      "source": [
        "# Not inplace unless specified!\n",
        "df"
      ]
    },
    {
      "cell_type": "code",
      "execution_count": 47,
      "metadata": {
        "id": "LRsOgNjQlPR5"
      },
      "outputs": [],
      "source": [
        "df.drop('new',axis=1,inplace=True)"
      ]
    },
    {
      "cell_type": "code",
      "execution_count": 48,
      "metadata": {
        "id": "KCidXsfOlPR6",
        "colab": {
          "base_uri": "https://localhost:8080/",
          "height": 268
        },
        "outputId": "f4dc2e64-03ab-4e8c-c393-e3cf29ec3e34"
      },
      "outputs": [
        {
          "output_type": "execute_result",
          "data": {
            "text/plain": [
              "          W         X         Y         Z\n",
              "A -1.749765  0.342680  1.153036 -0.252436\n",
              "B  0.981321  0.514219  0.221180 -1.070043\n",
              "C -0.189496  0.255001 -0.458027  0.435163\n",
              "D -0.583595  0.816847  0.672721 -0.104411\n",
              "E -0.531280  1.029733 -0.438136 -1.118318"
            ],
            "text/html": [
              "\n",
              "  <div id=\"df-403d976a-9584-4484-a731-d27bcaa323b0\">\n",
              "    <div class=\"colab-df-container\">\n",
              "      <div>\n",
              "<style scoped>\n",
              "    .dataframe tbody tr th:only-of-type {\n",
              "        vertical-align: middle;\n",
              "    }\n",
              "\n",
              "    .dataframe tbody tr th {\n",
              "        vertical-align: top;\n",
              "    }\n",
              "\n",
              "    .dataframe thead th {\n",
              "        text-align: right;\n",
              "    }\n",
              "</style>\n",
              "<table border=\"1\" class=\"dataframe\">\n",
              "  <thead>\n",
              "    <tr style=\"text-align: right;\">\n",
              "      <th></th>\n",
              "      <th>W</th>\n",
              "      <th>X</th>\n",
              "      <th>Y</th>\n",
              "      <th>Z</th>\n",
              "    </tr>\n",
              "  </thead>\n",
              "  <tbody>\n",
              "    <tr>\n",
              "      <th>A</th>\n",
              "      <td>-1.749765</td>\n",
              "      <td>0.342680</td>\n",
              "      <td>1.153036</td>\n",
              "      <td>-0.252436</td>\n",
              "    </tr>\n",
              "    <tr>\n",
              "      <th>B</th>\n",
              "      <td>0.981321</td>\n",
              "      <td>0.514219</td>\n",
              "      <td>0.221180</td>\n",
              "      <td>-1.070043</td>\n",
              "    </tr>\n",
              "    <tr>\n",
              "      <th>C</th>\n",
              "      <td>-0.189496</td>\n",
              "      <td>0.255001</td>\n",
              "      <td>-0.458027</td>\n",
              "      <td>0.435163</td>\n",
              "    </tr>\n",
              "    <tr>\n",
              "      <th>D</th>\n",
              "      <td>-0.583595</td>\n",
              "      <td>0.816847</td>\n",
              "      <td>0.672721</td>\n",
              "      <td>-0.104411</td>\n",
              "    </tr>\n",
              "    <tr>\n",
              "      <th>E</th>\n",
              "      <td>-0.531280</td>\n",
              "      <td>1.029733</td>\n",
              "      <td>-0.438136</td>\n",
              "      <td>-1.118318</td>\n",
              "    </tr>\n",
              "  </tbody>\n",
              "</table>\n",
              "</div>\n",
              "      <button class=\"colab-df-convert\" onclick=\"convertToInteractive('df-403d976a-9584-4484-a731-d27bcaa323b0')\"\n",
              "              title=\"Convert this dataframe to an interactive table.\"\n",
              "              style=\"display:none;\">\n",
              "        \n",
              "  <svg xmlns=\"http://www.w3.org/2000/svg\" height=\"24px\"viewBox=\"0 0 24 24\"\n",
              "       width=\"24px\">\n",
              "    <path d=\"M0 0h24v24H0V0z\" fill=\"none\"/>\n",
              "    <path d=\"M18.56 5.44l.94 2.06.94-2.06 2.06-.94-2.06-.94-.94-2.06-.94 2.06-2.06.94zm-11 1L8.5 8.5l.94-2.06 2.06-.94-2.06-.94L8.5 2.5l-.94 2.06-2.06.94zm10 10l.94 2.06.94-2.06 2.06-.94-2.06-.94-.94-2.06-.94 2.06-2.06.94z\"/><path d=\"M17.41 7.96l-1.37-1.37c-.4-.4-.92-.59-1.43-.59-.52 0-1.04.2-1.43.59L10.3 9.45l-7.72 7.72c-.78.78-.78 2.05 0 2.83L4 21.41c.39.39.9.59 1.41.59.51 0 1.02-.2 1.41-.59l7.78-7.78 2.81-2.81c.8-.78.8-2.07 0-2.86zM5.41 20L4 18.59l7.72-7.72 1.47 1.35L5.41 20z\"/>\n",
              "  </svg>\n",
              "      </button>\n",
              "      \n",
              "  <style>\n",
              "    .colab-df-container {\n",
              "      display:flex;\n",
              "      flex-wrap:wrap;\n",
              "      gap: 12px;\n",
              "    }\n",
              "\n",
              "    .colab-df-convert {\n",
              "      background-color: #E8F0FE;\n",
              "      border: none;\n",
              "      border-radius: 50%;\n",
              "      cursor: pointer;\n",
              "      display: none;\n",
              "      fill: #1967D2;\n",
              "      height: 32px;\n",
              "      padding: 0 0 0 0;\n",
              "      width: 32px;\n",
              "    }\n",
              "\n",
              "    .colab-df-convert:hover {\n",
              "      background-color: #E2EBFA;\n",
              "      box-shadow: 0px 1px 2px rgba(60, 64, 67, 0.3), 0px 1px 3px 1px rgba(60, 64, 67, 0.15);\n",
              "      fill: #174EA6;\n",
              "    }\n",
              "\n",
              "    [theme=dark] .colab-df-convert {\n",
              "      background-color: #3B4455;\n",
              "      fill: #D2E3FC;\n",
              "    }\n",
              "\n",
              "    [theme=dark] .colab-df-convert:hover {\n",
              "      background-color: #434B5C;\n",
              "      box-shadow: 0px 1px 3px 1px rgba(0, 0, 0, 0.15);\n",
              "      filter: drop-shadow(0px 1px 2px rgba(0, 0, 0, 0.3));\n",
              "      fill: #FFFFFF;\n",
              "    }\n",
              "  </style>\n",
              "\n",
              "      <script>\n",
              "        const buttonEl =\n",
              "          document.querySelector('#df-403d976a-9584-4484-a731-d27bcaa323b0 button.colab-df-convert');\n",
              "        buttonEl.style.display =\n",
              "          google.colab.kernel.accessAllowed ? 'block' : 'none';\n",
              "\n",
              "        async function convertToInteractive(key) {\n",
              "          const element = document.querySelector('#df-403d976a-9584-4484-a731-d27bcaa323b0');\n",
              "          const dataTable =\n",
              "            await google.colab.kernel.invokeFunction('convertToInteractive',\n",
              "                                                     [key], {});\n",
              "          if (!dataTable) return;\n",
              "\n",
              "          const docLinkHtml = 'Like what you see? Visit the ' +\n",
              "            '<a target=\"_blank\" href=https://colab.research.google.com/notebooks/data_table.ipynb>data table notebook</a>'\n",
              "            + ' to learn more about interactive tables.';\n",
              "          element.innerHTML = '';\n",
              "          dataTable['output_type'] = 'display_data';\n",
              "          await google.colab.output.renderOutput(dataTable, element);\n",
              "          const docLink = document.createElement('div');\n",
              "          docLink.innerHTML = docLinkHtml;\n",
              "          element.appendChild(docLink);\n",
              "        }\n",
              "      </script>\n",
              "    </div>\n",
              "  </div>\n",
              "  "
            ]
          },
          "metadata": {},
          "execution_count": 48
        }
      ],
      "source": [
        "df"
      ]
    },
    {
      "cell_type": "markdown",
      "metadata": {
        "id": "Zw7R6S86lPR6"
      },
      "source": [
        "Can also drop rows this way:"
      ]
    },
    {
      "cell_type": "code",
      "execution_count": 49,
      "metadata": {
        "id": "L_QHKwPmlPR6",
        "colab": {
          "base_uri": "https://localhost:8080/",
          "height": 226
        },
        "outputId": "9eed0d2b-8386-406f-d9f5-c40226799281"
      },
      "outputs": [
        {
          "output_type": "execute_result",
          "data": {
            "text/plain": [
              "          W         X         Y         Z\n",
              "A -1.749765  0.342680  1.153036 -0.252436\n",
              "B  0.981321  0.514219  0.221180 -1.070043\n",
              "C -0.189496  0.255001 -0.458027  0.435163\n",
              "D -0.583595  0.816847  0.672721 -0.104411"
            ],
            "text/html": [
              "\n",
              "  <div id=\"df-36321fd2-c494-408f-998f-fe1a14621850\">\n",
              "    <div class=\"colab-df-container\">\n",
              "      <div>\n",
              "<style scoped>\n",
              "    .dataframe tbody tr th:only-of-type {\n",
              "        vertical-align: middle;\n",
              "    }\n",
              "\n",
              "    .dataframe tbody tr th {\n",
              "        vertical-align: top;\n",
              "    }\n",
              "\n",
              "    .dataframe thead th {\n",
              "        text-align: right;\n",
              "    }\n",
              "</style>\n",
              "<table border=\"1\" class=\"dataframe\">\n",
              "  <thead>\n",
              "    <tr style=\"text-align: right;\">\n",
              "      <th></th>\n",
              "      <th>W</th>\n",
              "      <th>X</th>\n",
              "      <th>Y</th>\n",
              "      <th>Z</th>\n",
              "    </tr>\n",
              "  </thead>\n",
              "  <tbody>\n",
              "    <tr>\n",
              "      <th>A</th>\n",
              "      <td>-1.749765</td>\n",
              "      <td>0.342680</td>\n",
              "      <td>1.153036</td>\n",
              "      <td>-0.252436</td>\n",
              "    </tr>\n",
              "    <tr>\n",
              "      <th>B</th>\n",
              "      <td>0.981321</td>\n",
              "      <td>0.514219</td>\n",
              "      <td>0.221180</td>\n",
              "      <td>-1.070043</td>\n",
              "    </tr>\n",
              "    <tr>\n",
              "      <th>C</th>\n",
              "      <td>-0.189496</td>\n",
              "      <td>0.255001</td>\n",
              "      <td>-0.458027</td>\n",
              "      <td>0.435163</td>\n",
              "    </tr>\n",
              "    <tr>\n",
              "      <th>D</th>\n",
              "      <td>-0.583595</td>\n",
              "      <td>0.816847</td>\n",
              "      <td>0.672721</td>\n",
              "      <td>-0.104411</td>\n",
              "    </tr>\n",
              "  </tbody>\n",
              "</table>\n",
              "</div>\n",
              "      <button class=\"colab-df-convert\" onclick=\"convertToInteractive('df-36321fd2-c494-408f-998f-fe1a14621850')\"\n",
              "              title=\"Convert this dataframe to an interactive table.\"\n",
              "              style=\"display:none;\">\n",
              "        \n",
              "  <svg xmlns=\"http://www.w3.org/2000/svg\" height=\"24px\"viewBox=\"0 0 24 24\"\n",
              "       width=\"24px\">\n",
              "    <path d=\"M0 0h24v24H0V0z\" fill=\"none\"/>\n",
              "    <path d=\"M18.56 5.44l.94 2.06.94-2.06 2.06-.94-2.06-.94-.94-2.06-.94 2.06-2.06.94zm-11 1L8.5 8.5l.94-2.06 2.06-.94-2.06-.94L8.5 2.5l-.94 2.06-2.06.94zm10 10l.94 2.06.94-2.06 2.06-.94-2.06-.94-.94-2.06-.94 2.06-2.06.94z\"/><path d=\"M17.41 7.96l-1.37-1.37c-.4-.4-.92-.59-1.43-.59-.52 0-1.04.2-1.43.59L10.3 9.45l-7.72 7.72c-.78.78-.78 2.05 0 2.83L4 21.41c.39.39.9.59 1.41.59.51 0 1.02-.2 1.41-.59l7.78-7.78 2.81-2.81c.8-.78.8-2.07 0-2.86zM5.41 20L4 18.59l7.72-7.72 1.47 1.35L5.41 20z\"/>\n",
              "  </svg>\n",
              "      </button>\n",
              "      \n",
              "  <style>\n",
              "    .colab-df-container {\n",
              "      display:flex;\n",
              "      flex-wrap:wrap;\n",
              "      gap: 12px;\n",
              "    }\n",
              "\n",
              "    .colab-df-convert {\n",
              "      background-color: #E8F0FE;\n",
              "      border: none;\n",
              "      border-radius: 50%;\n",
              "      cursor: pointer;\n",
              "      display: none;\n",
              "      fill: #1967D2;\n",
              "      height: 32px;\n",
              "      padding: 0 0 0 0;\n",
              "      width: 32px;\n",
              "    }\n",
              "\n",
              "    .colab-df-convert:hover {\n",
              "      background-color: #E2EBFA;\n",
              "      box-shadow: 0px 1px 2px rgba(60, 64, 67, 0.3), 0px 1px 3px 1px rgba(60, 64, 67, 0.15);\n",
              "      fill: #174EA6;\n",
              "    }\n",
              "\n",
              "    [theme=dark] .colab-df-convert {\n",
              "      background-color: #3B4455;\n",
              "      fill: #D2E3FC;\n",
              "    }\n",
              "\n",
              "    [theme=dark] .colab-df-convert:hover {\n",
              "      background-color: #434B5C;\n",
              "      box-shadow: 0px 1px 3px 1px rgba(0, 0, 0, 0.15);\n",
              "      filter: drop-shadow(0px 1px 2px rgba(0, 0, 0, 0.3));\n",
              "      fill: #FFFFFF;\n",
              "    }\n",
              "  </style>\n",
              "\n",
              "      <script>\n",
              "        const buttonEl =\n",
              "          document.querySelector('#df-36321fd2-c494-408f-998f-fe1a14621850 button.colab-df-convert');\n",
              "        buttonEl.style.display =\n",
              "          google.colab.kernel.accessAllowed ? 'block' : 'none';\n",
              "\n",
              "        async function convertToInteractive(key) {\n",
              "          const element = document.querySelector('#df-36321fd2-c494-408f-998f-fe1a14621850');\n",
              "          const dataTable =\n",
              "            await google.colab.kernel.invokeFunction('convertToInteractive',\n",
              "                                                     [key], {});\n",
              "          if (!dataTable) return;\n",
              "\n",
              "          const docLinkHtml = 'Like what you see? Visit the ' +\n",
              "            '<a target=\"_blank\" href=https://colab.research.google.com/notebooks/data_table.ipynb>data table notebook</a>'\n",
              "            + ' to learn more about interactive tables.';\n",
              "          element.innerHTML = '';\n",
              "          dataTable['output_type'] = 'display_data';\n",
              "          await google.colab.output.renderOutput(dataTable, element);\n",
              "          const docLink = document.createElement('div');\n",
              "          docLink.innerHTML = docLinkHtml;\n",
              "          element.appendChild(docLink);\n",
              "        }\n",
              "      </script>\n",
              "    </div>\n",
              "  </div>\n",
              "  "
            ]
          },
          "metadata": {},
          "execution_count": 49
        }
      ],
      "source": [
        "df.drop('E',axis=0)"
      ]
    },
    {
      "cell_type": "markdown",
      "metadata": {
        "id": "qQFnQ2CKlPR6"
      },
      "source": [
        "### Selecting Rows"
      ]
    },
    {
      "cell_type": "code",
      "execution_count": 50,
      "metadata": {
        "id": "QiTgzXWolPR6",
        "colab": {
          "base_uri": "https://localhost:8080/"
        },
        "outputId": "0f862279-88ec-457d-b53f-6cfd11e80de2"
      },
      "outputs": [
        {
          "output_type": "execute_result",
          "data": {
            "text/plain": [
              "W   -1.749765\n",
              "X    0.342680\n",
              "Y    1.153036\n",
              "Z   -0.252436\n",
              "Name: A, dtype: float64"
            ]
          },
          "metadata": {},
          "execution_count": 50
        }
      ],
      "source": [
        "df.loc['A']"
      ]
    },
    {
      "cell_type": "markdown",
      "metadata": {
        "id": "7sHpWoXglPR6"
      },
      "source": [
        "Or select based off of position instead of label "
      ]
    },
    {
      "cell_type": "code",
      "execution_count": 51,
      "metadata": {
        "id": "WcwmXKB3lPR6",
        "colab": {
          "base_uri": "https://localhost:8080/"
        },
        "outputId": "910cace2-06f8-41e4-bb6a-1739c077ba75"
      },
      "outputs": [
        {
          "output_type": "execute_result",
          "data": {
            "text/plain": [
              "W   -0.189496\n",
              "X    0.255001\n",
              "Y   -0.458027\n",
              "Z    0.435163\n",
              "Name: C, dtype: float64"
            ]
          },
          "metadata": {},
          "execution_count": 51
        }
      ],
      "source": [
        "df.iloc[2]"
      ]
    },
    {
      "cell_type": "markdown",
      "metadata": {
        "id": "z3cStqDqlPR7"
      },
      "source": [
        "### Selecting subset of rows and columns"
      ]
    },
    {
      "cell_type": "code",
      "execution_count": 52,
      "metadata": {
        "id": "udPdxQPElPR7",
        "colab": {
          "base_uri": "https://localhost:8080/"
        },
        "outputId": "80422ed3-601f-4db2-e48e-e4daeb0d4317"
      },
      "outputs": [
        {
          "output_type": "execute_result",
          "data": {
            "text/plain": [
              "0.22117966922140045"
            ]
          },
          "metadata": {},
          "execution_count": 52
        }
      ],
      "source": [
        "df.loc['B','Y']"
      ]
    },
    {
      "cell_type": "code",
      "execution_count": 53,
      "metadata": {
        "id": "NHxSIln9lPR7",
        "colab": {
          "base_uri": "https://localhost:8080/",
          "height": 143
        },
        "outputId": "cece0080-4751-4462-c985-56b8e7d4ba78"
      },
      "outputs": [
        {
          "output_type": "execute_result",
          "data": {
            "text/plain": [
              "          W         Y\n",
              "A -1.749765  1.153036\n",
              "B  0.981321  0.221180"
            ],
            "text/html": [
              "\n",
              "  <div id=\"df-e9930d2e-8a81-49a2-8096-96b47c7d2dfe\">\n",
              "    <div class=\"colab-df-container\">\n",
              "      <div>\n",
              "<style scoped>\n",
              "    .dataframe tbody tr th:only-of-type {\n",
              "        vertical-align: middle;\n",
              "    }\n",
              "\n",
              "    .dataframe tbody tr th {\n",
              "        vertical-align: top;\n",
              "    }\n",
              "\n",
              "    .dataframe thead th {\n",
              "        text-align: right;\n",
              "    }\n",
              "</style>\n",
              "<table border=\"1\" class=\"dataframe\">\n",
              "  <thead>\n",
              "    <tr style=\"text-align: right;\">\n",
              "      <th></th>\n",
              "      <th>W</th>\n",
              "      <th>Y</th>\n",
              "    </tr>\n",
              "  </thead>\n",
              "  <tbody>\n",
              "    <tr>\n",
              "      <th>A</th>\n",
              "      <td>-1.749765</td>\n",
              "      <td>1.153036</td>\n",
              "    </tr>\n",
              "    <tr>\n",
              "      <th>B</th>\n",
              "      <td>0.981321</td>\n",
              "      <td>0.221180</td>\n",
              "    </tr>\n",
              "  </tbody>\n",
              "</table>\n",
              "</div>\n",
              "      <button class=\"colab-df-convert\" onclick=\"convertToInteractive('df-e9930d2e-8a81-49a2-8096-96b47c7d2dfe')\"\n",
              "              title=\"Convert this dataframe to an interactive table.\"\n",
              "              style=\"display:none;\">\n",
              "        \n",
              "  <svg xmlns=\"http://www.w3.org/2000/svg\" height=\"24px\"viewBox=\"0 0 24 24\"\n",
              "       width=\"24px\">\n",
              "    <path d=\"M0 0h24v24H0V0z\" fill=\"none\"/>\n",
              "    <path d=\"M18.56 5.44l.94 2.06.94-2.06 2.06-.94-2.06-.94-.94-2.06-.94 2.06-2.06.94zm-11 1L8.5 8.5l.94-2.06 2.06-.94-2.06-.94L8.5 2.5l-.94 2.06-2.06.94zm10 10l.94 2.06.94-2.06 2.06-.94-2.06-.94-.94-2.06-.94 2.06-2.06.94z\"/><path d=\"M17.41 7.96l-1.37-1.37c-.4-.4-.92-.59-1.43-.59-.52 0-1.04.2-1.43.59L10.3 9.45l-7.72 7.72c-.78.78-.78 2.05 0 2.83L4 21.41c.39.39.9.59 1.41.59.51 0 1.02-.2 1.41-.59l7.78-7.78 2.81-2.81c.8-.78.8-2.07 0-2.86zM5.41 20L4 18.59l7.72-7.72 1.47 1.35L5.41 20z\"/>\n",
              "  </svg>\n",
              "      </button>\n",
              "      \n",
              "  <style>\n",
              "    .colab-df-container {\n",
              "      display:flex;\n",
              "      flex-wrap:wrap;\n",
              "      gap: 12px;\n",
              "    }\n",
              "\n",
              "    .colab-df-convert {\n",
              "      background-color: #E8F0FE;\n",
              "      border: none;\n",
              "      border-radius: 50%;\n",
              "      cursor: pointer;\n",
              "      display: none;\n",
              "      fill: #1967D2;\n",
              "      height: 32px;\n",
              "      padding: 0 0 0 0;\n",
              "      width: 32px;\n",
              "    }\n",
              "\n",
              "    .colab-df-convert:hover {\n",
              "      background-color: #E2EBFA;\n",
              "      box-shadow: 0px 1px 2px rgba(60, 64, 67, 0.3), 0px 1px 3px 1px rgba(60, 64, 67, 0.15);\n",
              "      fill: #174EA6;\n",
              "    }\n",
              "\n",
              "    [theme=dark] .colab-df-convert {\n",
              "      background-color: #3B4455;\n",
              "      fill: #D2E3FC;\n",
              "    }\n",
              "\n",
              "    [theme=dark] .colab-df-convert:hover {\n",
              "      background-color: #434B5C;\n",
              "      box-shadow: 0px 1px 3px 1px rgba(0, 0, 0, 0.15);\n",
              "      filter: drop-shadow(0px 1px 2px rgba(0, 0, 0, 0.3));\n",
              "      fill: #FFFFFF;\n",
              "    }\n",
              "  </style>\n",
              "\n",
              "      <script>\n",
              "        const buttonEl =\n",
              "          document.querySelector('#df-e9930d2e-8a81-49a2-8096-96b47c7d2dfe button.colab-df-convert');\n",
              "        buttonEl.style.display =\n",
              "          google.colab.kernel.accessAllowed ? 'block' : 'none';\n",
              "\n",
              "        async function convertToInteractive(key) {\n",
              "          const element = document.querySelector('#df-e9930d2e-8a81-49a2-8096-96b47c7d2dfe');\n",
              "          const dataTable =\n",
              "            await google.colab.kernel.invokeFunction('convertToInteractive',\n",
              "                                                     [key], {});\n",
              "          if (!dataTable) return;\n",
              "\n",
              "          const docLinkHtml = 'Like what you see? Visit the ' +\n",
              "            '<a target=\"_blank\" href=https://colab.research.google.com/notebooks/data_table.ipynb>data table notebook</a>'\n",
              "            + ' to learn more about interactive tables.';\n",
              "          element.innerHTML = '';\n",
              "          dataTable['output_type'] = 'display_data';\n",
              "          await google.colab.output.renderOutput(dataTable, element);\n",
              "          const docLink = document.createElement('div');\n",
              "          docLink.innerHTML = docLinkHtml;\n",
              "          element.appendChild(docLink);\n",
              "        }\n",
              "      </script>\n",
              "    </div>\n",
              "  </div>\n",
              "  "
            ]
          },
          "metadata": {},
          "execution_count": 53
        }
      ],
      "source": [
        "df.loc[['A','B'],['W','Y']]"
      ]
    },
    {
      "cell_type": "markdown",
      "metadata": {
        "id": "2GinpwmRlPR7"
      },
      "source": [
        "### Conditional Selection\n",
        "\n",
        "An important feature of pandas is conditional selection using bracket notation, very similar to numpy:"
      ]
    },
    {
      "cell_type": "code",
      "execution_count": 54,
      "metadata": {
        "id": "5WeHwDeYlPR7",
        "colab": {
          "base_uri": "https://localhost:8080/",
          "height": 268
        },
        "outputId": "acb37bbe-783c-4b64-f82f-3d1088b0211f"
      },
      "outputs": [
        {
          "output_type": "execute_result",
          "data": {
            "text/plain": [
              "          W         X         Y         Z\n",
              "A -1.749765  0.342680  1.153036 -0.252436\n",
              "B  0.981321  0.514219  0.221180 -1.070043\n",
              "C -0.189496  0.255001 -0.458027  0.435163\n",
              "D -0.583595  0.816847  0.672721 -0.104411\n",
              "E -0.531280  1.029733 -0.438136 -1.118318"
            ],
            "text/html": [
              "\n",
              "  <div id=\"df-96e7c5cb-ac6d-4536-a4c4-da2ede9bd03a\">\n",
              "    <div class=\"colab-df-container\">\n",
              "      <div>\n",
              "<style scoped>\n",
              "    .dataframe tbody tr th:only-of-type {\n",
              "        vertical-align: middle;\n",
              "    }\n",
              "\n",
              "    .dataframe tbody tr th {\n",
              "        vertical-align: top;\n",
              "    }\n",
              "\n",
              "    .dataframe thead th {\n",
              "        text-align: right;\n",
              "    }\n",
              "</style>\n",
              "<table border=\"1\" class=\"dataframe\">\n",
              "  <thead>\n",
              "    <tr style=\"text-align: right;\">\n",
              "      <th></th>\n",
              "      <th>W</th>\n",
              "      <th>X</th>\n",
              "      <th>Y</th>\n",
              "      <th>Z</th>\n",
              "    </tr>\n",
              "  </thead>\n",
              "  <tbody>\n",
              "    <tr>\n",
              "      <th>A</th>\n",
              "      <td>-1.749765</td>\n",
              "      <td>0.342680</td>\n",
              "      <td>1.153036</td>\n",
              "      <td>-0.252436</td>\n",
              "    </tr>\n",
              "    <tr>\n",
              "      <th>B</th>\n",
              "      <td>0.981321</td>\n",
              "      <td>0.514219</td>\n",
              "      <td>0.221180</td>\n",
              "      <td>-1.070043</td>\n",
              "    </tr>\n",
              "    <tr>\n",
              "      <th>C</th>\n",
              "      <td>-0.189496</td>\n",
              "      <td>0.255001</td>\n",
              "      <td>-0.458027</td>\n",
              "      <td>0.435163</td>\n",
              "    </tr>\n",
              "    <tr>\n",
              "      <th>D</th>\n",
              "      <td>-0.583595</td>\n",
              "      <td>0.816847</td>\n",
              "      <td>0.672721</td>\n",
              "      <td>-0.104411</td>\n",
              "    </tr>\n",
              "    <tr>\n",
              "      <th>E</th>\n",
              "      <td>-0.531280</td>\n",
              "      <td>1.029733</td>\n",
              "      <td>-0.438136</td>\n",
              "      <td>-1.118318</td>\n",
              "    </tr>\n",
              "  </tbody>\n",
              "</table>\n",
              "</div>\n",
              "      <button class=\"colab-df-convert\" onclick=\"convertToInteractive('df-96e7c5cb-ac6d-4536-a4c4-da2ede9bd03a')\"\n",
              "              title=\"Convert this dataframe to an interactive table.\"\n",
              "              style=\"display:none;\">\n",
              "        \n",
              "  <svg xmlns=\"http://www.w3.org/2000/svg\" height=\"24px\"viewBox=\"0 0 24 24\"\n",
              "       width=\"24px\">\n",
              "    <path d=\"M0 0h24v24H0V0z\" fill=\"none\"/>\n",
              "    <path d=\"M18.56 5.44l.94 2.06.94-2.06 2.06-.94-2.06-.94-.94-2.06-.94 2.06-2.06.94zm-11 1L8.5 8.5l.94-2.06 2.06-.94-2.06-.94L8.5 2.5l-.94 2.06-2.06.94zm10 10l.94 2.06.94-2.06 2.06-.94-2.06-.94-.94-2.06-.94 2.06-2.06.94z\"/><path d=\"M17.41 7.96l-1.37-1.37c-.4-.4-.92-.59-1.43-.59-.52 0-1.04.2-1.43.59L10.3 9.45l-7.72 7.72c-.78.78-.78 2.05 0 2.83L4 21.41c.39.39.9.59 1.41.59.51 0 1.02-.2 1.41-.59l7.78-7.78 2.81-2.81c.8-.78.8-2.07 0-2.86zM5.41 20L4 18.59l7.72-7.72 1.47 1.35L5.41 20z\"/>\n",
              "  </svg>\n",
              "      </button>\n",
              "      \n",
              "  <style>\n",
              "    .colab-df-container {\n",
              "      display:flex;\n",
              "      flex-wrap:wrap;\n",
              "      gap: 12px;\n",
              "    }\n",
              "\n",
              "    .colab-df-convert {\n",
              "      background-color: #E8F0FE;\n",
              "      border: none;\n",
              "      border-radius: 50%;\n",
              "      cursor: pointer;\n",
              "      display: none;\n",
              "      fill: #1967D2;\n",
              "      height: 32px;\n",
              "      padding: 0 0 0 0;\n",
              "      width: 32px;\n",
              "    }\n",
              "\n",
              "    .colab-df-convert:hover {\n",
              "      background-color: #E2EBFA;\n",
              "      box-shadow: 0px 1px 2px rgba(60, 64, 67, 0.3), 0px 1px 3px 1px rgba(60, 64, 67, 0.15);\n",
              "      fill: #174EA6;\n",
              "    }\n",
              "\n",
              "    [theme=dark] .colab-df-convert {\n",
              "      background-color: #3B4455;\n",
              "      fill: #D2E3FC;\n",
              "    }\n",
              "\n",
              "    [theme=dark] .colab-df-convert:hover {\n",
              "      background-color: #434B5C;\n",
              "      box-shadow: 0px 1px 3px 1px rgba(0, 0, 0, 0.15);\n",
              "      filter: drop-shadow(0px 1px 2px rgba(0, 0, 0, 0.3));\n",
              "      fill: #FFFFFF;\n",
              "    }\n",
              "  </style>\n",
              "\n",
              "      <script>\n",
              "        const buttonEl =\n",
              "          document.querySelector('#df-96e7c5cb-ac6d-4536-a4c4-da2ede9bd03a button.colab-df-convert');\n",
              "        buttonEl.style.display =\n",
              "          google.colab.kernel.accessAllowed ? 'block' : 'none';\n",
              "\n",
              "        async function convertToInteractive(key) {\n",
              "          const element = document.querySelector('#df-96e7c5cb-ac6d-4536-a4c4-da2ede9bd03a');\n",
              "          const dataTable =\n",
              "            await google.colab.kernel.invokeFunction('convertToInteractive',\n",
              "                                                     [key], {});\n",
              "          if (!dataTable) return;\n",
              "\n",
              "          const docLinkHtml = 'Like what you see? Visit the ' +\n",
              "            '<a target=\"_blank\" href=https://colab.research.google.com/notebooks/data_table.ipynb>data table notebook</a>'\n",
              "            + ' to learn more about interactive tables.';\n",
              "          element.innerHTML = '';\n",
              "          dataTable['output_type'] = 'display_data';\n",
              "          await google.colab.output.renderOutput(dataTable, element);\n",
              "          const docLink = document.createElement('div');\n",
              "          docLink.innerHTML = docLinkHtml;\n",
              "          element.appendChild(docLink);\n",
              "        }\n",
              "      </script>\n",
              "    </div>\n",
              "  </div>\n",
              "  "
            ]
          },
          "metadata": {},
          "execution_count": 54
        }
      ],
      "source": [
        "df"
      ]
    },
    {
      "cell_type": "code",
      "execution_count": 55,
      "metadata": {
        "id": "5-eQ6Km9lPR7",
        "colab": {
          "base_uri": "https://localhost:8080/",
          "height": 268
        },
        "outputId": "6b722d0b-46f2-47cd-cc52-a1b0fad20d78"
      },
      "outputs": [
        {
          "output_type": "execute_result",
          "data": {
            "text/plain": [
              "       W     X      Y      Z\n",
              "A  False  True   True  False\n",
              "B   True  True   True  False\n",
              "C  False  True  False   True\n",
              "D  False  True   True  False\n",
              "E  False  True  False  False"
            ],
            "text/html": [
              "\n",
              "  <div id=\"df-5694932c-0752-4d63-b230-1696cefae1e4\">\n",
              "    <div class=\"colab-df-container\">\n",
              "      <div>\n",
              "<style scoped>\n",
              "    .dataframe tbody tr th:only-of-type {\n",
              "        vertical-align: middle;\n",
              "    }\n",
              "\n",
              "    .dataframe tbody tr th {\n",
              "        vertical-align: top;\n",
              "    }\n",
              "\n",
              "    .dataframe thead th {\n",
              "        text-align: right;\n",
              "    }\n",
              "</style>\n",
              "<table border=\"1\" class=\"dataframe\">\n",
              "  <thead>\n",
              "    <tr style=\"text-align: right;\">\n",
              "      <th></th>\n",
              "      <th>W</th>\n",
              "      <th>X</th>\n",
              "      <th>Y</th>\n",
              "      <th>Z</th>\n",
              "    </tr>\n",
              "  </thead>\n",
              "  <tbody>\n",
              "    <tr>\n",
              "      <th>A</th>\n",
              "      <td>False</td>\n",
              "      <td>True</td>\n",
              "      <td>True</td>\n",
              "      <td>False</td>\n",
              "    </tr>\n",
              "    <tr>\n",
              "      <th>B</th>\n",
              "      <td>True</td>\n",
              "      <td>True</td>\n",
              "      <td>True</td>\n",
              "      <td>False</td>\n",
              "    </tr>\n",
              "    <tr>\n",
              "      <th>C</th>\n",
              "      <td>False</td>\n",
              "      <td>True</td>\n",
              "      <td>False</td>\n",
              "      <td>True</td>\n",
              "    </tr>\n",
              "    <tr>\n",
              "      <th>D</th>\n",
              "      <td>False</td>\n",
              "      <td>True</td>\n",
              "      <td>True</td>\n",
              "      <td>False</td>\n",
              "    </tr>\n",
              "    <tr>\n",
              "      <th>E</th>\n",
              "      <td>False</td>\n",
              "      <td>True</td>\n",
              "      <td>False</td>\n",
              "      <td>False</td>\n",
              "    </tr>\n",
              "  </tbody>\n",
              "</table>\n",
              "</div>\n",
              "      <button class=\"colab-df-convert\" onclick=\"convertToInteractive('df-5694932c-0752-4d63-b230-1696cefae1e4')\"\n",
              "              title=\"Convert this dataframe to an interactive table.\"\n",
              "              style=\"display:none;\">\n",
              "        \n",
              "  <svg xmlns=\"http://www.w3.org/2000/svg\" height=\"24px\"viewBox=\"0 0 24 24\"\n",
              "       width=\"24px\">\n",
              "    <path d=\"M0 0h24v24H0V0z\" fill=\"none\"/>\n",
              "    <path d=\"M18.56 5.44l.94 2.06.94-2.06 2.06-.94-2.06-.94-.94-2.06-.94 2.06-2.06.94zm-11 1L8.5 8.5l.94-2.06 2.06-.94-2.06-.94L8.5 2.5l-.94 2.06-2.06.94zm10 10l.94 2.06.94-2.06 2.06-.94-2.06-.94-.94-2.06-.94 2.06-2.06.94z\"/><path d=\"M17.41 7.96l-1.37-1.37c-.4-.4-.92-.59-1.43-.59-.52 0-1.04.2-1.43.59L10.3 9.45l-7.72 7.72c-.78.78-.78 2.05 0 2.83L4 21.41c.39.39.9.59 1.41.59.51 0 1.02-.2 1.41-.59l7.78-7.78 2.81-2.81c.8-.78.8-2.07 0-2.86zM5.41 20L4 18.59l7.72-7.72 1.47 1.35L5.41 20z\"/>\n",
              "  </svg>\n",
              "      </button>\n",
              "      \n",
              "  <style>\n",
              "    .colab-df-container {\n",
              "      display:flex;\n",
              "      flex-wrap:wrap;\n",
              "      gap: 12px;\n",
              "    }\n",
              "\n",
              "    .colab-df-convert {\n",
              "      background-color: #E8F0FE;\n",
              "      border: none;\n",
              "      border-radius: 50%;\n",
              "      cursor: pointer;\n",
              "      display: none;\n",
              "      fill: #1967D2;\n",
              "      height: 32px;\n",
              "      padding: 0 0 0 0;\n",
              "      width: 32px;\n",
              "    }\n",
              "\n",
              "    .colab-df-convert:hover {\n",
              "      background-color: #E2EBFA;\n",
              "      box-shadow: 0px 1px 2px rgba(60, 64, 67, 0.3), 0px 1px 3px 1px rgba(60, 64, 67, 0.15);\n",
              "      fill: #174EA6;\n",
              "    }\n",
              "\n",
              "    [theme=dark] .colab-df-convert {\n",
              "      background-color: #3B4455;\n",
              "      fill: #D2E3FC;\n",
              "    }\n",
              "\n",
              "    [theme=dark] .colab-df-convert:hover {\n",
              "      background-color: #434B5C;\n",
              "      box-shadow: 0px 1px 3px 1px rgba(0, 0, 0, 0.15);\n",
              "      filter: drop-shadow(0px 1px 2px rgba(0, 0, 0, 0.3));\n",
              "      fill: #FFFFFF;\n",
              "    }\n",
              "  </style>\n",
              "\n",
              "      <script>\n",
              "        const buttonEl =\n",
              "          document.querySelector('#df-5694932c-0752-4d63-b230-1696cefae1e4 button.colab-df-convert');\n",
              "        buttonEl.style.display =\n",
              "          google.colab.kernel.accessAllowed ? 'block' : 'none';\n",
              "\n",
              "        async function convertToInteractive(key) {\n",
              "          const element = document.querySelector('#df-5694932c-0752-4d63-b230-1696cefae1e4');\n",
              "          const dataTable =\n",
              "            await google.colab.kernel.invokeFunction('convertToInteractive',\n",
              "                                                     [key], {});\n",
              "          if (!dataTable) return;\n",
              "\n",
              "          const docLinkHtml = 'Like what you see? Visit the ' +\n",
              "            '<a target=\"_blank\" href=https://colab.research.google.com/notebooks/data_table.ipynb>data table notebook</a>'\n",
              "            + ' to learn more about interactive tables.';\n",
              "          element.innerHTML = '';\n",
              "          dataTable['output_type'] = 'display_data';\n",
              "          await google.colab.output.renderOutput(dataTable, element);\n",
              "          const docLink = document.createElement('div');\n",
              "          docLink.innerHTML = docLinkHtml;\n",
              "          element.appendChild(docLink);\n",
              "        }\n",
              "      </script>\n",
              "    </div>\n",
              "  </div>\n",
              "  "
            ]
          },
          "metadata": {},
          "execution_count": 55
        }
      ],
      "source": [
        "df>0"
      ]
    },
    {
      "cell_type": "code",
      "execution_count": 56,
      "metadata": {
        "id": "Dn_ExXqKlPR7",
        "colab": {
          "base_uri": "https://localhost:8080/",
          "height": 268
        },
        "outputId": "37926fe4-dbdb-4839-bc0d-8bbaf1d006a9"
      },
      "outputs": [
        {
          "output_type": "execute_result",
          "data": {
            "text/plain": [
              "          W         X         Y         Z\n",
              "A       NaN  0.342680  1.153036       NaN\n",
              "B  0.981321  0.514219  0.221180       NaN\n",
              "C       NaN  0.255001       NaN  0.435163\n",
              "D       NaN  0.816847  0.672721       NaN\n",
              "E       NaN  1.029733       NaN       NaN"
            ],
            "text/html": [
              "\n",
              "  <div id=\"df-26b225a5-fcc6-4fc2-9ec4-e51c4fbd7e4e\">\n",
              "    <div class=\"colab-df-container\">\n",
              "      <div>\n",
              "<style scoped>\n",
              "    .dataframe tbody tr th:only-of-type {\n",
              "        vertical-align: middle;\n",
              "    }\n",
              "\n",
              "    .dataframe tbody tr th {\n",
              "        vertical-align: top;\n",
              "    }\n",
              "\n",
              "    .dataframe thead th {\n",
              "        text-align: right;\n",
              "    }\n",
              "</style>\n",
              "<table border=\"1\" class=\"dataframe\">\n",
              "  <thead>\n",
              "    <tr style=\"text-align: right;\">\n",
              "      <th></th>\n",
              "      <th>W</th>\n",
              "      <th>X</th>\n",
              "      <th>Y</th>\n",
              "      <th>Z</th>\n",
              "    </tr>\n",
              "  </thead>\n",
              "  <tbody>\n",
              "    <tr>\n",
              "      <th>A</th>\n",
              "      <td>NaN</td>\n",
              "      <td>0.342680</td>\n",
              "      <td>1.153036</td>\n",
              "      <td>NaN</td>\n",
              "    </tr>\n",
              "    <tr>\n",
              "      <th>B</th>\n",
              "      <td>0.981321</td>\n",
              "      <td>0.514219</td>\n",
              "      <td>0.221180</td>\n",
              "      <td>NaN</td>\n",
              "    </tr>\n",
              "    <tr>\n",
              "      <th>C</th>\n",
              "      <td>NaN</td>\n",
              "      <td>0.255001</td>\n",
              "      <td>NaN</td>\n",
              "      <td>0.435163</td>\n",
              "    </tr>\n",
              "    <tr>\n",
              "      <th>D</th>\n",
              "      <td>NaN</td>\n",
              "      <td>0.816847</td>\n",
              "      <td>0.672721</td>\n",
              "      <td>NaN</td>\n",
              "    </tr>\n",
              "    <tr>\n",
              "      <th>E</th>\n",
              "      <td>NaN</td>\n",
              "      <td>1.029733</td>\n",
              "      <td>NaN</td>\n",
              "      <td>NaN</td>\n",
              "    </tr>\n",
              "  </tbody>\n",
              "</table>\n",
              "</div>\n",
              "      <button class=\"colab-df-convert\" onclick=\"convertToInteractive('df-26b225a5-fcc6-4fc2-9ec4-e51c4fbd7e4e')\"\n",
              "              title=\"Convert this dataframe to an interactive table.\"\n",
              "              style=\"display:none;\">\n",
              "        \n",
              "  <svg xmlns=\"http://www.w3.org/2000/svg\" height=\"24px\"viewBox=\"0 0 24 24\"\n",
              "       width=\"24px\">\n",
              "    <path d=\"M0 0h24v24H0V0z\" fill=\"none\"/>\n",
              "    <path d=\"M18.56 5.44l.94 2.06.94-2.06 2.06-.94-2.06-.94-.94-2.06-.94 2.06-2.06.94zm-11 1L8.5 8.5l.94-2.06 2.06-.94-2.06-.94L8.5 2.5l-.94 2.06-2.06.94zm10 10l.94 2.06.94-2.06 2.06-.94-2.06-.94-.94-2.06-.94 2.06-2.06.94z\"/><path d=\"M17.41 7.96l-1.37-1.37c-.4-.4-.92-.59-1.43-.59-.52 0-1.04.2-1.43.59L10.3 9.45l-7.72 7.72c-.78.78-.78 2.05 0 2.83L4 21.41c.39.39.9.59 1.41.59.51 0 1.02-.2 1.41-.59l7.78-7.78 2.81-2.81c.8-.78.8-2.07 0-2.86zM5.41 20L4 18.59l7.72-7.72 1.47 1.35L5.41 20z\"/>\n",
              "  </svg>\n",
              "      </button>\n",
              "      \n",
              "  <style>\n",
              "    .colab-df-container {\n",
              "      display:flex;\n",
              "      flex-wrap:wrap;\n",
              "      gap: 12px;\n",
              "    }\n",
              "\n",
              "    .colab-df-convert {\n",
              "      background-color: #E8F0FE;\n",
              "      border: none;\n",
              "      border-radius: 50%;\n",
              "      cursor: pointer;\n",
              "      display: none;\n",
              "      fill: #1967D2;\n",
              "      height: 32px;\n",
              "      padding: 0 0 0 0;\n",
              "      width: 32px;\n",
              "    }\n",
              "\n",
              "    .colab-df-convert:hover {\n",
              "      background-color: #E2EBFA;\n",
              "      box-shadow: 0px 1px 2px rgba(60, 64, 67, 0.3), 0px 1px 3px 1px rgba(60, 64, 67, 0.15);\n",
              "      fill: #174EA6;\n",
              "    }\n",
              "\n",
              "    [theme=dark] .colab-df-convert {\n",
              "      background-color: #3B4455;\n",
              "      fill: #D2E3FC;\n",
              "    }\n",
              "\n",
              "    [theme=dark] .colab-df-convert:hover {\n",
              "      background-color: #434B5C;\n",
              "      box-shadow: 0px 1px 3px 1px rgba(0, 0, 0, 0.15);\n",
              "      filter: drop-shadow(0px 1px 2px rgba(0, 0, 0, 0.3));\n",
              "      fill: #FFFFFF;\n",
              "    }\n",
              "  </style>\n",
              "\n",
              "      <script>\n",
              "        const buttonEl =\n",
              "          document.querySelector('#df-26b225a5-fcc6-4fc2-9ec4-e51c4fbd7e4e button.colab-df-convert');\n",
              "        buttonEl.style.display =\n",
              "          google.colab.kernel.accessAllowed ? 'block' : 'none';\n",
              "\n",
              "        async function convertToInteractive(key) {\n",
              "          const element = document.querySelector('#df-26b225a5-fcc6-4fc2-9ec4-e51c4fbd7e4e');\n",
              "          const dataTable =\n",
              "            await google.colab.kernel.invokeFunction('convertToInteractive',\n",
              "                                                     [key], {});\n",
              "          if (!dataTable) return;\n",
              "\n",
              "          const docLinkHtml = 'Like what you see? Visit the ' +\n",
              "            '<a target=\"_blank\" href=https://colab.research.google.com/notebooks/data_table.ipynb>data table notebook</a>'\n",
              "            + ' to learn more about interactive tables.';\n",
              "          element.innerHTML = '';\n",
              "          dataTable['output_type'] = 'display_data';\n",
              "          await google.colab.output.renderOutput(dataTable, element);\n",
              "          const docLink = document.createElement('div');\n",
              "          docLink.innerHTML = docLinkHtml;\n",
              "          element.appendChild(docLink);\n",
              "        }\n",
              "      </script>\n",
              "    </div>\n",
              "  </div>\n",
              "  "
            ]
          },
          "metadata": {},
          "execution_count": 56
        }
      ],
      "source": [
        "df[df>0]"
      ]
    },
    {
      "cell_type": "code",
      "execution_count": 57,
      "metadata": {
        "id": "BqfMHISzlPR8",
        "colab": {
          "base_uri": "https://localhost:8080/",
          "height": 101
        },
        "outputId": "abd7692d-cd00-44cb-82a8-8b1b303ebc80"
      },
      "outputs": [
        {
          "output_type": "execute_result",
          "data": {
            "text/plain": [
              "          W         X        Y         Z\n",
              "B  0.981321  0.514219  0.22118 -1.070043"
            ],
            "text/html": [
              "\n",
              "  <div id=\"df-b559cb12-b6b7-4ac3-a5be-6ec3d1434692\">\n",
              "    <div class=\"colab-df-container\">\n",
              "      <div>\n",
              "<style scoped>\n",
              "    .dataframe tbody tr th:only-of-type {\n",
              "        vertical-align: middle;\n",
              "    }\n",
              "\n",
              "    .dataframe tbody tr th {\n",
              "        vertical-align: top;\n",
              "    }\n",
              "\n",
              "    .dataframe thead th {\n",
              "        text-align: right;\n",
              "    }\n",
              "</style>\n",
              "<table border=\"1\" class=\"dataframe\">\n",
              "  <thead>\n",
              "    <tr style=\"text-align: right;\">\n",
              "      <th></th>\n",
              "      <th>W</th>\n",
              "      <th>X</th>\n",
              "      <th>Y</th>\n",
              "      <th>Z</th>\n",
              "    </tr>\n",
              "  </thead>\n",
              "  <tbody>\n",
              "    <tr>\n",
              "      <th>B</th>\n",
              "      <td>0.981321</td>\n",
              "      <td>0.514219</td>\n",
              "      <td>0.22118</td>\n",
              "      <td>-1.070043</td>\n",
              "    </tr>\n",
              "  </tbody>\n",
              "</table>\n",
              "</div>\n",
              "      <button class=\"colab-df-convert\" onclick=\"convertToInteractive('df-b559cb12-b6b7-4ac3-a5be-6ec3d1434692')\"\n",
              "              title=\"Convert this dataframe to an interactive table.\"\n",
              "              style=\"display:none;\">\n",
              "        \n",
              "  <svg xmlns=\"http://www.w3.org/2000/svg\" height=\"24px\"viewBox=\"0 0 24 24\"\n",
              "       width=\"24px\">\n",
              "    <path d=\"M0 0h24v24H0V0z\" fill=\"none\"/>\n",
              "    <path d=\"M18.56 5.44l.94 2.06.94-2.06 2.06-.94-2.06-.94-.94-2.06-.94 2.06-2.06.94zm-11 1L8.5 8.5l.94-2.06 2.06-.94-2.06-.94L8.5 2.5l-.94 2.06-2.06.94zm10 10l.94 2.06.94-2.06 2.06-.94-2.06-.94-.94-2.06-.94 2.06-2.06.94z\"/><path d=\"M17.41 7.96l-1.37-1.37c-.4-.4-.92-.59-1.43-.59-.52 0-1.04.2-1.43.59L10.3 9.45l-7.72 7.72c-.78.78-.78 2.05 0 2.83L4 21.41c.39.39.9.59 1.41.59.51 0 1.02-.2 1.41-.59l7.78-7.78 2.81-2.81c.8-.78.8-2.07 0-2.86zM5.41 20L4 18.59l7.72-7.72 1.47 1.35L5.41 20z\"/>\n",
              "  </svg>\n",
              "      </button>\n",
              "      \n",
              "  <style>\n",
              "    .colab-df-container {\n",
              "      display:flex;\n",
              "      flex-wrap:wrap;\n",
              "      gap: 12px;\n",
              "    }\n",
              "\n",
              "    .colab-df-convert {\n",
              "      background-color: #E8F0FE;\n",
              "      border: none;\n",
              "      border-radius: 50%;\n",
              "      cursor: pointer;\n",
              "      display: none;\n",
              "      fill: #1967D2;\n",
              "      height: 32px;\n",
              "      padding: 0 0 0 0;\n",
              "      width: 32px;\n",
              "    }\n",
              "\n",
              "    .colab-df-convert:hover {\n",
              "      background-color: #E2EBFA;\n",
              "      box-shadow: 0px 1px 2px rgba(60, 64, 67, 0.3), 0px 1px 3px 1px rgba(60, 64, 67, 0.15);\n",
              "      fill: #174EA6;\n",
              "    }\n",
              "\n",
              "    [theme=dark] .colab-df-convert {\n",
              "      background-color: #3B4455;\n",
              "      fill: #D2E3FC;\n",
              "    }\n",
              "\n",
              "    [theme=dark] .colab-df-convert:hover {\n",
              "      background-color: #434B5C;\n",
              "      box-shadow: 0px 1px 3px 1px rgba(0, 0, 0, 0.15);\n",
              "      filter: drop-shadow(0px 1px 2px rgba(0, 0, 0, 0.3));\n",
              "      fill: #FFFFFF;\n",
              "    }\n",
              "  </style>\n",
              "\n",
              "      <script>\n",
              "        const buttonEl =\n",
              "          document.querySelector('#df-b559cb12-b6b7-4ac3-a5be-6ec3d1434692 button.colab-df-convert');\n",
              "        buttonEl.style.display =\n",
              "          google.colab.kernel.accessAllowed ? 'block' : 'none';\n",
              "\n",
              "        async function convertToInteractive(key) {\n",
              "          const element = document.querySelector('#df-b559cb12-b6b7-4ac3-a5be-6ec3d1434692');\n",
              "          const dataTable =\n",
              "            await google.colab.kernel.invokeFunction('convertToInteractive',\n",
              "                                                     [key], {});\n",
              "          if (!dataTable) return;\n",
              "\n",
              "          const docLinkHtml = 'Like what you see? Visit the ' +\n",
              "            '<a target=\"_blank\" href=https://colab.research.google.com/notebooks/data_table.ipynb>data table notebook</a>'\n",
              "            + ' to learn more about interactive tables.';\n",
              "          element.innerHTML = '';\n",
              "          dataTable['output_type'] = 'display_data';\n",
              "          await google.colab.output.renderOutput(dataTable, element);\n",
              "          const docLink = document.createElement('div');\n",
              "          docLink.innerHTML = docLinkHtml;\n",
              "          element.appendChild(docLink);\n",
              "        }\n",
              "      </script>\n",
              "    </div>\n",
              "  </div>\n",
              "  "
            ]
          },
          "metadata": {},
          "execution_count": 57
        }
      ],
      "source": [
        "df[df['W']>0]"
      ]
    },
    {
      "cell_type": "code",
      "execution_count": 58,
      "metadata": {
        "id": "goZO9J8zlPR8",
        "colab": {
          "base_uri": "https://localhost:8080/"
        },
        "outputId": "52961f9d-4103-4f29-cb8d-e0699a1347f6"
      },
      "outputs": [
        {
          "output_type": "execute_result",
          "data": {
            "text/plain": [
              "B    0.22118\n",
              "Name: Y, dtype: float64"
            ]
          },
          "metadata": {},
          "execution_count": 58
        }
      ],
      "source": [
        "df[df['W']>0]['Y']"
      ]
    },
    {
      "cell_type": "code",
      "execution_count": 59,
      "metadata": {
        "id": "Npu6vMsnlPR8",
        "colab": {
          "base_uri": "https://localhost:8080/",
          "height": 101
        },
        "outputId": "923be480-8523-4e25-bc70-a3c9e59737b4"
      },
      "outputs": [
        {
          "output_type": "execute_result",
          "data": {
            "text/plain": [
              "         Y         X\n",
              "B  0.22118  0.514219"
            ],
            "text/html": [
              "\n",
              "  <div id=\"df-bf4a1e09-5991-44a6-b1f3-fcc3d920eeb6\">\n",
              "    <div class=\"colab-df-container\">\n",
              "      <div>\n",
              "<style scoped>\n",
              "    .dataframe tbody tr th:only-of-type {\n",
              "        vertical-align: middle;\n",
              "    }\n",
              "\n",
              "    .dataframe tbody tr th {\n",
              "        vertical-align: top;\n",
              "    }\n",
              "\n",
              "    .dataframe thead th {\n",
              "        text-align: right;\n",
              "    }\n",
              "</style>\n",
              "<table border=\"1\" class=\"dataframe\">\n",
              "  <thead>\n",
              "    <tr style=\"text-align: right;\">\n",
              "      <th></th>\n",
              "      <th>Y</th>\n",
              "      <th>X</th>\n",
              "    </tr>\n",
              "  </thead>\n",
              "  <tbody>\n",
              "    <tr>\n",
              "      <th>B</th>\n",
              "      <td>0.22118</td>\n",
              "      <td>0.514219</td>\n",
              "    </tr>\n",
              "  </tbody>\n",
              "</table>\n",
              "</div>\n",
              "      <button class=\"colab-df-convert\" onclick=\"convertToInteractive('df-bf4a1e09-5991-44a6-b1f3-fcc3d920eeb6')\"\n",
              "              title=\"Convert this dataframe to an interactive table.\"\n",
              "              style=\"display:none;\">\n",
              "        \n",
              "  <svg xmlns=\"http://www.w3.org/2000/svg\" height=\"24px\"viewBox=\"0 0 24 24\"\n",
              "       width=\"24px\">\n",
              "    <path d=\"M0 0h24v24H0V0z\" fill=\"none\"/>\n",
              "    <path d=\"M18.56 5.44l.94 2.06.94-2.06 2.06-.94-2.06-.94-.94-2.06-.94 2.06-2.06.94zm-11 1L8.5 8.5l.94-2.06 2.06-.94-2.06-.94L8.5 2.5l-.94 2.06-2.06.94zm10 10l.94 2.06.94-2.06 2.06-.94-2.06-.94-.94-2.06-.94 2.06-2.06.94z\"/><path d=\"M17.41 7.96l-1.37-1.37c-.4-.4-.92-.59-1.43-.59-.52 0-1.04.2-1.43.59L10.3 9.45l-7.72 7.72c-.78.78-.78 2.05 0 2.83L4 21.41c.39.39.9.59 1.41.59.51 0 1.02-.2 1.41-.59l7.78-7.78 2.81-2.81c.8-.78.8-2.07 0-2.86zM5.41 20L4 18.59l7.72-7.72 1.47 1.35L5.41 20z\"/>\n",
              "  </svg>\n",
              "      </button>\n",
              "      \n",
              "  <style>\n",
              "    .colab-df-container {\n",
              "      display:flex;\n",
              "      flex-wrap:wrap;\n",
              "      gap: 12px;\n",
              "    }\n",
              "\n",
              "    .colab-df-convert {\n",
              "      background-color: #E8F0FE;\n",
              "      border: none;\n",
              "      border-radius: 50%;\n",
              "      cursor: pointer;\n",
              "      display: none;\n",
              "      fill: #1967D2;\n",
              "      height: 32px;\n",
              "      padding: 0 0 0 0;\n",
              "      width: 32px;\n",
              "    }\n",
              "\n",
              "    .colab-df-convert:hover {\n",
              "      background-color: #E2EBFA;\n",
              "      box-shadow: 0px 1px 2px rgba(60, 64, 67, 0.3), 0px 1px 3px 1px rgba(60, 64, 67, 0.15);\n",
              "      fill: #174EA6;\n",
              "    }\n",
              "\n",
              "    [theme=dark] .colab-df-convert {\n",
              "      background-color: #3B4455;\n",
              "      fill: #D2E3FC;\n",
              "    }\n",
              "\n",
              "    [theme=dark] .colab-df-convert:hover {\n",
              "      background-color: #434B5C;\n",
              "      box-shadow: 0px 1px 3px 1px rgba(0, 0, 0, 0.15);\n",
              "      filter: drop-shadow(0px 1px 2px rgba(0, 0, 0, 0.3));\n",
              "      fill: #FFFFFF;\n",
              "    }\n",
              "  </style>\n",
              "\n",
              "      <script>\n",
              "        const buttonEl =\n",
              "          document.querySelector('#df-bf4a1e09-5991-44a6-b1f3-fcc3d920eeb6 button.colab-df-convert');\n",
              "        buttonEl.style.display =\n",
              "          google.colab.kernel.accessAllowed ? 'block' : 'none';\n",
              "\n",
              "        async function convertToInteractive(key) {\n",
              "          const element = document.querySelector('#df-bf4a1e09-5991-44a6-b1f3-fcc3d920eeb6');\n",
              "          const dataTable =\n",
              "            await google.colab.kernel.invokeFunction('convertToInteractive',\n",
              "                                                     [key], {});\n",
              "          if (!dataTable) return;\n",
              "\n",
              "          const docLinkHtml = 'Like what you see? Visit the ' +\n",
              "            '<a target=\"_blank\" href=https://colab.research.google.com/notebooks/data_table.ipynb>data table notebook</a>'\n",
              "            + ' to learn more about interactive tables.';\n",
              "          element.innerHTML = '';\n",
              "          dataTable['output_type'] = 'display_data';\n",
              "          await google.colab.output.renderOutput(dataTable, element);\n",
              "          const docLink = document.createElement('div');\n",
              "          docLink.innerHTML = docLinkHtml;\n",
              "          element.appendChild(docLink);\n",
              "        }\n",
              "      </script>\n",
              "    </div>\n",
              "  </div>\n",
              "  "
            ]
          },
          "metadata": {},
          "execution_count": 59
        }
      ],
      "source": [
        "df[df['W']>0][['Y','X']]"
      ]
    },
    {
      "cell_type": "markdown",
      "metadata": {
        "id": "tlgGssvnlPR8"
      },
      "source": [
        "For two conditions you can use | and & with parenthesis:"
      ]
    },
    {
      "cell_type": "code",
      "execution_count": 60,
      "metadata": {
        "id": "Rko_50ADlPR8",
        "colab": {
          "base_uri": "https://localhost:8080/",
          "height": 59
        },
        "outputId": "8337b878-952b-484e-cecd-3e42aef9d014"
      },
      "outputs": [
        {
          "output_type": "execute_result",
          "data": {
            "text/plain": [
              "Empty DataFrame\n",
              "Columns: [W, X, Y, Z]\n",
              "Index: []"
            ],
            "text/html": [
              "\n",
              "  <div id=\"df-e3d2c8cb-dd67-491a-b435-384c3da65937\">\n",
              "    <div class=\"colab-df-container\">\n",
              "      <div>\n",
              "<style scoped>\n",
              "    .dataframe tbody tr th:only-of-type {\n",
              "        vertical-align: middle;\n",
              "    }\n",
              "\n",
              "    .dataframe tbody tr th {\n",
              "        vertical-align: top;\n",
              "    }\n",
              "\n",
              "    .dataframe thead th {\n",
              "        text-align: right;\n",
              "    }\n",
              "</style>\n",
              "<table border=\"1\" class=\"dataframe\">\n",
              "  <thead>\n",
              "    <tr style=\"text-align: right;\">\n",
              "      <th></th>\n",
              "      <th>W</th>\n",
              "      <th>X</th>\n",
              "      <th>Y</th>\n",
              "      <th>Z</th>\n",
              "    </tr>\n",
              "  </thead>\n",
              "  <tbody>\n",
              "  </tbody>\n",
              "</table>\n",
              "</div>\n",
              "      <button class=\"colab-df-convert\" onclick=\"convertToInteractive('df-e3d2c8cb-dd67-491a-b435-384c3da65937')\"\n",
              "              title=\"Convert this dataframe to an interactive table.\"\n",
              "              style=\"display:none;\">\n",
              "        \n",
              "  <svg xmlns=\"http://www.w3.org/2000/svg\" height=\"24px\"viewBox=\"0 0 24 24\"\n",
              "       width=\"24px\">\n",
              "    <path d=\"M0 0h24v24H0V0z\" fill=\"none\"/>\n",
              "    <path d=\"M18.56 5.44l.94 2.06.94-2.06 2.06-.94-2.06-.94-.94-2.06-.94 2.06-2.06.94zm-11 1L8.5 8.5l.94-2.06 2.06-.94-2.06-.94L8.5 2.5l-.94 2.06-2.06.94zm10 10l.94 2.06.94-2.06 2.06-.94-2.06-.94-.94-2.06-.94 2.06-2.06.94z\"/><path d=\"M17.41 7.96l-1.37-1.37c-.4-.4-.92-.59-1.43-.59-.52 0-1.04.2-1.43.59L10.3 9.45l-7.72 7.72c-.78.78-.78 2.05 0 2.83L4 21.41c.39.39.9.59 1.41.59.51 0 1.02-.2 1.41-.59l7.78-7.78 2.81-2.81c.8-.78.8-2.07 0-2.86zM5.41 20L4 18.59l7.72-7.72 1.47 1.35L5.41 20z\"/>\n",
              "  </svg>\n",
              "      </button>\n",
              "      \n",
              "  <style>\n",
              "    .colab-df-container {\n",
              "      display:flex;\n",
              "      flex-wrap:wrap;\n",
              "      gap: 12px;\n",
              "    }\n",
              "\n",
              "    .colab-df-convert {\n",
              "      background-color: #E8F0FE;\n",
              "      border: none;\n",
              "      border-radius: 50%;\n",
              "      cursor: pointer;\n",
              "      display: none;\n",
              "      fill: #1967D2;\n",
              "      height: 32px;\n",
              "      padding: 0 0 0 0;\n",
              "      width: 32px;\n",
              "    }\n",
              "\n",
              "    .colab-df-convert:hover {\n",
              "      background-color: #E2EBFA;\n",
              "      box-shadow: 0px 1px 2px rgba(60, 64, 67, 0.3), 0px 1px 3px 1px rgba(60, 64, 67, 0.15);\n",
              "      fill: #174EA6;\n",
              "    }\n",
              "\n",
              "    [theme=dark] .colab-df-convert {\n",
              "      background-color: #3B4455;\n",
              "      fill: #D2E3FC;\n",
              "    }\n",
              "\n",
              "    [theme=dark] .colab-df-convert:hover {\n",
              "      background-color: #434B5C;\n",
              "      box-shadow: 0px 1px 3px 1px rgba(0, 0, 0, 0.15);\n",
              "      filter: drop-shadow(0px 1px 2px rgba(0, 0, 0, 0.3));\n",
              "      fill: #FFFFFF;\n",
              "    }\n",
              "  </style>\n",
              "\n",
              "      <script>\n",
              "        const buttonEl =\n",
              "          document.querySelector('#df-e3d2c8cb-dd67-491a-b435-384c3da65937 button.colab-df-convert');\n",
              "        buttonEl.style.display =\n",
              "          google.colab.kernel.accessAllowed ? 'block' : 'none';\n",
              "\n",
              "        async function convertToInteractive(key) {\n",
              "          const element = document.querySelector('#df-e3d2c8cb-dd67-491a-b435-384c3da65937');\n",
              "          const dataTable =\n",
              "            await google.colab.kernel.invokeFunction('convertToInteractive',\n",
              "                                                     [key], {});\n",
              "          if (!dataTable) return;\n",
              "\n",
              "          const docLinkHtml = 'Like what you see? Visit the ' +\n",
              "            '<a target=\"_blank\" href=https://colab.research.google.com/notebooks/data_table.ipynb>data table notebook</a>'\n",
              "            + ' to learn more about interactive tables.';\n",
              "          element.innerHTML = '';\n",
              "          dataTable['output_type'] = 'display_data';\n",
              "          await google.colab.output.renderOutput(dataTable, element);\n",
              "          const docLink = document.createElement('div');\n",
              "          docLink.innerHTML = docLinkHtml;\n",
              "          element.appendChild(docLink);\n",
              "        }\n",
              "      </script>\n",
              "    </div>\n",
              "  </div>\n",
              "  "
            ]
          },
          "metadata": {},
          "execution_count": 60
        }
      ],
      "source": [
        "df[(df['W']>0) & (df['Y'] > 1)]"
      ]
    },
    {
      "cell_type": "markdown",
      "metadata": {
        "collapsed": true,
        "id": "xwLVHQnNlPR8"
      },
      "source": [
        "### Operations\n",
        "\n",
        "There are lots of operations with pandas that will be really useful to you, but don't fall into any distinct category. Let's show them here in this lecture:"
      ]
    },
    {
      "cell_type": "code",
      "execution_count": 61,
      "metadata": {
        "id": "BF-Qlv-NlPR9",
        "colab": {
          "base_uri": "https://localhost:8080/",
          "height": 226
        },
        "outputId": "6ffda5e0-d430-4939-d02f-0e57a46b013c"
      },
      "outputs": [
        {
          "output_type": "execute_result",
          "data": {
            "text/plain": [
              "   col1  col2 col3\n",
              "0     1   444  abc\n",
              "1     2   555  def\n",
              "2     3   666  ghi\n",
              "3     4   444  xyz"
            ],
            "text/html": [
              "\n",
              "  <div id=\"df-99ce5b84-4e60-43af-944d-41cf1e51a96a\">\n",
              "    <div class=\"colab-df-container\">\n",
              "      <div>\n",
              "<style scoped>\n",
              "    .dataframe tbody tr th:only-of-type {\n",
              "        vertical-align: middle;\n",
              "    }\n",
              "\n",
              "    .dataframe tbody tr th {\n",
              "        vertical-align: top;\n",
              "    }\n",
              "\n",
              "    .dataframe thead th {\n",
              "        text-align: right;\n",
              "    }\n",
              "</style>\n",
              "<table border=\"1\" class=\"dataframe\">\n",
              "  <thead>\n",
              "    <tr style=\"text-align: right;\">\n",
              "      <th></th>\n",
              "      <th>col1</th>\n",
              "      <th>col2</th>\n",
              "      <th>col3</th>\n",
              "    </tr>\n",
              "  </thead>\n",
              "  <tbody>\n",
              "    <tr>\n",
              "      <th>0</th>\n",
              "      <td>1</td>\n",
              "      <td>444</td>\n",
              "      <td>abc</td>\n",
              "    </tr>\n",
              "    <tr>\n",
              "      <th>1</th>\n",
              "      <td>2</td>\n",
              "      <td>555</td>\n",
              "      <td>def</td>\n",
              "    </tr>\n",
              "    <tr>\n",
              "      <th>2</th>\n",
              "      <td>3</td>\n",
              "      <td>666</td>\n",
              "      <td>ghi</td>\n",
              "    </tr>\n",
              "    <tr>\n",
              "      <th>3</th>\n",
              "      <td>4</td>\n",
              "      <td>444</td>\n",
              "      <td>xyz</td>\n",
              "    </tr>\n",
              "  </tbody>\n",
              "</table>\n",
              "</div>\n",
              "      <button class=\"colab-df-convert\" onclick=\"convertToInteractive('df-99ce5b84-4e60-43af-944d-41cf1e51a96a')\"\n",
              "              title=\"Convert this dataframe to an interactive table.\"\n",
              "              style=\"display:none;\">\n",
              "        \n",
              "  <svg xmlns=\"http://www.w3.org/2000/svg\" height=\"24px\"viewBox=\"0 0 24 24\"\n",
              "       width=\"24px\">\n",
              "    <path d=\"M0 0h24v24H0V0z\" fill=\"none\"/>\n",
              "    <path d=\"M18.56 5.44l.94 2.06.94-2.06 2.06-.94-2.06-.94-.94-2.06-.94 2.06-2.06.94zm-11 1L8.5 8.5l.94-2.06 2.06-.94-2.06-.94L8.5 2.5l-.94 2.06-2.06.94zm10 10l.94 2.06.94-2.06 2.06-.94-2.06-.94-.94-2.06-.94 2.06-2.06.94z\"/><path d=\"M17.41 7.96l-1.37-1.37c-.4-.4-.92-.59-1.43-.59-.52 0-1.04.2-1.43.59L10.3 9.45l-7.72 7.72c-.78.78-.78 2.05 0 2.83L4 21.41c.39.39.9.59 1.41.59.51 0 1.02-.2 1.41-.59l7.78-7.78 2.81-2.81c.8-.78.8-2.07 0-2.86zM5.41 20L4 18.59l7.72-7.72 1.47 1.35L5.41 20z\"/>\n",
              "  </svg>\n",
              "      </button>\n",
              "      \n",
              "  <style>\n",
              "    .colab-df-container {\n",
              "      display:flex;\n",
              "      flex-wrap:wrap;\n",
              "      gap: 12px;\n",
              "    }\n",
              "\n",
              "    .colab-df-convert {\n",
              "      background-color: #E8F0FE;\n",
              "      border: none;\n",
              "      border-radius: 50%;\n",
              "      cursor: pointer;\n",
              "      display: none;\n",
              "      fill: #1967D2;\n",
              "      height: 32px;\n",
              "      padding: 0 0 0 0;\n",
              "      width: 32px;\n",
              "    }\n",
              "\n",
              "    .colab-df-convert:hover {\n",
              "      background-color: #E2EBFA;\n",
              "      box-shadow: 0px 1px 2px rgba(60, 64, 67, 0.3), 0px 1px 3px 1px rgba(60, 64, 67, 0.15);\n",
              "      fill: #174EA6;\n",
              "    }\n",
              "\n",
              "    [theme=dark] .colab-df-convert {\n",
              "      background-color: #3B4455;\n",
              "      fill: #D2E3FC;\n",
              "    }\n",
              "\n",
              "    [theme=dark] .colab-df-convert:hover {\n",
              "      background-color: #434B5C;\n",
              "      box-shadow: 0px 1px 3px 1px rgba(0, 0, 0, 0.15);\n",
              "      filter: drop-shadow(0px 1px 2px rgba(0, 0, 0, 0.3));\n",
              "      fill: #FFFFFF;\n",
              "    }\n",
              "  </style>\n",
              "\n",
              "      <script>\n",
              "        const buttonEl =\n",
              "          document.querySelector('#df-99ce5b84-4e60-43af-944d-41cf1e51a96a button.colab-df-convert');\n",
              "        buttonEl.style.display =\n",
              "          google.colab.kernel.accessAllowed ? 'block' : 'none';\n",
              "\n",
              "        async function convertToInteractive(key) {\n",
              "          const element = document.querySelector('#df-99ce5b84-4e60-43af-944d-41cf1e51a96a');\n",
              "          const dataTable =\n",
              "            await google.colab.kernel.invokeFunction('convertToInteractive',\n",
              "                                                     [key], {});\n",
              "          if (!dataTable) return;\n",
              "\n",
              "          const docLinkHtml = 'Like what you see? Visit the ' +\n",
              "            '<a target=\"_blank\" href=https://colab.research.google.com/notebooks/data_table.ipynb>data table notebook</a>'\n",
              "            + ' to learn more about interactive tables.';\n",
              "          element.innerHTML = '';\n",
              "          dataTable['output_type'] = 'display_data';\n",
              "          await google.colab.output.renderOutput(dataTable, element);\n",
              "          const docLink = document.createElement('div');\n",
              "          docLink.innerHTML = docLinkHtml;\n",
              "          element.appendChild(docLink);\n",
              "        }\n",
              "      </script>\n",
              "    </div>\n",
              "  </div>\n",
              "  "
            ]
          },
          "metadata": {},
          "execution_count": 61
        }
      ],
      "source": [
        "import pandas as pd\n",
        "df = pd.DataFrame({'col1':[1,2,3,4],'col2':[444,555,666,444],'col3':['abc','def','ghi','xyz']})\n",
        "df.head()"
      ]
    },
    {
      "cell_type": "markdown",
      "metadata": {
        "id": "oS2h5C4mlPR9"
      },
      "source": [
        "### Info on Unique Values"
      ]
    },
    {
      "cell_type": "code",
      "execution_count": 62,
      "metadata": {
        "id": "0uBz8uqglPR9",
        "colab": {
          "base_uri": "https://localhost:8080/"
        },
        "outputId": "a61bdf44-f794-4d49-c06b-60e141f3e0de"
      },
      "outputs": [
        {
          "output_type": "execute_result",
          "data": {
            "text/plain": [
              "array([444, 555, 666])"
            ]
          },
          "metadata": {},
          "execution_count": 62
        }
      ],
      "source": [
        "df['col2'].unique()"
      ]
    },
    {
      "cell_type": "code",
      "execution_count": 63,
      "metadata": {
        "id": "mBOxjtVilPR9",
        "colab": {
          "base_uri": "https://localhost:8080/"
        },
        "outputId": "9b9606c5-b32d-48bf-b226-7aa8b8df3946"
      },
      "outputs": [
        {
          "output_type": "execute_result",
          "data": {
            "text/plain": [
              "3"
            ]
          },
          "metadata": {},
          "execution_count": 63
        }
      ],
      "source": [
        "df['col2'].nunique()"
      ]
    },
    {
      "cell_type": "code",
      "execution_count": 64,
      "metadata": {
        "id": "H3StRPNFlPR9",
        "colab": {
          "base_uri": "https://localhost:8080/"
        },
        "outputId": "006b22ce-2b78-40cd-d0eb-d8bea6e1c081"
      },
      "outputs": [
        {
          "output_type": "execute_result",
          "data": {
            "text/plain": [
              "444    2\n",
              "555    1\n",
              "666    1\n",
              "Name: col2, dtype: int64"
            ]
          },
          "metadata": {},
          "execution_count": 64
        }
      ],
      "source": [
        "df['col2'].value_counts()"
      ]
    },
    {
      "cell_type": "markdown",
      "metadata": {
        "id": "q6ALHPPWlPR9"
      },
      "source": [
        "### Selecting Data"
      ]
    },
    {
      "cell_type": "code",
      "execution_count": 65,
      "metadata": {
        "id": "bTkvYbdklPR9"
      },
      "outputs": [],
      "source": [
        "#Select from DataFrame using criteria from multiple columns\n",
        "newdf = df[(df['col1']>2) & (df['col2']==444)]"
      ]
    },
    {
      "cell_type": "code",
      "execution_count": 66,
      "metadata": {
        "id": "Z46yRUiZlPR-",
        "colab": {
          "base_uri": "https://localhost:8080/",
          "height": 101
        },
        "outputId": "63bc1250-8297-4c6c-cc5e-e9b16f743741"
      },
      "outputs": [
        {
          "output_type": "execute_result",
          "data": {
            "text/plain": [
              "   col1  col2 col3\n",
              "3     4   444  xyz"
            ],
            "text/html": [
              "\n",
              "  <div id=\"df-8d933fd3-a640-4b63-aa42-03c8b15c0c20\">\n",
              "    <div class=\"colab-df-container\">\n",
              "      <div>\n",
              "<style scoped>\n",
              "    .dataframe tbody tr th:only-of-type {\n",
              "        vertical-align: middle;\n",
              "    }\n",
              "\n",
              "    .dataframe tbody tr th {\n",
              "        vertical-align: top;\n",
              "    }\n",
              "\n",
              "    .dataframe thead th {\n",
              "        text-align: right;\n",
              "    }\n",
              "</style>\n",
              "<table border=\"1\" class=\"dataframe\">\n",
              "  <thead>\n",
              "    <tr style=\"text-align: right;\">\n",
              "      <th></th>\n",
              "      <th>col1</th>\n",
              "      <th>col2</th>\n",
              "      <th>col3</th>\n",
              "    </tr>\n",
              "  </thead>\n",
              "  <tbody>\n",
              "    <tr>\n",
              "      <th>3</th>\n",
              "      <td>4</td>\n",
              "      <td>444</td>\n",
              "      <td>xyz</td>\n",
              "    </tr>\n",
              "  </tbody>\n",
              "</table>\n",
              "</div>\n",
              "      <button class=\"colab-df-convert\" onclick=\"convertToInteractive('df-8d933fd3-a640-4b63-aa42-03c8b15c0c20')\"\n",
              "              title=\"Convert this dataframe to an interactive table.\"\n",
              "              style=\"display:none;\">\n",
              "        \n",
              "  <svg xmlns=\"http://www.w3.org/2000/svg\" height=\"24px\"viewBox=\"0 0 24 24\"\n",
              "       width=\"24px\">\n",
              "    <path d=\"M0 0h24v24H0V0z\" fill=\"none\"/>\n",
              "    <path d=\"M18.56 5.44l.94 2.06.94-2.06 2.06-.94-2.06-.94-.94-2.06-.94 2.06-2.06.94zm-11 1L8.5 8.5l.94-2.06 2.06-.94-2.06-.94L8.5 2.5l-.94 2.06-2.06.94zm10 10l.94 2.06.94-2.06 2.06-.94-2.06-.94-.94-2.06-.94 2.06-2.06.94z\"/><path d=\"M17.41 7.96l-1.37-1.37c-.4-.4-.92-.59-1.43-.59-.52 0-1.04.2-1.43.59L10.3 9.45l-7.72 7.72c-.78.78-.78 2.05 0 2.83L4 21.41c.39.39.9.59 1.41.59.51 0 1.02-.2 1.41-.59l7.78-7.78 2.81-2.81c.8-.78.8-2.07 0-2.86zM5.41 20L4 18.59l7.72-7.72 1.47 1.35L5.41 20z\"/>\n",
              "  </svg>\n",
              "      </button>\n",
              "      \n",
              "  <style>\n",
              "    .colab-df-container {\n",
              "      display:flex;\n",
              "      flex-wrap:wrap;\n",
              "      gap: 12px;\n",
              "    }\n",
              "\n",
              "    .colab-df-convert {\n",
              "      background-color: #E8F0FE;\n",
              "      border: none;\n",
              "      border-radius: 50%;\n",
              "      cursor: pointer;\n",
              "      display: none;\n",
              "      fill: #1967D2;\n",
              "      height: 32px;\n",
              "      padding: 0 0 0 0;\n",
              "      width: 32px;\n",
              "    }\n",
              "\n",
              "    .colab-df-convert:hover {\n",
              "      background-color: #E2EBFA;\n",
              "      box-shadow: 0px 1px 2px rgba(60, 64, 67, 0.3), 0px 1px 3px 1px rgba(60, 64, 67, 0.15);\n",
              "      fill: #174EA6;\n",
              "    }\n",
              "\n",
              "    [theme=dark] .colab-df-convert {\n",
              "      background-color: #3B4455;\n",
              "      fill: #D2E3FC;\n",
              "    }\n",
              "\n",
              "    [theme=dark] .colab-df-convert:hover {\n",
              "      background-color: #434B5C;\n",
              "      box-shadow: 0px 1px 3px 1px rgba(0, 0, 0, 0.15);\n",
              "      filter: drop-shadow(0px 1px 2px rgba(0, 0, 0, 0.3));\n",
              "      fill: #FFFFFF;\n",
              "    }\n",
              "  </style>\n",
              "\n",
              "      <script>\n",
              "        const buttonEl =\n",
              "          document.querySelector('#df-8d933fd3-a640-4b63-aa42-03c8b15c0c20 button.colab-df-convert');\n",
              "        buttonEl.style.display =\n",
              "          google.colab.kernel.accessAllowed ? 'block' : 'none';\n",
              "\n",
              "        async function convertToInteractive(key) {\n",
              "          const element = document.querySelector('#df-8d933fd3-a640-4b63-aa42-03c8b15c0c20');\n",
              "          const dataTable =\n",
              "            await google.colab.kernel.invokeFunction('convertToInteractive',\n",
              "                                                     [key], {});\n",
              "          if (!dataTable) return;\n",
              "\n",
              "          const docLinkHtml = 'Like what you see? Visit the ' +\n",
              "            '<a target=\"_blank\" href=https://colab.research.google.com/notebooks/data_table.ipynb>data table notebook</a>'\n",
              "            + ' to learn more about interactive tables.';\n",
              "          element.innerHTML = '';\n",
              "          dataTable['output_type'] = 'display_data';\n",
              "          await google.colab.output.renderOutput(dataTable, element);\n",
              "          const docLink = document.createElement('div');\n",
              "          docLink.innerHTML = docLinkHtml;\n",
              "          element.appendChild(docLink);\n",
              "        }\n",
              "      </script>\n",
              "    </div>\n",
              "  </div>\n",
              "  "
            ]
          },
          "metadata": {},
          "execution_count": 66
        }
      ],
      "source": [
        "newdf"
      ]
    },
    {
      "cell_type": "markdown",
      "metadata": {
        "id": "InhK9qUVlPR-"
      },
      "source": [
        "### Applying Functions"
      ]
    },
    {
      "cell_type": "code",
      "execution_count": 67,
      "metadata": {
        "id": "pcis_XCWlPR-"
      },
      "outputs": [],
      "source": [
        "def times2(x):\n",
        "    return x*2"
      ]
    },
    {
      "cell_type": "code",
      "execution_count": 68,
      "metadata": {
        "id": "9kep-VX0lPR-",
        "colab": {
          "base_uri": "https://localhost:8080/"
        },
        "outputId": "ff01f3df-a6b1-4265-e55e-beda6b88d1b7"
      },
      "outputs": [
        {
          "output_type": "execute_result",
          "data": {
            "text/plain": [
              "0    2\n",
              "1    4\n",
              "2    6\n",
              "3    8\n",
              "Name: col1, dtype: int64"
            ]
          },
          "metadata": {},
          "execution_count": 68
        }
      ],
      "source": [
        "df['col1'].apply(times2)"
      ]
    },
    {
      "cell_type": "code",
      "execution_count": 69,
      "metadata": {
        "id": "Zuw2YdqglPR-",
        "colab": {
          "base_uri": "https://localhost:8080/"
        },
        "outputId": "d5970ae7-0434-4a2b-f644-ee0030157715"
      },
      "outputs": [
        {
          "output_type": "execute_result",
          "data": {
            "text/plain": [
              "0    3\n",
              "1    3\n",
              "2    3\n",
              "3    3\n",
              "Name: col3, dtype: int64"
            ]
          },
          "metadata": {},
          "execution_count": 69
        }
      ],
      "source": [
        "df['col3'].apply(len)"
      ]
    },
    {
      "cell_type": "code",
      "execution_count": 70,
      "metadata": {
        "id": "FmmTx3dFlPR-",
        "colab": {
          "base_uri": "https://localhost:8080/"
        },
        "outputId": "aacf601b-af4a-4f08-890c-38188d03c472"
      },
      "outputs": [
        {
          "output_type": "execute_result",
          "data": {
            "text/plain": [
              "10"
            ]
          },
          "metadata": {},
          "execution_count": 70
        }
      ],
      "source": [
        "df['col1'].sum()"
      ]
    },
    {
      "cell_type": "markdown",
      "metadata": {
        "id": "rtpo-A5jlPR-"
      },
      "source": [
        "### Permanently Removing a Column"
      ]
    },
    {
      "cell_type": "code",
      "execution_count": 71,
      "metadata": {
        "id": "b-2ZlRbxlPR-"
      },
      "outputs": [],
      "source": [
        "del df['col1']"
      ]
    },
    {
      "cell_type": "code",
      "execution_count": 72,
      "metadata": {
        "id": "Cxh1JOsRlPR_",
        "colab": {
          "base_uri": "https://localhost:8080/",
          "height": 226
        },
        "outputId": "b0e7203f-6029-4bae-9119-6c01f56579e4"
      },
      "outputs": [
        {
          "output_type": "execute_result",
          "data": {
            "text/plain": [
              "   col2 col3\n",
              "0   444  abc\n",
              "1   555  def\n",
              "2   666  ghi\n",
              "3   444  xyz"
            ],
            "text/html": [
              "\n",
              "  <div id=\"df-b9039cb9-f109-4398-ab99-629d35e3136d\">\n",
              "    <div class=\"colab-df-container\">\n",
              "      <div>\n",
              "<style scoped>\n",
              "    .dataframe tbody tr th:only-of-type {\n",
              "        vertical-align: middle;\n",
              "    }\n",
              "\n",
              "    .dataframe tbody tr th {\n",
              "        vertical-align: top;\n",
              "    }\n",
              "\n",
              "    .dataframe thead th {\n",
              "        text-align: right;\n",
              "    }\n",
              "</style>\n",
              "<table border=\"1\" class=\"dataframe\">\n",
              "  <thead>\n",
              "    <tr style=\"text-align: right;\">\n",
              "      <th></th>\n",
              "      <th>col2</th>\n",
              "      <th>col3</th>\n",
              "    </tr>\n",
              "  </thead>\n",
              "  <tbody>\n",
              "    <tr>\n",
              "      <th>0</th>\n",
              "      <td>444</td>\n",
              "      <td>abc</td>\n",
              "    </tr>\n",
              "    <tr>\n",
              "      <th>1</th>\n",
              "      <td>555</td>\n",
              "      <td>def</td>\n",
              "    </tr>\n",
              "    <tr>\n",
              "      <th>2</th>\n",
              "      <td>666</td>\n",
              "      <td>ghi</td>\n",
              "    </tr>\n",
              "    <tr>\n",
              "      <th>3</th>\n",
              "      <td>444</td>\n",
              "      <td>xyz</td>\n",
              "    </tr>\n",
              "  </tbody>\n",
              "</table>\n",
              "</div>\n",
              "      <button class=\"colab-df-convert\" onclick=\"convertToInteractive('df-b9039cb9-f109-4398-ab99-629d35e3136d')\"\n",
              "              title=\"Convert this dataframe to an interactive table.\"\n",
              "              style=\"display:none;\">\n",
              "        \n",
              "  <svg xmlns=\"http://www.w3.org/2000/svg\" height=\"24px\"viewBox=\"0 0 24 24\"\n",
              "       width=\"24px\">\n",
              "    <path d=\"M0 0h24v24H0V0z\" fill=\"none\"/>\n",
              "    <path d=\"M18.56 5.44l.94 2.06.94-2.06 2.06-.94-2.06-.94-.94-2.06-.94 2.06-2.06.94zm-11 1L8.5 8.5l.94-2.06 2.06-.94-2.06-.94L8.5 2.5l-.94 2.06-2.06.94zm10 10l.94 2.06.94-2.06 2.06-.94-2.06-.94-.94-2.06-.94 2.06-2.06.94z\"/><path d=\"M17.41 7.96l-1.37-1.37c-.4-.4-.92-.59-1.43-.59-.52 0-1.04.2-1.43.59L10.3 9.45l-7.72 7.72c-.78.78-.78 2.05 0 2.83L4 21.41c.39.39.9.59 1.41.59.51 0 1.02-.2 1.41-.59l7.78-7.78 2.81-2.81c.8-.78.8-2.07 0-2.86zM5.41 20L4 18.59l7.72-7.72 1.47 1.35L5.41 20z\"/>\n",
              "  </svg>\n",
              "      </button>\n",
              "      \n",
              "  <style>\n",
              "    .colab-df-container {\n",
              "      display:flex;\n",
              "      flex-wrap:wrap;\n",
              "      gap: 12px;\n",
              "    }\n",
              "\n",
              "    .colab-df-convert {\n",
              "      background-color: #E8F0FE;\n",
              "      border: none;\n",
              "      border-radius: 50%;\n",
              "      cursor: pointer;\n",
              "      display: none;\n",
              "      fill: #1967D2;\n",
              "      height: 32px;\n",
              "      padding: 0 0 0 0;\n",
              "      width: 32px;\n",
              "    }\n",
              "\n",
              "    .colab-df-convert:hover {\n",
              "      background-color: #E2EBFA;\n",
              "      box-shadow: 0px 1px 2px rgba(60, 64, 67, 0.3), 0px 1px 3px 1px rgba(60, 64, 67, 0.15);\n",
              "      fill: #174EA6;\n",
              "    }\n",
              "\n",
              "    [theme=dark] .colab-df-convert {\n",
              "      background-color: #3B4455;\n",
              "      fill: #D2E3FC;\n",
              "    }\n",
              "\n",
              "    [theme=dark] .colab-df-convert:hover {\n",
              "      background-color: #434B5C;\n",
              "      box-shadow: 0px 1px 3px 1px rgba(0, 0, 0, 0.15);\n",
              "      filter: drop-shadow(0px 1px 2px rgba(0, 0, 0, 0.3));\n",
              "      fill: #FFFFFF;\n",
              "    }\n",
              "  </style>\n",
              "\n",
              "      <script>\n",
              "        const buttonEl =\n",
              "          document.querySelector('#df-b9039cb9-f109-4398-ab99-629d35e3136d button.colab-df-convert');\n",
              "        buttonEl.style.display =\n",
              "          google.colab.kernel.accessAllowed ? 'block' : 'none';\n",
              "\n",
              "        async function convertToInteractive(key) {\n",
              "          const element = document.querySelector('#df-b9039cb9-f109-4398-ab99-629d35e3136d');\n",
              "          const dataTable =\n",
              "            await google.colab.kernel.invokeFunction('convertToInteractive',\n",
              "                                                     [key], {});\n",
              "          if (!dataTable) return;\n",
              "\n",
              "          const docLinkHtml = 'Like what you see? Visit the ' +\n",
              "            '<a target=\"_blank\" href=https://colab.research.google.com/notebooks/data_table.ipynb>data table notebook</a>'\n",
              "            + ' to learn more about interactive tables.';\n",
              "          element.innerHTML = '';\n",
              "          dataTable['output_type'] = 'display_data';\n",
              "          await google.colab.output.renderOutput(dataTable, element);\n",
              "          const docLink = document.createElement('div');\n",
              "          docLink.innerHTML = docLinkHtml;\n",
              "          element.appendChild(docLink);\n",
              "        }\n",
              "      </script>\n",
              "    </div>\n",
              "  </div>\n",
              "  "
            ]
          },
          "metadata": {},
          "execution_count": 72
        }
      ],
      "source": [
        "df"
      ]
    },
    {
      "cell_type": "markdown",
      "metadata": {
        "id": "DoCcw9NNlPR_"
      },
      "source": [
        "### Get column and index names:"
      ]
    },
    {
      "cell_type": "code",
      "execution_count": 73,
      "metadata": {
        "id": "oVPrvsuDlPR_",
        "colab": {
          "base_uri": "https://localhost:8080/"
        },
        "outputId": "fc854a08-056d-494a-c141-0b7063f7c5ac"
      },
      "outputs": [
        {
          "output_type": "execute_result",
          "data": {
            "text/plain": [
              "Index(['col2', 'col3'], dtype='object')"
            ]
          },
          "metadata": {},
          "execution_count": 73
        }
      ],
      "source": [
        "df.columns"
      ]
    },
    {
      "cell_type": "code",
      "execution_count": 74,
      "metadata": {
        "id": "eOPGnsEblPR_",
        "colab": {
          "base_uri": "https://localhost:8080/"
        },
        "outputId": "bff168ef-d619-486b-920e-63ed0bfa6b3b"
      },
      "outputs": [
        {
          "output_type": "execute_result",
          "data": {
            "text/plain": [
              "RangeIndex(start=0, stop=4, step=1)"
            ]
          },
          "metadata": {},
          "execution_count": 74
        }
      ],
      "source": [
        "df.index"
      ]
    },
    {
      "cell_type": "markdown",
      "metadata": {
        "id": "ewogpoGVlPR_"
      },
      "source": [
        "### Sorting and Ordering a DataFrame:"
      ]
    },
    {
      "cell_type": "code",
      "execution_count": 75,
      "metadata": {
        "id": "tEhOgIH8lPR_",
        "colab": {
          "base_uri": "https://localhost:8080/",
          "height": 226
        },
        "outputId": "08ed505e-7ce9-4635-f4d2-5fa772fb1f55"
      },
      "outputs": [
        {
          "output_type": "execute_result",
          "data": {
            "text/plain": [
              "   col2 col3\n",
              "0   444  abc\n",
              "1   555  def\n",
              "2   666  ghi\n",
              "3   444  xyz"
            ],
            "text/html": [
              "\n",
              "  <div id=\"df-e7d4b75f-43ea-4ec6-b2b9-6533a038f90a\">\n",
              "    <div class=\"colab-df-container\">\n",
              "      <div>\n",
              "<style scoped>\n",
              "    .dataframe tbody tr th:only-of-type {\n",
              "        vertical-align: middle;\n",
              "    }\n",
              "\n",
              "    .dataframe tbody tr th {\n",
              "        vertical-align: top;\n",
              "    }\n",
              "\n",
              "    .dataframe thead th {\n",
              "        text-align: right;\n",
              "    }\n",
              "</style>\n",
              "<table border=\"1\" class=\"dataframe\">\n",
              "  <thead>\n",
              "    <tr style=\"text-align: right;\">\n",
              "      <th></th>\n",
              "      <th>col2</th>\n",
              "      <th>col3</th>\n",
              "    </tr>\n",
              "  </thead>\n",
              "  <tbody>\n",
              "    <tr>\n",
              "      <th>0</th>\n",
              "      <td>444</td>\n",
              "      <td>abc</td>\n",
              "    </tr>\n",
              "    <tr>\n",
              "      <th>1</th>\n",
              "      <td>555</td>\n",
              "      <td>def</td>\n",
              "    </tr>\n",
              "    <tr>\n",
              "      <th>2</th>\n",
              "      <td>666</td>\n",
              "      <td>ghi</td>\n",
              "    </tr>\n",
              "    <tr>\n",
              "      <th>3</th>\n",
              "      <td>444</td>\n",
              "      <td>xyz</td>\n",
              "    </tr>\n",
              "  </tbody>\n",
              "</table>\n",
              "</div>\n",
              "      <button class=\"colab-df-convert\" onclick=\"convertToInteractive('df-e7d4b75f-43ea-4ec6-b2b9-6533a038f90a')\"\n",
              "              title=\"Convert this dataframe to an interactive table.\"\n",
              "              style=\"display:none;\">\n",
              "        \n",
              "  <svg xmlns=\"http://www.w3.org/2000/svg\" height=\"24px\"viewBox=\"0 0 24 24\"\n",
              "       width=\"24px\">\n",
              "    <path d=\"M0 0h24v24H0V0z\" fill=\"none\"/>\n",
              "    <path d=\"M18.56 5.44l.94 2.06.94-2.06 2.06-.94-2.06-.94-.94-2.06-.94 2.06-2.06.94zm-11 1L8.5 8.5l.94-2.06 2.06-.94-2.06-.94L8.5 2.5l-.94 2.06-2.06.94zm10 10l.94 2.06.94-2.06 2.06-.94-2.06-.94-.94-2.06-.94 2.06-2.06.94z\"/><path d=\"M17.41 7.96l-1.37-1.37c-.4-.4-.92-.59-1.43-.59-.52 0-1.04.2-1.43.59L10.3 9.45l-7.72 7.72c-.78.78-.78 2.05 0 2.83L4 21.41c.39.39.9.59 1.41.59.51 0 1.02-.2 1.41-.59l7.78-7.78 2.81-2.81c.8-.78.8-2.07 0-2.86zM5.41 20L4 18.59l7.72-7.72 1.47 1.35L5.41 20z\"/>\n",
              "  </svg>\n",
              "      </button>\n",
              "      \n",
              "  <style>\n",
              "    .colab-df-container {\n",
              "      display:flex;\n",
              "      flex-wrap:wrap;\n",
              "      gap: 12px;\n",
              "    }\n",
              "\n",
              "    .colab-df-convert {\n",
              "      background-color: #E8F0FE;\n",
              "      border: none;\n",
              "      border-radius: 50%;\n",
              "      cursor: pointer;\n",
              "      display: none;\n",
              "      fill: #1967D2;\n",
              "      height: 32px;\n",
              "      padding: 0 0 0 0;\n",
              "      width: 32px;\n",
              "    }\n",
              "\n",
              "    .colab-df-convert:hover {\n",
              "      background-color: #E2EBFA;\n",
              "      box-shadow: 0px 1px 2px rgba(60, 64, 67, 0.3), 0px 1px 3px 1px rgba(60, 64, 67, 0.15);\n",
              "      fill: #174EA6;\n",
              "    }\n",
              "\n",
              "    [theme=dark] .colab-df-convert {\n",
              "      background-color: #3B4455;\n",
              "      fill: #D2E3FC;\n",
              "    }\n",
              "\n",
              "    [theme=dark] .colab-df-convert:hover {\n",
              "      background-color: #434B5C;\n",
              "      box-shadow: 0px 1px 3px 1px rgba(0, 0, 0, 0.15);\n",
              "      filter: drop-shadow(0px 1px 2px rgba(0, 0, 0, 0.3));\n",
              "      fill: #FFFFFF;\n",
              "    }\n",
              "  </style>\n",
              "\n",
              "      <script>\n",
              "        const buttonEl =\n",
              "          document.querySelector('#df-e7d4b75f-43ea-4ec6-b2b9-6533a038f90a button.colab-df-convert');\n",
              "        buttonEl.style.display =\n",
              "          google.colab.kernel.accessAllowed ? 'block' : 'none';\n",
              "\n",
              "        async function convertToInteractive(key) {\n",
              "          const element = document.querySelector('#df-e7d4b75f-43ea-4ec6-b2b9-6533a038f90a');\n",
              "          const dataTable =\n",
              "            await google.colab.kernel.invokeFunction('convertToInteractive',\n",
              "                                                     [key], {});\n",
              "          if (!dataTable) return;\n",
              "\n",
              "          const docLinkHtml = 'Like what you see? Visit the ' +\n",
              "            '<a target=\"_blank\" href=https://colab.research.google.com/notebooks/data_table.ipynb>data table notebook</a>'\n",
              "            + ' to learn more about interactive tables.';\n",
              "          element.innerHTML = '';\n",
              "          dataTable['output_type'] = 'display_data';\n",
              "          await google.colab.output.renderOutput(dataTable, element);\n",
              "          const docLink = document.createElement('div');\n",
              "          docLink.innerHTML = docLinkHtml;\n",
              "          element.appendChild(docLink);\n",
              "        }\n",
              "      </script>\n",
              "    </div>\n",
              "  </div>\n",
              "  "
            ]
          },
          "metadata": {},
          "execution_count": 75
        }
      ],
      "source": [
        "df"
      ]
    },
    {
      "cell_type": "code",
      "execution_count": 76,
      "metadata": {
        "id": "0aLZCMZhlPR_",
        "colab": {
          "base_uri": "https://localhost:8080/",
          "height": 226
        },
        "outputId": "406ec862-c644-4c92-816a-f6cd3936d151"
      },
      "outputs": [
        {
          "output_type": "execute_result",
          "data": {
            "text/plain": [
              "   col2 col3\n",
              "0   444  abc\n",
              "3   444  xyz\n",
              "1   555  def\n",
              "2   666  ghi"
            ],
            "text/html": [
              "\n",
              "  <div id=\"df-ea922927-f8f6-49ba-8902-76cbca3995f7\">\n",
              "    <div class=\"colab-df-container\">\n",
              "      <div>\n",
              "<style scoped>\n",
              "    .dataframe tbody tr th:only-of-type {\n",
              "        vertical-align: middle;\n",
              "    }\n",
              "\n",
              "    .dataframe tbody tr th {\n",
              "        vertical-align: top;\n",
              "    }\n",
              "\n",
              "    .dataframe thead th {\n",
              "        text-align: right;\n",
              "    }\n",
              "</style>\n",
              "<table border=\"1\" class=\"dataframe\">\n",
              "  <thead>\n",
              "    <tr style=\"text-align: right;\">\n",
              "      <th></th>\n",
              "      <th>col2</th>\n",
              "      <th>col3</th>\n",
              "    </tr>\n",
              "  </thead>\n",
              "  <tbody>\n",
              "    <tr>\n",
              "      <th>0</th>\n",
              "      <td>444</td>\n",
              "      <td>abc</td>\n",
              "    </tr>\n",
              "    <tr>\n",
              "      <th>3</th>\n",
              "      <td>444</td>\n",
              "      <td>xyz</td>\n",
              "    </tr>\n",
              "    <tr>\n",
              "      <th>1</th>\n",
              "      <td>555</td>\n",
              "      <td>def</td>\n",
              "    </tr>\n",
              "    <tr>\n",
              "      <th>2</th>\n",
              "      <td>666</td>\n",
              "      <td>ghi</td>\n",
              "    </tr>\n",
              "  </tbody>\n",
              "</table>\n",
              "</div>\n",
              "      <button class=\"colab-df-convert\" onclick=\"convertToInteractive('df-ea922927-f8f6-49ba-8902-76cbca3995f7')\"\n",
              "              title=\"Convert this dataframe to an interactive table.\"\n",
              "              style=\"display:none;\">\n",
              "        \n",
              "  <svg xmlns=\"http://www.w3.org/2000/svg\" height=\"24px\"viewBox=\"0 0 24 24\"\n",
              "       width=\"24px\">\n",
              "    <path d=\"M0 0h24v24H0V0z\" fill=\"none\"/>\n",
              "    <path d=\"M18.56 5.44l.94 2.06.94-2.06 2.06-.94-2.06-.94-.94-2.06-.94 2.06-2.06.94zm-11 1L8.5 8.5l.94-2.06 2.06-.94-2.06-.94L8.5 2.5l-.94 2.06-2.06.94zm10 10l.94 2.06.94-2.06 2.06-.94-2.06-.94-.94-2.06-.94 2.06-2.06.94z\"/><path d=\"M17.41 7.96l-1.37-1.37c-.4-.4-.92-.59-1.43-.59-.52 0-1.04.2-1.43.59L10.3 9.45l-7.72 7.72c-.78.78-.78 2.05 0 2.83L4 21.41c.39.39.9.59 1.41.59.51 0 1.02-.2 1.41-.59l7.78-7.78 2.81-2.81c.8-.78.8-2.07 0-2.86zM5.41 20L4 18.59l7.72-7.72 1.47 1.35L5.41 20z\"/>\n",
              "  </svg>\n",
              "      </button>\n",
              "      \n",
              "  <style>\n",
              "    .colab-df-container {\n",
              "      display:flex;\n",
              "      flex-wrap:wrap;\n",
              "      gap: 12px;\n",
              "    }\n",
              "\n",
              "    .colab-df-convert {\n",
              "      background-color: #E8F0FE;\n",
              "      border: none;\n",
              "      border-radius: 50%;\n",
              "      cursor: pointer;\n",
              "      display: none;\n",
              "      fill: #1967D2;\n",
              "      height: 32px;\n",
              "      padding: 0 0 0 0;\n",
              "      width: 32px;\n",
              "    }\n",
              "\n",
              "    .colab-df-convert:hover {\n",
              "      background-color: #E2EBFA;\n",
              "      box-shadow: 0px 1px 2px rgba(60, 64, 67, 0.3), 0px 1px 3px 1px rgba(60, 64, 67, 0.15);\n",
              "      fill: #174EA6;\n",
              "    }\n",
              "\n",
              "    [theme=dark] .colab-df-convert {\n",
              "      background-color: #3B4455;\n",
              "      fill: #D2E3FC;\n",
              "    }\n",
              "\n",
              "    [theme=dark] .colab-df-convert:hover {\n",
              "      background-color: #434B5C;\n",
              "      box-shadow: 0px 1px 3px 1px rgba(0, 0, 0, 0.15);\n",
              "      filter: drop-shadow(0px 1px 2px rgba(0, 0, 0, 0.3));\n",
              "      fill: #FFFFFF;\n",
              "    }\n",
              "  </style>\n",
              "\n",
              "      <script>\n",
              "        const buttonEl =\n",
              "          document.querySelector('#df-ea922927-f8f6-49ba-8902-76cbca3995f7 button.colab-df-convert');\n",
              "        buttonEl.style.display =\n",
              "          google.colab.kernel.accessAllowed ? 'block' : 'none';\n",
              "\n",
              "        async function convertToInteractive(key) {\n",
              "          const element = document.querySelector('#df-ea922927-f8f6-49ba-8902-76cbca3995f7');\n",
              "          const dataTable =\n",
              "            await google.colab.kernel.invokeFunction('convertToInteractive',\n",
              "                                                     [key], {});\n",
              "          if (!dataTable) return;\n",
              "\n",
              "          const docLinkHtml = 'Like what you see? Visit the ' +\n",
              "            '<a target=\"_blank\" href=https://colab.research.google.com/notebooks/data_table.ipynb>data table notebook</a>'\n",
              "            + ' to learn more about interactive tables.';\n",
              "          element.innerHTML = '';\n",
              "          dataTable['output_type'] = 'display_data';\n",
              "          await google.colab.output.renderOutput(dataTable, element);\n",
              "          const docLink = document.createElement('div');\n",
              "          docLink.innerHTML = docLinkHtml;\n",
              "          element.appendChild(docLink);\n",
              "        }\n",
              "      </script>\n",
              "    </div>\n",
              "  </div>\n",
              "  "
            ]
          },
          "metadata": {},
          "execution_count": 76
        }
      ],
      "source": [
        "df.sort_values(by='col2') #inplace=False by default"
      ]
    },
    {
      "cell_type": "code",
      "execution_count": 76,
      "metadata": {
        "id": "uSDKBSmYfBEK"
      },
      "outputs": [],
      "source": []
    },
    {
      "cell_type": "markdown",
      "metadata": {
        "id": "rp8J_F2M8IQ6"
      },
      "source": [
        "# Data Pre-processing: \n",
        "* Data preprocessing involves set of steps which are used to make data more efficient, more relevant, and suitable to use for machine learning and further data mining processes\n",
        "\n",
        "\n",
        "# Need of Data preprocessing:\n",
        "* Data in real world is quite dirty.  Data collection methods are often loosely controlled.That result into - \n",
        " * Incomplete data:  Missing important values\n",
        " * Noisy data:  Data that contains outliers, or data for e.g.  Age as negative value\n",
        " * Inconsistent data:  Data containing impossible combinations like year of birth 1990 and age50.\n",
        " * Duplicate data:  This data may cause misleading statistics and hence may affect predictions.\n",
        "    \n",
        "### Throughout this notebook, we will learn some data pre-processing methods."
      ]
    },
    {
      "cell_type": "markdown",
      "metadata": {
        "id": "HylGUu-O8IRE"
      },
      "source": [
        "### 1. Data Loading\n",
        "* Normally we load dataset using pandas.\n",
        "* Here as we are using .csv file we are loading it using pd.read_csv command.\n",
        "* Dataset used here is Ames House dataset. (Source - https://www.kaggle.com/datasets/prevek18/ames-housing-dataset)\n",
        "* Here the column named purchased is dependent column."
      ]
    },
    {
      "cell_type": "code",
      "source": [
        "#Mounting a Google Drive\n",
        "!pip install kora -q\n",
        "from kora import drive\n",
        "drive.mount(\"/content/drive/\")\n",
        "drive.link_nbs()"
      ],
      "metadata": {
        "colab": {
          "base_uri": "https://localhost:8080/"
        },
        "id": "sxKI57ktnddl",
        "outputId": "96e54d9d-f90a-4cb6-c4a3-a86a41d638cc"
      },
      "execution_count": 77,
      "outputs": [
        {
          "output_type": "stream",
          "name": "stdout",
          "text": [
            "Drive already mounted at /content/drive/; to attempt to forcibly remount, call drive.mount(\"/content/drive/\", force_remount=True).\n"
          ]
        }
      ]
    },
    {
      "cell_type": "code",
      "execution_count": 78,
      "metadata": {
        "id": "Zoh6RMFR8IRL"
      },
      "outputs": [],
      "source": [
        "import pandas as pd\n",
        "#Specifying file path\n",
        "base_file_path = \"/content/drive/MyDrive/Colab Notebooks/ML Lab TA Work/w2/\"\n",
        "#Reading data using pandas\n",
        "df = pd.read_csv(base_file_path + 'Ames_Housing_Data_Demo.csv')"
      ]
    },
    {
      "cell_type": "code",
      "execution_count": 79,
      "metadata": {
        "id": "Els7rDFD8IRO",
        "colab": {
          "base_uri": "https://localhost:8080/",
          "height": 599
        },
        "outputId": "dab97aac-4c50-456e-e287-20695d3420c1"
      },
      "outputs": [
        {
          "output_type": "execute_result",
          "data": {
            "text/plain": [
              "         PID  MS SubClass MS Zoning  Lot Frontage  Lot Area Street Alley  \\\n",
              "0  526301100           20        RL         141.0     31770   Pave   NaN   \n",
              "1  526350040           20        RH          80.0     11622   Pave   NaN   \n",
              "2  526351010           20        RL          81.0     14267   Pave   NaN   \n",
              "3  526353030           20        RL          93.0     11160   Pave   NaN   \n",
              "4  527105010           60        RL          74.0     13830   Pave   NaN   \n",
              "5  527105030           60        RL          78.0      9978   Pave   NaN   \n",
              "6  527127150          120        RL          41.0      4920   Pave   NaN   \n",
              "7  527145080          120        RL          43.0      5005   Pave   NaN   \n",
              "8  527146030          120        RL          39.0      5389   Pave   NaN   \n",
              "9  527162130           60        RL          60.0      7500   Pave   NaN   \n",
              "\n",
              "  Lot Shape Land Contour Utilities  ... Pool Area Pool QC  Fence Misc Feature  \\\n",
              "0       IR1          Lvl    AllPub  ...         0     NaN    NaN          NaN   \n",
              "1       Reg          Lvl    AllPub  ...         0     NaN  MnPrv          NaN   \n",
              "2       IR1          Lvl    AllPub  ...         0     NaN    NaN         Gar2   \n",
              "3       Reg          Lvl    AllPub  ...         0     NaN    NaN          NaN   \n",
              "4       IR1          Lvl    AllPub  ...         0     NaN  MnPrv          NaN   \n",
              "5       IR1          Lvl    AllPub  ...         0     NaN    NaN          NaN   \n",
              "6       Reg          Lvl    AllPub  ...         0     NaN    NaN          NaN   \n",
              "7       IR1          HLS    AllPub  ...         0     NaN    NaN          NaN   \n",
              "8       IR1          Lvl    AllPub  ...         0     NaN    NaN          NaN   \n",
              "9       Reg          Lvl    AllPub  ...         0     NaN    NaN          NaN   \n",
              "\n",
              "  Misc Val Mo Sold Yr Sold  Sale Type  Sale Condition  SalePrice  \n",
              "0        0       5    2010        WD           Normal     215000  \n",
              "1        0       6    2010        WD           Normal     105000  \n",
              "2    12500       6    2010        WD           Normal     172000  \n",
              "3        0       4    2010        WD           Normal     244000  \n",
              "4        0       3    2010        WD           Normal     189900  \n",
              "5        0       6    2010        WD           Normal     195500  \n",
              "6        0       4    2010        WD           Normal     213500  \n",
              "7        0       1    2010        WD           Normal     191500  \n",
              "8        0       3    2010        WD           Normal     236500  \n",
              "9        0       6    2010        WD           Normal     189000  \n",
              "\n",
              "[10 rows x 81 columns]"
            ],
            "text/html": [
              "\n",
              "  <div id=\"df-3cb1ea35-04a5-4317-b1db-8bff29aec7cd\">\n",
              "    <div class=\"colab-df-container\">\n",
              "      <div>\n",
              "<style scoped>\n",
              "    .dataframe tbody tr th:only-of-type {\n",
              "        vertical-align: middle;\n",
              "    }\n",
              "\n",
              "    .dataframe tbody tr th {\n",
              "        vertical-align: top;\n",
              "    }\n",
              "\n",
              "    .dataframe thead th {\n",
              "        text-align: right;\n",
              "    }\n",
              "</style>\n",
              "<table border=\"1\" class=\"dataframe\">\n",
              "  <thead>\n",
              "    <tr style=\"text-align: right;\">\n",
              "      <th></th>\n",
              "      <th>PID</th>\n",
              "      <th>MS SubClass</th>\n",
              "      <th>MS Zoning</th>\n",
              "      <th>Lot Frontage</th>\n",
              "      <th>Lot Area</th>\n",
              "      <th>Street</th>\n",
              "      <th>Alley</th>\n",
              "      <th>Lot Shape</th>\n",
              "      <th>Land Contour</th>\n",
              "      <th>Utilities</th>\n",
              "      <th>...</th>\n",
              "      <th>Pool Area</th>\n",
              "      <th>Pool QC</th>\n",
              "      <th>Fence</th>\n",
              "      <th>Misc Feature</th>\n",
              "      <th>Misc Val</th>\n",
              "      <th>Mo Sold</th>\n",
              "      <th>Yr Sold</th>\n",
              "      <th>Sale Type</th>\n",
              "      <th>Sale Condition</th>\n",
              "      <th>SalePrice</th>\n",
              "    </tr>\n",
              "  </thead>\n",
              "  <tbody>\n",
              "    <tr>\n",
              "      <th>0</th>\n",
              "      <td>526301100</td>\n",
              "      <td>20</td>\n",
              "      <td>RL</td>\n",
              "      <td>141.0</td>\n",
              "      <td>31770</td>\n",
              "      <td>Pave</td>\n",
              "      <td>NaN</td>\n",
              "      <td>IR1</td>\n",
              "      <td>Lvl</td>\n",
              "      <td>AllPub</td>\n",
              "      <td>...</td>\n",
              "      <td>0</td>\n",
              "      <td>NaN</td>\n",
              "      <td>NaN</td>\n",
              "      <td>NaN</td>\n",
              "      <td>0</td>\n",
              "      <td>5</td>\n",
              "      <td>2010</td>\n",
              "      <td>WD</td>\n",
              "      <td>Normal</td>\n",
              "      <td>215000</td>\n",
              "    </tr>\n",
              "    <tr>\n",
              "      <th>1</th>\n",
              "      <td>526350040</td>\n",
              "      <td>20</td>\n",
              "      <td>RH</td>\n",
              "      <td>80.0</td>\n",
              "      <td>11622</td>\n",
              "      <td>Pave</td>\n",
              "      <td>NaN</td>\n",
              "      <td>Reg</td>\n",
              "      <td>Lvl</td>\n",
              "      <td>AllPub</td>\n",
              "      <td>...</td>\n",
              "      <td>0</td>\n",
              "      <td>NaN</td>\n",
              "      <td>MnPrv</td>\n",
              "      <td>NaN</td>\n",
              "      <td>0</td>\n",
              "      <td>6</td>\n",
              "      <td>2010</td>\n",
              "      <td>WD</td>\n",
              "      <td>Normal</td>\n",
              "      <td>105000</td>\n",
              "    </tr>\n",
              "    <tr>\n",
              "      <th>2</th>\n",
              "      <td>526351010</td>\n",
              "      <td>20</td>\n",
              "      <td>RL</td>\n",
              "      <td>81.0</td>\n",
              "      <td>14267</td>\n",
              "      <td>Pave</td>\n",
              "      <td>NaN</td>\n",
              "      <td>IR1</td>\n",
              "      <td>Lvl</td>\n",
              "      <td>AllPub</td>\n",
              "      <td>...</td>\n",
              "      <td>0</td>\n",
              "      <td>NaN</td>\n",
              "      <td>NaN</td>\n",
              "      <td>Gar2</td>\n",
              "      <td>12500</td>\n",
              "      <td>6</td>\n",
              "      <td>2010</td>\n",
              "      <td>WD</td>\n",
              "      <td>Normal</td>\n",
              "      <td>172000</td>\n",
              "    </tr>\n",
              "    <tr>\n",
              "      <th>3</th>\n",
              "      <td>526353030</td>\n",
              "      <td>20</td>\n",
              "      <td>RL</td>\n",
              "      <td>93.0</td>\n",
              "      <td>11160</td>\n",
              "      <td>Pave</td>\n",
              "      <td>NaN</td>\n",
              "      <td>Reg</td>\n",
              "      <td>Lvl</td>\n",
              "      <td>AllPub</td>\n",
              "      <td>...</td>\n",
              "      <td>0</td>\n",
              "      <td>NaN</td>\n",
              "      <td>NaN</td>\n",
              "      <td>NaN</td>\n",
              "      <td>0</td>\n",
              "      <td>4</td>\n",
              "      <td>2010</td>\n",
              "      <td>WD</td>\n",
              "      <td>Normal</td>\n",
              "      <td>244000</td>\n",
              "    </tr>\n",
              "    <tr>\n",
              "      <th>4</th>\n",
              "      <td>527105010</td>\n",
              "      <td>60</td>\n",
              "      <td>RL</td>\n",
              "      <td>74.0</td>\n",
              "      <td>13830</td>\n",
              "      <td>Pave</td>\n",
              "      <td>NaN</td>\n",
              "      <td>IR1</td>\n",
              "      <td>Lvl</td>\n",
              "      <td>AllPub</td>\n",
              "      <td>...</td>\n",
              "      <td>0</td>\n",
              "      <td>NaN</td>\n",
              "      <td>MnPrv</td>\n",
              "      <td>NaN</td>\n",
              "      <td>0</td>\n",
              "      <td>3</td>\n",
              "      <td>2010</td>\n",
              "      <td>WD</td>\n",
              "      <td>Normal</td>\n",
              "      <td>189900</td>\n",
              "    </tr>\n",
              "    <tr>\n",
              "      <th>5</th>\n",
              "      <td>527105030</td>\n",
              "      <td>60</td>\n",
              "      <td>RL</td>\n",
              "      <td>78.0</td>\n",
              "      <td>9978</td>\n",
              "      <td>Pave</td>\n",
              "      <td>NaN</td>\n",
              "      <td>IR1</td>\n",
              "      <td>Lvl</td>\n",
              "      <td>AllPub</td>\n",
              "      <td>...</td>\n",
              "      <td>0</td>\n",
              "      <td>NaN</td>\n",
              "      <td>NaN</td>\n",
              "      <td>NaN</td>\n",
              "      <td>0</td>\n",
              "      <td>6</td>\n",
              "      <td>2010</td>\n",
              "      <td>WD</td>\n",
              "      <td>Normal</td>\n",
              "      <td>195500</td>\n",
              "    </tr>\n",
              "    <tr>\n",
              "      <th>6</th>\n",
              "      <td>527127150</td>\n",
              "      <td>120</td>\n",
              "      <td>RL</td>\n",
              "      <td>41.0</td>\n",
              "      <td>4920</td>\n",
              "      <td>Pave</td>\n",
              "      <td>NaN</td>\n",
              "      <td>Reg</td>\n",
              "      <td>Lvl</td>\n",
              "      <td>AllPub</td>\n",
              "      <td>...</td>\n",
              "      <td>0</td>\n",
              "      <td>NaN</td>\n",
              "      <td>NaN</td>\n",
              "      <td>NaN</td>\n",
              "      <td>0</td>\n",
              "      <td>4</td>\n",
              "      <td>2010</td>\n",
              "      <td>WD</td>\n",
              "      <td>Normal</td>\n",
              "      <td>213500</td>\n",
              "    </tr>\n",
              "    <tr>\n",
              "      <th>7</th>\n",
              "      <td>527145080</td>\n",
              "      <td>120</td>\n",
              "      <td>RL</td>\n",
              "      <td>43.0</td>\n",
              "      <td>5005</td>\n",
              "      <td>Pave</td>\n",
              "      <td>NaN</td>\n",
              "      <td>IR1</td>\n",
              "      <td>HLS</td>\n",
              "      <td>AllPub</td>\n",
              "      <td>...</td>\n",
              "      <td>0</td>\n",
              "      <td>NaN</td>\n",
              "      <td>NaN</td>\n",
              "      <td>NaN</td>\n",
              "      <td>0</td>\n",
              "      <td>1</td>\n",
              "      <td>2010</td>\n",
              "      <td>WD</td>\n",
              "      <td>Normal</td>\n",
              "      <td>191500</td>\n",
              "    </tr>\n",
              "    <tr>\n",
              "      <th>8</th>\n",
              "      <td>527146030</td>\n",
              "      <td>120</td>\n",
              "      <td>RL</td>\n",
              "      <td>39.0</td>\n",
              "      <td>5389</td>\n",
              "      <td>Pave</td>\n",
              "      <td>NaN</td>\n",
              "      <td>IR1</td>\n",
              "      <td>Lvl</td>\n",
              "      <td>AllPub</td>\n",
              "      <td>...</td>\n",
              "      <td>0</td>\n",
              "      <td>NaN</td>\n",
              "      <td>NaN</td>\n",
              "      <td>NaN</td>\n",
              "      <td>0</td>\n",
              "      <td>3</td>\n",
              "      <td>2010</td>\n",
              "      <td>WD</td>\n",
              "      <td>Normal</td>\n",
              "      <td>236500</td>\n",
              "    </tr>\n",
              "    <tr>\n",
              "      <th>9</th>\n",
              "      <td>527162130</td>\n",
              "      <td>60</td>\n",
              "      <td>RL</td>\n",
              "      <td>60.0</td>\n",
              "      <td>7500</td>\n",
              "      <td>Pave</td>\n",
              "      <td>NaN</td>\n",
              "      <td>Reg</td>\n",
              "      <td>Lvl</td>\n",
              "      <td>AllPub</td>\n",
              "      <td>...</td>\n",
              "      <td>0</td>\n",
              "      <td>NaN</td>\n",
              "      <td>NaN</td>\n",
              "      <td>NaN</td>\n",
              "      <td>0</td>\n",
              "      <td>6</td>\n",
              "      <td>2010</td>\n",
              "      <td>WD</td>\n",
              "      <td>Normal</td>\n",
              "      <td>189000</td>\n",
              "    </tr>\n",
              "  </tbody>\n",
              "</table>\n",
              "<p>10 rows × 81 columns</p>\n",
              "</div>\n",
              "      <button class=\"colab-df-convert\" onclick=\"convertToInteractive('df-3cb1ea35-04a5-4317-b1db-8bff29aec7cd')\"\n",
              "              title=\"Convert this dataframe to an interactive table.\"\n",
              "              style=\"display:none;\">\n",
              "        \n",
              "  <svg xmlns=\"http://www.w3.org/2000/svg\" height=\"24px\"viewBox=\"0 0 24 24\"\n",
              "       width=\"24px\">\n",
              "    <path d=\"M0 0h24v24H0V0z\" fill=\"none\"/>\n",
              "    <path d=\"M18.56 5.44l.94 2.06.94-2.06 2.06-.94-2.06-.94-.94-2.06-.94 2.06-2.06.94zm-11 1L8.5 8.5l.94-2.06 2.06-.94-2.06-.94L8.5 2.5l-.94 2.06-2.06.94zm10 10l.94 2.06.94-2.06 2.06-.94-2.06-.94-.94-2.06-.94 2.06-2.06.94z\"/><path d=\"M17.41 7.96l-1.37-1.37c-.4-.4-.92-.59-1.43-.59-.52 0-1.04.2-1.43.59L10.3 9.45l-7.72 7.72c-.78.78-.78 2.05 0 2.83L4 21.41c.39.39.9.59 1.41.59.51 0 1.02-.2 1.41-.59l7.78-7.78 2.81-2.81c.8-.78.8-2.07 0-2.86zM5.41 20L4 18.59l7.72-7.72 1.47 1.35L5.41 20z\"/>\n",
              "  </svg>\n",
              "      </button>\n",
              "      \n",
              "  <style>\n",
              "    .colab-df-container {\n",
              "      display:flex;\n",
              "      flex-wrap:wrap;\n",
              "      gap: 12px;\n",
              "    }\n",
              "\n",
              "    .colab-df-convert {\n",
              "      background-color: #E8F0FE;\n",
              "      border: none;\n",
              "      border-radius: 50%;\n",
              "      cursor: pointer;\n",
              "      display: none;\n",
              "      fill: #1967D2;\n",
              "      height: 32px;\n",
              "      padding: 0 0 0 0;\n",
              "      width: 32px;\n",
              "    }\n",
              "\n",
              "    .colab-df-convert:hover {\n",
              "      background-color: #E2EBFA;\n",
              "      box-shadow: 0px 1px 2px rgba(60, 64, 67, 0.3), 0px 1px 3px 1px rgba(60, 64, 67, 0.15);\n",
              "      fill: #174EA6;\n",
              "    }\n",
              "\n",
              "    [theme=dark] .colab-df-convert {\n",
              "      background-color: #3B4455;\n",
              "      fill: #D2E3FC;\n",
              "    }\n",
              "\n",
              "    [theme=dark] .colab-df-convert:hover {\n",
              "      background-color: #434B5C;\n",
              "      box-shadow: 0px 1px 3px 1px rgba(0, 0, 0, 0.15);\n",
              "      filter: drop-shadow(0px 1px 2px rgba(0, 0, 0, 0.3));\n",
              "      fill: #FFFFFF;\n",
              "    }\n",
              "  </style>\n",
              "\n",
              "      <script>\n",
              "        const buttonEl =\n",
              "          document.querySelector('#df-3cb1ea35-04a5-4317-b1db-8bff29aec7cd button.colab-df-convert');\n",
              "        buttonEl.style.display =\n",
              "          google.colab.kernel.accessAllowed ? 'block' : 'none';\n",
              "\n",
              "        async function convertToInteractive(key) {\n",
              "          const element = document.querySelector('#df-3cb1ea35-04a5-4317-b1db-8bff29aec7cd');\n",
              "          const dataTable =\n",
              "            await google.colab.kernel.invokeFunction('convertToInteractive',\n",
              "                                                     [key], {});\n",
              "          if (!dataTable) return;\n",
              "\n",
              "          const docLinkHtml = 'Like what you see? Visit the ' +\n",
              "            '<a target=\"_blank\" href=https://colab.research.google.com/notebooks/data_table.ipynb>data table notebook</a>'\n",
              "            + ' to learn more about interactive tables.';\n",
              "          element.innerHTML = '';\n",
              "          dataTable['output_type'] = 'display_data';\n",
              "          await google.colab.output.renderOutput(dataTable, element);\n",
              "          const docLink = document.createElement('div');\n",
              "          docLink.innerHTML = docLinkHtml;\n",
              "          element.appendChild(docLink);\n",
              "        }\n",
              "      </script>\n",
              "    </div>\n",
              "  </div>\n",
              "  "
            ]
          },
          "metadata": {},
          "execution_count": 79
        }
      ],
      "source": [
        "#Display top 10 rows of data\n",
        "df.head(10)"
      ]
    },
    {
      "cell_type": "code",
      "execution_count": 80,
      "metadata": {
        "id": "cJXmAzTZ8IRS",
        "colab": {
          "base_uri": "https://localhost:8080/",
          "height": 307
        },
        "outputId": "0b5ca9ba-5c08-4cb7-93ca-d5c7ec294861"
      },
      "outputs": [
        {
          "output_type": "execute_result",
          "data": {
            "text/plain": [
              "   MS SubClass MS Zoning  Lot Frontage  Lot Area Street Alley Lot Shape  \\\n",
              "0           20        RL         141.0     31770   Pave   NaN       IR1   \n",
              "1           20        RH          80.0     11622   Pave   NaN       Reg   \n",
              "2           20        RL          81.0     14267   Pave   NaN       IR1   \n",
              "\n",
              "  Land Contour Utilities Lot Config  ... Pool Area Pool QC  Fence  \\\n",
              "0          Lvl    AllPub     Corner  ...         0     NaN    NaN   \n",
              "1          Lvl    AllPub     Inside  ...         0     NaN  MnPrv   \n",
              "2          Lvl    AllPub     Corner  ...         0     NaN    NaN   \n",
              "\n",
              "  Misc Feature Misc Val Mo Sold  Yr Sold  Sale Type  Sale Condition  SalePrice  \n",
              "0          NaN        0       5     2010        WD           Normal     215000  \n",
              "1          NaN        0       6     2010        WD           Normal     105000  \n",
              "2         Gar2    12500       6     2010        WD           Normal     172000  \n",
              "\n",
              "[3 rows x 80 columns]"
            ],
            "text/html": [
              "\n",
              "  <div id=\"df-cb3d9d9a-ec48-4afa-a3c2-7be78d28b482\">\n",
              "    <div class=\"colab-df-container\">\n",
              "      <div>\n",
              "<style scoped>\n",
              "    .dataframe tbody tr th:only-of-type {\n",
              "        vertical-align: middle;\n",
              "    }\n",
              "\n",
              "    .dataframe tbody tr th {\n",
              "        vertical-align: top;\n",
              "    }\n",
              "\n",
              "    .dataframe thead th {\n",
              "        text-align: right;\n",
              "    }\n",
              "</style>\n",
              "<table border=\"1\" class=\"dataframe\">\n",
              "  <thead>\n",
              "    <tr style=\"text-align: right;\">\n",
              "      <th></th>\n",
              "      <th>MS SubClass</th>\n",
              "      <th>MS Zoning</th>\n",
              "      <th>Lot Frontage</th>\n",
              "      <th>Lot Area</th>\n",
              "      <th>Street</th>\n",
              "      <th>Alley</th>\n",
              "      <th>Lot Shape</th>\n",
              "      <th>Land Contour</th>\n",
              "      <th>Utilities</th>\n",
              "      <th>Lot Config</th>\n",
              "      <th>...</th>\n",
              "      <th>Pool Area</th>\n",
              "      <th>Pool QC</th>\n",
              "      <th>Fence</th>\n",
              "      <th>Misc Feature</th>\n",
              "      <th>Misc Val</th>\n",
              "      <th>Mo Sold</th>\n",
              "      <th>Yr Sold</th>\n",
              "      <th>Sale Type</th>\n",
              "      <th>Sale Condition</th>\n",
              "      <th>SalePrice</th>\n",
              "    </tr>\n",
              "  </thead>\n",
              "  <tbody>\n",
              "    <tr>\n",
              "      <th>0</th>\n",
              "      <td>20</td>\n",
              "      <td>RL</td>\n",
              "      <td>141.0</td>\n",
              "      <td>31770</td>\n",
              "      <td>Pave</td>\n",
              "      <td>NaN</td>\n",
              "      <td>IR1</td>\n",
              "      <td>Lvl</td>\n",
              "      <td>AllPub</td>\n",
              "      <td>Corner</td>\n",
              "      <td>...</td>\n",
              "      <td>0</td>\n",
              "      <td>NaN</td>\n",
              "      <td>NaN</td>\n",
              "      <td>NaN</td>\n",
              "      <td>0</td>\n",
              "      <td>5</td>\n",
              "      <td>2010</td>\n",
              "      <td>WD</td>\n",
              "      <td>Normal</td>\n",
              "      <td>215000</td>\n",
              "    </tr>\n",
              "    <tr>\n",
              "      <th>1</th>\n",
              "      <td>20</td>\n",
              "      <td>RH</td>\n",
              "      <td>80.0</td>\n",
              "      <td>11622</td>\n",
              "      <td>Pave</td>\n",
              "      <td>NaN</td>\n",
              "      <td>Reg</td>\n",
              "      <td>Lvl</td>\n",
              "      <td>AllPub</td>\n",
              "      <td>Inside</td>\n",
              "      <td>...</td>\n",
              "      <td>0</td>\n",
              "      <td>NaN</td>\n",
              "      <td>MnPrv</td>\n",
              "      <td>NaN</td>\n",
              "      <td>0</td>\n",
              "      <td>6</td>\n",
              "      <td>2010</td>\n",
              "      <td>WD</td>\n",
              "      <td>Normal</td>\n",
              "      <td>105000</td>\n",
              "    </tr>\n",
              "    <tr>\n",
              "      <th>2</th>\n",
              "      <td>20</td>\n",
              "      <td>RL</td>\n",
              "      <td>81.0</td>\n",
              "      <td>14267</td>\n",
              "      <td>Pave</td>\n",
              "      <td>NaN</td>\n",
              "      <td>IR1</td>\n",
              "      <td>Lvl</td>\n",
              "      <td>AllPub</td>\n",
              "      <td>Corner</td>\n",
              "      <td>...</td>\n",
              "      <td>0</td>\n",
              "      <td>NaN</td>\n",
              "      <td>NaN</td>\n",
              "      <td>Gar2</td>\n",
              "      <td>12500</td>\n",
              "      <td>6</td>\n",
              "      <td>2010</td>\n",
              "      <td>WD</td>\n",
              "      <td>Normal</td>\n",
              "      <td>172000</td>\n",
              "    </tr>\n",
              "  </tbody>\n",
              "</table>\n",
              "<p>3 rows × 80 columns</p>\n",
              "</div>\n",
              "      <button class=\"colab-df-convert\" onclick=\"convertToInteractive('df-cb3d9d9a-ec48-4afa-a3c2-7be78d28b482')\"\n",
              "              title=\"Convert this dataframe to an interactive table.\"\n",
              "              style=\"display:none;\">\n",
              "        \n",
              "  <svg xmlns=\"http://www.w3.org/2000/svg\" height=\"24px\"viewBox=\"0 0 24 24\"\n",
              "       width=\"24px\">\n",
              "    <path d=\"M0 0h24v24H0V0z\" fill=\"none\"/>\n",
              "    <path d=\"M18.56 5.44l.94 2.06.94-2.06 2.06-.94-2.06-.94-.94-2.06-.94 2.06-2.06.94zm-11 1L8.5 8.5l.94-2.06 2.06-.94-2.06-.94L8.5 2.5l-.94 2.06-2.06.94zm10 10l.94 2.06.94-2.06 2.06-.94-2.06-.94-.94-2.06-.94 2.06-2.06.94z\"/><path d=\"M17.41 7.96l-1.37-1.37c-.4-.4-.92-.59-1.43-.59-.52 0-1.04.2-1.43.59L10.3 9.45l-7.72 7.72c-.78.78-.78 2.05 0 2.83L4 21.41c.39.39.9.59 1.41.59.51 0 1.02-.2 1.41-.59l7.78-7.78 2.81-2.81c.8-.78.8-2.07 0-2.86zM5.41 20L4 18.59l7.72-7.72 1.47 1.35L5.41 20z\"/>\n",
              "  </svg>\n",
              "      </button>\n",
              "      \n",
              "  <style>\n",
              "    .colab-df-container {\n",
              "      display:flex;\n",
              "      flex-wrap:wrap;\n",
              "      gap: 12px;\n",
              "    }\n",
              "\n",
              "    .colab-df-convert {\n",
              "      background-color: #E8F0FE;\n",
              "      border: none;\n",
              "      border-radius: 50%;\n",
              "      cursor: pointer;\n",
              "      display: none;\n",
              "      fill: #1967D2;\n",
              "      height: 32px;\n",
              "      padding: 0 0 0 0;\n",
              "      width: 32px;\n",
              "    }\n",
              "\n",
              "    .colab-df-convert:hover {\n",
              "      background-color: #E2EBFA;\n",
              "      box-shadow: 0px 1px 2px rgba(60, 64, 67, 0.3), 0px 1px 3px 1px rgba(60, 64, 67, 0.15);\n",
              "      fill: #174EA6;\n",
              "    }\n",
              "\n",
              "    [theme=dark] .colab-df-convert {\n",
              "      background-color: #3B4455;\n",
              "      fill: #D2E3FC;\n",
              "    }\n",
              "\n",
              "    [theme=dark] .colab-df-convert:hover {\n",
              "      background-color: #434B5C;\n",
              "      box-shadow: 0px 1px 3px 1px rgba(0, 0, 0, 0.15);\n",
              "      filter: drop-shadow(0px 1px 2px rgba(0, 0, 0, 0.3));\n",
              "      fill: #FFFFFF;\n",
              "    }\n",
              "  </style>\n",
              "\n",
              "      <script>\n",
              "        const buttonEl =\n",
              "          document.querySelector('#df-cb3d9d9a-ec48-4afa-a3c2-7be78d28b482 button.colab-df-convert');\n",
              "        buttonEl.style.display =\n",
              "          google.colab.kernel.accessAllowed ? 'block' : 'none';\n",
              "\n",
              "        async function convertToInteractive(key) {\n",
              "          const element = document.querySelector('#df-cb3d9d9a-ec48-4afa-a3c2-7be78d28b482');\n",
              "          const dataTable =\n",
              "            await google.colab.kernel.invokeFunction('convertToInteractive',\n",
              "                                                     [key], {});\n",
              "          if (!dataTable) return;\n",
              "\n",
              "          const docLinkHtml = 'Like what you see? Visit the ' +\n",
              "            '<a target=\"_blank\" href=https://colab.research.google.com/notebooks/data_table.ipynb>data table notebook</a>'\n",
              "            + ' to learn more about interactive tables.';\n",
              "          element.innerHTML = '';\n",
              "          dataTable['output_type'] = 'display_data';\n",
              "          await google.colab.output.renderOutput(dataTable, element);\n",
              "          const docLink = document.createElement('div');\n",
              "          docLink.innerHTML = docLinkHtml;\n",
              "          element.appendChild(docLink);\n",
              "        }\n",
              "      </script>\n",
              "    </div>\n",
              "  </div>\n",
              "  "
            ]
          },
          "metadata": {},
          "execution_count": 80
        }
      ],
      "source": [
        "#Delete extra row\n",
        "df = df.drop('PID',axis=1)\n",
        "df.head(3)"
      ]
    },
    {
      "cell_type": "markdown",
      "source": [
        "### Data Analysis"
      ],
      "metadata": {
        "id": "7B9YTFOHxzYq"
      }
    },
    {
      "cell_type": "code",
      "source": [
        "#To know columns\n",
        "print(df.columns)\n",
        "#To length of columns\n",
        "print(len(df.columns))"
      ],
      "metadata": {
        "id": "91g3WaMxx3H3",
        "colab": {
          "base_uri": "https://localhost:8080/"
        },
        "outputId": "95eec0eb-48f9-4ab3-92c4-b5f1a3185ffc"
      },
      "execution_count": 81,
      "outputs": [
        {
          "output_type": "stream",
          "name": "stdout",
          "text": [
            "Index(['MS SubClass', 'MS Zoning', 'Lot Frontage', 'Lot Area', 'Street',\n",
            "       'Alley', 'Lot Shape', 'Land Contour', 'Utilities', 'Lot Config',\n",
            "       'Land Slope', 'Neighborhood', 'Condition 1', 'Condition 2', 'Bldg Type',\n",
            "       'House Style', 'Overall Qual', 'Overall Cond', 'Year Built',\n",
            "       'Year Remod/Add', 'Roof Style', 'Roof Matl', 'Exterior 1st',\n",
            "       'Exterior 2nd', 'Mas Vnr Type', 'Mas Vnr Area', 'Exter Qual',\n",
            "       'Exter Cond', 'Foundation', 'Bsmt Qual', 'Bsmt Cond', 'Bsmt Exposure',\n",
            "       'BsmtFin Type 1', 'BsmtFin SF 1', 'BsmtFin Type 2', 'BsmtFin SF 2',\n",
            "       'Bsmt Unf SF', 'Total Bsmt SF', 'Heating', 'Heating QC', 'Central Air',\n",
            "       'Electrical', '1st Flr SF', '2nd Flr SF', 'Low Qual Fin SF',\n",
            "       'Gr Liv Area', 'Bsmt Full Bath', 'Bsmt Half Bath', 'Full Bath',\n",
            "       'Half Bath', 'Bedroom AbvGr', 'Kitchen AbvGr', 'Kitchen Qual',\n",
            "       'TotRms AbvGrd', 'Functional', 'Fireplaces', 'Fireplace Qu',\n",
            "       'Garage Type', 'Garage Yr Blt', 'Garage Finish', 'Garage Cars',\n",
            "       'Garage Area', 'Garage Qual', 'Garage Cond', 'Paved Drive',\n",
            "       'Wood Deck SF', 'Open Porch SF', 'Enclosed Porch', '3Ssn Porch',\n",
            "       'Screen Porch', 'Pool Area', 'Pool QC', 'Fence', 'Misc Feature',\n",
            "       'Misc Val', 'Mo Sold', 'Yr Sold', 'Sale Type', 'Sale Condition',\n",
            "       'SalePrice'],\n",
            "      dtype='object')\n",
            "80\n"
          ]
        }
      ]
    },
    {
      "cell_type": "code",
      "source": [
        "# Info about dataframe \n",
        "df.info()"
      ],
      "metadata": {
        "id": "seNP1TyGzDsv",
        "colab": {
          "base_uri": "https://localhost:8080/"
        },
        "outputId": "a1e3cc8c-9b83-46e9-9dbe-39ef834a837b"
      },
      "execution_count": 82,
      "outputs": [
        {
          "output_type": "stream",
          "name": "stdout",
          "text": [
            "<class 'pandas.core.frame.DataFrame'>\n",
            "RangeIndex: 2930 entries, 0 to 2929\n",
            "Data columns (total 80 columns):\n",
            " #   Column           Non-Null Count  Dtype  \n",
            "---  ------           --------------  -----  \n",
            " 0   MS SubClass      2930 non-null   int64  \n",
            " 1   MS Zoning        2930 non-null   object \n",
            " 2   Lot Frontage     2440 non-null   float64\n",
            " 3   Lot Area         2930 non-null   int64  \n",
            " 4   Street           2930 non-null   object \n",
            " 5   Alley            198 non-null    object \n",
            " 6   Lot Shape        2930 non-null   object \n",
            " 7   Land Contour     2930 non-null   object \n",
            " 8   Utilities        2930 non-null   object \n",
            " 9   Lot Config       2930 non-null   object \n",
            " 10  Land Slope       2930 non-null   object \n",
            " 11  Neighborhood     2930 non-null   object \n",
            " 12  Condition 1      2930 non-null   object \n",
            " 13  Condition 2      2930 non-null   object \n",
            " 14  Bldg Type        2930 non-null   object \n",
            " 15  House Style      2930 non-null   object \n",
            " 16  Overall Qual     2930 non-null   int64  \n",
            " 17  Overall Cond     2930 non-null   int64  \n",
            " 18  Year Built       2930 non-null   int64  \n",
            " 19  Year Remod/Add   2930 non-null   int64  \n",
            " 20  Roof Style       2930 non-null   object \n",
            " 21  Roof Matl        2930 non-null   object \n",
            " 22  Exterior 1st     2930 non-null   object \n",
            " 23  Exterior 2nd     2930 non-null   object \n",
            " 24  Mas Vnr Type     2907 non-null   object \n",
            " 25  Mas Vnr Area     2907 non-null   float64\n",
            " 26  Exter Qual       2930 non-null   object \n",
            " 27  Exter Cond       2930 non-null   object \n",
            " 28  Foundation       2930 non-null   object \n",
            " 29  Bsmt Qual        2850 non-null   object \n",
            " 30  Bsmt Cond        2850 non-null   object \n",
            " 31  Bsmt Exposure    2847 non-null   object \n",
            " 32  BsmtFin Type 1   2850 non-null   object \n",
            " 33  BsmtFin SF 1     2929 non-null   float64\n",
            " 34  BsmtFin Type 2   2849 non-null   object \n",
            " 35  BsmtFin SF 2     2929 non-null   float64\n",
            " 36  Bsmt Unf SF      2929 non-null   float64\n",
            " 37  Total Bsmt SF    2929 non-null   float64\n",
            " 38  Heating          2930 non-null   object \n",
            " 39  Heating QC       2930 non-null   object \n",
            " 40  Central Air      2930 non-null   object \n",
            " 41  Electrical       2929 non-null   object \n",
            " 42  1st Flr SF       2930 non-null   int64  \n",
            " 43  2nd Flr SF       2930 non-null   int64  \n",
            " 44  Low Qual Fin SF  2930 non-null   int64  \n",
            " 45  Gr Liv Area      2930 non-null   int64  \n",
            " 46  Bsmt Full Bath   2928 non-null   float64\n",
            " 47  Bsmt Half Bath   2928 non-null   float64\n",
            " 48  Full Bath        2930 non-null   int64  \n",
            " 49  Half Bath        2930 non-null   int64  \n",
            " 50  Bedroom AbvGr    2930 non-null   int64  \n",
            " 51  Kitchen AbvGr    2930 non-null   int64  \n",
            " 52  Kitchen Qual     2930 non-null   object \n",
            " 53  TotRms AbvGrd    2930 non-null   int64  \n",
            " 54  Functional       2930 non-null   object \n",
            " 55  Fireplaces       2930 non-null   int64  \n",
            " 56  Fireplace Qu     1508 non-null   object \n",
            " 57  Garage Type      2773 non-null   object \n",
            " 58  Garage Yr Blt    2771 non-null   float64\n",
            " 59  Garage Finish    2771 non-null   object \n",
            " 60  Garage Cars      2929 non-null   float64\n",
            " 61  Garage Area      2929 non-null   float64\n",
            " 62  Garage Qual      2771 non-null   object \n",
            " 63  Garage Cond      2771 non-null   object \n",
            " 64  Paved Drive      2930 non-null   object \n",
            " 65  Wood Deck SF     2930 non-null   int64  \n",
            " 66  Open Porch SF    2930 non-null   int64  \n",
            " 67  Enclosed Porch   2930 non-null   int64  \n",
            " 68  3Ssn Porch       2930 non-null   int64  \n",
            " 69  Screen Porch     2930 non-null   int64  \n",
            " 70  Pool Area        2930 non-null   int64  \n",
            " 71  Pool QC          13 non-null     object \n",
            " 72  Fence            572 non-null    object \n",
            " 73  Misc Feature     106 non-null    object \n",
            " 74  Misc Val         2930 non-null   int64  \n",
            " 75  Mo Sold          2930 non-null   int64  \n",
            " 76  Yr Sold          2930 non-null   int64  \n",
            " 77  Sale Type        2930 non-null   object \n",
            " 78  Sale Condition   2930 non-null   object \n",
            " 79  SalePrice        2930 non-null   int64  \n",
            "dtypes: float64(11), int64(26), object(43)\n",
            "memory usage: 1.8+ MB\n"
          ]
        }
      ]
    },
    {
      "cell_type": "code",
      "source": [
        "import seaborn as sns\n",
        "\n",
        "#To check distribution of sale price of target data\n",
        "sns.distplot(df[\"SalePrice\"])"
      ],
      "metadata": {
        "id": "TUI605Fb0BR6",
        "colab": {
          "base_uri": "https://localhost:8080/",
          "height": 379
        },
        "outputId": "db893e86-09b5-4364-b19a-fbf19a3902f8"
      },
      "execution_count": 83,
      "outputs": [
        {
          "output_type": "stream",
          "name": "stderr",
          "text": [
            "/usr/local/lib/python3.7/dist-packages/seaborn/distributions.py:2619: FutureWarning: `distplot` is a deprecated function and will be removed in a future version. Please adapt your code to use either `displot` (a figure-level function with similar flexibility) or `histplot` (an axes-level function for histograms).\n",
            "  warnings.warn(msg, FutureWarning)\n"
          ]
        },
        {
          "output_type": "execute_result",
          "data": {
            "text/plain": [
              "<matplotlib.axes._subplots.AxesSubplot at 0x7fdec4bfb790>"
            ]
          },
          "metadata": {},
          "execution_count": 83
        },
        {
          "output_type": "display_data",
          "data": {
            "text/plain": [
              "<Figure size 432x288 with 1 Axes>"
            ],
            "image/png": "[encoded data removed]"
          },
          "metadata": {
            "needs_background": "light"
          }
        }
      ]
    },
    {
      "cell_type": "code",
      "source": [
        "#1.Checking Null Values in whole dataframe\n",
        "print(f\"Column Null Values Count:\\n{df.isnull().sum()}\")"
      ],
      "metadata": {
        "id": "LSFUahRd1aJO",
        "colab": {
          "base_uri": "https://localhost:8080/"
        },
        "outputId": "a2be0443-530b-49d7-d78a-8ffdff425b44"
      },
      "execution_count": 84,
      "outputs": [
        {
          "output_type": "stream",
          "name": "stdout",
          "text": [
            "Column Null Values Count:\n",
            "MS SubClass         0\n",
            "MS Zoning           0\n",
            "Lot Frontage      490\n",
            "Lot Area            0\n",
            "Street              0\n",
            "                 ... \n",
            "Mo Sold             0\n",
            "Yr Sold             0\n",
            "Sale Type           0\n",
            "Sale Condition      0\n",
            "SalePrice           0\n",
            "Length: 80, dtype: int64\n"
          ]
        }
      ]
    },
    {
      "cell_type": "code",
      "source": [
        "print(f\"Column Null Values Percentage:\\n{100* df.isnull().sum() / len(df)}\")"
      ],
      "metadata": {
        "id": "iyhuSKNi1upB",
        "colab": {
          "base_uri": "https://localhost:8080/"
        },
        "outputId": "8a399c2c-529a-47df-ca47-ef0633410a3c"
      },
      "execution_count": 85,
      "outputs": [
        {
          "output_type": "stream",
          "name": "stdout",
          "text": [
            "Column Null Values Percentage:\n",
            "MS SubClass        0.000000\n",
            "MS Zoning          0.000000\n",
            "Lot Frontage      16.723549\n",
            "Lot Area           0.000000\n",
            "Street             0.000000\n",
            "                    ...    \n",
            "Mo Sold            0.000000\n",
            "Yr Sold            0.000000\n",
            "Sale Type          0.000000\n",
            "Sale Condition     0.000000\n",
            "SalePrice          0.000000\n",
            "Length: 80, dtype: float64\n"
          ]
        }
      ]
    },
    {
      "cell_type": "code",
      "source": [
        "# Utility function to calculate null values column percentage in sorted order\n",
        "def percent_missing(df):\n",
        "    percent_nan = 100* df.isnull().sum() / len(df)\n",
        "    percent_nan = percent_nan[percent_nan>0].sort_values()\n",
        "    return percent_nan"
      ],
      "metadata": {
        "id": "TMfP1Gax2BBf"
      },
      "execution_count": 86,
      "outputs": []
    },
    {
      "cell_type": "code",
      "source": [
        "percent_nan = percent_missing(df)"
      ],
      "metadata": {
        "id": "8dACT3LS2p_u"
      },
      "execution_count": 87,
      "outputs": []
    },
    {
      "cell_type": "code",
      "source": [
        "import matplotlib.pyplot as plt\n",
        "plt.figure(figsize=(12,8),dpi=100)\n",
        "plt.style.use('ggplot')\n",
        "sns.barplot(x=percent_nan.index,y=percent_nan)\n",
        "plt.xticks(rotation=90);\n",
        "plt.title('Column Null Values Count Percentage Distribution', fontsize=16)\n",
        "plt.show()\n",
        "plt.close()"
      ],
      "metadata": {
        "id": "kG1CNyQ223l_",
        "colab": {
          "base_uri": "https://localhost:8080/",
          "height": 780
        },
        "outputId": "d71c1f83-9f32-434e-9c78-d388c65372f6"
      },
      "execution_count": 88,
      "outputs": [
        {
          "output_type": "display_data",
          "data": {
            "text/plain": [
              "<Figure size 1200x800 with 1 Axes>"
            ],
            "image/png": "[encoded data removed]"
          },
          "metadata": {
            "needs_background": "light"
          }
        }
      ]
    },
    {
      "cell_type": "markdown",
      "source": [
        "### Data Cleaning"
      ],
      "metadata": {
        "id": "-LDw7W0M4m7b"
      }
    },
    {
      "cell_type": "markdown",
      "source": [
        "Handling Missing Data Values\n",
        "* In  case  of  missing  values  it  is  often  good  step  to  discard  the  respective  records  withmissing  values  to  increase  effectiveness  of  data.   But  this  often  leads  to  loss  of  huge  amount  of data or some important data.  In order to deal with that we use missing value imputation where missing values are replaced with some values like 0, 1 or mean/median values.  \n",
        "* Some algorithms like scikit-learning are used to deal with data as In most cases missing values are coded as Nan, na or blank."
      ],
      "metadata": {
        "id": "0Sx-slrp5GKE"
      }
    },
    {
      "cell_type": "code",
      "source": [
        "plt.figure(figsize=(12,8),dpi=100)\n",
        "plt.style.use('ggplot')\n",
        "sns.barplot(x=percent_nan.index,y=percent_nan)\n",
        "plt.xticks(rotation=90);\n",
        "plt.title('Column Null Values Count Percentage Distribution', fontsize=16)\n",
        "# Set 1% Threshold to handle missing values row wise and column wise separately\n",
        "plt.ylim(0,1)\n",
        "plt.show()\n",
        "plt.close()"
      ],
      "metadata": {
        "id": "RzMcaUdX4817",
        "colab": {
          "base_uri": "https://localhost:8080/",
          "height": 780
        },
        "outputId": "8752f6d7-fed9-4f76-a0a5-c473682a2499"
      },
      "execution_count": 89,
      "outputs": [
        {
          "output_type": "display_data",
          "data": {
            "text/plain": [
              "<Figure size 1200x800 with 1 Axes>"
            ],
            "image/png": "[encoded data removed]"
          },
          "metadata": {}
        }
      ]
    },
    {
      "cell_type": "code",
      "source": [
        "#Filling up numeric col null values with 0\n",
        "bsmt_num_cols = ['BsmtFin SF 1', 'BsmtFin SF 2', 'Bsmt Unf SF','Total Bsmt SF', 'Bsmt Full Bath', 'Bsmt Half Bath']\n",
        "df[bsmt_num_cols] = df[bsmt_num_cols].fillna(0)"
      ],
      "metadata": {
        "id": "3X4mTEcR7rtg"
      },
      "execution_count": 90,
      "outputs": []
    },
    {
      "cell_type": "code",
      "source": [
        "#Filling up string col null values with value None\n",
        "bsmt_str_cols =  ['Bsmt Qual', 'Bsmt Cond', 'Bsmt Exposure', 'BsmtFin Type 1', 'BsmtFin Type 2']\n",
        "df[bsmt_str_cols] = df[bsmt_str_cols].fillna('None')"
      ],
      "metadata": {
        "id": "4lKZpbyj8LyS"
      },
      "execution_count": 91,
      "outputs": []
    },
    {
      "cell_type": "code",
      "source": [
        "#Removing Rows with null values\n",
        "df = df.dropna(axis=0,subset= ['Electrical','Garage Cars'])"
      ],
      "metadata": {
        "id": "V8QRM9sf8gRW"
      },
      "execution_count": 92,
      "outputs": []
    },
    {
      "cell_type": "code",
      "source": [
        "#Again Calculating Graph\n",
        "percent_nan = percent_missing(df)\n",
        "#Plotting Graph\n",
        "plt.figure(figsize=(12,8),dpi=100)\n",
        "plt.style.use('ggplot')\n",
        "sns.barplot(x=percent_nan.index,y=percent_nan)\n",
        "plt.xticks(rotation=90);\n",
        "plt.title('Column Null Values Count Percentage Distribution', fontsize=16)\n",
        "# Set 1% Threshold to handle missing values row wise and column wise separately\n",
        "plt.ylim(0,1)\n",
        "plt.show()\n",
        "plt.close()"
      ],
      "metadata": {
        "id": "rqt59Kyy89jr",
        "colab": {
          "base_uri": "https://localhost:8080/",
          "height": 769
        },
        "outputId": "813b0eab-1c9c-4982-8556-0c039386395b"
      },
      "execution_count": 93,
      "outputs": [
        {
          "output_type": "display_data",
          "data": {
            "text/plain": [
              "<Figure size 1200x800 with 1 Axes>"
            ],
            "image/png": "[encoded data removed]"
          },
          "metadata": {}
        }
      ]
    },
    {
      "cell_type": "code",
      "source": [
        "# Handling Column whose null values percentage greater than 1  \n",
        "#By Filling None values for string data-type \n",
        "cols = ['Garage Type', 'Garage Finish', 'Garage Qual', 'Garage Cond']\n",
        "df[cols] = df[cols].fillna('None')"
      ],
      "metadata": {
        "id": "HYQpYKQS9rsm"
      },
      "execution_count": 94,
      "outputs": []
    },
    {
      "cell_type": "code",
      "source": [
        "#By Filling 0 numeric value for numeric data-type \n",
        "df['Garage Yr Blt'] = df['Garage Yr Blt'].fillna(0)"
      ],
      "metadata": {
        "id": "CzORnKKJF2Wt"
      },
      "execution_count": 95,
      "outputs": []
    },
    {
      "cell_type": "code",
      "source": [
        "#Again Calculating Graph\n",
        "percent_nan = percent_missing(df)\n",
        "#Plotting Graph\n",
        "plt.figure(figsize=(12,8),dpi=100)\n",
        "plt.style.use('ggplot')\n",
        "sns.barplot(x=percent_nan.index,y=percent_nan)\n",
        "plt.xticks(rotation=90);\n",
        "plt.title('Column Null Values Count Percentage Distribution', fontsize=16)\n",
        "# Set 1% Threshold to handle missing values row wise and column wise separately\n",
        "plt.ylim(0,1)\n",
        "plt.show()\n",
        "plt.close()"
      ],
      "metadata": {
        "id": "CQb1NUAkGIyo",
        "colab": {
          "base_uri": "https://localhost:8080/",
          "height": 767
        },
        "outputId": "26d52f2e-a021-4727-b0c0-15085e6ea616"
      },
      "execution_count": 96,
      "outputs": [
        {
          "output_type": "display_data",
          "data": {
            "text/plain": [
              "<Figure size 1200x800 with 1 Axes>"
            ],
            "image/png": "[encoded data removed]"
          },
          "metadata": {}
        }
      ]
    },
    {
      "cell_type": "code",
      "source": [
        "# Dropping Columns whose missing value percentage is greater than 1\n",
        "df = df.drop(['Pool QC','Misc Feature','Alley','Fence','Fireplace Qu','Mas Vnr Type'],axis=1)"
      ],
      "metadata": {
        "id": "rq2iQ_nQGaH0"
      },
      "execution_count": 97,
      "outputs": []
    },
    {
      "cell_type": "code",
      "source": [
        "# Replacing missing values with mean of the column\n",
        "df['Lot Frontage'] = df['Lot Frontage'].transform(lambda val: val.fillna(val.mean()))\n",
        "# Another Way\n",
        "df['Mas Vnr Area'] = df['Mas Vnr Area'].fillna(df['Mas Vnr Area'].mean())"
      ],
      "metadata": {
        "id": "I-VeP8vaHq56"
      },
      "execution_count": 98,
      "outputs": []
    },
    {
      "cell_type": "code",
      "source": [
        "#Check col with null values\n",
        "percent_nan = percent_missing(df)\n",
        "percent_nan"
      ],
      "metadata": {
        "id": "h7FzYH4iOlkC",
        "colab": {
          "base_uri": "https://localhost:8080/"
        },
        "outputId": "177c6a23-dc2b-4d61-f7a0-0ffa2de0f157"
      },
      "execution_count": 99,
      "outputs": [
        {
          "output_type": "execute_result",
          "data": {
            "text/plain": [
              "Series([], dtype: float64)"
            ]
          },
          "metadata": {},
          "execution_count": 99
        }
      ]
    },
    {
      "cell_type": "markdown",
      "metadata": {
        "id": "cNTXtqRk8IRV"
      },
      "source": [
        "### Spliting the dataset\n",
        "* Generally data is splitted as independent and dependent variables before preprocessing.\n",
        "* Here independent variables are the one who decide output which is whether house is purchased or not."
      ]
    },
    {
      "cell_type": "code",
      "execution_count": 100,
      "metadata": {
        "id": "1hSsO12K8IRY"
      },
      "outputs": [],
      "source": [
        "#Input or independent features\n",
        "#As our dependent dataset is in last column we are selecting all except last one here as input\n",
        "In = df.iloc[:, :-1].values\n",
        "#Dependent features\n",
        "#Our dependent dataset is in last column the last column for output\n",
        "Out = df.iloc[:, -1].values"
      ]
    },
    {
      "cell_type": "code",
      "execution_count": 101,
      "metadata": {
        "id": "1fFspPeb8IRc",
        "colab": {
          "base_uri": "https://localhost:8080/"
        },
        "outputId": "557fa296-38a9-446b-abe9-6efc0b1a02be"
      },
      "outputs": [
        {
          "output_type": "execute_result",
          "data": {
            "text/plain": [
              "array([[20, 'RL', 141.0, 31770, 'Pave', 'IR1', 'Lvl', 'AllPub', 'Corner',\n",
              "        'Gtl', 'NAmes', 'Norm', 'Norm', '1Fam', '1Story', 6, 5, 1960,\n",
              "        1960, 'Hip', 'CompShg', 'BrkFace', 'Plywood', 112.0, 'TA', 'TA',\n",
              "        'CBlock', 'TA', 'Gd', 'Gd', 'BLQ', 639.0, 'Unf', 0.0, 441.0,\n",
              "        1080.0, 'GasA', 'Fa', 'Y', 'SBrkr', 1656, 0, 0, 1656, 1.0, 0.0,\n",
              "        1, 0, 3, 1, 'TA', 7, 'Typ', 2, 'Attchd', 1960.0, 'Fin', 2.0,\n",
              "        528.0, 'TA', 'TA', 'P', 210, 62, 0, 0, 0, 0, 0, 5, 2010, 'WD ',\n",
              "        'Normal'],\n",
              "       [20, 'RH', 80.0, 11622, 'Pave', 'Reg', 'Lvl', 'AllPub', 'Inside',\n",
              "        'Gtl', 'NAmes', 'Feedr', 'Norm', '1Fam', '1Story', 5, 6, 1961,\n",
              "        1961, 'Gable', 'CompShg', 'VinylSd', 'VinylSd', 0.0, 'TA', 'TA',\n",
              "        'CBlock', 'TA', 'TA', 'No', 'Rec', 468.0, 'LwQ', 144.0, 270.0,\n",
              "        882.0, 'GasA', 'TA', 'Y', 'SBrkr', 896, 0, 0, 896, 0.0, 0.0, 1,\n",
              "        0, 2, 1, 'TA', 5, 'Typ', 0, 'Attchd', 1961.0, 'Unf', 1.0, 730.0,\n",
              "        'TA', 'TA', 'Y', 140, 0, 0, 0, 120, 0, 0, 6, 2010, 'WD ',\n",
              "        'Normal']], dtype=object)"
            ]
          },
          "metadata": {},
          "execution_count": 101
        }
      ],
      "source": [
        "In[:2]    #first 5 values in data"
      ]
    },
    {
      "cell_type": "code",
      "execution_count": 102,
      "metadata": {
        "id": "HL4_hrXw8IRg",
        "colab": {
          "base_uri": "https://localhost:8080/"
        },
        "outputId": "4a6f92e9-e5d8-44cf-d7c0-aea765d70ff2"
      },
      "outputs": [
        {
          "output_type": "execute_result",
          "data": {
            "text/plain": [
              "array([215000, 105000])"
            ]
          },
          "metadata": {},
          "execution_count": 102
        }
      ],
      "source": [
        "Out[:2]"
      ]
    },
    {
      "cell_type": "markdown",
      "metadata": {
        "id": "iIa0pEhK8IRm"
      },
      "source": [
        "### Managing categorical data:\n",
        "* When we have categories in string data columns, it becomes difficult for ML model tocompute some correlations between these columns. In order to save this we need to encode such data into some numerical value. We can enumerate data insuch columns with each value with each number. But this may misguide our future model so we use onehotencoding here. In this categorical variables are converted into a form that could be provided to ML algorithms to do a better job in prediction. It turns the n number of categories in n columns with creating binary vectors for each countries.\n",
        "\n",
        "* For more detail - https://www.analyticsvidhya.com/blog/2020/03/one-hot-encoding-vs-label-encoding-using-scikit-learn/"
      ]
    },
    {
      "cell_type": "code",
      "source": [
        "print(df['Street'].value_counts())\n",
        "print(df['Lot Shape'].value_counts())"
      ],
      "metadata": {
        "id": "ruC3pxdGT-b_",
        "colab": {
          "base_uri": "https://localhost:8080/"
        },
        "outputId": "690977ab-36fe-4484-9509-75da9f8efa8d"
      },
      "execution_count": 103,
      "outputs": [
        {
          "output_type": "stream",
          "name": "stdout",
          "text": [
            "Pave    2916\n",
            "Grvl      12\n",
            "Name: Street, dtype: int64\n",
            "Reg    1857\n",
            "IR1     979\n",
            "IR2      76\n",
            "IR3      16\n",
            "Name: Lot Shape, dtype: int64\n"
          ]
        }
      ]
    },
    {
      "cell_type": "code",
      "execution_count": 104,
      "metadata": {
        "id": "PEZceYhP8IRn"
      },
      "outputs": [],
      "source": [
        "#OneHotEncoding converts the categorical data into numerical values\n",
        "#ColumnTransformer will combine LabelEncoding and OneHotEncoding into one line of code\n",
        "from sklearn.compose import ColumnTransformer\n",
        "from sklearn.preprocessing import OneHotEncoder\n",
        "transformer = ColumnTransformer(transformers=[('encoder', OneHotEncoder(), ['Lot Shape'])], remainder='passthrough')\n",
        "In = transformer.fit_transform(df)\n",
        "#LabelEncoder converts values as yes no or true false in 0,1\n",
        "from sklearn.preprocessing import LabelEncoder\n",
        "le = LabelEncoder()\n",
        "df['Street'] = le.fit_transform(df['Street'])\n",
        "# Independent variable\n",
        "Out = le.fit_transform(df['Street'])"
      ]
    },
    {
      "cell_type": "code",
      "execution_count": 105,
      "metadata": {
        "id": "V4tTAZlG8IRo",
        "colab": {
          "base_uri": "https://localhost:8080/"
        },
        "outputId": "d411da97-ac5c-44cb-9b79-d8f0a90e1ae4"
      },
      "outputs": [
        {
          "output_type": "execute_result",
          "data": {
            "text/plain": [
              "array([[1.0, 0.0, 0.0, ..., 'WD ', 'Normal', 215000],\n",
              "       [0.0, 0.0, 0.0, ..., 'WD ', 'Normal', 105000],\n",
              "       [1.0, 0.0, 0.0, ..., 'WD ', 'Normal', 172000],\n",
              "       ...,\n",
              "       [0.0, 0.0, 0.0, ..., 'WD ', 'Normal', 132000],\n",
              "       [0.0, 0.0, 0.0, ..., 'WD ', 'Normal', 170000],\n",
              "       [0.0, 0.0, 0.0, ..., 'WD ', 'Normal', 188000]], dtype=object)"
            ]
          },
          "metadata": {},
          "execution_count": 105
        }
      ],
      "source": [
        "#showing first ten rows in idependent data\n",
        "In"
      ]
    },
    {
      "cell_type": "code",
      "execution_count": 106,
      "metadata": {
        "id": "i50YIX398IRo",
        "colab": {
          "base_uri": "https://localhost:8080/"
        },
        "outputId": "b1b589f9-fbd9-44a6-efd0-80b1126aaefe"
      },
      "outputs": [
        {
          "output_type": "execute_result",
          "data": {
            "text/plain": [
              "array([1, 1, 1, ..., 1, 1, 1])"
            ]
          },
          "metadata": {},
          "execution_count": 106
        }
      ],
      "source": [
        "Out"
      ]
    },
    {
      "cell_type": "markdown",
      "metadata": {
        "id": "Vs8WQ8gM8IRp"
      },
      "source": [
        "### Splitting the dataset into the Training set and Test set\n",
        "\n",
        "* Before applying to Machine learning model data is splitted to two sets as training and test dataset. Where training dataset is applied to machine learning model where test data set is preserved for testing purposes. It is best practice to reserve 20% data as test dataset. Before feature scaling, this data splitting must be performed. For splitting data scikitlearning provides train test split algorithm under model selection subpackage."
      ]
    },
    {
      "cell_type": "code",
      "execution_count": 107,
      "metadata": {
        "id": "arLKVQPk8IRp"
      },
      "outputs": [],
      "source": [
        "#train_test_split will split data into the given partition percentage\n",
        "#The test dataset will be chosen randomly\n",
        "from sklearn.model_selection import train_test_split\n",
        "In_train, In_test, Out_train, Out_test = train_test_split(df, df['SalePrice'], test_size = 0.3, random_state = 1)   #0.3 to reserve 30% data as test data"
      ]
    },
    {
      "cell_type": "code",
      "execution_count": 108,
      "metadata": {
        "id": "9c_ZbEve8IRq",
        "colab": {
          "base_uri": "https://localhost:8080/"
        },
        "outputId": "4541a196-10f3-448b-89cd-24e9bd5a4039"
      },
      "outputs": [
        {
          "output_type": "stream",
          "name": "stdout",
          "text": [
            "Lengeth of dependent training set   : 2049\n",
            "Lengeth of independent training set : 2049\n",
            "Lengeth of dependent test set   : 879\n",
            "Lengeth of independent test set : 879\n"
          ]
        }
      ],
      "source": [
        "print('Lengeth of dependent training set   :', len(In_train))\n",
        "print('Lengeth of independent training set :', len(Out_train))\n",
        "print('Lengeth of dependent test set   :', len(In_test))\n",
        "print('Lengeth of independent test set :', len(Out_test))"
      ]
    },
    {
      "cell_type": "markdown",
      "metadata": {
        "id": "THLb9d-h8IRr"
      },
      "source": [
        "### Feature Scaling:\n",
        "* It puts all the features on same scale to save data from dominating value of some features over other. Feature scaling is not needed in all machine learning models. The two main feature scaling techniques are normalization and standardization. The measurement units can affect the data analysis. For example changing the unit from meter to inches can change the result upto very extent. In order to save the restriction on choice of unit for data we must normalize or standardize the data.\n",
        "    \n",
        "#### Standardization:\n",
        "* Standardization converts columns in the value in particular range like -3 to 3\n",
        "* The formulae for standardization is xstand = (x-mean(x))/standard_deviation(x)\n",
        "    \n",
        "#### Normalization:\n",
        "* Normalization converts columns in the value in range 0 to 1\n",
        "* The formulae for standardization is xnorm = (x-min(x))/(max(x)-min(x))\n",
        "\n",
        "* Normalization is recommended when we have normal distribution in our feature values.\n",
        "* Standardization can be used everytime. So here we will go with standardization.\n",
        "\n",
        "For more details : 1. https://www.analyticsvidhya.com/blog/2020/04/feature-scaling-machine-learning-normalization-standardization/\n",
        "2. https://www.kdnuggets.com/2020/04/data-transformation-standardization-normalization.html"
      ]
    },
    {
      "cell_type": "code",
      "execution_count": 109,
      "metadata": {
        "id": "rh27eJAv8IRs"
      },
      "outputs": [],
      "source": [
        "#Here we are standardizing the data\n",
        "#Feature scaling must be done after spliting the dataset into training and testing\n",
        "from sklearn.preprocessing import StandardScaler\n",
        "#creating object for class StandardScaler()\n",
        "scaler = StandardScaler()"
      ]
    },
    {
      "cell_type": "code",
      "execution_count": 110,
      "metadata": {
        "id": "HWpR0VF18IRs"
      },
      "outputs": [],
      "source": [
        "#Here we dont need to apply feature scaling to categorical encoded data as it is already in the required range\n",
        "#Aim of feature scaling is to have all the values in same range \n",
        "#The encoded columns already met the conditions \n",
        "#If we apply feature scaling on them we can get misleading values too\n",
        "In_train[['BsmtFin SF 2','Bsmt Unf SF']] = scaler.fit_transform(In_train[['BsmtFin SF 2','Bsmt Unf SF']])\n",
        "#Here fit will get the mean and standard deviation values \n",
        "#Transform will update the transformed values\n",
        "In_test[['BsmtFin SF 2','Bsmt Unf SF']] = scaler.transform(In_test[['BsmtFin SF 2','Bsmt Unf SF']])"
      ]
    },
    {
      "cell_type": "code",
      "execution_count": 111,
      "metadata": {
        "id": "ha0Bm9QI8IRt",
        "colab": {
          "base_uri": "https://localhost:8080/",
          "height": 553
        },
        "outputId": "1d6b3e61-3d7b-4919-e0c5-4b0d757c2c5b"
      },
      "outputs": [
        {
          "output_type": "execute_result",
          "data": {
            "text/plain": [
              "      BsmtFin SF 2  Bsmt Unf SF\n",
              "608       1.101170    -0.863102\n",
              "348      -0.286241    -0.407519\n",
              "1408     -0.286241     1.366974\n",
              "1727     -0.286241     0.467199\n",
              "612      -0.286241     0.175626\n",
              "...            ...          ...\n",
              "2765     -0.286241    -1.282237\n",
              "905      -0.286241    -1.282237\n",
              "1096     -0.286241    -0.901826\n",
              "235      -0.286241    -0.484968\n",
              "1061     -0.286241     0.786106\n",
              "\n",
              "[2049 rows x 2 columns]"
            ],
            "text/html": [
              "\n",
              "  <div id=\"df-1f044b63-568a-49da-94be-71b17f026e5d\">\n",
              "    <div class=\"colab-df-container\">\n",
              "      <div>\n",
              "<style scoped>\n",
              "    .dataframe tbody tr th:only-of-type {\n",
              "        vertical-align: middle;\n",
              "    }\n",
              "\n",
              "    .dataframe tbody tr th {\n",
              "        vertical-align: top;\n",
              "    }\n",
              "\n",
              "    .dataframe thead th {\n",
              "        text-align: right;\n",
              "    }\n",
              "</style>\n",
              "<table border=\"1\" class=\"dataframe\">\n",
              "  <thead>\n",
              "    <tr style=\"text-align: right;\">\n",
              "      <th></th>\n",
              "      <th>BsmtFin SF 2</th>\n",
              "      <th>Bsmt Unf SF</th>\n",
              "    </tr>\n",
              "  </thead>\n",
              "  <tbody>\n",
              "    <tr>\n",
              "      <th>608</th>\n",
              "      <td>1.101170</td>\n",
              "      <td>-0.863102</td>\n",
              "    </tr>\n",
              "    <tr>\n",
              "      <th>348</th>\n",
              "      <td>-0.286241</td>\n",
              "      <td>-0.407519</td>\n",
              "    </tr>\n",
              "    <tr>\n",
              "      <th>1408</th>\n",
              "      <td>-0.286241</td>\n",
              "      <td>1.366974</td>\n",
              "    </tr>\n",
              "    <tr>\n",
              "      <th>1727</th>\n",
              "      <td>-0.286241</td>\n",
              "      <td>0.467199</td>\n",
              "    </tr>\n",
              "    <tr>\n",
              "      <th>612</th>\n",
              "      <td>-0.286241</td>\n",
              "      <td>0.175626</td>\n",
              "    </tr>\n",
              "    <tr>\n",
              "      <th>...</th>\n",
              "      <td>...</td>\n",
              "      <td>...</td>\n",
              "    </tr>\n",
              "    <tr>\n",
              "      <th>2765</th>\n",
              "      <td>-0.286241</td>\n",
              "      <td>-1.282237</td>\n",
              "    </tr>\n",
              "    <tr>\n",
              "      <th>905</th>\n",
              "      <td>-0.286241</td>\n",
              "      <td>-1.282237</td>\n",
              "    </tr>\n",
              "    <tr>\n",
              "      <th>1096</th>\n",
              "      <td>-0.286241</td>\n",
              "      <td>-0.901826</td>\n",
              "    </tr>\n",
              "    <tr>\n",
              "      <th>235</th>\n",
              "      <td>-0.286241</td>\n",
              "      <td>-0.484968</td>\n",
              "    </tr>\n",
              "    <tr>\n",
              "      <th>1061</th>\n",
              "      <td>-0.286241</td>\n",
              "      <td>0.786106</td>\n",
              "    </tr>\n",
              "  </tbody>\n",
              "</table>\n",
              "<p>2049 rows × 2 columns</p>\n",
              "</div>\n",
              "      <button class=\"colab-df-convert\" onclick=\"convertToInteractive('df-1f044b63-568a-49da-94be-71b17f026e5d')\"\n",
              "              title=\"Convert this dataframe to an interactive table.\"\n",
              "              style=\"display:none;\">\n",
              "        \n",
              "  <svg xmlns=\"http://www.w3.org/2000/svg\" height=\"24px\"viewBox=\"0 0 24 24\"\n",
              "       width=\"24px\">\n",
              "    <path d=\"M0 0h24v24H0V0z\" fill=\"none\"/>\n",
              "    <path d=\"M18.56 5.44l.94 2.06.94-2.06 2.06-.94-2.06-.94-.94-2.06-.94 2.06-2.06.94zm-11 1L8.5 8.5l.94-2.06 2.06-.94-2.06-.94L8.5 2.5l-.94 2.06-2.06.94zm10 10l.94 2.06.94-2.06 2.06-.94-2.06-.94-.94-2.06-.94 2.06-2.06.94z\"/><path d=\"M17.41 7.96l-1.37-1.37c-.4-.4-.92-.59-1.43-.59-.52 0-1.04.2-1.43.59L10.3 9.45l-7.72 7.72c-.78.78-.78 2.05 0 2.83L4 21.41c.39.39.9.59 1.41.59.51 0 1.02-.2 1.41-.59l7.78-7.78 2.81-2.81c.8-.78.8-2.07 0-2.86zM5.41 20L4 18.59l7.72-7.72 1.47 1.35L5.41 20z\"/>\n",
              "  </svg>\n",
              "      </button>\n",
              "      \n",
              "  <style>\n",
              "    .colab-df-container {\n",
              "      display:flex;\n",
              "      flex-wrap:wrap;\n",
              "      gap: 12px;\n",
              "    }\n",
              "\n",
              "    .colab-df-convert {\n",
              "      background-color: #E8F0FE;\n",
              "      border: none;\n",
              "      border-radius: 50%;\n",
              "      cursor: pointer;\n",
              "      display: none;\n",
              "      fill: #1967D2;\n",
              "      height: 32px;\n",
              "      padding: 0 0 0 0;\n",
              "      width: 32px;\n",
              "    }\n",
              "\n",
              "    .colab-df-convert:hover {\n",
              "      background-color: #E2EBFA;\n",
              "      box-shadow: 0px 1px 2px rgba(60, 64, 67, 0.3), 0px 1px 3px 1px rgba(60, 64, 67, 0.15);\n",
              "      fill: #174EA6;\n",
              "    }\n",
              "\n",
              "    [theme=dark] .colab-df-convert {\n",
              "      background-color: #3B4455;\n",
              "      fill: #D2E3FC;\n",
              "    }\n",
              "\n",
              "    [theme=dark] .colab-df-convert:hover {\n",
              "      background-color: #434B5C;\n",
              "      box-shadow: 0px 1px 3px 1px rgba(0, 0, 0, 0.15);\n",
              "      filter: drop-shadow(0px 1px 2px rgba(0, 0, 0, 0.3));\n",
              "      fill: #FFFFFF;\n",
              "    }\n",
              "  </style>\n",
              "\n",
              "      <script>\n",
              "        const buttonEl =\n",
              "          document.querySelector('#df-1f044b63-568a-49da-94be-71b17f026e5d button.colab-df-convert');\n",
              "        buttonEl.style.display =\n",
              "          google.colab.kernel.accessAllowed ? 'block' : 'none';\n",
              "\n",
              "        async function convertToInteractive(key) {\n",
              "          const element = document.querySelector('#df-1f044b63-568a-49da-94be-71b17f026e5d');\n",
              "          const dataTable =\n",
              "            await google.colab.kernel.invokeFunction('convertToInteractive',\n",
              "                                                     [key], {});\n",
              "          if (!dataTable) return;\n",
              "\n",
              "          const docLinkHtml = 'Like what you see? Visit the ' +\n",
              "            '<a target=\"_blank\" href=https://colab.research.google.com/notebooks/data_table.ipynb>data table notebook</a>'\n",
              "            + ' to learn more about interactive tables.';\n",
              "          element.innerHTML = '';\n",
              "          dataTable['output_type'] = 'display_data';\n",
              "          await google.colab.output.renderOutput(dataTable, element);\n",
              "          const docLink = document.createElement('div');\n",
              "          docLink.innerHTML = docLinkHtml;\n",
              "          element.appendChild(docLink);\n",
              "        }\n",
              "      </script>\n",
              "    </div>\n",
              "  </div>\n",
              "  "
            ]
          },
          "metadata": {},
          "execution_count": 111
        }
      ],
      "source": [
        "#showing first ten rows in idependent data\n",
        "In_train[['BsmtFin SF 2','Bsmt Unf SF']]"
      ]
    },
    {
      "cell_type": "code",
      "execution_count": 112,
      "metadata": {
        "id": "91dr0DeW8IRu",
        "colab": {
          "base_uri": "https://localhost:8080/",
          "height": 553
        },
        "outputId": "6113fac3-8b08-4fc8-e8cf-869faba8019b"
      },
      "outputs": [
        {
          "output_type": "execute_result",
          "data": {
            "text/plain": [
              "      BsmtFin SF 2  Bsmt Unf SF\n",
              "2197     -0.286241     0.467199\n",
              "192      -0.286241     0.161958\n",
              "2406     -0.286241     1.833945\n",
              "45       -0.286241     0.141457\n",
              "2477     -0.286241     0.861277\n",
              "...            ...          ...\n",
              "551      -0.286241    -1.282237\n",
              "1837     -0.286241     1.797499\n",
              "2320     -0.286241     2.453537\n",
              "2247     -0.286241    -1.282237\n",
              "916      -0.286241     0.679044\n",
              "\n",
              "[879 rows x 2 columns]"
            ],
            "text/html": [
              "\n",
              "  <div id=\"df-7b56205e-0633-4c6a-9015-cd8e2bc5ccac\">\n",
              "    <div class=\"colab-df-container\">\n",
              "      <div>\n",
              "<style scoped>\n",
              "    .dataframe tbody tr th:only-of-type {\n",
              "        vertical-align: middle;\n",
              "    }\n",
              "\n",
              "    .dataframe tbody tr th {\n",
              "        vertical-align: top;\n",
              "    }\n",
              "\n",
              "    .dataframe thead th {\n",
              "        text-align: right;\n",
              "    }\n",
              "</style>\n",
              "<table border=\"1\" class=\"dataframe\">\n",
              "  <thead>\n",
              "    <tr style=\"text-align: right;\">\n",
              "      <th></th>\n",
              "      <th>BsmtFin SF 2</th>\n",
              "      <th>Bsmt Unf SF</th>\n",
              "    </tr>\n",
              "  </thead>\n",
              "  <tbody>\n",
              "    <tr>\n",
              "      <th>2197</th>\n",
              "      <td>-0.286241</td>\n",
              "      <td>0.467199</td>\n",
              "    </tr>\n",
              "    <tr>\n",
              "      <th>192</th>\n",
              "      <td>-0.286241</td>\n",
              "      <td>0.161958</td>\n",
              "    </tr>\n",
              "    <tr>\n",
              "      <th>2406</th>\n",
              "      <td>-0.286241</td>\n",
              "      <td>1.833945</td>\n",
              "    </tr>\n",
              "    <tr>\n",
              "      <th>45</th>\n",
              "      <td>-0.286241</td>\n",
              "      <td>0.141457</td>\n",
              "    </tr>\n",
              "    <tr>\n",
              "      <th>2477</th>\n",
              "      <td>-0.286241</td>\n",
              "      <td>0.861277</td>\n",
              "    </tr>\n",
              "    <tr>\n",
              "      <th>...</th>\n",
              "      <td>...</td>\n",
              "      <td>...</td>\n",
              "    </tr>\n",
              "    <tr>\n",
              "      <th>551</th>\n",
              "      <td>-0.286241</td>\n",
              "      <td>-1.282237</td>\n",
              "    </tr>\n",
              "    <tr>\n",
              "      <th>1837</th>\n",
              "      <td>-0.286241</td>\n",
              "      <td>1.797499</td>\n",
              "    </tr>\n",
              "    <tr>\n",
              "      <th>2320</th>\n",
              "      <td>-0.286241</td>\n",
              "      <td>2.453537</td>\n",
              "    </tr>\n",
              "    <tr>\n",
              "      <th>2247</th>\n",
              "      <td>-0.286241</td>\n",
              "      <td>-1.282237</td>\n",
              "    </tr>\n",
              "    <tr>\n",
              "      <th>916</th>\n",
              "      <td>-0.286241</td>\n",
              "      <td>0.679044</td>\n",
              "    </tr>\n",
              "  </tbody>\n",
              "</table>\n",
              "<p>879 rows × 2 columns</p>\n",
              "</div>\n",
              "      <button class=\"colab-df-convert\" onclick=\"convertToInteractive('df-7b56205e-0633-4c6a-9015-cd8e2bc5ccac')\"\n",
              "              title=\"Convert this dataframe to an interactive table.\"\n",
              "              style=\"display:none;\">\n",
              "        \n",
              "  <svg xmlns=\"http://www.w3.org/2000/svg\" height=\"24px\"viewBox=\"0 0 24 24\"\n",
              "       width=\"24px\">\n",
              "    <path d=\"M0 0h24v24H0V0z\" fill=\"none\"/>\n",
              "    <path d=\"M18.56 5.44l.94 2.06.94-2.06 2.06-.94-2.06-.94-.94-2.06-.94 2.06-2.06.94zm-11 1L8.5 8.5l.94-2.06 2.06-.94-2.06-.94L8.5 2.5l-.94 2.06-2.06.94zm10 10l.94 2.06.94-2.06 2.06-.94-2.06-.94-.94-2.06-.94 2.06-2.06.94z\"/><path d=\"M17.41 7.96l-1.37-1.37c-.4-.4-.92-.59-1.43-.59-.52 0-1.04.2-1.43.59L10.3 9.45l-7.72 7.72c-.78.78-.78 2.05 0 2.83L4 21.41c.39.39.9.59 1.41.59.51 0 1.02-.2 1.41-.59l7.78-7.78 2.81-2.81c.8-.78.8-2.07 0-2.86zM5.41 20L4 18.59l7.72-7.72 1.47 1.35L5.41 20z\"/>\n",
              "  </svg>\n",
              "      </button>\n",
              "      \n",
              "  <style>\n",
              "    .colab-df-container {\n",
              "      display:flex;\n",
              "      flex-wrap:wrap;\n",
              "      gap: 12px;\n",
              "    }\n",
              "\n",
              "    .colab-df-convert {\n",
              "      background-color: #E8F0FE;\n",
              "      border: none;\n",
              "      border-radius: 50%;\n",
              "      cursor: pointer;\n",
              "      display: none;\n",
              "      fill: #1967D2;\n",
              "      height: 32px;\n",
              "      padding: 0 0 0 0;\n",
              "      width: 32px;\n",
              "    }\n",
              "\n",
              "    .colab-df-convert:hover {\n",
              "      background-color: #E2EBFA;\n",
              "      box-shadow: 0px 1px 2px rgba(60, 64, 67, 0.3), 0px 1px 3px 1px rgba(60, 64, 67, 0.15);\n",
              "      fill: #174EA6;\n",
              "    }\n",
              "\n",
              "    [theme=dark] .colab-df-convert {\n",
              "      background-color: #3B4455;\n",
              "      fill: #D2E3FC;\n",
              "    }\n",
              "\n",
              "    [theme=dark] .colab-df-convert:hover {\n",
              "      background-color: #434B5C;\n",
              "      box-shadow: 0px 1px 3px 1px rgba(0, 0, 0, 0.15);\n",
              "      filter: drop-shadow(0px 1px 2px rgba(0, 0, 0, 0.3));\n",
              "      fill: #FFFFFF;\n",
              "    }\n",
              "  </style>\n",
              "\n",
              "      <script>\n",
              "        const buttonEl =\n",
              "          document.querySelector('#df-7b56205e-0633-4c6a-9015-cd8e2bc5ccac button.colab-df-convert');\n",
              "        buttonEl.style.display =\n",
              "          google.colab.kernel.accessAllowed ? 'block' : 'none';\n",
              "\n",
              "        async function convertToInteractive(key) {\n",
              "          const element = document.querySelector('#df-7b56205e-0633-4c6a-9015-cd8e2bc5ccac');\n",
              "          const dataTable =\n",
              "            await google.colab.kernel.invokeFunction('convertToInteractive',\n",
              "                                                     [key], {});\n",
              "          if (!dataTable) return;\n",
              "\n",
              "          const docLinkHtml = 'Like what you see? Visit the ' +\n",
              "            '<a target=\"_blank\" href=https://colab.research.google.com/notebooks/data_table.ipynb>data table notebook</a>'\n",
              "            + ' to learn more about interactive tables.';\n",
              "          element.innerHTML = '';\n",
              "          dataTable['output_type'] = 'display_data';\n",
              "          await google.colab.output.renderOutput(dataTable, element);\n",
              "          const docLink = document.createElement('div');\n",
              "          docLink.innerHTML = docLinkHtml;\n",
              "          element.appendChild(docLink);\n",
              "        }\n",
              "      </script>\n",
              "    </div>\n",
              "  </div>\n",
              "  "
            ]
          },
          "metadata": {},
          "execution_count": 112
        }
      ],
      "source": [
        "In_test[['BsmtFin SF 2','Bsmt Unf SF']]"
      ]
    },
    {
      "cell_type": "code",
      "source": [
        "#Normalization\n",
        "from sklearn.preprocessing import MinMaxScaler\n",
        "scaler = MinMaxScaler()\n",
        "scaler.fit(df[['Garage Area','Garage Cars']])\n",
        "scaled_features = scaler.transform(df[['Garage Area','Garage Cars']])\n",
        "#Convert to table format - MinMaxScaler\n",
        "df_MinMax = pd.DataFrame(data=scaled_features, columns=['Garage Area','Garage Cars'])\n",
        "df_MinMax"
      ],
      "metadata": {
        "id": "AWMWxxkrXlg2",
        "colab": {
          "base_uri": "https://localhost:8080/",
          "height": 553
        },
        "outputId": "a073f009-6649-48bc-c466-379300559360"
      },
      "execution_count": 113,
      "outputs": [
        {
          "output_type": "execute_result",
          "data": {
            "text/plain": [
              "      Garage Area  Garage Cars\n",
              "0        0.354839          0.4\n",
              "1        0.490591          0.2\n",
              "2        0.209677          0.2\n",
              "3        0.350806          0.4\n",
              "4        0.323925          0.4\n",
              "...           ...          ...\n",
              "2923     0.395161          0.4\n",
              "2924     0.325269          0.4\n",
              "2925     0.000000          0.0\n",
              "2926     0.280914          0.4\n",
              "2927     0.436828          0.6\n",
              "\n",
              "[2928 rows x 2 columns]"
            ],
            "text/html": [
              "\n",
              "  <div id=\"df-c09c1742-37f1-4aad-988a-62c94b9c74ba\">\n",
              "    <div class=\"colab-df-container\">\n",
              "      <div>\n",
              "<style scoped>\n",
              "    .dataframe tbody tr th:only-of-type {\n",
              "        vertical-align: middle;\n",
              "    }\n",
              "\n",
              "    .dataframe tbody tr th {\n",
              "        vertical-align: top;\n",
              "    }\n",
              "\n",
              "    .dataframe thead th {\n",
              "        text-align: right;\n",
              "    }\n",
              "</style>\n",
              "<table border=\"1\" class=\"dataframe\">\n",
              "  <thead>\n",
              "    <tr style=\"text-align: right;\">\n",
              "      <th></th>\n",
              "      <th>Garage Area</th>\n",
              "      <th>Garage Cars</th>\n",
              "    </tr>\n",
              "  </thead>\n",
              "  <tbody>\n",
              "    <tr>\n",
              "      <th>0</th>\n",
              "      <td>0.354839</td>\n",
              "      <td>0.4</td>\n",
              "    </tr>\n",
              "    <tr>\n",
              "      <th>1</th>\n",
              "      <td>0.490591</td>\n",
              "      <td>0.2</td>\n",
              "    </tr>\n",
              "    <tr>\n",
              "      <th>2</th>\n",
              "      <td>0.209677</td>\n",
              "      <td>0.2</td>\n",
              "    </tr>\n",
              "    <tr>\n",
              "      <th>3</th>\n",
              "      <td>0.350806</td>\n",
              "      <td>0.4</td>\n",
              "    </tr>\n",
              "    <tr>\n",
              "      <th>4</th>\n",
              "      <td>0.323925</td>\n",
              "      <td>0.4</td>\n",
              "    </tr>\n",
              "    <tr>\n",
              "      <th>...</th>\n",
              "      <td>...</td>\n",
              "      <td>...</td>\n",
              "    </tr>\n",
              "    <tr>\n",
              "      <th>2923</th>\n",
              "      <td>0.395161</td>\n",
              "      <td>0.4</td>\n",
              "    </tr>\n",
              "    <tr>\n",
              "      <th>2924</th>\n",
              "      <td>0.325269</td>\n",
              "      <td>0.4</td>\n",
              "    </tr>\n",
              "    <tr>\n",
              "      <th>2925</th>\n",
              "      <td>0.000000</td>\n",
              "      <td>0.0</td>\n",
              "    </tr>\n",
              "    <tr>\n",
              "      <th>2926</th>\n",
              "      <td>0.280914</td>\n",
              "      <td>0.4</td>\n",
              "    </tr>\n",
              "    <tr>\n",
              "      <th>2927</th>\n",
              "      <td>0.436828</td>\n",
              "      <td>0.6</td>\n",
              "    </tr>\n",
              "  </tbody>\n",
              "</table>\n",
              "<p>2928 rows × 2 columns</p>\n",
              "</div>\n",
              "      <button class=\"colab-df-convert\" onclick=\"convertToInteractive('df-c09c1742-37f1-4aad-988a-62c94b9c74ba')\"\n",
              "              title=\"Convert this dataframe to an interactive table.\"\n",
              "              style=\"display:none;\">\n",
              "        \n",
              "  <svg xmlns=\"http://www.w3.org/2000/svg\" height=\"24px\"viewBox=\"0 0 24 24\"\n",
              "       width=\"24px\">\n",
              "    <path d=\"M0 0h24v24H0V0z\" fill=\"none\"/>\n",
              "    <path d=\"M18.56 5.44l.94 2.06.94-2.06 2.06-.94-2.06-.94-.94-2.06-.94 2.06-2.06.94zm-11 1L8.5 8.5l.94-2.06 2.06-.94-2.06-.94L8.5 2.5l-.94 2.06-2.06.94zm10 10l.94 2.06.94-2.06 2.06-.94-2.06-.94-.94-2.06-.94 2.06-2.06.94z\"/><path d=\"M17.41 7.96l-1.37-1.37c-.4-.4-.92-.59-1.43-.59-.52 0-1.04.2-1.43.59L10.3 9.45l-7.72 7.72c-.78.78-.78 2.05 0 2.83L4 21.41c.39.39.9.59 1.41.59.51 0 1.02-.2 1.41-.59l7.78-7.78 2.81-2.81c.8-.78.8-2.07 0-2.86zM5.41 20L4 18.59l7.72-7.72 1.47 1.35L5.41 20z\"/>\n",
              "  </svg>\n",
              "      </button>\n",
              "      \n",
              "  <style>\n",
              "    .colab-df-container {\n",
              "      display:flex;\n",
              "      flex-wrap:wrap;\n",
              "      gap: 12px;\n",
              "    }\n",
              "\n",
              "    .colab-df-convert {\n",
              "      background-color: #E8F0FE;\n",
              "      border: none;\n",
              "      border-radius: 50%;\n",
              "      cursor: pointer;\n",
              "      display: none;\n",
              "      fill: #1967D2;\n",
              "      height: 32px;\n",
              "      padding: 0 0 0 0;\n",
              "      width: 32px;\n",
              "    }\n",
              "\n",
              "    .colab-df-convert:hover {\n",
              "      background-color: #E2EBFA;\n",
              "      box-shadow: 0px 1px 2px rgba(60, 64, 67, 0.3), 0px 1px 3px 1px rgba(60, 64, 67, 0.15);\n",
              "      fill: #174EA6;\n",
              "    }\n",
              "\n",
              "    [theme=dark] .colab-df-convert {\n",
              "      background-color: #3B4455;\n",
              "      fill: #D2E3FC;\n",
              "    }\n",
              "\n",
              "    [theme=dark] .colab-df-convert:hover {\n",
              "      background-color: #434B5C;\n",
              "      box-shadow: 0px 1px 3px 1px rgba(0, 0, 0, 0.15);\n",
              "      filter: drop-shadow(0px 1px 2px rgba(0, 0, 0, 0.3));\n",
              "      fill: #FFFFFF;\n",
              "    }\n",
              "  </style>\n",
              "\n",
              "      <script>\n",
              "        const buttonEl =\n",
              "          document.querySelector('#df-c09c1742-37f1-4aad-988a-62c94b9c74ba button.colab-df-convert');\n",
              "        buttonEl.style.display =\n",
              "          google.colab.kernel.accessAllowed ? 'block' : 'none';\n",
              "\n",
              "        async function convertToInteractive(key) {\n",
              "          const element = document.querySelector('#df-c09c1742-37f1-4aad-988a-62c94b9c74ba');\n",
              "          const dataTable =\n",
              "            await google.colab.kernel.invokeFunction('convertToInteractive',\n",
              "                                                     [key], {});\n",
              "          if (!dataTable) return;\n",
              "\n",
              "          const docLinkHtml = 'Like what you see? Visit the ' +\n",
              "            '<a target=\"_blank\" href=https://colab.research.google.com/notebooks/data_table.ipynb>data table notebook</a>'\n",
              "            + ' to learn more about interactive tables.';\n",
              "          element.innerHTML = '';\n",
              "          dataTable['output_type'] = 'display_data';\n",
              "          await google.colab.output.renderOutput(dataTable, element);\n",
              "          const docLink = document.createElement('div');\n",
              "          docLink.innerHTML = docLinkHtml;\n",
              "          element.appendChild(docLink);\n",
              "        }\n",
              "      </script>\n",
              "    </div>\n",
              "  </div>\n",
              "  "
            ]
          },
          "metadata": {},
          "execution_count": 113
        }
      ]
    },
    {
      "cell_type": "markdown",
      "metadata": {
        "id": "viJ-rhEb8IRu"
      },
      "source": [
        "### This makes the dataset ready to apply to Machine Learning Models."
      ]
    }
  ],
  "metadata": {
    "colab": {
      "collapsed_sections": [],
      "name": "Numpy_Pandas_DataPreprocessing.ipynb",
      "provenance": []
    },
    "kernelspec": {
      "display_name": "Python 3",
      "language": "python",
      "name": "python3"
    },
    "language_info": {
      "codemirror_mode": {
        "name": "ipython",
        "version": 3
      },
      "file_extension": ".py",
      "mimetype": "text/x-python",
      "name": "python",
      "nbconvert_exporter": "python",
      "pygments_lexer": "ipython3",
      "version": "3.8.8"
    }
  },
  "nbformat": 4,
  "nbformat_minor": 0
}