{
  "cells": [
    {
      "cell_type": "markdown",
      "source": [
        "# Synthetic Data Generation"
      ],
      "metadata": {
        "id": "JJ-fRoeqBWOG"
      },
      "id": "JJ-fRoeqBWOG"
    },
    {
      "cell_type": "code",
      "execution_count": 111,
      "id": "d16df99d",
      "metadata": {
        "id": "d16df99d",
        "colab": {
          "base_uri": "https://localhost:8080/",
          "height": 313
        },
        "outputId": "3cc43b86-edb7-46b5-aade-9ec56a6c8889"
      },
      "outputs": [
        {
          "output_type": "execute_result",
          "data": {
            "text/plain": [
              "Text(0.5, 1.0, 'Train and Test Data')"
            ]
          },
          "metadata": {},
          "execution_count": 111
        },
        {
          "output_type": "display_data",
          "data": {
            "text/plain": [
              "<Figure size 432x288 with 1 Axes>"
            ],
            "image/png": "[encoded data removed]"
          },
          "metadata": {
            "needs_background": "light"
          }
        }
      ],
      "source": [
        "# importing necessary libraries\n",
        "import pandas as pd\n",
        "import numpy as np\n",
        "import matplotlib.pyplot as plt\n",
        "\n",
        "## Synthetic Data Generation\n",
        "## This part of the starter code generates a synthetic regression dataset that\n",
        "## will be used for comparing Ridge and Lasso regression. The output is\n",
        "## governed by a polynomial y= w_0+w_1x+w_2x^2+...+w_7x^7. x is generated \n",
        "## randomly from a uniform distribution. We have also defined the w vector to \n",
        "## obtain the outputs. The dependent variable of training dataset is slightly \n",
        "## corrupted by adding some noise sampled from a normal distribution. You can \n",
        "## play around with this code to understand the dataset, but this is not the lab's focus.\n",
        "## The code could also be implemented using Numpy Polynomial Library.\n",
        "\n",
        "# fix the seed for the random function\n",
        "np.random.seed(2)\n",
        "\n",
        "# define the size of the train and test sets\n",
        "train_size=25\n",
        "test_size=50\n",
        "\n",
        "## listing the independent and dependent variables which makes it easy to use with \n",
        "## data frames later\n",
        "i_v=[\"X_1\", \"X_2\", \"X_3\", \"X_4\", \"X_5\", \"X_6\", \"X_7\"]\n",
        "d_v=[\"Y\"]\n",
        "\n",
        "# define the coefficients of the polynomial\n",
        "w_opt=np.array([1, 0, 2, 0, 0, 0, 0])\n",
        "\n",
        "# create an array of numbers sampled from a uniform distribution for the training set\n",
        "x = np.sort(np.random.uniform(low=-5, high=5, size=train_size))\n",
        "\n",
        "# creating the training data frame and appending the independent variables\n",
        "train_data = pd.DataFrame()\n",
        "train_data[\"X_1\"] = x\n",
        "train_data[\"X_2\"] = x**2\n",
        "train_data[\"X_3\"] = x**3\n",
        "train_data[\"X_4\"] = x**4\n",
        "train_data[\"X_5\"] = x**5\n",
        "train_data[\"X_6\"] = x**6\n",
        "train_data[\"X_7\"] = x**7\n",
        "\n",
        "# sample a random noise vector\n",
        "epislon = np.random.normal(loc=0.0, scale=30, size=train_size)\n",
        "\n",
        "# estimate the training data output. This will serve as the ground truth.\n",
        "train_data[\"Y\"] = train_data.dot(w_opt)+epislon\n",
        "\n",
        "# create an array of numbers sampled from a uniform distribution for the test set\n",
        "x = np.sort(np.random.uniform(low=-4, high=4, size=test_size))\n",
        "\n",
        "# creating the test data frame and appending the independent variables\n",
        "test_data = pd.DataFrame()\n",
        "test_data[\"X_1\"] = x\n",
        "test_data[\"X_2\"] = x**2\n",
        "test_data[\"X_3\"] = x**3\n",
        "test_data[\"X_4\"] = x**4\n",
        "test_data[\"X_5\"] = x**5\n",
        "test_data[\"X_6\"] = x**6\n",
        "test_data[\"X_7\"] = x**7\n",
        "\n",
        "# estimate the test data output. This will serve as the ground truth.\n",
        "test_data[\"Y\"] = test_data.dot(w_opt)\n",
        "\n",
        "# ploting the training and test data\n",
        "plt.figure(1)\n",
        "plt.scatter(train_data[[\"X_1\"]], train_data[[\"Y\"]], c=\"red\", label='train data')\n",
        "plt.scatter(test_data[[\"X_1\"]], test_data[[\"Y\"]], c=\"blue\", label='test data')\n",
        "plt.xlabel('X')\n",
        "plt.ylabel('Y')\n",
        "plt.legend()\n",
        "plt.title('Train and Test Data')"
      ]
    },
    {
      "cell_type": "markdown",
      "source": [
        "# Ridge Regression with Cross Validation (1 point)"
      ],
      "metadata": {
        "id": "pw-_qRVvBdGh"
      },
      "id": "pw-_qRVvBdGh"
    },
    {
      "cell_type": "code",
      "source": [
        "## We will use the generated data to try Ridge regression and determine the optimal\n",
        "## alpha value. Read about the RidgeCV class from\n",
        "## https://scikit-learn.org/stable/modules/classes.html#module-sklearn.linear_model\n",
        "## and describe the following Parameters and attributes of the class\n",
        "## \n",
        "## alphas: The array of alphas to try on for regularization\n",
        "##\n",
        "## cv: The number of folds in cross validation\n",
        "##\n",
        "## store_cv_values: Boolean value if true then saves the cross validation values in cv_values_\n",
        "##\n",
        "## cv_values_ : Value of cross validation for each alpha we tried on\n",
        "##\n",
        "## coef_ : The weights\n",
        "##\n",
        "## alpha_ : After the cross validation is finished then the estimated regularization constant is here\n",
        "\n",
        "from sklearn.linear_model import RidgeCV\n",
        "\n",
        "# Define a range of alpha from 1e-2 to 100 increasing in multiples of 10.\n",
        "ridge_alphas = np.array([0.01,0.1,1,10,100])\n",
        "\n",
        "# Define the number of cross validation folds\n",
        "ridge_number_of_cv_folds = 9\n",
        "\n",
        "## Create an instance of the regression model using the parameters defined above\n",
        "ridge_model = RidgeCV(alphas = ridge_alphas,cv = ridge_number_of_cv_folds)\n",
        "\n",
        "## Fit the model to the training set. Remember that we are performing\n",
        "## multi-variate regression. The number of independent variables is > 1\n",
        "ridge_model.fit(train_data[i_v],train_data[d_v])\n",
        "\n",
        "## Obtain the value of the estimated regularization parameter alpha\n",
        "ridge_estimated_alpha = ridge_model.alpha_\n",
        "print(\"estimated alpha:\",ridge_estimated_alpha)\n",
        "## Display the coefficients of the regressor (weight vector)\n",
        "print(\"coefficients are:\")\n",
        "print(ridge_model.coef_)\n",
        "## Compute the predictions for the training data and save it in a variable\n",
        "## named y_pred_tr_ridge\n",
        "y_pred_tr_ridge = ridge_model.predict(train_data[i_v])\n",
        "## Compute the predictions for the test data and save it in a variable\n",
        "## named y_pred_ridge\n",
        "y_pred_ridge = ridge_model.predict(test_data[i_v])"
      ],
      "metadata": {
        "id": "CYs34Sob3uiM",
        "colab": {
          "base_uri": "https://localhost:8080/"
        },
        "outputId": "a6be32bc-ddfd-40e1-a301-e2e56e8a7edd"
      },
      "id": "CYs34Sob3uiM",
      "execution_count": 112,
      "outputs": [
        {
          "output_type": "stream",
          "name": "stdout",
          "text": [
            "estimated alpha: 10.0\n",
            "coefficients are:\n",
            "[[-0.1668026   5.89428889  5.381533   -1.05825025 -0.45636463  0.04956757\n",
            "   0.01709765]]\n"
          ]
        }
      ]
    },
    {
      "cell_type": "markdown",
      "source": [
        "# Lasso Regression with Cross Validation (1 point)"
      ],
      "metadata": {
        "id": "liXUeCXiGshv"
      },
      "id": "liXUeCXiGshv"
    },
    {
      "cell_type": "code",
      "source": [
        "## We will use the generated data to try Lasso regression and determine the optimal\n",
        "## alpha value. Read about the LassoCV class from\n",
        "## https://scikit-learn.org/stable/modules/classes.html#module-sklearn.linear_model\n",
        "## and describe the following Parameters and attributes of the class\n",
        "## \n",
        "## alphas : The array of alphas to try on for regularization\n",
        "##\n",
        "## cv : The number of folds in cross validation\n",
        "##\n",
        "## coef_ : The weights\n",
        "##\n",
        "## alpha_ : The estimated best alpha amoung the alphas\n",
        "\n",
        "from sklearn.linear_model import LassoCV\n",
        "\n",
        "# Define a range of alpha from 1e-2 to 100 increasing in multiples of 10.\n",
        "lasso_alphas = np.array([0.01,0.1,1,10,100])\n",
        "\n",
        "# Define the number of cross validation folds\n",
        "lasso_number_of_cv_folds = 9\n",
        "\n",
        "## Create an instance of the regression model using the parameters defined above\n",
        "lasso_model = LassoCV(alphas = lasso_alphas,cv = lasso_number_of_cv_folds)\n",
        "\n",
        "## Fit the model to the training set. Remember that we are performing\n",
        "## multi-variate regression. The number of independent variables is > 1\n",
        "lasso_model.fit(train_data[i_v],train_data[d_v])\n",
        "\n",
        "## Obtain the value of the estimated regularization parameter alpha\n",
        "estimated_alpha_lasso = lasso_model.alpha_ \n",
        "print(\"estimated alpha:\",estimated_alpha_lasso)\n",
        "## Display the coefficients of the regressor (weight vector)\n",
        "print(\"coefficients are:\")\n",
        "print(lasso_model.coef_)\n",
        "\n",
        "## Compute the predictions for the training data and save it in a variable\n",
        "## named y_pred_tr_lasso\n",
        "y_pred_tr_lasso = lasso_model.predict(train_data[i_v])\n",
        "\n",
        "## Compute the predictions for the test data and save it in a variable\n",
        "## named y_pred_lasso\n",
        "y_pred_lasso = lasso_model.predict(test_data[i_v])"
      ],
      "metadata": {
        "id": "XGVfAQHPsygV",
        "colab": {
          "base_uri": "https://localhost:8080/"
        },
        "outputId": "00d2dd4b-f222-4368-c334-f86a7e88f8f7"
      },
      "id": "XGVfAQHPsygV",
      "execution_count": 113,
      "outputs": [
        {
          "output_type": "stream",
          "name": "stdout",
          "text": [
            "estimated alpha: 1.0\n",
            "coefficients are:\n",
            "[ 0.00000000e+00  0.00000000e+00  3.86388278e+00  3.05152539e-01\n",
            " -1.45335470e-01 -2.22161187e-02  1.38455971e-03]\n"
          ]
        },
        {
          "output_type": "stream",
          "name": "stderr",
          "text": [
            "/usr/local/lib/python3.7/dist-packages/sklearn/linear_model/_coordinate_descent.py:1571: DataConversionWarning: A column-vector y was passed when a 1d array was expected. Please change the shape of y to (n_samples, ), for example using ravel().\n",
            "  y = column_or_1d(y, warn=True)\n",
            "/usr/local/lib/python3.7/dist-packages/sklearn/linear_model/_coordinate_descent.py:644: ConvergenceWarning: Objective did not converge. You might want to increase the number of iterations. Duality gap: 2539.6896048974377, tolerance: 11.267267766906027\n",
            "  positive,\n",
            "/usr/local/lib/python3.7/dist-packages/sklearn/linear_model/_coordinate_descent.py:644: ConvergenceWarning: Objective did not converge. You might want to increase the number of iterations. Duality gap: 13970.214935648994, tolerance: 11.267267766906027\n",
            "  positive,\n",
            "/usr/local/lib/python3.7/dist-packages/sklearn/linear_model/_coordinate_descent.py:644: ConvergenceWarning: Objective did not converge. You might want to increase the number of iterations. Duality gap: 14613.98852213095, tolerance: 11.267267766906027\n",
            "  positive,\n",
            "/usr/local/lib/python3.7/dist-packages/sklearn/linear_model/_coordinate_descent.py:644: ConvergenceWarning: Objective did not converge. You might want to increase the number of iterations. Duality gap: 14519.71509012595, tolerance: 11.267267766906027\n",
            "  positive,\n",
            "/usr/local/lib/python3.7/dist-packages/sklearn/linear_model/_coordinate_descent.py:644: ConvergenceWarning: Objective did not converge. You might want to increase the number of iterations. Duality gap: 13072.60068660782, tolerance: 15.871792831373336\n",
            "  positive,\n",
            "/usr/local/lib/python3.7/dist-packages/sklearn/linear_model/_coordinate_descent.py:644: ConvergenceWarning: Objective did not converge. You might want to increase the number of iterations. Duality gap: 13841.499716963064, tolerance: 15.871792831373336\n",
            "  positive,\n",
            "/usr/local/lib/python3.7/dist-packages/sklearn/linear_model/_coordinate_descent.py:644: ConvergenceWarning: Objective did not converge. You might want to increase the number of iterations. Duality gap: 13845.469114895697, tolerance: 15.871792831373336\n",
            "  positive,\n",
            "/usr/local/lib/python3.7/dist-packages/sklearn/linear_model/_coordinate_descent.py:644: ConvergenceWarning: Objective did not converge. You might want to increase the number of iterations. Duality gap: 13742.688699818267, tolerance: 15.871792831373336\n",
            "  positive,\n",
            "/usr/local/lib/python3.7/dist-packages/sklearn/linear_model/_coordinate_descent.py:644: ConvergenceWarning: Objective did not converge. You might want to increase the number of iterations. Duality gap: 13880.39680445252, tolerance: 18.92890551508449\n",
            "  positive,\n",
            "/usr/local/lib/python3.7/dist-packages/sklearn/linear_model/_coordinate_descent.py:644: ConvergenceWarning: Objective did not converge. You might want to increase the number of iterations. Duality gap: 12803.197434125492, tolerance: 18.92890551508449\n",
            "  positive,\n",
            "/usr/local/lib/python3.7/dist-packages/sklearn/linear_model/_coordinate_descent.py:644: ConvergenceWarning: Objective did not converge. You might want to increase the number of iterations. Duality gap: 12361.23511644869, tolerance: 18.92890551508449\n",
            "  positive,\n",
            "/usr/local/lib/python3.7/dist-packages/sklearn/linear_model/_coordinate_descent.py:644: ConvergenceWarning: Objective did not converge. You might want to increase the number of iterations. Duality gap: 12072.41531456351, tolerance: 18.92890551508449\n",
            "  positive,\n",
            "/usr/local/lib/python3.7/dist-packages/sklearn/linear_model/_coordinate_descent.py:644: ConvergenceWarning: Objective did not converge. You might want to increase the number of iterations. Duality gap: 9151.158321458392, tolerance: 18.18062222570207\n",
            "  positive,\n",
            "/usr/local/lib/python3.7/dist-packages/sklearn/linear_model/_coordinate_descent.py:644: ConvergenceWarning: Objective did not converge. You might want to increase the number of iterations. Duality gap: 10115.98054019582, tolerance: 18.18062222570207\n",
            "  positive,\n",
            "/usr/local/lib/python3.7/dist-packages/sklearn/linear_model/_coordinate_descent.py:644: ConvergenceWarning: Objective did not converge. You might want to increase the number of iterations. Duality gap: 9750.159035221597, tolerance: 18.18062222570207\n",
            "  positive,\n",
            "/usr/local/lib/python3.7/dist-packages/sklearn/linear_model/_coordinate_descent.py:644: ConvergenceWarning: Objective did not converge. You might want to increase the number of iterations. Duality gap: 9401.284714791487, tolerance: 18.18062222570207\n",
            "  positive,\n",
            "/usr/local/lib/python3.7/dist-packages/sklearn/linear_model/_coordinate_descent.py:644: ConvergenceWarning: Objective did not converge. You might want to increase the number of iterations. Duality gap: 13681.628797706886, tolerance: 18.51383388088226\n",
            "  positive,\n",
            "/usr/local/lib/python3.7/dist-packages/sklearn/linear_model/_coordinate_descent.py:644: ConvergenceWarning: Objective did not converge. You might want to increase the number of iterations. Duality gap: 14260.205354177935, tolerance: 18.51383388088226\n",
            "  positive,\n",
            "/usr/local/lib/python3.7/dist-packages/sklearn/linear_model/_coordinate_descent.py:644: ConvergenceWarning: Objective did not converge. You might want to increase the number of iterations. Duality gap: 14068.991743241379, tolerance: 18.51383388088226\n",
            "  positive,\n",
            "/usr/local/lib/python3.7/dist-packages/sklearn/linear_model/_coordinate_descent.py:644: ConvergenceWarning: Objective did not converge. You might want to increase the number of iterations. Duality gap: 13845.819147507174, tolerance: 18.51383388088226\n",
            "  positive,\n",
            "/usr/local/lib/python3.7/dist-packages/sklearn/linear_model/_coordinate_descent.py:644: ConvergenceWarning: Objective did not converge. You might want to increase the number of iterations. Duality gap: 13570.53807072772, tolerance: 18.666088324006353\n",
            "  positive,\n",
            "/usr/local/lib/python3.7/dist-packages/sklearn/linear_model/_coordinate_descent.py:644: ConvergenceWarning: Objective did not converge. You might want to increase the number of iterations. Duality gap: 13887.615815417286, tolerance: 18.666088324006353\n",
            "  positive,\n",
            "/usr/local/lib/python3.7/dist-packages/sklearn/linear_model/_coordinate_descent.py:644: ConvergenceWarning: Objective did not converge. You might want to increase the number of iterations. Duality gap: 13764.12391373675, tolerance: 18.666088324006353\n",
            "  positive,\n",
            "/usr/local/lib/python3.7/dist-packages/sklearn/linear_model/_coordinate_descent.py:644: ConvergenceWarning: Objective did not converge. You might want to increase the number of iterations. Duality gap: 13567.939019759708, tolerance: 18.666088324006353\n",
            "  positive,\n",
            "/usr/local/lib/python3.7/dist-packages/sklearn/linear_model/_coordinate_descent.py:644: ConvergenceWarning: Objective did not converge. You might want to increase the number of iterations. Duality gap: 13358.062724772495, tolerance: 19.05654302358771\n",
            "  positive,\n",
            "/usr/local/lib/python3.7/dist-packages/sklearn/linear_model/_coordinate_descent.py:644: ConvergenceWarning: Objective did not converge. You might want to increase the number of iterations. Duality gap: 13039.059416798653, tolerance: 19.05654302358771\n",
            "  positive,\n",
            "/usr/local/lib/python3.7/dist-packages/sklearn/linear_model/_coordinate_descent.py:644: ConvergenceWarning: Objective did not converge. You might want to increase the number of iterations. Duality gap: 12874.496299012031, tolerance: 19.05654302358771\n",
            "  positive,\n",
            "/usr/local/lib/python3.7/dist-packages/sklearn/linear_model/_coordinate_descent.py:644: ConvergenceWarning: Objective did not converge. You might want to increase the number of iterations. Duality gap: 12760.969772185108, tolerance: 19.05654302358771\n",
            "  positive,\n",
            "/usr/local/lib/python3.7/dist-packages/sklearn/linear_model/_coordinate_descent.py:644: ConvergenceWarning: Objective did not converge. You might want to increase the number of iterations. Duality gap: 11982.599852686491, tolerance: 17.446273305156524\n",
            "  positive,\n",
            "/usr/local/lib/python3.7/dist-packages/sklearn/linear_model/_coordinate_descent.py:644: ConvergenceWarning: Objective did not converge. You might want to increase the number of iterations. Duality gap: 13507.084552558254, tolerance: 17.446273305156524\n",
            "  positive,\n",
            "/usr/local/lib/python3.7/dist-packages/sklearn/linear_model/_coordinate_descent.py:644: ConvergenceWarning: Objective did not converge. You might want to increase the number of iterations. Duality gap: 13714.684634084946, tolerance: 17.446273305156524\n",
            "  positive,\n",
            "/usr/local/lib/python3.7/dist-packages/sklearn/linear_model/_coordinate_descent.py:644: ConvergenceWarning: Objective did not converge. You might want to increase the number of iterations. Duality gap: 13501.292235855431, tolerance: 17.446273305156524\n",
            "  positive,\n",
            "/usr/local/lib/python3.7/dist-packages/sklearn/linear_model/_coordinate_descent.py:644: ConvergenceWarning: Objective did not converge. You might want to increase the number of iterations. Duality gap: 14569.039552589293, tolerance: 15.168851249989064\n",
            "  positive,\n",
            "/usr/local/lib/python3.7/dist-packages/sklearn/linear_model/_coordinate_descent.py:644: ConvergenceWarning: Objective did not converge. You might want to increase the number of iterations. Duality gap: 14944.638765673943, tolerance: 15.168851249989064\n",
            "  positive,\n",
            "/usr/local/lib/python3.7/dist-packages/sklearn/linear_model/_coordinate_descent.py:644: ConvergenceWarning: Objective did not converge. You might want to increase the number of iterations. Duality gap: 14950.82179757305, tolerance: 15.168851249989064\n",
            "  positive,\n",
            "/usr/local/lib/python3.7/dist-packages/sklearn/linear_model/_coordinate_descent.py:644: ConvergenceWarning: Objective did not converge. You might want to increase the number of iterations. Duality gap: 14689.375376853588, tolerance: 15.168851249989064\n",
            "  positive,\n",
            "/usr/local/lib/python3.7/dist-packages/sklearn/linear_model/_coordinate_descent.py:648: ConvergenceWarning: Objective did not converge. You might want to increase the number of iterations, check the scale of the features or consider increasing regularisation. Duality gap: 1.554e+04, tolerance: 1.938e+01\n",
            "  coef_, l1_reg, l2_reg, X, y, max_iter, tol, rng, random, positive\n"
          ]
        }
      ]
    },
    {
      "cell_type": "markdown",
      "source": [
        "# Visualize the outputs(0.5 point)"
      ],
      "metadata": {
        "id": "fI427Z-LIXTs"
      },
      "id": "fI427Z-LIXTs"
    },
    {
      "cell_type": "code",
      "source": [
        "## Let us visualize the regressors. We will create a single image containing\n",
        "## two plots - one each for train and test set. Label the plots appropriately.\n",
        "figure, axis = plt.subplots(2,1)\n",
        "axis[0].set_title(\"Ground Truth and Predictions on the Train Set\")\n",
        "axis[0].scatter(train_data[[\"X_1\"]], train_data[d_v],color=\"red\",label=\"ground truth\")\n",
        "axis[0].plot(train_data[[\"X_1\"]],y_pred_tr_ridge,\"-o\",color=\"blue\",label=\"ridge\")\n",
        "axis[0].plot(train_data[[\"X_1\"]],y_pred_tr_lasso,\"-o\",color=\"orange\",label=\"lasso\")\n",
        "axis[0].set_xlabel('X_1')\n",
        "axis[0].set_ylabel('Y')\n",
        "axis[0].legend()\n",
        "\n",
        "axis[1].set_title(\"Ground Truth and Predictions on the Test Set\")\n",
        "axis[1].scatter(test_data[[\"X_1\"]], test_data[d_v], color=\"red\", label=\"ground truth\")\n",
        "axis[1].plot(test_data[[\"X_1\"]],y_pred_ridge,'-o',color=\"blue\",label=\"ridge\")\n",
        "axis[1].plot(test_data[[\"X_1\"]],y_pred_lasso,'-o',color=\"orange\",label=\"lasso\")\n",
        "axis[1].set_xlabel('X_1')\n",
        "axis[1].set_ylabel('Y')\n",
        "axis[1].legend()\n",
        "figure.tight_layout()\n",
        "plt.show()"
      ],
      "metadata": {
        "id": "yO_XpOmXsxbz",
        "colab": {
          "base_uri": "https://localhost:8080/",
          "height": 297
        },
        "outputId": "f392cf87-458a-48ca-cdb8-bac48437e568"
      },
      "id": "yO_XpOmXsxbz",
      "execution_count": 114,
      "outputs": [
        {
          "output_type": "display_data",
          "data": {
            "text/plain": [
              "<Figure size 432x288 with 2 Axes>"
            ],
            "image/png": "[encoded data removed]"
          },
          "metadata": {
            "needs_background": "light"
          }
        }
      ]
    },
    {
      "cell_type": "markdown",
      "source": [
        "# Comment on the two models (0.5 point)\n",
        "\n",
        "\n",
        "*  Is there any qualitative difference between the predictions from the plots?\n",
        "-> Lasso predicted higher value for Y than ridge\n",
        "*  Do you notice any difference in the optimal alpha values?\n",
        "->Alpha for lasso was smaller than ridge for same cv value\n",
        "*  Do the weight vectors (coefficients) reveal anything?\n",
        "->Weights for lasso are smaller than ridge\n",
        "\n",
        "\n",
        "\n"
      ],
      "metadata": {
        "id": "bD89Cod9tb7P"
      },
      "id": "bD89Cod9tb7P"
    },
    {
      "cell_type": "markdown",
      "source": [
        "# Cross Validation for Hyper-Parameter Tuning"
      ],
      "metadata": {
        "id": "bW2UZ-YlBf4M"
      },
      "id": "bW2UZ-YlBf4M"
    },
    {
      "cell_type": "markdown",
      "source": [
        "# Loading a dataset part of the SKLearn Package (0.5 point)"
      ],
      "metadata": {
        "id": "wtmlhTRtH3ot"
      },
      "id": "wtmlhTRtH3ot"
    },
    {
      "cell_type": "code",
      "execution_count": 115,
      "id": "9a41e141",
      "metadata": {
        "id": "9a41e141",
        "colab": {
          "base_uri": "https://localhost:8080/"
        },
        "outputId": "9d0e87ce-c84e-4ec8-b699-e6f371bf0b00"
      },
      "outputs": [
        {
          "output_type": "execute_result",
          "data": {
            "text/plain": [
              "array([ 0.03807591,  0.05068012,  0.06169621,  0.02187235, -0.0442235 ,\n",
              "       -0.03482076, -0.04340085, -0.00259226,  0.01990842, -0.01764613])"
            ]
          },
          "metadata": {},
          "execution_count": 115
        }
      ],
      "source": [
        "## We will use the diabetes dataset included as part of the sklearn package for this\n",
        "## part of the lab. Write the necessary code to load the dataset into the workspace\n",
        "## as a tuple consisting of the independent and dependent variable values\n",
        "##\n",
        "## Add a text block to describe the dataset\n",
        "## - Number of data points\n",
        "## - Number and list of attributes\n",
        "## - Identify categorical (discrete) and continuous attributes\n",
        "from sklearn import datasets\n",
        "(X, y) = datasets.load_diabetes(return_X_y=True)\n",
        "X[0]"
      ]
    },
    {
      "cell_type": "markdown",
      "source": [
        "Number of data points is 442\n",
        "\n",
        "Number of attributes are 10\n",
        "\n",
        "List of attributes are age, sex, body mass index, average blood pressure, and six blood serum measurements were obtained\n",
        "\n",
        "Discrete attributes: age, sex\n",
        "\n",
        "Continuous attributes: body mass index, average blood pressure, and six blood serum measurements"
      ],
      "metadata": {
        "id": "cPnjAWsYiH95"
      },
      "id": "cPnjAWsYiH95"
    },
    {
      "cell_type": "markdown",
      "id": "e96f9638",
      "metadata": {
        "id": "e96f9638"
      },
      "source": [
        "# Grid Search CV (1.5 points)"
      ]
    },
    {
      "cell_type": "code",
      "execution_count": 116,
      "id": "43d6d2d0",
      "metadata": {
        "id": "43d6d2d0",
        "colab": {
          "base_uri": "https://localhost:8080/"
        },
        "outputId": "fbce8081-9e52-4475-cd84-208af125fe40"
      },
      "outputs": [
        {
          "output_type": "stream",
          "name": "stdout",
          "text": [
            "ridge\n",
            "Fitting 5 folds for each of 5 candidates, totalling 25 fits\n",
            "[CV 1/5] END .................alpha=0.01;, score=-1645804.148 total time=   0.0s\n",
            "[CV 2/5] END ....................alpha=0.01;, score=-4411.706 total time=   0.0s\n",
            "[CV 3/5] END ....................alpha=0.01;, score=-2809.421 total time=   0.0s\n",
            "[CV 4/5] END ....................alpha=0.01;, score=-2485.116 total time=   0.0s\n",
            "[CV 5/5] END ..............alpha=0.01;, score=-2581610852.701 total time=   0.0s\n",
            "[CV 1/5] END ..................alpha=0.1;, score=-1508766.127 total time=   0.0s\n",
            "[CV 2/5] END .....................alpha=0.1;, score=-4366.282 total time=   0.0s\n",
            "[CV 3/5] END .....................alpha=0.1;, score=-2712.252 total time=   0.0s\n",
            "[CV 4/5] END .....................alpha=0.1;, score=-2487.462 total time=   0.0s\n",
            "[CV 5/5] END ................alpha=0.1;, score=-269864568.475 total time=   0.0s\n",
            "[CV 1/5] END .....................alpha=1;, score=-868799.743 total time=   0.0s\n",
            "[CV 2/5] END .......................alpha=1;, score=-4095.995 total time=   0.0s\n",
            "[CV 3/5] END .......................alpha=1;, score=-2176.925 total time=   0.0s\n",
            "[CV 4/5] END .......................alpha=1;, score=-2493.605 total time=   0.0s\n",
            "[CV 5/5] END ....................alpha=1;, score=-4296723.702 total time=   0.0s\n",
            "[CV 1/5] END ....................alpha=10;, score=-288478.536 total time=   0.0s\n",
            "[CV 2/5] END ......................alpha=10;, score=-3843.880 total time=   0.0s\n",
            "[CV 3/5] END ......................alpha=10;, score=-1589.330 total time=   0.0s\n",
            "[CV 4/5] END ......................alpha=10;, score=-2438.111 total time=   0.0s\n",
            "[CV 5/5] END ...................alpha=10;, score=-3588751.552 total time=   0.0s\n",
            "[CV 1/5] END ....................alpha=100;, score=-52002.870 total time=   0.0s\n",
            "[CV 2/5] END .....................alpha=100;, score=-4186.501 total time=   0.0s\n",
            "[CV 3/5] END .....................alpha=100;, score=-1393.486 total time=   0.0s\n",
            "[CV 4/5] END .....................alpha=100;, score=-2214.181 total time=   0.0s\n",
            "[CV 5/5] END ..................alpha=100;, score=-1095316.420 total time=   0.0s\n",
            "{'alpha': 100}\n",
            "Time taken for hyper-parameter tuning is: 0.15656375885009766 seconds\n",
            "lasso\n",
            "Fitting 5 folds for each of 5 candidates, totalling 25 fits\n",
            "[CV 1/5] END ..................alpha=0.01;, score=-132783.607 total time=   0.0s\n",
            "[CV 2/5] END ....................alpha=0.01;, score=-4763.130 total time=   0.0s\n",
            "[CV 3/5] END ....................alpha=0.01;, score=-2860.446 total time=   0.0s\n",
            "[CV 4/5] END ....................alpha=0.01;, score=-3239.221 total time=   0.0s\n",
            "[CV 5/5] END ..................alpha=0.01;, score=-414050.536 total time=   0.0s\n",
            "[CV 1/5] END ...................alpha=0.1;, score=-135212.908 total time=   0.0s\n",
            "[CV 2/5] END .....................alpha=0.1;, score=-4732.614 total time=   0.0s\n",
            "[CV 3/5] END .....................alpha=0.1;, score=-2828.548 total time=   0.0s\n",
            "[CV 4/5] END .....................alpha=0.1;, score=-3211.108 total time=   0.0s\n",
            "[CV 5/5] END ...................alpha=0.1;, score=-371457.324 total time=   0.0s\n",
            "[CV 1/5] END .....................alpha=1;, score=-160784.931 total time=   0.0s\n",
            "[CV 2/5] END .......................alpha=1;, score=-4441.356 total time=   0.0s\n",
            "[CV 3/5] END .......................alpha=1;, score=-2517.974 total time=   0.0s\n",
            "[CV 4/5] END .......................alpha=1;, score=-2940.259 total time=   0.0s\n",
            "[CV 5/5] END ......................alpha=1;, score=-91790.377 total time=   0.0s\n",
            "[CV 1/5] END .....................alpha=10;, score=-48631.023 total time=   0.0s\n",
            "[CV 2/5] END ......................alpha=10;, score=-3791.222 total time=   0.0s\n",
            "[CV 3/5] END ......................alpha=10;, score=-1362.432 total time=   0.0s\n",
            "[CV 4/5] END ......................alpha=10;, score=-2005.561 total time=   0.0s\n",
            "[CV 5/5] END ......................alpha=10;, score=-6595.864 total time=   0.0s\n",
            "[CV 1/5] END ....................alpha=100;, score=-34374.348 total time=   0.0s\n",
            "[CV 2/5] END .....................alpha=100;, score=-4191.960 total time=   0.0s\n",
            "[CV 3/5] END .....................alpha=100;, score=-1199.692 total time=   0.0s\n",
            "[CV 4/5] END .....................alpha=100;, score=-1657.781 total time=   0.0s\n",
            "[CV 5/5] END .....................alpha=100;, score=-2420.102 total time=   0.0s\n",
            "{'alpha': 100}\n",
            "Time taken for hyper-parameter tuning is: 0.15958356857299805 seconds\n"
          ]
        },
        {
          "output_type": "stream",
          "name": "stderr",
          "text": [
            "/usr/local/lib/python3.7/dist-packages/sklearn/linear_model/_coordinate_descent.py:648: ConvergenceWarning: Objective did not converge. You might want to increase the number of iterations, check the scale of the features or consider increasing regularisation. Duality gap: 1.350e+04, tolerance: 8.608e+00\n",
            "  coef_, l1_reg, l2_reg, X, y, max_iter, tol, rng, random, positive\n",
            "/usr/local/lib/python3.7/dist-packages/sklearn/linear_model/_coordinate_descent.py:648: ConvergenceWarning: Objective did not converge. You might want to increase the number of iterations, check the scale of the features or consider increasing regularisation. Duality gap: 7.290e+03, tolerance: 1.662e+01\n",
            "  coef_, l1_reg, l2_reg, X, y, max_iter, tol, rng, random, positive\n",
            "/usr/local/lib/python3.7/dist-packages/sklearn/linear_model/_coordinate_descent.py:648: ConvergenceWarning: Objective did not converge. You might want to increase the number of iterations, check the scale of the features or consider increasing regularisation. Duality gap: 1.165e+04, tolerance: 1.777e+01\n",
            "  coef_, l1_reg, l2_reg, X, y, max_iter, tol, rng, random, positive\n",
            "/usr/local/lib/python3.7/dist-packages/sklearn/linear_model/_coordinate_descent.py:648: ConvergenceWarning: Objective did not converge. You might want to increase the number of iterations, check the scale of the features or consider increasing regularisation. Duality gap: 1.077e+04, tolerance: 1.866e+01\n",
            "  coef_, l1_reg, l2_reg, X, y, max_iter, tol, rng, random, positive\n",
            "/usr/local/lib/python3.7/dist-packages/sklearn/linear_model/_coordinate_descent.py:648: ConvergenceWarning: Objective did not converge. You might want to increase the number of iterations, check the scale of the features or consider increasing regularisation. Duality gap: 1.193e+04, tolerance: 1.208e+01\n",
            "  coef_, l1_reg, l2_reg, X, y, max_iter, tol, rng, random, positive\n",
            "/usr/local/lib/python3.7/dist-packages/sklearn/linear_model/_coordinate_descent.py:648: ConvergenceWarning: Objective did not converge. You might want to increase the number of iterations, check the scale of the features or consider increasing regularisation. Duality gap: 1.343e+04, tolerance: 8.608e+00\n",
            "  coef_, l1_reg, l2_reg, X, y, max_iter, tol, rng, random, positive\n",
            "/usr/local/lib/python3.7/dist-packages/sklearn/linear_model/_coordinate_descent.py:648: ConvergenceWarning: Objective did not converge. You might want to increase the number of iterations, check the scale of the features or consider increasing regularisation. Duality gap: 7.326e+03, tolerance: 1.662e+01\n",
            "  coef_, l1_reg, l2_reg, X, y, max_iter, tol, rng, random, positive\n",
            "/usr/local/lib/python3.7/dist-packages/sklearn/linear_model/_coordinate_descent.py:648: ConvergenceWarning: Objective did not converge. You might want to increase the number of iterations, check the scale of the features or consider increasing regularisation. Duality gap: 1.169e+04, tolerance: 1.777e+01\n",
            "  coef_, l1_reg, l2_reg, X, y, max_iter, tol, rng, random, positive\n",
            "/usr/local/lib/python3.7/dist-packages/sklearn/linear_model/_coordinate_descent.py:648: ConvergenceWarning: Objective did not converge. You might want to increase the number of iterations, check the scale of the features or consider increasing regularisation. Duality gap: 1.076e+04, tolerance: 1.866e+01\n",
            "  coef_, l1_reg, l2_reg, X, y, max_iter, tol, rng, random, positive\n",
            "/usr/local/lib/python3.7/dist-packages/sklearn/linear_model/_coordinate_descent.py:648: ConvergenceWarning: Objective did not converge. You might want to increase the number of iterations, check the scale of the features or consider increasing regularisation. Duality gap: 1.206e+04, tolerance: 1.208e+01\n",
            "  coef_, l1_reg, l2_reg, X, y, max_iter, tol, rng, random, positive\n",
            "/usr/local/lib/python3.7/dist-packages/sklearn/linear_model/_coordinate_descent.py:648: ConvergenceWarning: Objective did not converge. You might want to increase the number of iterations, check the scale of the features or consider increasing regularisation. Duality gap: 1.252e+04, tolerance: 8.608e+00\n",
            "  coef_, l1_reg, l2_reg, X, y, max_iter, tol, rng, random, positive\n",
            "/usr/local/lib/python3.7/dist-packages/sklearn/linear_model/_coordinate_descent.py:648: ConvergenceWarning: Objective did not converge. You might want to increase the number of iterations, check the scale of the features or consider increasing regularisation. Duality gap: 7.592e+03, tolerance: 1.662e+01\n",
            "  coef_, l1_reg, l2_reg, X, y, max_iter, tol, rng, random, positive\n",
            "/usr/local/lib/python3.7/dist-packages/sklearn/linear_model/_coordinate_descent.py:648: ConvergenceWarning: Objective did not converge. You might want to increase the number of iterations, check the scale of the features or consider increasing regularisation. Duality gap: 1.180e+04, tolerance: 1.777e+01\n",
            "  coef_, l1_reg, l2_reg, X, y, max_iter, tol, rng, random, positive\n",
            "/usr/local/lib/python3.7/dist-packages/sklearn/linear_model/_coordinate_descent.py:648: ConvergenceWarning: Objective did not converge. You might want to increase the number of iterations, check the scale of the features or consider increasing regularisation. Duality gap: 1.087e+04, tolerance: 1.866e+01\n",
            "  coef_, l1_reg, l2_reg, X, y, max_iter, tol, rng, random, positive\n",
            "/usr/local/lib/python3.7/dist-packages/sklearn/linear_model/_coordinate_descent.py:648: ConvergenceWarning: Objective did not converge. You might want to increase the number of iterations, check the scale of the features or consider increasing regularisation. Duality gap: 1.299e+04, tolerance: 1.208e+01\n",
            "  coef_, l1_reg, l2_reg, X, y, max_iter, tol, rng, random, positive\n",
            "/usr/local/lib/python3.7/dist-packages/sklearn/linear_model/_coordinate_descent.py:648: ConvergenceWarning: Objective did not converge. You might want to increase the number of iterations, check the scale of the features or consider increasing regularisation. Duality gap: 7.006e+03, tolerance: 1.662e+01\n",
            "  coef_, l1_reg, l2_reg, X, y, max_iter, tol, rng, random, positive\n",
            "/usr/local/lib/python3.7/dist-packages/sklearn/linear_model/_coordinate_descent.py:648: ConvergenceWarning: Objective did not converge. You might want to increase the number of iterations, check the scale of the features or consider increasing regularisation. Duality gap: 1.134e+04, tolerance: 1.777e+01\n",
            "  coef_, l1_reg, l2_reg, X, y, max_iter, tol, rng, random, positive\n",
            "/usr/local/lib/python3.7/dist-packages/sklearn/linear_model/_coordinate_descent.py:648: ConvergenceWarning: Objective did not converge. You might want to increase the number of iterations, check the scale of the features or consider increasing regularisation. Duality gap: 1.047e+04, tolerance: 1.866e+01\n",
            "  coef_, l1_reg, l2_reg, X, y, max_iter, tol, rng, random, positive\n",
            "/usr/local/lib/python3.7/dist-packages/sklearn/linear_model/_coordinate_descent.py:648: ConvergenceWarning: Objective did not converge. You might want to increase the number of iterations, check the scale of the features or consider increasing regularisation. Duality gap: 1.163e+04, tolerance: 1.208e+01\n",
            "  coef_, l1_reg, l2_reg, X, y, max_iter, tol, rng, random, positive\n"
          ]
        }
      ],
      "source": [
        "## We will use the grid search strategy along with cross validation to\n",
        "## select the optimal hyper-parameter values for Ridge regression and LASSO.\n",
        "## We will also measure the time spent for performing this search.\n",
        "\n",
        "# import that time package to call functions related to time measurement\n",
        "import time\n",
        "from sklearn.linear_model import Ridge, Lasso\n",
        "from sklearn.model_selection import GridSearchCV\n",
        "## Read the documentation for SKlearn model selection class GridSearchCV\n",
        "## https://scikit-learn.org/stable/modules/generated/sklearn.model_selection.GridSearchCV.html\n",
        "## Describe the following parameters and attributes of the class in your words.\n",
        "## estimator: Impliments the skikit-learn estimator interface and we have to pass a score function in estimator or we have to pass in scoring \n",
        "##\n",
        "## param_grid: A dictionary which has parameter names and keys corresponding to it\n",
        "##\n",
        "## refit: boolean value, if it is set true then it will refit the estimator using best found parameters\n",
        "##\n",
        "## cv: the number of folds\n",
        "##\n",
        "## scoring: On the test set, for the evaluation of the performance of cross validation model the strategy function is mentioned here\n",
        "##\n",
        "## cv_results_: A dictionary in which keys are column headers and values are columns and also can be imported into DataFrame of pandas .\n",
        "##\n",
        "## best_estimator_: estimator with highest score\n",
        "##\n",
        "## best_params_: parameters with best results\n",
        "##\n",
        "## \n",
        "\n",
        "# list of models we want to test\n",
        "models = []\n",
        "models.append(('ridge', Ridge()))\n",
        "models.append(('lasso', Lasso()))\n",
        "\n",
        "## define a dictionary with hyper-parameter names as keys and a list of \n",
        "## permissible values for the hyper-parameter\n",
        "param_grid = {\"alpha\" : [0.01,0.1,1,10,100]}\n",
        "\n",
        "# loop through the two models\n",
        "for name, model in models:\n",
        "    \n",
        "    print(name) # print the model considered for grid search\n",
        "    \n",
        "    # create an instance of the GridSearchCV class for perorming a 5-fold CV to estimate the optimal value of alpha\n",
        "    # scoring function should be negative mean squared error\n",
        "    # use the default number of cross validation folds\n",
        "    # set verbose to a level that will enable checking the intermediate outputs\n",
        "    gridSearchCV_model = GridSearchCV(model,param_grid=param_grid,scoring='neg_mean_squared_error',verbose=5)\n",
        "\n",
        "    # note the time at the start of the search\n",
        "    start_time = time.time()\n",
        "\n",
        "    # fitting the model for grid search\n",
        "    gridSearchCV_model.fit(train_data[i_v],train_data[d_v])\n",
        "\n",
        "    # print best parameter after tuning\n",
        "    print(gridSearchCV_model.best_params_)\n",
        "    print(\"Time taken for hyper-parameter tuning is: %s seconds\" % (time.time() - start_time))"
      ]
    }
  ],
  "metadata": {
    "kernelspec": {
      "display_name": "Python 3",
      "language": "python",
      "name": "python3"
    },
    "language_info": {
      "codemirror_mode": {
        "name": "ipython",
        "version": 3
      },
      "file_extension": ".py",
      "mimetype": "text/x-python",
      "name": "python",
      "nbconvert_exporter": "python",
      "pygments_lexer": "ipython3",
      "version": "3.8.8"
    },
    "colab": {
      "provenance": [],
      "collapsed_sections": []
    }
  },
  "nbformat": 4,
  "nbformat_minor": 5
}