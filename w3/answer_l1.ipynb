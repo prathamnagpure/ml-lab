{
  "nbformat": 4,
  "nbformat_minor": 0,
  "metadata": {
    "colab": {
      "provenance": [],
      "collapsed_sections": []
    },
    "kernelspec": {
      "name": "python3",
      "display_name": "Python 3"
    },
    "language_info": {
      "name": "python"
    }
  },
  "cells": [
    {
      "cell_type": "markdown",
      "metadata": {
        "id": "2QFZcxyFG1DX"
      },
      "source": [
        "# Lab 1 - DS3010 Machine Learning\n",
        "# Linear Regression and its Variants (Ridge and LASSO)"
      ]
    },
    {
      "cell_type": "code",
      "metadata": {
        "id": "n7bFr8ff3ifM",
        "colab": {
          "base_uri": "https://localhost:8080/"
        },
        "outputId": "65c33b38-64de-4300-85a3-acf6b34296d9"
      },
      "source": [
        "## The starter code was implemented in google colab , hence drive is mounted.\n",
        "from google.colab import drive\n",
        "drive.mount('/content/drive')"
      ],
      "execution_count": 122,
      "outputs": [
        {
          "output_type": "stream",
          "name": "stdout",
          "text": [
            "Drive already mounted at /content/drive; to attempt to forcibly remount, call drive.mount(\"/content/drive\", force_remount=True).\n"
          ]
        }
      ]
    },
    {
      "cell_type": "markdown",
      "source": [
        "# Loading the data and computing the basic statistics. (0.5 points)"
      ],
      "metadata": {
        "id": "TI8CJhO9FgDk"
      }
    },
    {
      "cell_type": "code",
      "metadata": {
        "id": "cMYimhF752V9",
        "colab": {
          "base_uri": "https://localhost:8080/"
        },
        "outputId": "20cfe6f3-6b10-4458-c733-86f36d7c538c"
      },
      "source": [
        "## Now that we have mounted the drive, let us load the data required for\n",
        "## executing the lab. The accompanying zip file should contain a data folder\n",
        "## that has three csv files. We will use the train.csv file for training the\n",
        "## model and evaluate it using the data in test.csv. Note that the test.csv only\n",
        "## contains the values of the independent variables.\n",
        "\n",
        "## We would need functions from the Pandas and Numpy libraries for the lab. So \n",
        "## let us import them right away.\n",
        "import pandas as pd\n",
        "import numpy as np\n",
        "\n",
        "## Load the training data using the pandas frame named train_data\n",
        "## Load the test data using the pandas frame named test_data_X\n",
        "## Load the file that will be finally submitted after appending the predictions\n",
        "\n",
        "\n",
        "train_data = pd.read_csv('/content/drive/MyDrive/w3/w3 2/data/train.csv')\n",
        "test_data = pd.read_csv('/content/drive/MyDrive/w3/w3 2/data/testX.csv')\n",
        "submission = pd.read_csv('/content/drive/MyDrive/w3/w3 2/data/submission.csv')\n",
        "\n",
        "## Test whether the data has been loaded correctly by printing the data.\n",
        "#print(train_data)\n",
        "\n",
        "## Write code to understand the train data statistics. Specifically output\n",
        "## 1. The number of data points\n",
        "## 2. The number of independent variables\n",
        "## 3. The mean, minimum, and maximum values of the independent variables\n",
        "## 4. The mean, minimum, and maximum values of the dependent variable\n",
        "## You may find Pandas API reference https://pandas.pydata.org/docs/reference/index.html#api\n",
        "## useful while writing the code.\n",
        "\n",
        "print(\"The number of data points are:\")\n",
        "print(train_data.count())\n",
        "print(\"The number of independent variables: 1\")\n",
        "print(\"The mean of independent variables:\",train_data['X'].mean())\n",
        "print(\"The minimum of independent variables:\",train_data['X'].min())\n",
        "print(\"The maximum of independent variables:\",train_data['X'].max())\n",
        "print(\"The mean of dependent variables:\",train_data['Y'].mean())\n",
        "print(\"The minimum of dependent variables:\",train_data['Y'].min())\n",
        "print(\"The maximum of dependent variables:\",train_data['Y'].max())"
      ],
      "execution_count": 123,
      "outputs": [
        {
          "output_type": "stream",
          "name": "stdout",
          "text": [
            "The number of data points are:\n",
            "X    51\n",
            "Y    51\n",
            "dtype: int64\n",
            "The number of independent variables: 1\n",
            "The mean of independent variables: -1.7415263131375004e-17\n",
            "The minimum of independent variables: -5.0\n",
            "The maximum of independent variables: 5.0\n",
            "The mean of dependent variables: -0.3703166274509804\n",
            "The minimum of dependent variables: -6.3204\n",
            "The maximum of dependent variables: 4.3024\n"
          ]
        }
      ]
    },
    {
      "cell_type": "markdown",
      "source": [
        "# Linear Regression (1 point)"
      ],
      "metadata": {
        "id": "9onsxuoGVxzI"
      }
    },
    {
      "cell_type": "code",
      "metadata": {
        "id": "ujkTjZeM93_L",
        "colab": {
          "base_uri": "https://localhost:8080/"
        },
        "outputId": "333f3b73-fc07-41bc-cac6-8183247e69ea"
      },
      "source": [
        "## We are now ready to try regression functions from the SKLearn libraries.\n",
        "## You can refer to https://scikit-learn.org/stable/modules/classes.html for the\n",
        "## to understand the different functions that are available in the library.\n",
        "\n",
        "## Our goal is to experiment with linear regression, so let us import the\n",
        "## necessary library.\n",
        "from sklearn.linear_model import LinearRegression\n",
        "\n",
        "## create an instance of the linear regression model with normalize parameter \n",
        "## set to True. Describe the parameters fit_intercept and normalize. Do not\n",
        "## copy paste the documentaton. Instead write it in your words.\n",
        "\n",
        "## <add your description below>\n",
        "## fit_intercept: \n",
        "\"\"\"\n",
        "fit_intercept = True, makes the y intercept corresponding to the line of best fit\n",
        "fit_intercept = False, makes the y intercept to be 0\n",
        "\"\"\"\n",
        "## normalize: \n",
        "\"\"\"\n",
        " normalize = True, Normalizes X, normalization is done by subtracting the mean and dividing by the l2-norm\n",
        " and then on this normalized X regression is performed\n",
        " normalize = False, no change in X\n",
        "\"\"\"\n",
        "## create an instance of the regression model\n",
        "\n",
        "reg_model = LinearRegression(normalize=True)\n",
        "\n",
        "## Fit the model\n",
        "fitted_reg_model = reg_model.fit(train_data[['X']],train_data[['Y']])\n",
        "\n",
        "## Compute the predictions for the training data\n",
        "linear_reg_predictions_train = fitted_reg_model.predict(train_data[['X']])\n",
        "\n",
        "## Compute the predictions for the test data\n",
        "linear_reg_predictions_test = fitted_reg_model.predict(test_data[['X']])\n",
        "## Appending the test predictions to the submission file.\n",
        "## <add your code here>\n"
      ],
      "execution_count": 124,
      "outputs": [
        {
          "output_type": "stream",
          "name": "stderr",
          "text": [
            "/usr/local/lib/python3.7/dist-packages/sklearn/linear_model/_base.py:145: FutureWarning: 'normalize' was deprecated in version 1.0 and will be removed in 1.2.\n",
            "If you wish to scale the data, use Pipeline with a StandardScaler in a preprocessing stage. To reproduce the previous behavior:\n",
            "\n",
            "from sklearn.pipeline import make_pipeline\n",
            "\n",
            "model = make_pipeline(StandardScaler(with_mean=False), LinearRegression())\n",
            "\n",
            "If you wish to pass a sample_weight parameter, you need to pass it as a fit parameter to each step of the pipeline as follows:\n",
            "\n",
            "kwargs = {s[0] + '__sample_weight': sample_weight for s in model.steps}\n",
            "model.fit(X, y, **kwargs)\n",
            "\n",
            "\n",
            "  FutureWarning,\n"
          ]
        }
      ]
    },
    {
      "cell_type": "code",
      "source": [
        "## Compute the mean squared error (MSE) on the training set. To estimate the MSE\n",
        "## we will use the predictions on the linear regressor on the training\n",
        "## data for computing the MSE. The MSE function is already implemented in \n",
        "## SKLearn library. We will just call the function by passing the correct\n",
        "## arguments\n",
        "\n",
        "from sklearn.metrics import mean_squared_error\n",
        "\n",
        "## compute the MSE on the training data.\n",
        "linear_train_MSE = mean_squared_error(train_data[['Y']],linear_reg_predictions_train)\n",
        "print(linear_train_MSE)"
      ],
      "metadata": {
        "id": "6SnJiz3SR4Fz",
        "colab": {
          "base_uri": "https://localhost:8080/"
        },
        "outputId": "837bba02-d19a-4831-ff70-401eec5dabb4"
      },
      "execution_count": 125,
      "outputs": [
        {
          "output_type": "stream",
          "name": "stdout",
          "text": [
            "0.7568306214998783\n"
          ]
        }
      ]
    },
    {
      "cell_type": "markdown",
      "metadata": {
        "id": "o8X_9MmyW9SF"
      },
      "source": [
        "##Ridge Regression (1 point)"
      ]
    },
    {
      "cell_type": "code",
      "metadata": {
        "id": "WIJJTGTjy2vR",
        "colab": {
          "base_uri": "https://localhost:8080/"
        },
        "outputId": "436b35e9-5900-4e57-eaca-b3c0b35f307b"
      },
      "source": [
        "## We are now ready to try the first variant of linear regression - Ridge\n",
        "## Regression from the SKLearn libraries.\n",
        "## You can refer to https://scikit-learn.org/stable/modules/classes.html for the\n",
        "## to understand the different functions that are available in the library.\n",
        "\n",
        "## Our goal is to experiment with ridge regression, so let us import the\n",
        "## necessary library.\n",
        "from sklearn.linear_model import Ridge\n",
        "\n",
        "## create an instance of the ridge regression model with normalize parameter \n",
        "## set to True. Describe the parameter alpha. Do not copy paste the documentaton. \n",
        "## Instead write it in your words.\n",
        "\n",
        "## <add your description below>\n",
        "## alpha: \n",
        "\"\"\"\n",
        "Constant that adds weight to the regularizer \n",
        "In ridge regression alpha is multiplied with l2-norm of weights\n",
        "if alpha is 0 then it is ordinary least square regression\n",
        "\"\"\"\n",
        "\n",
        "## you can change the value of alpha, finally pick the alpha that gave you the\n",
        "## best result\n",
        "alpha=1e-5\n",
        "\n",
        "## create an instance of the regression model for the specific alpha\n",
        "ridge_reg_model = Ridge(alpha=alpha, normalize=True)\n",
        "\n",
        "## Fit the model\n",
        "fitted_ridge_reg_model = ridge_reg_model.fit(train_data[['X']],train_data[['Y']])\n",
        "\n",
        "## Compute the predictions for the training data\n",
        "ridge_reg_predictions_train = fitted_ridge_reg_model.predict(train_data[['X']])\n",
        "\n",
        "\n",
        "## Compute the predictions for the test data\n",
        "ridge_reg_predictions_test = fitted_ridge_reg_model.predict(test_data[['X']])\n",
        "\n",
        "## Appending the test predictions to the submission file by making a new column \n",
        "## \"Y_test_ridge\" \n",
        "## <add your code here>\n",
        "\n",
        "## calculating mean squared error for ridge regression\n",
        "ridge_train_MSE = mean_squared_error(train_data[['Y']],ridge_reg_predictions_train)\n",
        "print(ridge_train_MSE)"
      ],
      "execution_count": 126,
      "outputs": [
        {
          "output_type": "stream",
          "name": "stdout",
          "text": [
            "0.7568306217500271\n"
          ]
        },
        {
          "output_type": "stream",
          "name": "stderr",
          "text": [
            "/usr/local/lib/python3.7/dist-packages/sklearn/linear_model/_base.py:145: FutureWarning: 'normalize' was deprecated in version 1.0 and will be removed in 1.2.\n",
            "If you wish to scale the data, use Pipeline with a StandardScaler in a preprocessing stage. To reproduce the previous behavior:\n",
            "\n",
            "from sklearn.pipeline import make_pipeline\n",
            "\n",
            "model = make_pipeline(StandardScaler(with_mean=False), Ridge())\n",
            "\n",
            "If you wish to pass a sample_weight parameter, you need to pass it as a fit parameter to each step of the pipeline as follows:\n",
            "\n",
            "kwargs = {s[0] + '__sample_weight': sample_weight for s in model.steps}\n",
            "model.fit(X, y, **kwargs)\n",
            "\n",
            "Set parameter alpha to: original_alpha * n_samples. \n",
            "  FutureWarning,\n"
          ]
        }
      ]
    },
    {
      "cell_type": "markdown",
      "source": [
        "alpha | MSE\n",
        "------|----------\n",
        "1e-5 | 0.7568306217500271\n",
        "1e-4 |0.7568306465102358\n",
        "1e-3 |0.7568331180402508\n",
        "1e-2 |0.7570758460807608\n",
        "1e-1 |0.777504472322849\n",
        "1 |1.382214608894742\n",
        "\n",
        "\n",
        "\n"
      ],
      "metadata": {
        "id": "iBHGYDoi4X71"
      }
    },
    {
      "cell_type": "markdown",
      "metadata": {
        "id": "HLt0eNtrp6W_"
      },
      "source": [
        "## Lasso Regression (1 point)"
      ]
    },
    {
      "cell_type": "code",
      "metadata": {
        "id": "1lboz3n_nlDF",
        "colab": {
          "base_uri": "https://localhost:8080/"
        },
        "outputId": "4582d714-36c1-4000-e7ed-dfc8a4f3646f"
      },
      "source": [
        "## We are now ready to try the second variant of linear regression - LASSO\n",
        "## from the SKLearn libraries.\n",
        "## You can refer to https://scikit-learn.org/stable/modules/classes.html for the\n",
        "## to understand the different functions that are available in the library.\n",
        "\n",
        "## Our goal is to experiment with ridge regression, so let us import the\n",
        "## necessary library.\n",
        "from sklearn.linear_model import Lasso\n",
        "\n",
        "## create an instance of the LASSO regression model with normalize parameter \n",
        "## set to True. Describe the parameter alpha. Do not copy paste the documentaton. \n",
        "## Instead write it in your words.\n",
        "\n",
        "## <add your description below>\n",
        "## alpha: \n",
        "\"\"\"\n",
        "Constant that adds weight to the regularizer \n",
        "In lasso regression alpha is multiplied with l1-norm of weights\n",
        "if alpha is 0 then it is ordinary least square regression\n",
        "\"\"\"\n",
        "## you can change the value of alpha, finally pick the alpha that gave you the\n",
        "## best result.\n",
        "alpha=1e-5\n",
        "\n",
        "## create an instance of the regression model for the specific alpha\n",
        "lasso_reg_model = Lasso(alpha=alpha, normalize=True)\n",
        "\n",
        "\n",
        "## Fit the model\n",
        "fitted_lasso_reg_model = lasso_reg_model.fit(train_data[['X']],train_data[['Y']])\n",
        "\n",
        "\n",
        "## Compute the predictions for the training data\n",
        "lasso_reg_predictions_train = fitted_lasso_reg_model.predict(train_data[['X']])\n",
        "\n",
        "\n",
        "## Compute the predictions for the test data\n",
        "lasso_reg_predictions_test = fitted_lasso_reg_model.predict(test_data[['X']])\n",
        "\n",
        "\n",
        "## Appending the test predictions to the submission file by making a new column \n",
        "## \"Y_test_ridge\" \n",
        "## <add your code here>\n",
        "\n",
        "\n",
        "## calculating mean squared error for ridge regression\n",
        "lasso_train_MSE = mean_squared_error(train_data[['Y']],lasso_reg_predictions_train)\n",
        "print(lasso_train_MSE)\n"
      ],
      "execution_count": 127,
      "outputs": [
        {
          "output_type": "stream",
          "name": "stdout",
          "text": [
            "0.7568306265998787\n"
          ]
        },
        {
          "output_type": "stream",
          "name": "stderr",
          "text": [
            "/usr/local/lib/python3.7/dist-packages/sklearn/linear_model/_base.py:145: FutureWarning: 'normalize' was deprecated in version 1.0 and will be removed in 1.2.\n",
            "If you wish to scale the data, use Pipeline with a StandardScaler in a preprocessing stage. To reproduce the previous behavior:\n",
            "\n",
            "from sklearn.pipeline import make_pipeline\n",
            "\n",
            "model = make_pipeline(StandardScaler(with_mean=False), Lasso())\n",
            "\n",
            "If you wish to pass a sample_weight parameter, you need to pass it as a fit parameter to each step of the pipeline as follows:\n",
            "\n",
            "kwargs = {s[0] + '__sample_weight': sample_weight for s in model.steps}\n",
            "model.fit(X, y, **kwargs)\n",
            "\n",
            "Set parameter alpha to: original_alpha * np.sqrt(n_samples). \n",
            "  FutureWarning,\n"
          ]
        }
      ]
    },
    {
      "cell_type": "markdown",
      "source": [
        "alpha | MSE\n",
        "---- | ----\n",
        "1e-5 | 0.7568311314998786\n",
        "1e-4 | 0.7568311314998786\n",
        "1e-3 | 0.7568816214998786\n",
        "1e-2 | 0.7619306214998783\n",
        "1e-1 | 1.2668306214998788\n",
        "1 |  3.258366571079332"
      ],
      "metadata": {
        "id": "dpViC3js7xpc"
      }
    },
    {
      "cell_type": "markdown",
      "source": [
        "## Plot the data and the regressor (1 point)"
      ],
      "metadata": {
        "id": "b2CTXz1jlN3T"
      }
    },
    {
      "cell_type": "code",
      "source": [
        "\n",
        "## We will use matplotlib to visulise the data and the fitting of the model. \n",
        "## Use the following convention\n",
        "## Red colored points for training data (scatter plot)\n",
        "## Blue colored line for Linear regression\n",
        "## Green colored dashed line for Ridge regression\n",
        "## Magenta colored dotted line for LASSO regression\n",
        "## All the plots must be on a single figure.\n",
        "## Add labels to x and y axis.\n",
        "## Add a title to the figure - 'Linear Regression and its Variants')\n",
        "## Add a legend to the figure\n",
        "\n",
        "import matplotlib.pyplot as plt\n",
        "\n",
        "plt.scatter(train_data[['X']], train_data[['Y']], color='red', label='training data')\n",
        "plt.plot(test_data[['X']], linear_reg_predictions_test, color='blue', label='linear')\n",
        "plt.plot(test_data[['X']], ridge_reg_predictions_test, color='green', linestyle='dashed', label='ridge')\n",
        "plt.plot(test_data[['X']], lasso_reg_predictions_test, color='magenta', linestyle='dotted', label='lasso')\n",
        "plt.legend(loc='upper left')\n",
        "plt.title('Linear Regression and its Variants')\n",
        "plt.xlabel('Inependent variable')\n",
        "plt.ylabel('Dependent variable')\n",
        "plt.show()"
      ],
      "metadata": {
        "id": "FwIirutdlK4i",
        "colab": {
          "base_uri": "https://localhost:8080/",
          "height": 295
        },
        "outputId": "69217abb-a2d8-4c53-d4b7-14bfa7febc7a"
      },
      "execution_count": 128,
      "outputs": [
        {
          "output_type": "display_data",
          "data": {
            "text/plain": [
              "<Figure size 432x288 with 1 Axes>"
            ],
            "image/png": "[encoded data removed]"
          },
          "metadata": {
            "needs_background": "light"
          }
        }
      ]
    },
    {
      "cell_type": "markdown",
      "source": [
        "## Making the final submission (0.5 points)"
      ],
      "metadata": {
        "id": "IDfVd_JKn9MO"
      }
    },
    {
      "cell_type": "code",
      "metadata": {
        "id": "bq5bYblTs2CP"
      },
      "source": [
        "## export the predictions to csv file\n",
        "## <add your code here>\n"
      ],
      "execution_count": 119,
      "outputs": []
    }
  ]
}