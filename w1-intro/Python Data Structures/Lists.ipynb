{
  "cells": [
    {
      "cell_type": "markdown",
      "metadata": {
        "id": "qGQf1ZBpol5W"
      },
      "source": [
        "# Lists"
      ]
    },
    {
      "cell_type": "markdown",
      "metadata": {
        "id": "BEiXnKwnol5Z"
      },
      "source": [
        "Data Structure:\n",
        "    \n",
        "A data structure is a collection of data elements (such as numbers or characters—or even other data structures) that is structured in some way, for example, by numbering the elements. The most basic data structure in Python is the \"sequence\"."
      ]
    },
    {
      "cell_type": "markdown",
      "metadata": {
        "id": "yS6cUmKMol5a"
      },
      "source": [
        "-> List is one of the Sequence Data structure\n",
        "\n",
        "-> Lists are collection of items (Strings, integers or even other lists)\n",
        "\n",
        "-> Lists are enclosed in [ ]\n",
        "\n",
        "-> Each item in the list has an assigned index value.\n",
        "\n",
        "-> Each item in a list is separated by a comma\n",
        "\n",
        "-> Lists are mutable, which means they can be changed.\n"
      ]
    },
    {
      "cell_type": "markdown",
      "metadata": {
        "collapsed": true,
        "id": "QwCREn-Yol5b"
      },
      "source": [
        "# List Creation"
      ]
    },
    {
      "cell_type": "code",
      "execution_count": 1,
      "metadata": {
        "colab": {
          "base_uri": "https://localhost:8080/"
        },
        "id": "JTGvMAKAol5d",
        "outputId": "c520fa01-5d43-43cd-e57b-1091259db8bf"
      },
      "outputs": [
        {
          "output_type": "stream",
          "name": "stdout",
          "text": [
            "[1, 'ramu', 24, 1.24]\n"
          ]
        }
      ],
      "source": [
        "emptyList = []\n",
        "\n",
        "lst = ['one', 'two', 'three', 'four'] # list of strings\n",
        "\n",
        "lst2 = [1, 2, 3, 4] #list of integers\n",
        "\n",
        "lst3 = [[1, 2], [3, 4]] # list of lists\n",
        "\n",
        "lst4 = [1, 'ramu', 24, 1.24] # list of different datatypes\n",
        "\n",
        "print(lst4)\n"
      ]
    },
    {
      "cell_type": "markdown",
      "metadata": {
        "id": "uLWv07Kiol5f"
      },
      "source": [
        "# List Length"
      ]
    },
    {
      "cell_type": "code",
      "execution_count": 2,
      "metadata": {
        "colab": {
          "base_uri": "https://localhost:8080/"
        },
        "id": "KXSqSX_nol5g",
        "outputId": "bad0ab28-912c-4d86-e446-60304077836f"
      },
      "outputs": [
        {
          "output_type": "stream",
          "name": "stdout",
          "text": [
            "4\n"
          ]
        }
      ],
      "source": [
        "lst = ['one', 'two', 'three', 'four']\n",
        "\n",
        "#find length of a list\n",
        "print(len(lst))"
      ]
    },
    {
      "cell_type": "markdown",
      "metadata": {
        "id": "ZzQ3nOy_ol5h"
      },
      "source": [
        "# List Append"
      ]
    },
    {
      "cell_type": "code",
      "execution_count": 3,
      "metadata": {
        "colab": {
          "base_uri": "https://localhost:8080/"
        },
        "id": "cvOvg8rIol5h",
        "outputId": "2088f433-c44d-40dc-e5ca-1f3a8255ede9"
      },
      "outputs": [
        {
          "output_type": "stream",
          "name": "stdout",
          "text": [
            "['one', 'two', 'three', 'four', 'five']\n"
          ]
        }
      ],
      "source": [
        "lst = ['one', 'two', 'three', 'four']\n",
        "\n",
        "lst.append('five') # append will add the item at the end\n",
        "\n",
        "print(lst)"
      ]
    },
    {
      "cell_type": "markdown",
      "metadata": {
        "id": "jcMI3ALlol5i"
      },
      "source": [
        "# List Insert"
      ]
    },
    {
      "cell_type": "code",
      "execution_count": 4,
      "metadata": {
        "colab": {
          "base_uri": "https://localhost:8080/"
        },
        "id": "XLOlLS0ool5j",
        "outputId": "b010ac5d-a9d8-48a3-d511-95889810f635"
      },
      "outputs": [
        {
          "output_type": "stream",
          "name": "stdout",
          "text": [
            "['one', 'two', 'three', 'four']\n"
          ]
        }
      ],
      "source": [
        "#syntax: lst.insert(x, y) \n",
        "\n",
        "lst = ['one', 'two', 'four']\n",
        "\n",
        "lst.insert(2, \"three\") # will add element y at location x\n",
        "\n",
        "print(lst)\n"
      ]
    },
    {
      "cell_type": "markdown",
      "metadata": {
        "id": "5IL2dv-kol5k"
      },
      "source": [
        "# List Remove"
      ]
    },
    {
      "cell_type": "code",
      "execution_count": 5,
      "metadata": {
        "colab": {
          "base_uri": "https://localhost:8080/"
        },
        "id": "pisH6DlQol5l",
        "outputId": "1ba2e984-bf1a-43f7-a3fb-26be7409bd97"
      },
      "outputs": [
        {
          "output_type": "stream",
          "name": "stdout",
          "text": [
            "['one', 'three', 'four', 'two']\n"
          ]
        }
      ],
      "source": [
        "#syntax: lst.remove(x) \n",
        "\n",
        "lst = ['one', 'two', 'three', 'four', 'two']\n",
        "\n",
        "lst.remove('two') #it will remove first occurence of 'two' in a given list\n",
        "\n",
        "print(lst)"
      ]
    },
    {
      "cell_type": "markdown",
      "metadata": {
        "id": "hT562v1rol5l"
      },
      "source": [
        "# List Append & Extend"
      ]
    },
    {
      "cell_type": "code",
      "execution_count": 6,
      "metadata": {
        "colab": {
          "base_uri": "https://localhost:8080/"
        },
        "id": "x5r4aO0Dol5m",
        "outputId": "6ef86f83-b4d5-4b3a-9ba0-ba127d564d9e"
      },
      "outputs": [
        {
          "output_type": "stream",
          "name": "stdout",
          "text": [
            "['one', 'two', 'three', 'four', ['five', 'six']]\n"
          ]
        }
      ],
      "source": [
        "lst = ['one', 'two', 'three', 'four']\n",
        "\n",
        "lst2 = ['five', 'six']\n",
        "\n",
        "#append \n",
        "lst.append(lst2)\n",
        "\n",
        "print(lst)"
      ]
    },
    {
      "cell_type": "code",
      "execution_count": 7,
      "metadata": {
        "colab": {
          "base_uri": "https://localhost:8080/"
        },
        "id": "QwQEY6yMol5m",
        "outputId": "26acfe9d-a540-4418-d287-c271fe930f0c"
      },
      "outputs": [
        {
          "output_type": "stream",
          "name": "stdout",
          "text": [
            "['one', 'two', 'three', 'four', 'five', 'six']\n"
          ]
        }
      ],
      "source": [
        "lst = ['one', 'two', 'three', 'four']\n",
        "\n",
        "lst2 = ['five', 'six']\n",
        "\n",
        "#extend will join the list with list1\n",
        "\n",
        "lst.extend(lst2)\n",
        "\n",
        "print(lst)"
      ]
    },
    {
      "cell_type": "markdown",
      "metadata": {
        "id": "o6fMvwwtol5n"
      },
      "source": [
        "# List Delete"
      ]
    },
    {
      "cell_type": "code",
      "execution_count": 8,
      "metadata": {
        "colab": {
          "base_uri": "https://localhost:8080/"
        },
        "id": "2IL2t1Yuol5n",
        "outputId": "20921ce6-fa82-4105-9ea9-854d836d7206"
      },
      "outputs": [
        {
          "output_type": "stream",
          "name": "stdout",
          "text": [
            "['one', 'three', 'four', 'five']\n",
            "three\n",
            "['one', 'four', 'five']\n"
          ]
        }
      ],
      "source": [
        "#del to remove item based on index position\n",
        "\n",
        "lst = ['one', 'two', 'three', 'four', 'five']\n",
        "\n",
        "del lst[1]\n",
        "print(lst)\n",
        "\n",
        "#or we can use pop() method\n",
        "a = lst.pop(1)\n",
        "print(a)\n",
        "\n",
        "print(lst)"
      ]
    },
    {
      "cell_type": "code",
      "execution_count": 9,
      "metadata": {
        "colab": {
          "base_uri": "https://localhost:8080/"
        },
        "id": "RtEL-L32ol5o",
        "outputId": "126d696a-860f-472d-8651-f681aeb06512"
      },
      "outputs": [
        {
          "output_type": "stream",
          "name": "stdout",
          "text": [
            "['one', 'two', 'four']\n"
          ]
        }
      ],
      "source": [
        "lst = ['one', 'two', 'three', 'four']\n",
        "\n",
        "#remove an item from list\n",
        "lst.remove('three')\n",
        "\n",
        "print(lst)"
      ]
    },
    {
      "cell_type": "markdown",
      "metadata": {
        "id": "4BrFE_ppol5o"
      },
      "source": [
        "# List realted keywords in Python"
      ]
    },
    {
      "cell_type": "code",
      "execution_count": 10,
      "metadata": {
        "colab": {
          "base_uri": "https://localhost:8080/"
        },
        "id": "Gf-fxP3nol5o",
        "outputId": "419f2800-a826-4e65-8adb-1b98cc6f54b2"
      },
      "outputs": [
        {
          "output_type": "stream",
          "name": "stdout",
          "text": [
            "AI\n",
            "ML\n"
          ]
        }
      ],
      "source": [
        "#keyword 'in' is used to test if an item is in a list\n",
        "lst = ['one', 'two', 'three', 'four']\n",
        "\n",
        "if 'two' in lst:\n",
        "    print('AI')\n",
        "\n",
        "#keyword 'not' can combined with 'in'\n",
        "if 'six' not in lst:\n",
        "    print('ML')"
      ]
    },
    {
      "cell_type": "markdown",
      "metadata": {
        "id": "knaGCiGXol5p"
      },
      "source": [
        "# List Reverse"
      ]
    },
    {
      "cell_type": "code",
      "execution_count": 11,
      "metadata": {
        "colab": {
          "base_uri": "https://localhost:8080/"
        },
        "id": "GmvoXWMdol5p",
        "outputId": "953cec14-c408-4ec0-aafb-70a9aae377bd"
      },
      "outputs": [
        {
          "output_type": "stream",
          "name": "stdout",
          "text": [
            "['four', 'three', 'two', 'one']\n"
          ]
        }
      ],
      "source": [
        "#reverse is reverses the entire list\n",
        "\n",
        "lst = ['one', 'two', 'three', 'four']\n",
        "\n",
        "lst.reverse()\n",
        "\n",
        "print(lst)"
      ]
    },
    {
      "cell_type": "markdown",
      "metadata": {
        "id": "6nhEaPe1ol5p"
      },
      "source": [
        "# List Sorting"
      ]
    },
    {
      "cell_type": "markdown",
      "metadata": {
        "id": "Y8IY3pFIol5q"
      },
      "source": [
        "The easiest way to sort a List is with the sorted(list) function. \n",
        "\n",
        "That takes a list and returns a new list with those elements in sorted order. \n",
        "\n",
        "The original list is not changed. \n",
        "\n",
        "The sorted() optional argument reverse=True, e.g. sorted(list, reverse=True), \n",
        "makes it sort backwards."
      ]
    },
    {
      "cell_type": "code",
      "execution_count": 12,
      "metadata": {
        "colab": {
          "base_uri": "https://localhost:8080/"
        },
        "id": "t8r05AE1ol5q",
        "outputId": "518b43e1-be0d-4955-a358-4093fa12ccc3"
      },
      "outputs": [
        {
          "output_type": "stream",
          "name": "stdout",
          "text": [
            "Sorted list : [1, 2, 3, 6, 8]\n",
            "Original list:  [3, 1, 6, 2, 8]\n"
          ]
        }
      ],
      "source": [
        "#create a list with numbers\n",
        "numbers = [3, 1, 6, 2, 8]\n",
        "\n",
        "sorted_lst = sorted(numbers)\n",
        "\n",
        "\n",
        "print(\"Sorted list :\", sorted_lst)\n",
        "\n",
        "#original list remain unchanged\n",
        "print(\"Original list: \", numbers)"
      ]
    },
    {
      "cell_type": "code",
      "execution_count": 13,
      "metadata": {
        "colab": {
          "base_uri": "https://localhost:8080/"
        },
        "id": "1gJje_icol5q",
        "outputId": "53671fd4-e833-4d8a-dcbc-c46aede3b956"
      },
      "outputs": [
        {
          "output_type": "stream",
          "name": "stdout",
          "text": [
            "Reverse sorted list : [8, 6, 3, 2, 1]\n",
            "Original list : [3, 1, 6, 2, 8]\n"
          ]
        }
      ],
      "source": [
        "#print a list in reverse sorted order\n",
        "print(\"Reverse sorted list :\", sorted(numbers, reverse=True))\n",
        "\n",
        "#orginal list remain unchanged\n",
        "print(\"Original list :\",  numbers)"
      ]
    },
    {
      "cell_type": "code",
      "execution_count": 14,
      "metadata": {
        "colab": {
          "base_uri": "https://localhost:8080/"
        },
        "id": "7s3XPGxVol5q",
        "outputId": "da0c9802-1054-4970-ec7c-f7e33c2c6519"
      },
      "outputs": [
        {
          "output_type": "stream",
          "name": "stdout",
          "text": [
            "Sorted list:  [1, 4.2, 5, 5, 20]\n"
          ]
        }
      ],
      "source": [
        "lst = [1, 20, 5, 5, 4.2]\n",
        "\n",
        "#sort the list and stored in itself\n",
        "lst.sort()\n",
        "\n",
        "# add element 'a' to the list to show an error\n",
        "\n",
        "print(\"Sorted list: \", lst)"
      ]
    },
    {
      "cell_type": "code",
      "execution_count": 15,
      "metadata": {
        "colab": {
          "base_uri": "https://localhost:8080/",
          "height": 228
        },
        "id": "SCrX5-Fzol5q",
        "outputId": "fba8a138-f3e0-40aa-b67e-536c0454f6f3"
      },
      "outputs": [
        {
          "output_type": "error",
          "ename": "TypeError",
          "evalue": "ignored",
          "traceback": [
            "\u001b[0;31m---------------------------------------------------------------------------\u001b[0m",
            "\u001b[0;31mTypeError\u001b[0m                                 Traceback (most recent call last)",
            "\u001b[0;32m<ipython-input-15-0354af416f5c>\u001b[0m in \u001b[0;36m<module>\u001b[0;34m\u001b[0m\n\u001b[1;32m      1\u001b[0m \u001b[0mlst\u001b[0m \u001b[0;34m=\u001b[0m \u001b[0;34m[\u001b[0m\u001b[0;36m1\u001b[0m\u001b[0;34m,\u001b[0m \u001b[0;36m20\u001b[0m\u001b[0;34m,\u001b[0m \u001b[0;34m'b'\u001b[0m\u001b[0;34m,\u001b[0m \u001b[0;36m5\u001b[0m\u001b[0;34m,\u001b[0m \u001b[0;34m'a'\u001b[0m\u001b[0;34m]\u001b[0m\u001b[0;34m\u001b[0m\u001b[0;34m\u001b[0m\u001b[0m\n\u001b[0;32m----> 2\u001b[0;31m \u001b[0mprint\u001b[0m\u001b[0;34m(\u001b[0m\u001b[0mlst\u001b[0m\u001b[0;34m.\u001b[0m\u001b[0msort\u001b[0m\u001b[0;34m(\u001b[0m\u001b[0;34m)\u001b[0m\u001b[0;34m)\u001b[0m \u001b[0;31m# sort list with element of different datatypes.\u001b[0m\u001b[0;34m\u001b[0m\u001b[0;34m\u001b[0m\u001b[0m\n\u001b[0m",
            "\u001b[0;31mTypeError\u001b[0m: '<' not supported between instances of 'str' and 'int'"
          ]
        }
      ],
      "source": [
        "lst = [1, 20, 'b', 5, 'a']\n",
        "print(lst.sort()) # sort list with element of different datatypes.\n"
      ]
    },
    {
      "cell_type": "markdown",
      "source": [
        "# List Copy"
      ],
      "metadata": {
        "id": "z6Rj83mwo46g"
      }
    },
    {
      "cell_type": "code",
      "source": [
        "# Example-1\n",
        "\n",
        "import copy as cp\n",
        "\n",
        "\n",
        "my_lst = ['cat', 0, 6.7, [1, 2]]\n",
        "# new_lst = my_list.copy()\n",
        "new_lst = cp.deepcopy(my_lst)\n",
        "new_lst[3][1] = 4\n",
        "new_lst[1] = 'pk'\n",
        "\n",
        "print('Copied List:', my_lst)\n",
        "print('\\r')"
      ],
      "metadata": {
        "colab": {
          "base_uri": "https://localhost:8080/"
        },
        "id": "twH1HNU8o74_",
        "outputId": "6c099aa1-b2eb-4022-ffb3-abf68d0ad2d2"
      },
      "execution_count": 16,
      "outputs": [
        {
          "output_type": "stream",
          "name": "stdout",
          "text": [
            "Copied List: ['cat', 0, 6.7, [1, 2]]\n",
            "\r\n"
          ]
        }
      ]
    },
    {
      "cell_type": "code",
      "source": [
        "# Example-2(copying a list using slicing)\n",
        "\n",
        "\n",
        "lst = ['cat', 0, [6.7]]\n",
        "\n",
        "new_lst = lst[:]\n",
        "new_lst[2].append('dog')\n",
        "\n",
        "print('Old List:', lst)\n",
        "print('New List:', new_lst)\n",
        "print('\\r')\n"
      ],
      "metadata": {
        "colab": {
          "base_uri": "https://localhost:8080/"
        },
        "id": "Qro3pCrupKNr",
        "outputId": "149d85c4-4020-4c4a-cf8a-0ea490e07b99"
      },
      "execution_count": 17,
      "outputs": [
        {
          "output_type": "stream",
          "name": "stdout",
          "text": [
            "Old List: ['cat', 0, [6.7, 'dog']]\n",
            "New List: ['cat', 0, [6.7, 'dog']]\n",
            "\r\n"
          ]
        }
      ]
    },
    {
      "cell_type": "code",
      "source": [
        "# Example-3(copy using = operator)\n",
        "\n",
        "\n",
        "old_lst = [1, 2, 3]\n",
        "new_lst = old_lst\n",
        "\n",
        "new_lst.append('a')\n",
        "\n",
        "print('New List:', new_lst)\n",
        "print('Old List:', old_lst)"
      ],
      "metadata": {
        "colab": {
          "base_uri": "https://localhost:8080/"
        },
        "id": "4VeHLrm_pOcX",
        "outputId": "1fd95720-c944-4fbe-88fa-24013eac5c41"
      },
      "execution_count": 18,
      "outputs": [
        {
          "output_type": "stream",
          "name": "stdout",
          "text": [
            "New List: [1, 2, 3, 'a']\n",
            "Old List: [1, 2, 3, 'a']\n"
          ]
        }
      ]
    },
    {
      "cell_type": "markdown",
      "metadata": {
        "id": "anSpXPv4ol5r"
      },
      "source": [
        "# List Having Multiple References"
      ]
    },
    {
      "cell_type": "code",
      "execution_count": 19,
      "metadata": {
        "colab": {
          "base_uri": "https://localhost:8080/"
        },
        "id": "YD_krSKRol5r",
        "outputId": "46f28732-6c60-40a6-f672-b58db4473e8e"
      },
      "outputs": [
        {
          "output_type": "stream",
          "name": "stdout",
          "text": [
            "Original list:  [1, 2, 3, 4, 5, 6]\n"
          ]
        }
      ],
      "source": [
        "lst = [1, 2, 3, 4, 5]\n",
        "abc = lst\n",
        "abc.append(6)\n",
        "\n",
        "#print original list\n",
        "print(\"Original list: \", lst)"
      ]
    },
    {
      "cell_type": "markdown",
      "metadata": {
        "id": "B7i6Wy9Tol5r"
      },
      "source": [
        "# String Split to create a list"
      ]
    },
    {
      "cell_type": "code",
      "execution_count": 20,
      "metadata": {
        "scrolled": true,
        "colab": {
          "base_uri": "https://localhost:8080/"
        },
        "id": "NoktegOnol5s",
        "outputId": "ef503818-b71f-426e-f7f1-2716b5d069f9"
      },
      "outputs": [
        {
          "output_type": "stream",
          "name": "stdout",
          "text": [
            "['one', 'two', 'three', 'four', 'five']\n"
          ]
        }
      ],
      "source": [
        "#let's take a string\n",
        "\n",
        "s = \"one,two,three,four,five\"\n",
        "slst = s.split(',')\n",
        "print(slst)"
      ]
    },
    {
      "cell_type": "code",
      "execution_count": 21,
      "metadata": {
        "colab": {
          "base_uri": "https://localhost:8080/"
        },
        "id": "eM8MNsVkol5s",
        "outputId": "27db974f-3d2e-4811-b343-ee8bf065b481"
      },
      "outputs": [
        {
          "output_type": "stream",
          "name": "stdout",
          "text": [
            "['This', 'is', 'Machine', 'Learning', 'Course']\n"
          ]
        }
      ],
      "source": [
        "s = \"This is Machine Learning Course\"\n",
        "split_lst = s.split() # default split is white-character: space or tab\n",
        "print(split_lst)"
      ]
    },
    {
      "cell_type": "markdown",
      "metadata": {
        "id": "6-Pe0N_uol5s"
      },
      "source": [
        "# List Indexing"
      ]
    },
    {
      "cell_type": "markdown",
      "metadata": {
        "id": "HjhOa_Bmol5t"
      },
      "source": [
        "Each item in the list has an assigned index value starting from 0.\n",
        "\n",
        "Accessing elements in a list is called indexing."
      ]
    },
    {
      "cell_type": "code",
      "execution_count": 22,
      "metadata": {
        "colab": {
          "base_uri": "https://localhost:8080/"
        },
        "id": "7Ds8SnKJol5t",
        "outputId": "8dc5719b-92d0-4319-f6f7-2749c2b432b1"
      },
      "outputs": [
        {
          "output_type": "stream",
          "name": "stdout",
          "text": [
            "2\n",
            "3\n"
          ]
        }
      ],
      "source": [
        "lst = [1, 2, 3, 4]\n",
        "print(lst[1]) #print second element\n",
        "\n",
        "#print last element using negative index\n",
        "print(lst[-2])"
      ]
    },
    {
      "cell_type": "markdown",
      "metadata": {
        "id": "7C8_AvSDol5t"
      },
      "source": [
        "# List Slicing"
      ]
    },
    {
      "cell_type": "markdown",
      "metadata": {
        "id": "7XVNCgGTol5t"
      },
      "source": [
        "Accessing parts of segments is called slicing. \n",
        "\n",
        "The key point to remember is that the :end value represents the first value that \n",
        "is not in the selected slice. "
      ]
    },
    {
      "cell_type": "code",
      "execution_count": 23,
      "metadata": {
        "colab": {
          "base_uri": "https://localhost:8080/"
        },
        "id": "VIoE-uswol5t",
        "outputId": "06709888-0efb-4169-bebf-2b8169d8019f"
      },
      "outputs": [
        {
          "output_type": "stream",
          "name": "stdout",
          "text": [
            "[10, 20, 30, 40, 50, 60, 70, 80]\n",
            "[10, 20, 30, 40]\n"
          ]
        }
      ],
      "source": [
        "numbers = [10, 20, 30, 40, 50,60,70,80]\n",
        "\n",
        "#print all numbers\n",
        "print(numbers[:]) \n",
        "\n",
        "#print from index 0 to index 3\n",
        "print(numbers[0:4])\n"
      ]
    },
    {
      "cell_type": "code",
      "execution_count": 24,
      "metadata": {
        "colab": {
          "base_uri": "https://localhost:8080/"
        },
        "id": "BgbpnO3jol5u",
        "outputId": "c0e28744-b34c-4b62-8cb1-da0399edce87"
      },
      "outputs": [
        {
          "output_type": "stream",
          "name": "stdout",
          "text": [
            "[10, 20, 30, 40, 50, 60, 70, 80]\n",
            "[10, 30, 50, 70]\n",
            "[30, 50, 70]\n"
          ]
        }
      ],
      "source": [
        "print (numbers)\n",
        "#print alternate elements in a list\n",
        "print(numbers[::2])\n",
        "\n",
        "\n",
        "#print elemnts start from 0 through rest of the list\n",
        "print(numbers[2::2])\n"
      ]
    },
    {
      "cell_type": "markdown",
      "metadata": {
        "id": "fyG9UUqFol5u"
      },
      "source": [
        "# List extend using \"+\""
      ]
    },
    {
      "cell_type": "code",
      "execution_count": 25,
      "metadata": {
        "colab": {
          "base_uri": "https://localhost:8080/"
        },
        "id": "6ylAIeqKol5u",
        "outputId": "dc7a2ac3-52b8-40c7-af21-40f27bb88b22"
      },
      "outputs": [
        {
          "output_type": "stream",
          "name": "stdout",
          "text": [
            "[1, 2, 3, 4, 'varma', 'naveen', 'murali', 'brahma']\n"
          ]
        }
      ],
      "source": [
        "lst1 = [1, 2, 3, 4]\n",
        "lst2 = ['varma', 'naveen', 'murali', 'brahma']\n",
        "new_lst = lst1 + lst2\n",
        "\n",
        "print(new_lst)"
      ]
    },
    {
      "cell_type": "markdown",
      "metadata": {
        "id": "vKLboQtcol5v"
      },
      "source": [
        "# List Count"
      ]
    },
    {
      "cell_type": "code",
      "execution_count": 26,
      "metadata": {
        "colab": {
          "base_uri": "https://localhost:8080/"
        },
        "id": "jO7oAISGol5v",
        "outputId": "87c101ff-cc19-4d89-838d-96c4e8d76a83"
      },
      "outputs": [
        {
          "output_type": "stream",
          "name": "stdout",
          "text": [
            "2\n",
            "2\n"
          ]
        }
      ],
      "source": [
        "numbers = [1, 2, 3, 1, 3, 4, 2, 5]\n",
        "\n",
        "#frequency of 1 in a list\n",
        "print(numbers.count(1))\n",
        "\n",
        "#frequency of 3 in a list\n",
        "print(numbers.count(3))"
      ]
    },
    {
      "cell_type": "markdown",
      "metadata": {
        "id": "foNITLbXol5v"
      },
      "source": [
        "# List Looping"
      ]
    },
    {
      "cell_type": "code",
      "execution_count": 27,
      "metadata": {
        "colab": {
          "base_uri": "https://localhost:8080/"
        },
        "id": "Qnm161x0ol5v",
        "outputId": "29172366-2293-4415-c487-42f92c03e004"
      },
      "outputs": [
        {
          "output_type": "stream",
          "name": "stdout",
          "text": [
            "one\n",
            "two\n",
            "three\n",
            "four\n"
          ]
        }
      ],
      "source": [
        "#loop through a list\n",
        "\n",
        "lst = ['one', 'two', 'three', 'four']\n",
        "\n",
        "for ele in lst:\n",
        "    print(ele)"
      ]
    },
    {
      "cell_type": "markdown",
      "metadata": {
        "id": "BbzSzgzVol5v"
      },
      "source": [
        "# List Comprehensions"
      ]
    },
    {
      "cell_type": "markdown",
      "metadata": {
        "id": "ZIIoizjvol5w"
      },
      "source": [
        "List comprehensions provide a concise way to create lists. \n",
        "\n",
        "Common applications are to make new lists where each element is the result of some operations applied to each member of another sequence or iterable, or to create a subsequence of those elements that satisfy a certain condition."
      ]
    },
    {
      "cell_type": "code",
      "execution_count": 28,
      "metadata": {
        "colab": {
          "base_uri": "https://localhost:8080/"
        },
        "id": "yrZeDpgIol5w",
        "outputId": "116faa6c-18b7-4b43-8bb2-1250fbba930a"
      },
      "outputs": [
        {
          "output_type": "stream",
          "name": "stdout",
          "text": [
            "[0, 1, 4, 9, 16, 25, 36, 49, 64, 81]\n"
          ]
        }
      ],
      "source": [
        "# without list comprehension\n",
        "squares = []\n",
        "for i in range(10):\n",
        "    squares.append(i**2)   #list append\n",
        "print(squares)"
      ]
    },
    {
      "cell_type": "code",
      "execution_count": 29,
      "metadata": {
        "colab": {
          "base_uri": "https://localhost:8080/"
        },
        "id": "bCIvVm_Col5w",
        "outputId": "f7eeec56-4249-4013-9fdd-3aa95ba68ccf"
      },
      "outputs": [
        {
          "output_type": "stream",
          "name": "stdout",
          "text": [
            "[0, 1, 4, 9, 16, 25, 36, 49, 64, 81]\n"
          ]
        }
      ],
      "source": [
        "#using list comprehension\n",
        "squares = [i**2 for i in range(10)]\n",
        "print(squares)"
      ]
    },
    {
      "cell_type": "code",
      "execution_count": 30,
      "metadata": {
        "colab": {
          "base_uri": "https://localhost:8080/"
        },
        "id": "m-7QETyUol5x",
        "outputId": "1b38a1be-2b3a-496d-f920-5866ff83867a"
      },
      "outputs": [
        {
          "output_type": "stream",
          "name": "stdout",
          "text": [
            "[-20, -40, 20, 40, 100]\n",
            "[10, 20, 50]\n",
            "[(0, 0), (1, 1), (2, 4), (3, 9), (4, 16), (5, 25), (6, 36), (7, 49), (8, 64), (9, 81)]\n"
          ]
        }
      ],
      "source": [
        "#example\n",
        "\n",
        "lst = [-10, -20, 10, 20, 50]\n",
        "\n",
        "#create a new list with values doubled\n",
        "new_lst = [i*2 for i in lst]\n",
        "print(new_lst)\n",
        "\n",
        "#filter the list to exclude negative numbers\n",
        "new_lst = [i for i in lst if i >= 0]\n",
        "print(new_lst)\n",
        "\n",
        "\n",
        "#create a list of tuples like (number, square_of_number)\n",
        "new_lst = [(i, i**2) for i in range(10)]\n",
        "print(new_lst)"
      ]
    },
    {
      "cell_type": "markdown",
      "metadata": {
        "id": "Tjz-WI38ol5x"
      },
      "source": [
        "# Nested List Comprehensions"
      ]
    },
    {
      "cell_type": "code",
      "execution_count": 31,
      "metadata": {
        "colab": {
          "base_uri": "https://localhost:8080/"
        },
        "id": "HaXF9wC1ol5x",
        "outputId": "188970c3-f0c4-44fc-f374-2a500157a233"
      },
      "outputs": [
        {
          "output_type": "stream",
          "name": "stdout",
          "text": [
            "[[1, 5, 9], [2, 6, 10], [3, 7, 11], [4, 8, 12]]\n"
          ]
        }
      ],
      "source": [
        "#let's suppose we have a matrix\n",
        "\n",
        "matrix = [\n",
        "    [1, 2, 3, 4],\n",
        "    [5, 6, 7, 8],\n",
        "    [9, 10, 11, 12]\n",
        "]\n",
        "\n",
        "#transpose of a matrix without list comprehension\n",
        "transposed = []\n",
        "for i in range(4):\n",
        "    lst = []\n",
        "    for row in matrix:\n",
        "        lst.append(row[i])\n",
        "    transposed.append(lst)\n",
        "\n",
        "print(transposed)\n"
      ]
    },
    {
      "cell_type": "code",
      "execution_count": 32,
      "metadata": {
        "colab": {
          "base_uri": "https://localhost:8080/"
        },
        "id": "wSW6T2Mzol5x",
        "outputId": "5f9ac77b-31b8-42ba-cb0f-6cba4783ac16"
      },
      "outputs": [
        {
          "output_type": "stream",
          "name": "stdout",
          "text": [
            "[[1, 5, 9], [2, 6, 10], [3, 7, 11], [4, 8, 12]]\n"
          ]
        }
      ],
      "source": [
        "#with list comprehension\n",
        "transposed = [[row[i] for row in matrix] for i in range(4)]\n",
        "print(transposed)"
      ]
    }
  ],
  "metadata": {
    "kernelspec": {
      "display_name": "Python 3",
      "language": "python",
      "name": "python3"
    },
    "language_info": {
      "codemirror_mode": {
        "name": "ipython",
        "version": 3
      },
      "file_extension": ".py",
      "mimetype": "text/x-python",
      "name": "python",
      "nbconvert_exporter": "python",
      "pygments_lexer": "ipython3",
      "version": "3.6.3"
    },
    "colab": {
      "name": "Lists.ipynb",
      "provenance": [],
      "collapsed_sections": []
    }
  },
  "nbformat": 4,
  "nbformat_minor": 0
}